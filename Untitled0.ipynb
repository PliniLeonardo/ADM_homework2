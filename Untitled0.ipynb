{
 "cells": [
  {
   "cell_type": "markdown",
   "metadata": {
    "id": "c0NkNIdOUUHN"
   },
   "source": [
    "# HW2- Steam Reviews\n"
   ]
  },
  {
   "cell_type": "code",
   "execution_count": 1,
   "metadata": {
    "colab": {
     "base_uri": "https://localhost:8080/"
    },
    "executionInfo": {
     "elapsed": 956,
     "status": "ok",
     "timestamp": 1634674196170,
     "user": {
      "displayName": "camilla savarese",
      "photoUrl": "https://lh3.googleusercontent.com/a/default-user=s64",
      "userId": "01187100401107976032"
     },
     "user_tz": -120
    },
    "id": "JKVANiYkZErq",
    "outputId": "dcfef933-0b55-419b-e270-d9b5abc10017"
   },
   "outputs": [],
   "source": [
    "'''\n",
    "from google.colab import drive\n",
    "drive.mount('/content/drive/')\n",
    "''';"
   ]
  },
  {
   "cell_type": "markdown",
   "metadata": {
    "id": "moEqNAhjTt2d"
   },
   "source": [
    "### This is a dataset of around 21 million user reviews of around 300 different games on Steam: sto importando solo poche righe per lavorarci"
   ]
  },
  {
   "cell_type": "markdown",
   "metadata": {},
   "source": [
    "Usefu libraries"
   ]
  },
  {
   "cell_type": "code",
   "execution_count": 5,
   "metadata": {},
   "outputs": [],
   "source": [
    "import pandas as pd\n",
    "import numpy as np  \n",
    "import matplotlib.pyplot as plt\n",
    "  \n",
    "\n"
   ]
  },
  {
   "cell_type": "code",
   "execution_count": 6,
   "metadata": {
    "colab": {
     "base_uri": "https://localhost:8080/",
     "height": 626
    },
    "executionInfo": {
     "elapsed": 66374,
     "status": "ok",
     "timestamp": 1634671082402,
     "user": {
      "displayName": "camilla savarese",
      "photoUrl": "https://lh3.googleusercontent.com/a/default-user=s64",
      "userId": "01187100401107976032"
     },
     "user_tz": -120
    },
    "id": "mqILoTqDZjgz",
    "outputId": "7126ba17-7f37-49a7-f117-9c3e80781211"
   },
   "outputs": [],
   "source": [
    "#df= pd.read_csv('/content/drive/MyDrive/HW2-ADM/steam_reviews.csv',nrows=10000000)\n",
    "#df.head()"
   ]
  },
  {
   "cell_type": "code",
   "execution_count": 7,
   "metadata": {},
   "outputs": [],
   "source": [
    "df=pd.read_csv('steam_reviews.csv',nrows=1000000)"
   ]
  },
  {
   "cell_type": "markdown",
   "metadata": {},
   "source": [
    "# [RQ1] After collecting information, the Data Scientists have to know what dataset they are dealing with, so let's start with an Exploratory Data Analysis (EDA). What can you say about our dataset? Please summarize its main characteristics with visual and tabular methods."
   ]
  },
  {
   "cell_type": "markdown",
   "metadata": {
    "id": "izowx8OkauCN"
   },
   "source": [
    "We can see that there are 23 columns, 8 integer,5 decimal, 4 boolean and 6 of other type.\n",
    "The first one 'Unnamed' can be consider just like an index.\n"
   ]
  },
  {
   "cell_type": "code",
   "execution_count": 8,
   "metadata": {
    "colab": {
     "base_uri": "https://localhost:8080/"
    },
    "executionInfo": {
     "elapsed": 2263,
     "status": "ok",
     "timestamp": 1634244260432,
     "user": {
      "displayName": "camilla savarese",
      "photoUrl": "https://lh3.googleusercontent.com/a/default-user=s64",
      "userId": "01187100401107976032"
     },
     "user_tz": -120
    },
    "id": "iDgrdzC-bEVA",
    "outputId": "68a23256-d05a-463e-8c21-a17b723c1da2"
   },
   "outputs": [
    {
     "data": {
      "text/plain": [
       "Unnamed: 0                           0\n",
       "app_id                               0\n",
       "app_name                             0\n",
       "review_id                            0\n",
       "language                             0\n",
       "review                            1758\n",
       "timestamp_created                    0\n",
       "timestamp_updated                    0\n",
       "recommended                          0\n",
       "votes_helpful                        0\n",
       "votes_funny                          0\n",
       "weighted_vote_score                  0\n",
       "comment_count                        0\n",
       "steam_purchase                       0\n",
       "received_for_free                    0\n",
       "written_during_early_access          0\n",
       "author.steamid                       0\n",
       "author.num_games_owned               0\n",
       "author.num_reviews                   0\n",
       "author.playtime_forever              0\n",
       "author.playtime_last_two_weeks       0\n",
       "author.playtime_at_review         2314\n",
       "author.last_played                   0\n",
       "dtype: int64"
      ]
     },
     "execution_count": 8,
     "metadata": {},
     "output_type": "execute_result"
    }
   ],
   "source": [
    "df.isnull().sum()"
   ]
  },
  {
   "cell_type": "markdown",
   "metadata": {
    "id": "pUbzJQE8duEQ"
   },
   "source": [
    "It appears that the variables with missing values ​​are: 'review' (which contains the text itself) , 'author.playtime_at_review' (Author playtime of reviewed app at time of review) ,   ."
   ]
  },
  {
   "cell_type": "code",
   "execution_count": 9,
   "metadata": {
    "id": "CnK32w4ceJ5h"
   },
   "outputs": [
    {
     "data": {
      "text/html": [
       "<div>\n",
       "<style scoped>\n",
       "    .dataframe tbody tr th:only-of-type {\n",
       "        vertical-align: middle;\n",
       "    }\n",
       "\n",
       "    .dataframe tbody tr th {\n",
       "        vertical-align: top;\n",
       "    }\n",
       "\n",
       "    .dataframe thead th {\n",
       "        text-align: right;\n",
       "    }\n",
       "</style>\n",
       "<table border=\"1\" class=\"dataframe\">\n",
       "  <thead>\n",
       "    <tr style=\"text-align: right;\">\n",
       "      <th></th>\n",
       "      <th>Unnamed: 0</th>\n",
       "      <th>app_id</th>\n",
       "      <th>review_id</th>\n",
       "      <th>timestamp_created</th>\n",
       "      <th>timestamp_updated</th>\n",
       "      <th>votes_helpful</th>\n",
       "      <th>votes_funny</th>\n",
       "      <th>weighted_vote_score</th>\n",
       "      <th>comment_count</th>\n",
       "      <th>author.steamid</th>\n",
       "      <th>author.num_games_owned</th>\n",
       "      <th>author.num_reviews</th>\n",
       "      <th>author.playtime_forever</th>\n",
       "      <th>author.playtime_last_two_weeks</th>\n",
       "      <th>author.playtime_at_review</th>\n",
       "      <th>author.last_played</th>\n",
       "    </tr>\n",
       "  </thead>\n",
       "  <tbody>\n",
       "    <tr>\n",
       "      <th>count</th>\n",
       "      <td>1000000.000000</td>\n",
       "      <td>1000000.000000</td>\n",
       "      <td>1.000000e+06</td>\n",
       "      <td>1.000000e+06</td>\n",
       "      <td>1.000000e+06</td>\n",
       "      <td>1000000.000000</td>\n",
       "      <td>1.000000e+06</td>\n",
       "      <td>1000000.000000</td>\n",
       "      <td>1000000.000000</td>\n",
       "      <td>1.000000e+06</td>\n",
       "      <td>1000000.000000</td>\n",
       "      <td>1000000.000000</td>\n",
       "      <td>1.000000e+06</td>\n",
       "      <td>1000000.000000</td>\n",
       "      <td>9.976860e+05</td>\n",
       "      <td>1.000000e+06</td>\n",
       "    </tr>\n",
       "    <tr>\n",
       "      <th>mean</th>\n",
       "      <td>500000.028543</td>\n",
       "      <td>137653.276540</td>\n",
       "      <td>5.024635e+07</td>\n",
       "      <td>1.536537e+09</td>\n",
       "      <td>1.540020e+09</td>\n",
       "      <td>1.354286</td>\n",
       "      <td>1.374396e+05</td>\n",
       "      <td>0.140014</td>\n",
       "      <td>0.110916</td>\n",
       "      <td>7.656120e+16</td>\n",
       "      <td>128.462811</td>\n",
       "      <td>11.763607</td>\n",
       "      <td>1.019143e+04</td>\n",
       "      <td>83.725445</td>\n",
       "      <td>6.910500e+03</td>\n",
       "      <td>1.568400e+09</td>\n",
       "    </tr>\n",
       "    <tr>\n",
       "      <th>std</th>\n",
       "      <td>288675.710534</td>\n",
       "      <td>145203.141254</td>\n",
       "      <td>2.332212e+07</td>\n",
       "      <td>6.952888e+07</td>\n",
       "      <td>6.781931e+07</td>\n",
       "      <td>23.474932</td>\n",
       "      <td>2.429563e+07</td>\n",
       "      <td>0.232354</td>\n",
       "      <td>1.493333</td>\n",
       "      <td>3.292959e+08</td>\n",
       "      <td>267.229146</td>\n",
       "      <td>38.393893</td>\n",
       "      <td>3.265229e+04</td>\n",
       "      <td>548.635872</td>\n",
       "      <td>2.486934e+04</td>\n",
       "      <td>8.532309e+07</td>\n",
       "    </tr>\n",
       "    <tr>\n",
       "      <th>min</th>\n",
       "      <td>0.000000</td>\n",
       "      <td>70.000000</td>\n",
       "      <td>4.300000e+01</td>\n",
       "      <td>1.290320e+09</td>\n",
       "      <td>1.290320e+09</td>\n",
       "      <td>0.000000</td>\n",
       "      <td>0.000000e+00</td>\n",
       "      <td>0.000000</td>\n",
       "      <td>0.000000</td>\n",
       "      <td>7.656120e+16</td>\n",
       "      <td>0.000000</td>\n",
       "      <td>1.000000</td>\n",
       "      <td>0.000000e+00</td>\n",
       "      <td>0.000000</td>\n",
       "      <td>1.000000e+00</td>\n",
       "      <td>0.000000e+00</td>\n",
       "    </tr>\n",
       "    <tr>\n",
       "      <th>25%</th>\n",
       "      <td>249999.750000</td>\n",
       "      <td>620.000000</td>\n",
       "      <td>3.044572e+07</td>\n",
       "      <td>1.489235e+09</td>\n",
       "      <td>1.498630e+09</td>\n",
       "      <td>0.000000</td>\n",
       "      <td>0.000000e+00</td>\n",
       "      <td>0.000000</td>\n",
       "      <td>0.000000</td>\n",
       "      <td>7.656120e+16</td>\n",
       "      <td>26.000000</td>\n",
       "      <td>2.000000</td>\n",
       "      <td>9.640000e+02</td>\n",
       "      <td>0.000000</td>\n",
       "      <td>5.130000e+02</td>\n",
       "      <td>1.560865e+09</td>\n",
       "    </tr>\n",
       "    <tr>\n",
       "      <th>50%</th>\n",
       "      <td>500000.500000</td>\n",
       "      <td>4000.000000</td>\n",
       "      <td>5.347887e+07</td>\n",
       "      <td>1.562225e+09</td>\n",
       "      <td>1.568311e+09</td>\n",
       "      <td>0.000000</td>\n",
       "      <td>0.000000e+00</td>\n",
       "      <td>0.000000</td>\n",
       "      <td>0.000000</td>\n",
       "      <td>7.656120e+16</td>\n",
       "      <td>63.000000</td>\n",
       "      <td>5.000000</td>\n",
       "      <td>3.465000e+03</td>\n",
       "      <td>0.000000</td>\n",
       "      <td>1.640000e+03</td>\n",
       "      <td>1.592154e+09</td>\n",
       "    </tr>\n",
       "    <tr>\n",
       "      <th>75%</th>\n",
       "      <td>750000.250000</td>\n",
       "      <td>292030.000000</td>\n",
       "      <td>7.114404e+07</td>\n",
       "      <td>1.592769e+09</td>\n",
       "      <td>1.593889e+09</td>\n",
       "      <td>1.000000</td>\n",
       "      <td>0.000000e+00</td>\n",
       "      <td>0.467978</td>\n",
       "      <td>0.000000</td>\n",
       "      <td>7.656120e+16</td>\n",
       "      <td>140.000000</td>\n",
       "      <td>11.000000</td>\n",
       "      <td>9.257000e+03</td>\n",
       "      <td>0.000000</td>\n",
       "      <td>5.634000e+03</td>\n",
       "      <td>1.607051e+09</td>\n",
       "    </tr>\n",
       "    <tr>\n",
       "      <th>max</th>\n",
       "      <td>1000000.000000</td>\n",
       "      <td>292030.000000</td>\n",
       "      <td>8.521823e+07</td>\n",
       "      <td>1.611425e+09</td>\n",
       "      <td>1.611425e+09</td>\n",
       "      <td>7352.000000</td>\n",
       "      <td>4.294967e+09</td>\n",
       "      <td>0.990385</td>\n",
       "      <td>420.000000</td>\n",
       "      <td>7.656120e+16</td>\n",
       "      <td>20969.000000</td>\n",
       "      <td>5236.000000</td>\n",
       "      <td>3.336152e+06</td>\n",
       "      <td>20924.000000</td>\n",
       "      <td>3.062784e+06</td>\n",
       "      <td>1.611429e+09</td>\n",
       "    </tr>\n",
       "  </tbody>\n",
       "</table>\n",
       "</div>"
      ],
      "text/plain": [
       "           Unnamed: 0          app_id     review_id  timestamp_created  \\\n",
       "count  1000000.000000  1000000.000000  1.000000e+06       1.000000e+06   \n",
       "mean    500000.028543   137653.276540  5.024635e+07       1.536537e+09   \n",
       "std     288675.710534   145203.141254  2.332212e+07       6.952888e+07   \n",
       "min          0.000000       70.000000  4.300000e+01       1.290320e+09   \n",
       "25%     249999.750000      620.000000  3.044572e+07       1.489235e+09   \n",
       "50%     500000.500000     4000.000000  5.347887e+07       1.562225e+09   \n",
       "75%     750000.250000   292030.000000  7.114404e+07       1.592769e+09   \n",
       "max    1000000.000000   292030.000000  8.521823e+07       1.611425e+09   \n",
       "\n",
       "       timestamp_updated   votes_helpful   votes_funny  weighted_vote_score  \\\n",
       "count       1.000000e+06  1000000.000000  1.000000e+06       1000000.000000   \n",
       "mean        1.540020e+09        1.354286  1.374396e+05             0.140014   \n",
       "std         6.781931e+07       23.474932  2.429563e+07             0.232354   \n",
       "min         1.290320e+09        0.000000  0.000000e+00             0.000000   \n",
       "25%         1.498630e+09        0.000000  0.000000e+00             0.000000   \n",
       "50%         1.568311e+09        0.000000  0.000000e+00             0.000000   \n",
       "75%         1.593889e+09        1.000000  0.000000e+00             0.467978   \n",
       "max         1.611425e+09     7352.000000  4.294967e+09             0.990385   \n",
       "\n",
       "        comment_count  author.steamid  author.num_games_owned  \\\n",
       "count  1000000.000000    1.000000e+06          1000000.000000   \n",
       "mean         0.110916    7.656120e+16              128.462811   \n",
       "std          1.493333    3.292959e+08              267.229146   \n",
       "min          0.000000    7.656120e+16                0.000000   \n",
       "25%          0.000000    7.656120e+16               26.000000   \n",
       "50%          0.000000    7.656120e+16               63.000000   \n",
       "75%          0.000000    7.656120e+16              140.000000   \n",
       "max        420.000000    7.656120e+16            20969.000000   \n",
       "\n",
       "       author.num_reviews  author.playtime_forever  \\\n",
       "count      1000000.000000             1.000000e+06   \n",
       "mean            11.763607             1.019143e+04   \n",
       "std             38.393893             3.265229e+04   \n",
       "min              1.000000             0.000000e+00   \n",
       "25%              2.000000             9.640000e+02   \n",
       "50%              5.000000             3.465000e+03   \n",
       "75%             11.000000             9.257000e+03   \n",
       "max           5236.000000             3.336152e+06   \n",
       "\n",
       "       author.playtime_last_two_weeks  author.playtime_at_review  \\\n",
       "count                  1000000.000000               9.976860e+05   \n",
       "mean                        83.725445               6.910500e+03   \n",
       "std                        548.635872               2.486934e+04   \n",
       "min                          0.000000               1.000000e+00   \n",
       "25%                          0.000000               5.130000e+02   \n",
       "50%                          0.000000               1.640000e+03   \n",
       "75%                          0.000000               5.634000e+03   \n",
       "max                      20924.000000               3.062784e+06   \n",
       "\n",
       "       author.last_played  \n",
       "count        1.000000e+06  \n",
       "mean         1.568400e+09  \n",
       "std          8.532309e+07  \n",
       "min          0.000000e+00  \n",
       "25%          1.560865e+09  \n",
       "50%          1.592154e+09  \n",
       "75%          1.607051e+09  \n",
       "max          1.611429e+09  "
      ]
     },
     "execution_count": 9,
     "metadata": {},
     "output_type": "execute_result"
    }
   ],
   "source": [
    "df.describe()"
   ]
  },
  {
   "cell_type": "markdown",
   "metadata": {
    "id": "MDUD-6R9gfFn"
   },
   "source": [
    "Now let's focus on the variables that we consider more interesting. We start with app_name."
   ]
  },
  {
   "cell_type": "code",
   "execution_count": 10,
   "metadata": {
    "colab": {
     "base_uri": "https://localhost:8080/"
    },
    "executionInfo": {
     "elapsed": 1320,
     "status": "ok",
     "timestamp": 1634496691952,
     "user": {
      "displayName": "camilla savarese",
      "photoUrl": "https://lh3.googleusercontent.com/a/default-user=s64",
      "userId": "01187100401107976032"
     },
     "user_tz": -120
    },
    "id": "zOfRbQ8Lgm2W",
    "outputId": "662ffff6-3c82-4639-ac95-5a2243645f31"
   },
   "outputs": [
    {
     "name": "stdout",
     "output_type": "stream",
     "text": [
      "The Witcher 3: Wild Hunt    0.469395\n",
      "Portal 2                    0.232329\n",
      "Counter-Strike: Source      0.118081\n",
      "Garry's Mod                 0.092374\n",
      "Half-Life                   0.057320\n",
      "Half-Life 2: Episode Two    0.023500\n",
      "X Rebirth                   0.007001\n",
      "Name: app_name, dtype: float64\n",
      "['The Witcher 3: Wild Hunt' 'Half-Life' 'Counter-Strike: Source'\n",
      " 'Half-Life 2: Episode Two' 'Portal 2' 'X Rebirth' \"Garry's Mod\"]\n"
     ]
    }
   ],
   "source": [
    "#App_name\n",
    "x=df[\"app_name\"].value_counts(normalize=True) #in percentuale le diverse app recensite\n",
    "print(x)\n",
    "names=df[\"app_name\"].unique() #nomi app\n",
    "print(names)\n",
    "#x_1=x[:3:]\n",
    "label=[\"Tom Clancy's Rainbow Six Siege\",\"Garry's Mod\",\"Rust\" ]\n",
    "#print(x_1)\n",
    "\n",
    "#Grafico a torta\n",
    "\n",
    "#plt.pie(x, labels=label)\n",
    "#plt.show()\n",
    "\n",
    "\n",
    "#Farei un barpot con quelle \"vere\"\n"
   ]
  },
  {
   "cell_type": "markdown",
   "metadata": {
    "id": "WqkY2fa_h1Ug"
   },
   "source": [
    "In total there are 315 different apps, the most common are: PLAYERUNKNOWN'S BATTLEGROUNDS (8%),Grand Theft Auto V (5%) and.. (bo va visto sui dati tot).\n"
   ]
  },
  {
   "cell_type": "markdown",
   "metadata": {
    "id": "u6Giqz-mmWbJ"
   },
   "source": [
    "Now we consider the language. The most common are..."
   ]
  },
  {
   "cell_type": "code",
   "execution_count": 11,
   "metadata": {
    "colab": {
     "base_uri": "https://localhost:8080/",
     "height": 828
    },
    "executionInfo": {
     "elapsed": 1387,
     "status": "ok",
     "timestamp": 1634497634244,
     "user": {
      "displayName": "camilla savarese",
      "photoUrl": "https://lh3.googleusercontent.com/a/default-user=s64",
      "userId": "01187100401107976032"
     },
     "user_tz": -120
    },
    "id": "lQURMq01mb1x",
    "outputId": "8a888d2d-c7c3-43cd-b94d-85a42ca10efb"
   },
   "outputs": [
    {
     "name": "stdout",
     "output_type": "stream",
     "text": [
      "english       0.392312\n",
      "russian       0.185744\n",
      "schinese      0.125667\n",
      "brazilian     0.045571\n",
      "turkish       0.044407\n",
      "spanish       0.042013\n",
      "polish        0.031777\n",
      "german        0.031066\n",
      "french        0.026499\n",
      "koreana       0.021153\n",
      "tchinese      0.008131\n",
      "czech         0.007633\n",
      "italian       0.005737\n",
      "portuguese    0.004249\n",
      "latam         0.004034\n",
      "hungarian     0.003403\n",
      "thai          0.003148\n",
      "swedish       0.002676\n",
      "finnish       0.002522\n",
      "danish        0.002352\n",
      "dutch         0.002335\n",
      "japanese      0.002113\n",
      "ukrainian     0.001820\n",
      "norwegian     0.001185\n",
      "romanian      0.001068\n",
      "greek         0.000598\n",
      "bulgarian     0.000481\n",
      "vietnamese    0.000306\n",
      "Name: language, dtype: float64\n"
     ]
    },
    {
     "data": {
      "image/png": "[encoded data removed]",
      "text/plain": [
       "<Figure size 432x288 with 1 Axes>"
      ]
     },
     "metadata": {
      "needs_background": "light"
     },
     "output_type": "display_data"
    }
   ],
   "source": [
    "print(df[\"language\"].value_counts(normalize=True))\n",
    "data=[0.46,0.14,0.11]\n",
    "labels = ['english', 'chinese', 'russian']\n",
    "plt.xticks([1,2,3], labels)\n",
    "plt.xlabel('Language')\n",
    "plt.ylabel('Percentage')\n",
    "plt.title(\"Language's barplot\")\n",
    "plt.bar([1,2,3], data)\n",
    "plt.grid(color='#95a5a6', linestyle='--', linewidth=2, axis='y', alpha=0.7)\n",
    "plt.ylim(0.0,1)\n",
    "plt.show()"
   ]
  },
  {
   "cell_type": "markdown",
   "metadata": {
    "id": "O-tEMm6YpzN6"
   },
   "source": [
    "Recommended and steam_purchase \n",
    "We observe that 92% of review authors recommend the app and 78% of them purchased the app on Steam. But only 72% of the authors give a positive opinion and then actually buy the app."
   ]
  },
  {
   "cell_type": "code",
   "execution_count": 12,
   "metadata": {
    "colab": {
     "base_uri": "https://localhost:8080/"
    },
    "executionInfo": {
     "elapsed": 1563,
     "status": "ok",
     "timestamp": 1634499541495,
     "user": {
      "displayName": "camilla savarese",
      "photoUrl": "https://lh3.googleusercontent.com/a/default-user=s64",
      "userId": "01187100401107976032"
     },
     "user_tz": -120
    },
    "id": "pa0iP7e8resC",
    "outputId": "c9098695-ec19-4e49-a0a4-12ee2924d5a1"
   },
   "outputs": [
    {
     "name": "stdout",
     "output_type": "stream",
     "text": [
      "True     0.973726\n",
      "False    0.026274\n",
      "Name: recommended, dtype: float64\n",
      "True     0.835481\n",
      "False    0.164519\n",
      "Name: steam_purchase, dtype: float64\n"
     ]
    },
    {
     "data": {
      "text/plain": [
       "0.0814488"
      ]
     },
     "execution_count": 12,
     "metadata": {},
     "output_type": "execute_result"
    }
   ],
   "source": [
    "print(df[\"recommended\"].value_counts(normalize=True))\n",
    "\n",
    "print(df[\"steam_purchase\"].value_counts(normalize=True))\n",
    "\n",
    "len(df[  (df.recommended == True) &(df.steam_purchase == True)  ])/ 10000000"
   ]
  },
  {
   "cell_type": "markdown",
   "metadata": {
    "id": "vE180Jo1vUoZ"
   },
   "source": [
    "author.num_reviews :Number of lifetime app reviews by author\n",
    "Con i dati veri si può fare un commento.\n"
   ]
  },
  {
   "cell_type": "code",
   "execution_count": 13,
   "metadata": {
    "colab": {
     "base_uri": "https://localhost:8080/"
    },
    "executionInfo": {
     "elapsed": 764,
     "status": "ok",
     "timestamp": 1634499802250,
     "user": {
      "displayName": "camilla savarese",
      "photoUrl": "https://lh3.googleusercontent.com/a/default-user=s64",
      "userId": "01187100401107976032"
     },
     "user_tz": -120
    },
    "id": "tDRNRuCJvkpw",
    "outputId": "e8e4154a-a15c-403c-f6b3-9e83e9cc3a15"
   },
   "outputs": [
    {
     "name": "stdout",
     "output_type": "stream",
     "text": [
      "count    1000000.000000\n",
      "mean          11.763607\n",
      "std           38.393893\n",
      "min            1.000000\n",
      "25%            2.000000\n",
      "50%            5.000000\n",
      "75%           11.000000\n",
      "max         5236.000000\n",
      "Name: author.num_reviews, dtype: float64\n"
     ]
    }
   ],
   "source": [
    "print(df[\"author.num_reviews\"].describe())\n"
   ]
  },
  {
   "cell_type": "markdown",
   "metadata": {
    "id": "HAUFwhMcx9Ci"
   },
   "source": [
    "# RQ2: Let's explore the dataset by finding simple insights into the reviews."
   ]
  },
  {
   "cell_type": "markdown",
   "metadata": {},
   "source": [
    "### Plot the number of reviews for each application in descending order."
   ]
  },
  {
   "cell_type": "code",
   "execution_count": 14,
   "metadata": {
    "id": "s1ZJ8q5HyJf_"
   },
   "outputs": [
    {
     "data": {
      "text/plain": [
       "The Witcher 3: Wild Hunt    469395\n",
       "Portal 2                    232329\n",
       "Counter-Strike: Source      118081\n",
       "Garry's Mod                  92374\n",
       "Half-Life                    57320\n",
       "Half-Life 2: Episode Two     23500\n",
       "X Rebirth                     7001\n",
       "Name: app_name, dtype: int64"
      ]
     },
     "execution_count": 14,
     "metadata": {},
     "output_type": "execute_result"
    }
   ],
   "source": [
    "new = df[['app_name']]\n",
    "a=new[\"app_name\"].value_counts()\n",
    "app_sort=a.sort_values(ascending=False) #lo salvo perchè serve dopo\n",
    "app_sort"
   ]
  },
  {
   "cell_type": "markdown",
   "metadata": {},
   "source": [
    "### What applications have the best Weighted Vote Score?"
   ]
  },
  {
   "cell_type": "code",
   "execution_count": 15,
   "metadata": {
    "id": "HH9T9qoF6EXm"
   },
   "outputs": [
    {
     "data": {
      "text/html": [
       "<div>\n",
       "<style scoped>\n",
       "    .dataframe tbody tr th:only-of-type {\n",
       "        vertical-align: middle;\n",
       "    }\n",
       "\n",
       "    .dataframe tbody tr th {\n",
       "        vertical-align: top;\n",
       "    }\n",
       "\n",
       "    .dataframe thead th {\n",
       "        text-align: right;\n",
       "    }\n",
       "</style>\n",
       "<table border=\"1\" class=\"dataframe\">\n",
       "  <thead>\n",
       "    <tr style=\"text-align: right;\">\n",
       "      <th></th>\n",
       "      <th>weighted_vote_score</th>\n",
       "    </tr>\n",
       "    <tr>\n",
       "      <th>app_name</th>\n",
       "      <th></th>\n",
       "    </tr>\n",
       "  </thead>\n",
       "  <tbody>\n",
       "    <tr>\n",
       "      <th>Counter-Strike: Source</th>\n",
       "      <td>0.182693</td>\n",
       "    </tr>\n",
       "    <tr>\n",
       "      <th>Garry's Mod</th>\n",
       "      <td>0.074021</td>\n",
       "    </tr>\n",
       "    <tr>\n",
       "      <th>Half-Life</th>\n",
       "      <td>0.162398</td>\n",
       "    </tr>\n",
       "    <tr>\n",
       "      <th>Half-Life 2: Episode Two</th>\n",
       "      <td>0.172643</td>\n",
       "    </tr>\n",
       "    <tr>\n",
       "      <th>Portal 2</th>\n",
       "      <td>0.128700</td>\n",
       "    </tr>\n",
       "    <tr>\n",
       "      <th>The Witcher 3: Wild Hunt</th>\n",
       "      <td>0.139911</td>\n",
       "    </tr>\n",
       "    <tr>\n",
       "      <th>X Rebirth</th>\n",
       "      <td>0.380447</td>\n",
       "    </tr>\n",
       "  </tbody>\n",
       "</table>\n",
       "</div>"
      ],
      "text/plain": [
       "                          weighted_vote_score\n",
       "app_name                                     \n",
       "Counter-Strike: Source               0.182693\n",
       "Garry's Mod                          0.074021\n",
       "Half-Life                            0.162398\n",
       "Half-Life 2: Episode Two             0.172643\n",
       "Portal 2                             0.128700\n",
       "The Witcher 3: Wild Hunt             0.139911\n",
       "X Rebirth                            0.380447"
      ]
     },
     "execution_count": 15,
     "metadata": {},
     "output_type": "execute_result"
    }
   ],
   "source": [
    "#In this way  the apps are sorted by  the score and then we can consider the top 5/10 (is up to us).\n",
    "new_1 = df[['app_name','weighted_vote_score'  ]]\n",
    "new_1.sort_values(by='weighted_vote_score',ascending=False)\n",
    "#In this way I compute the average score for each app\n",
    "new_1.groupby('app_name').agg({\"weighted_vote_score\":\"mean\"})\n",
    "#LO lascerei svolto in entrambi i modi, come dicono su slack. Non gredo che agg (aggregate) sia necessario ma non sapevo  farlo senza. Non faccio i commenti perchè tanto i risultati finali saranno diversi."
   ]
  },
  {
   "cell_type": "markdown",
   "metadata": {},
   "source": [
    "### Which applications have the most and the least recommendations?"
   ]
  },
  {
   "cell_type": "code",
   "execution_count": 16,
   "metadata": {
    "colab": {
     "base_uri": "https://localhost:8080/",
     "height": 394
    },
    "executionInfo": {
     "elapsed": 1519,
     "status": "ok",
     "timestamp": 1634650682919,
     "user": {
      "displayName": "camilla savarese",
      "photoUrl": "https://lh3.googleusercontent.com/a/default-user=s64",
      "userId": "01187100401107976032"
     },
     "user_tz": -120
    },
    "id": "fD8DLgii6QJR",
    "outputId": "7927aeb9-acc8-4e0b-b492-f7913889e7e2"
   },
   "outputs": [],
   "source": [
    "\n",
    "y=df.groupby('app_name').agg({\"recommended\":\"sum\"})\n",
    "#print(y)\n",
    "\n",
    "y=y.sort_values(by=\"recommended\",ascending=False)\n",
    "#y[1:10] #most\n",
    "#y[-10:] #least\n"
   ]
  },
  {
   "cell_type": "markdown",
   "metadata": {},
   "source": [
    "### How many of these applications were purchased, and how many were given for free?"
   ]
  },
  {
   "cell_type": "code",
   "execution_count": 17,
   "metadata": {
    "colab": {
     "base_uri": "https://localhost:8080/"
    },
    "executionInfo": {
     "elapsed": 410,
     "status": "ok",
     "timestamp": 1634586591610,
     "user": {
      "displayName": "camilla savarese",
      "photoUrl": "https://lh3.googleusercontent.com/a/default-user=s64",
      "userId": "01187100401107976032"
     },
     "user_tz": -120
    },
    "id": "djlptn_N7oX4",
    "outputId": "3490b838-e0c1-453a-b0b4-b007d8c8820a"
   },
   "outputs": [
    {
     "name": "stdout",
     "output_type": "stream",
     "text": [
      "True     0.835481\n",
      "False    0.164519\n",
      "Name: steam_purchase, dtype: float64\n",
      "False    0.975034\n",
      "True     0.024966\n",
      "Name: received_for_free, dtype: float64\n"
     ]
    }
   ],
   "source": [
    "\n",
    "print(df[\"steam_purchase\"].value_counts(normalize=True))\n",
    "print(df[\"received_for_free\"].value_counts(normalize=True))\n",
    "#Steam purchased: True se l'autore ha comprato l'app su Steam\n",
    "#Received for free: True se ha ricevuto l'app gratis.\n",
    "#non so bene quale vuole, per me il secondo ma boo"
   ]
  },
  {
   "cell_type": "markdown",
   "metadata": {
    "id": "WK8oLBHB-RhP"
   },
   "source": [
    "# RQ3: Now it's important to understand the preferred time to do reviews.\n",
    "\n",
    "\n"
   ]
  },
  {
   "cell_type": "markdown",
   "metadata": {},
   "source": [
    "### What is the most common time that authors review an application? For example, authors usually write a review at 17:44. Create a function that receives as a parameter a list of time intervals and returns the plot the number of reviews for each of the intervals. Use the function that you created in the previous literal to plot the number of reviews between the following time intervals:"
   ]
  },
  {
   "cell_type": "code",
   "execution_count": 23,
   "metadata": {
    "id": "0vAYkLSO-o9-"
   },
   "outputs": [
    {
     "data": {
      "text/plain": [
       "\"\\n\\n\\ndef read_csv_with_time(path, time_fields, n_rows):\\n    return pd.read_csv(path, header='infer', nrows=n_rows, \\n        parse_dates= [tf for tf in time_fields], date_parser=lambda x: pd.to_datetime(x, unit='s'))\\n\\ndef hour_in_range(str_hour, range_hour):\\n    min_hour, max_hour = range_hour\\n    return (hour_comparator(str_hour, min_hour) * hour_comparator(max_hour, str_hour)) >=0\\n\\ndef hour_comparator(str_h1, str_h2):\\n    \\n        #Compares two string in the format HH:MM:SS and returns:\\n        #    -1 if the first is less then the second\\n        #     0  if the dates are the same\\n        #    1 if the first is greater than the second\\n    \\n    hh1, mm1, ss1 = map(int,str_h1.split(':'))\\n    hh2, mm2, ss2 = map(int, str_h2.split(':'))\\n    deltas = [hh1-hh2, mm1-mm2, ss1-ss2]\\n    for d in deltas:\\n        if d>0:\\n            return 1\\n        elif d < 0:\\n            return -1\\n    return 0\\n\\ndef get_range_index(str_hour, ranges):\\n    for i in range(len(ranges)):\\n        if hour_in_range(str_hour, ranges[i]):\\n            return i\\n    return -1\\n\\ndef transform_in_hour_ranges(df, column, ranges):\\n    df[column]=df[column].apply(lambda x: get_range_index(x.strftime('%H:%M:%S'), ranges))\\n    return df\\n\\nfname = '/content/drive/MyDrive/HW2-ADM/steam_reviews.csv'\\nts_created = 'timestamp_created'\\n\\ndef_ranges = [('06:00:00', '10:59:59'),\\n('11:00:00', '13:59:59'),\\n('14:00:00', '16:59:59'),\\n('17:00:00', '19:59:59'),\\n('20:00:00', '23:59:59'),\\n('00:00:00', '02:59:59'),\\n('03:00:00', '05:59:59')]\\n\\ndf = transform_in_hour_ranges(read_csv_with_time(fname, [ts_created], 1000000), ts_created, def_ranges)\\n\""
      ]
     },
     "execution_count": 23,
     "metadata": {},
     "output_type": "execute_result"
    }
   ],
   "source": [
    "import pandas as pd\n",
    "'''\n",
    "\n",
    "\n",
    "def read_csv_with_time(path, time_fields, n_rows):\n",
    "    return pd.read_csv(path, header='infer', nrows=n_rows, \n",
    "        parse_dates= [tf for tf in time_fields], date_parser=lambda x: pd.to_datetime(x, unit='s'))\n",
    "\n",
    "def hour_in_range(str_hour, range_hour):\n",
    "    min_hour, max_hour = range_hour\n",
    "    return (hour_comparator(str_hour, min_hour) * hour_comparator(max_hour, str_hour)) >=0\n",
    "\n",
    "def hour_comparator(str_h1, str_h2):\n",
    "    \n",
    "        #Compares two string in the format HH:MM:SS and returns:\n",
    "        #    -1 if the first is less then the second\n",
    "        #     0  if the dates are the same\n",
    "        #    1 if the first is greater than the second\n",
    "    \n",
    "    hh1, mm1, ss1 = map(int,str_h1.split(':'))\n",
    "    hh2, mm2, ss2 = map(int, str_h2.split(':'))\n",
    "    deltas = [hh1-hh2, mm1-mm2, ss1-ss2]\n",
    "    for d in deltas:\n",
    "        if d>0:\n",
    "            return 1\n",
    "        elif d < 0:\n",
    "            return -1\n",
    "    return 0\n",
    "\n",
    "def get_range_index(str_hour, ranges):\n",
    "    for i in range(len(ranges)):\n",
    "        if hour_in_range(str_hour, ranges[i]):\n",
    "            return i\n",
    "    return -1\n",
    "\n",
    "def transform_in_hour_ranges(df, column, ranges):\n",
    "    df[column]=df[column].apply(lambda x: get_range_index(x.strftime('%H:%M:%S'), ranges))\n",
    "    return df\n",
    "\n",
    "fname = '/content/drive/MyDrive/HW2-ADM/steam_reviews.csv'\n",
    "ts_created = 'timestamp_created'\n",
    "\n",
    "def_ranges = [('06:00:00', '10:59:59'),\n",
    "('11:00:00', '13:59:59'),\n",
    "('14:00:00', '16:59:59'),\n",
    "('17:00:00', '19:59:59'),\n",
    "('20:00:00', '23:59:59'),\n",
    "('00:00:00', '02:59:59'),\n",
    "('03:00:00', '05:59:59')]\n",
    "\n",
    "df = transform_in_hour_ranges(read_csv_with_time(fname, [ts_created], 1000000), ts_created, def_ranges)\n",
    "'''"
   ]
  },
  {
   "cell_type": "code",
   "execution_count": 24,
   "metadata": {
    "colab": {
     "base_uri": "https://localhost:8080/",
     "height": 294
    },
    "executionInfo": {
     "elapsed": 310,
     "status": "ok",
     "timestamp": 1634649883045,
     "user": {
      "displayName": "Alessandro Pecchini",
      "photoUrl": "https://lh3.googleusercontent.com/a/default-user=s64",
      "userId": "11901581996892479685"
     },
     "user_tz": -120
    },
    "id": "AQe-Zo6zsyBn",
    "outputId": "a86d1937-83a8-474b-cfab-92b61d09c04a"
   },
   "outputs": [
    {
     "ename": "NameError",
     "evalue": "name 'def_ranges' is not defined",
     "output_type": "error",
     "traceback": [
      "\u001b[0;31m---------------------------------------------------------------------------\u001b[0m",
      "\u001b[0;31mNameError\u001b[0m                                 Traceback (most recent call last)",
      "\u001b[0;32m/var/folders/xr/79bkvytj5kd5th_p5bnz8bhh0000gn/T/ipykernel_23033/2204441434.py\u001b[0m in \u001b[0;36m<module>\u001b[0;34m\u001b[0m\n\u001b[1;32m      1\u001b[0m \u001b[0;32mimport\u001b[0m \u001b[0mmatplotlib\u001b[0m\u001b[0;34m.\u001b[0m\u001b[0mpyplot\u001b[0m \u001b[0;32mas\u001b[0m \u001b[0mplt\u001b[0m\u001b[0;34m\u001b[0m\u001b[0;34m\u001b[0m\u001b[0m\n\u001b[1;32m      2\u001b[0m \u001b[0;32mimport\u001b[0m \u001b[0mnumpy\u001b[0m \u001b[0;32mas\u001b[0m \u001b[0mnp\u001b[0m\u001b[0;34m\u001b[0m\u001b[0;34m\u001b[0m\u001b[0m\n\u001b[0;32m----> 3\u001b[0;31m \u001b[0mlabels\u001b[0m \u001b[0;34m=\u001b[0m \u001b[0;34m[\u001b[0m\u001b[0;34m'pippo'\u001b[0m \u001b[0;32mfor\u001b[0m \u001b[0mdf\u001b[0m \u001b[0;32min\u001b[0m \u001b[0mdef_ranges\u001b[0m\u001b[0;34m]\u001b[0m\u001b[0;34m\u001b[0m\u001b[0;34m\u001b[0m\u001b[0m\n\u001b[0m\u001b[1;32m      4\u001b[0m \u001b[0mplt\u001b[0m\u001b[0;34m.\u001b[0m\u001b[0mxticks\u001b[0m\u001b[0;34m(\u001b[0m\u001b[0mlist\u001b[0m\u001b[0;34m(\u001b[0m\u001b[0mrange\u001b[0m\u001b[0;34m(\u001b[0m\u001b[0mlen\u001b[0m\u001b[0;34m(\u001b[0m\u001b[0mlabels\u001b[0m\u001b[0;34m)\u001b[0m\u001b[0;34m)\u001b[0m\u001b[0;34m)\u001b[0m\u001b[0;34m,\u001b[0m \u001b[0mlabels\u001b[0m\u001b[0;34m)\u001b[0m\u001b[0;34m\u001b[0m\u001b[0;34m\u001b[0m\u001b[0m\n\u001b[1;32m      5\u001b[0m \u001b[0;31m#plt.setxticks\u001b[0m\u001b[0;34m\u001b[0m\u001b[0;34m\u001b[0m\u001b[0;34m\u001b[0m\u001b[0m\n",
      "\u001b[0;31mNameError\u001b[0m: name 'def_ranges' is not defined"
     ]
    }
   ],
   "source": [
    "import matplotlib.pyplot as plt\n",
    "import numpy as np\n",
    "labels = ['pippo' for df in def_ranges]\n",
    "plt.xticks(list(range(len(labels))), labels)\n",
    "#plt.setxticks\n",
    "df.groupby(df.timestamp_created).review_id.count().plot.bar()"
   ]
  },
  {
   "cell_type": "markdown",
   "metadata": {
    "id": "BVtj47B5D308"
   },
   "source": [
    "# RQ4 As Steam is a worldwide platform, the reviews can be done in many languages. Let's extract some information about it."
   ]
  },
  {
   "cell_type": "markdown",
   "metadata": {},
   "source": [
    "### What are the top 3 languages used to review applications?"
   ]
  },
  {
   "cell_type": "code",
   "execution_count": 41,
   "metadata": {
    "id": "XH6IIsrqD9kN"
   },
   "outputs": [
    {
     "data": {
      "text/plain": [
       "['english', 'russian', 'schinese']"
      ]
     },
     "execution_count": 41,
     "metadata": {},
     "output_type": "execute_result"
    }
   ],
   "source": [
    "lingue=df[\"language\"].value_counts(normalize=True)\n",
    "top=lingue[:3]\n",
    "top_list=list(top.index)\n",
    "top_list\n",
    "\n",
    "#top five"
   ]
  },
  {
   "cell_type": "markdown",
   "metadata": {},
   "source": [
    "### Create a function that receives as parameters both the name of a data set and a list of languages’ names and returns a data frame filtered only with the reviews written in the provided languages."
   ]
  },
  {
   "cell_type": "code",
   "execution_count": 42,
   "metadata": {
    "id": "5n44py7qEb2e"
   },
   "outputs": [],
   "source": [
    "\n",
    "def filter_language(dataset, languages,col_name):\n",
    "  return dataset.loc[dataset[col_name].isin(languages)]\n"
   ]
  },
  {
   "cell_type": "markdown",
   "metadata": {},
   "source": [
    "### Use the function created in the previous literal to find what percentage of these reviews (associated with the the top 3 languages) were voted as funny?"
   ]
  },
  {
   "cell_type": "code",
   "execution_count": 43,
   "metadata": {
    "colab": {
     "base_uri": "https://localhost:8080/"
    },
    "executionInfo": {
     "elapsed": 11783,
     "status": "ok",
     "timestamp": 1634672021570,
     "user": {
      "displayName": "camilla savarese",
      "photoUrl": "https://lh3.googleusercontent.com/a/default-user=s64",
      "userId": "01187100401107976032"
     },
     "user_tz": -120
    },
    "id": "-UNGmMDD3fX9",
    "outputId": "c1e1b33b-fe41-4748-a827-38e7098105b5"
   },
   "outputs": [
    {
     "name": "stdout",
     "output_type": "stream",
     "text": [
      "Object `funny` not found.\n",
      "Object `funny` not found.\n",
      "Object `funny` not found.\n"
     ]
    }
   ],
   "source": [
    "for i in top_list:\n",
    "  print(i+\"   \"+str(round(sum((df['votes_funny']!=0) & (df['language']==i))/sum(df['language']==i),2))+\"%\")op 3 languages) were voted as funny?\n"
   ]
  },
  {
   "cell_type": "markdown",
   "metadata": {},
   "source": [
    "### Use the function created in the literal “a” to find what percentage of these reviews (associated with the top 3 languages) were voted as helpful?"
   ]
  },
  {
   "cell_type": "code",
   "execution_count": 44,
   "metadata": {
    "colab": {
     "base_uri": "https://localhost:8080/"
    },
    "executionInfo": {
     "elapsed": 10476,
     "status": "ok",
     "timestamp": 1634672117666,
     "user": {
      "displayName": "camilla savarese",
      "photoUrl": "https://lh3.googleusercontent.com/a/default-user=s64",
      "userId": "01187100401107976032"
     },
     "user_tz": -120
    },
    "id": "jzts3OcdC6Rf",
    "outputId": "ae7ffc8f-6234-43c4-a1c6-0399a1f745a7"
   },
   "outputs": [
    {
     "name": "stdout",
     "output_type": "stream",
     "text": [
      "english   0.25%\n",
      "russian   0.31%\n",
      "schinese   0.23%\n"
     ]
    }
   ],
   "source": [
    "df_1= filter_language(df,top_list,'language') #dati filtrati\n",
    "for i in top_list:\n",
    "  print(i+\"   \"+str(round(sum((df['votes_helpful']!=0) & (df['language']==i))/sum(df['language']==i),2))+\"%\")"
   ]
  },
  {
   "cell_type": "markdown",
   "metadata": {
    "id": "prcNliAJ3gZt"
   },
   "source": [
    "# RQ5 The reviews' authors are users from the game that provide their opinion on it. Now you can check how often they make reviews."
   ]
  },
  {
   "cell_type": "markdown",
   "metadata": {},
   "source": [
    "### Plot the top 10 most popular reviewers and the number of reviews."
   ]
  },
  {
   "cell_type": "code",
   "execution_count": 33,
   "metadata": {
    "colab": {
     "base_uri": "https://localhost:8080/",
     "height": 395
    },
    "executionInfo": {
     "elapsed": 94978,
     "status": "ok",
     "timestamp": 1634655628889,
     "user": {
      "displayName": "Alessandro Pecchini",
      "photoUrl": "https://lh3.googleusercontent.com/a/default-user=s64",
      "userId": "11901581996892479685"
     },
     "user_tz": -120
    },
    "id": "n1ABlGeg4LMm",
    "outputId": "80067de5-6116-4867-8edf-73d3e444df9b"
   },
   "outputs": [
    {
     "data": {
      "text/plain": [
       "<AxesSubplot:xlabel='author.steamid'>"
      ]
     },
     "execution_count": 33,
     "metadata": {},
     "output_type": "execute_result"
    },
    {
     "data": {
      "image/png": "[encoded data removed]",
      "text/plain": [
       "<Figure size 432x288 with 1 Axes>"
      ]
     },
     "metadata": {
      "needs_background": "light"
     },
     "output_type": "display_data"
    }
   ],
   "source": [
    "#df= pd.read_csv('/content/drive/MyDrive/HW2-ADM/steam_reviews.csv',nrows=10000000)\n",
    "df_auth = df.groupby('author.steamid').review_id.count().sort_values(ascending=False)\n",
    "df_auth[:10].plot.bar()"
   ]
  },
  {
   "cell_type": "markdown",
   "metadata": {},
   "source": [
    "### What applications did the most popular author review? "
   ]
  },
  {
   "cell_type": "code",
   "execution_count": 48,
   "metadata": {
    "id": "NRnn_ehG5YKg"
   },
   "outputs": [],
   "source": [
    "from_bigger_reviewer = df[df['author.steamid'] == df_auth[:1].index[0]]\n"
   ]
  },
  {
   "cell_type": "code",
   "execution_count": 49,
   "metadata": {
    "colab": {
     "base_uri": "https://localhost:8080/"
    },
    "executionInfo": {
     "elapsed": 283,
     "status": "ok",
     "timestamp": 1634655642208,
     "user": {
      "displayName": "Alessandro Pecchini",
      "photoUrl": "https://lh3.googleusercontent.com/a/default-user=s64",
      "userId": "11901581996892479685"
     },
     "user_tz": -120
    },
    "id": "Jz4iSYyU8dQ4",
    "outputId": "306301ae-8a31-4ecd-f0dc-f2f0b7dac40a"
   },
   "outputs": [
    {
     "data": {
      "text/plain": [
       "453639    The Witcher 3: Wild Hunt\n",
       "525240                   Half-Life\n",
       "536595      Counter-Strike: Source\n",
       "648354    Half-Life 2: Episode Two\n",
       "707753                    Portal 2\n",
       "981105                 Garry's Mod\n",
       "Name: app_name, dtype: object"
      ]
     },
     "execution_count": 49,
     "metadata": {},
     "output_type": "execute_result"
    }
   ],
   "source": [
    "from_bigger_reviewer['app_name']"
   ]
  },
  {
   "cell_type": "markdown",
   "metadata": {},
   "source": [
    "### How many applications did he purchase, and how many did he get as free? Provide the number (count) and the percentage."
   ]
  },
  {
   "cell_type": "code",
   "execution_count": 36,
   "metadata": {
    "id": "qH1IMHp458JS"
   },
   "outputs": [
    {
     "name": "stdout",
     "output_type": "stream",
     "text": [
      "he got for free 0 applications (0.0%) and purchased 4 (66.66666666666666%) on total of 6\n",
      "The author's recommended 0 and doesn't recommended 0 application from the ones received for free\n",
      "\t and recommended 4 and doesn't recommended 0 application from the ones purchased\n"
     ]
    }
   ],
   "source": [
    "free = from_bigger_reviewer[from_bigger_reviewer.received_for_free]\n",
    "n_free = len(free)\n",
    "purchased = from_bigger_reviewer[from_bigger_reviewer.steam_purchase]\n",
    "n_purch = len(purchased)\n",
    "tot = len(from_bigger_reviewer)\n",
    "print(f\"he got for free {n_free} applications ({n_free/tot*100}%) and purchased {n_purch} ({n_purch/tot*100}%) on total of {tot}\")\n",
    "print(f\"The author's recommended {len(free['recommended'])} and doesn't recommended {n_free-len(free['recommended'])} application from the ones received for free\")\n",
    "print(f\"\\t and recommended {len(purchased['recommended'])} and doesn't recommended {n_purch-len(purchased['recommended'])} application from the ones purchased\")"
   ]
  },
  {
   "cell_type": "markdown",
   "metadata": {},
   "source": [
    "### Use the function created in the literal “a” to find what percentage of these reviews (associated with the top 3 languages) were voted as helpful?"
   ]
  },
  {
   "cell_type": "code",
   "execution_count": null,
   "metadata": {},
   "outputs": [],
   "source": []
  },
  {
   "cell_type": "markdown",
   "metadata": {},
   "source": [
    "# [RQ6] It's time to get information from the updates that a user does to his reviews."
   ]
  },
  {
   "cell_type": "markdown",
   "metadata": {},
   "source": [
    "### What is the average time (days and minutes) a user lets pass before he updates a review?"
   ]
  },
  {
   "cell_type": "code",
   "execution_count": null,
   "metadata": {},
   "outputs": [],
   "source": []
  },
  {
   "cell_type": "markdown",
   "metadata": {},
   "source": [
    "### Plot the top 3 authors that usually update their reviews."
   ]
  },
  {
   "cell_type": "code",
   "execution_count": null,
   "metadata": {},
   "outputs": [],
   "source": []
  },
  {
   "cell_type": "markdown",
   "metadata": {
    "id": "qY_XymYaH6Ge"
   },
   "source": [
    "# RQ7 Of course, calculating probabilities is a job that any Data Scientist must know. Let's compute Some interesting figures."
   ]
  },
  {
   "cell_type": "markdown",
   "metadata": {
    "id": "L-AWty06aGxr"
   },
   "source": [
    "### What’s the probability that a review has a Weighted Vote Score equal to or bigger than 0.5?"
   ]
  },
  {
   "cell_type": "code",
   "execution_count": 37,
   "metadata": {
    "colab": {
     "base_uri": "https://localhost:8080/"
    },
    "executionInfo": {
     "elapsed": 3941,
     "status": "ok",
     "timestamp": 1634673249511,
     "user": {
      "displayName": "camilla savarese",
      "photoUrl": "https://lh3.googleusercontent.com/a/default-user=s64",
      "userId": "01187100401107976032"
     },
     "user_tz": -120
    },
    "id": "l_4-d2Q3__pf",
    "outputId": "69505edd-5ff0-4781-e785-ca5b47f22431"
   },
   "outputs": [
    {
     "data": {
      "text/plain": [
       "False"
      ]
     },
     "execution_count": 37,
     "metadata": {},
     "output_type": "execute_result"
    }
   ],
   "source": [
    "#Prob = fav. cases / possible cases\n",
    "p1=sum(df['weighted_vote_score']> 0.5)/df.shape[0]\n"
   ]
  },
  {
   "cell_type": "markdown",
   "metadata": {},
   "source": [
    "### What’s the probability that a review has at least one vote as funny given that the Weighted Vote Score is bigger than 0.5?"
   ]
  },
  {
   "cell_type": "code",
   "execution_count": null,
   "metadata": {},
   "outputs": [],
   "source": [
    "#prob condizionata\n",
    "\n",
    "intersezione=sum((df['weighted_vote_score']> 0.5)& (df['votes_funny']!=0))/df.shape[0]\n",
    "p2=intersezione/p1\n"
   ]
  },
  {
   "cell_type": "markdown",
   "metadata": {},
   "source": [
    "### Is the probability that “a review has at least one vote as funny” independent of the “probability that a review has a Weighted Vote Score equal or bigger than 0.5”?"
   ]
  },
  {
   "cell_type": "code",
   "execution_count": 52,
   "metadata": {},
   "outputs": [
    {
     "data": {
      "text/plain": [
       "False"
      ]
     },
     "execution_count": 52,
     "metadata": {},
     "output_type": "execute_result"
    }
   ],
   "source": [
    "pa= sum(df['votes_funny']!=0)/df.shape[0]\n",
    "pa*p1==intersezione\n",
    "#False, quindi Non sono indipendenti"
   ]
  },
  {
   "cell_type": "markdown",
   "metadata": {
    "id": "9DOaZZ0KLPnX"
   },
   "source": [
    "# RQ8 Every decision you take in a data-based environment should be reinforced with charts, statistical tests and analysis methods to check if a hypothesis is correct or not."
   ]
  },
  {
   "cell_type": "markdown",
   "metadata": {},
   "source": [
    "### Is there a significant difference in the Weighted Vote Score of reviews made in Chinese vs the ones made in Russian? Use an appropriate statistical test or technique and support your choicv1"
   ]
  },
  {
   "cell_type": "code",
   "execution_count": null,
   "metadata": {
    "colab": {
     "base_uri": "https://localhost:8080/"
    },
    "executionInfo": {
     "elapsed": 2733,
     "status": "ok",
     "timestamp": 1634675835391,
     "user": {
      "displayName": "camilla savarese",
      "photoUrl": "https://lh3.googleusercontent.com/a/default-user=s64",
      "userId": "01187100401107976032"
     },
     "user_tz": -120
    },
    "id": "xqFR5dLQLVaf",
    "outputId": "0f3490dc-1be2-441d-e177-bb9d0df6a1e6"
   },
   "outputs": [],
   "source": [
    "\n",
    "v1=df.loc[df['language'] == 'russian', 'weighted_vote_score']\n",
    "v2=df.loc[df['language'] == 'chinese', 'weighted_vote_score']\n",
    "\n",
    "!pip3 install  researchpy\n",
    "import scipy.stats as stats\n",
    "\n",
    "#stats.ttest_ind(df['weighted_vote_score'][df['language'] == 'russian'],\n",
    "                #df['weighted_vote_score'][df['language'] == 'chinese'])\n",
    "stats.ttest_ind(v1,v2)"
   ]
  },
  {
   "cell_type": "code",
   "execution_count": null,
   "metadata": {},
   "outputs": [],
   "source": []
  },
  {
   "cell_type": "markdown",
   "metadata": {},
   "source": [
    "### Can you find any significant relationship between the time that a user lets pass before he updates the review and the Weighted Vote Score? Use an appropriate statistical test or technique and support your choice."
   ]
  },
  {
   "cell_type": "code",
   "execution_count": null,
   "metadata": {},
   "outputs": [],
   "source": []
  },
  {
   "cell_type": "markdown",
   "metadata": {},
   "source": [
    "### Is there any change in the relationship of the variables mentioned in the previous literal if you include whether an application is recommended or not in the review? Use an appropriate statistical test or technique and support your choice."
   ]
  },
  {
   "cell_type": "code",
   "execution_count": null,
   "metadata": {},
   "outputs": [],
   "source": []
  },
  {
   "cell_type": "markdown",
   "metadata": {},
   "source": [
    "### What are histograms, bar plots, scatterplots and pie charts used for?"
   ]
  },
  {
   "cell_type": "code",
   "execution_count": null,
   "metadata": {},
   "outputs": [],
   "source": []
  },
  {
   "cell_type": "markdown",
   "metadata": {},
   "source": [
    "### What insights can you extract from a Box Plot?"
   ]
  },
  {
   "cell_type": "code",
   "execution_count": null,
   "metadata": {},
   "outputs": [],
   "source": []
  },
  {
   "cell_type": "markdown",
   "metadata": {},
   "source": [
    "# Bonus points"
   ]
  },
  {
   "cell_type": "code",
   "execution_count": 54,
   "metadata": {},
   "outputs": [],
   "source": [
    "'''\n",
    "For this homework, you are required to work with all data in the steam_reviews.csv. An extension (two files) \n",
    "of the dataset is available in the next links:\n",
    "\n",
    "a. File 1 to be downloaded from https://sapienza2021adm.s3.eu-south-1.amazonaws.com/steam_reviews_bonus_1.zip.\n",
    "\n",
    "b. File 2 to be downloaded from https://sapienza2021adm.s3.eu-south-1.amazonaws.com/steam_reviews_bonus_2.zip.\n",
    "\n",
    "It is not necessary to use the extension for this homework, however, if you decide to use it, we will take it into\n",
    "account in the final evaluation. In summary, to get the bonus points you are required to work with\n",
    "[steam_reviews.csv + two files of extension] all together.\n",
    "''';\n"
   ]
  },
  {
   "cell_type": "markdown",
   "metadata": {},
   "source": [
    "# Theoretical Questions"
   ]
  },
  {
   "cell_type": "markdown",
   "metadata": {},
   "source": [
    "# TQ1"
   ]
  },
  {
   "cell_type": "code",
   "execution_count": 56,
   "metadata": {},
   "outputs": [],
   "source": [
    "'''\n",
    "We are given the following algorithm.\n",
    "\n",
    "Input: \n",
    "    A: array of length n\n",
    "    k: integers between 1 and n\n",
    "    \n",
    "function alg(A, k):\n",
    "  s <-- a random element of A\n",
    "  set L = [all the elements of A with value <= s]\n",
    "  set R = [all the elements of A with value > s]\n",
    "  r = len(L)\n",
    "  if k == r:\n",
    "    return s\n",
    "  else if k < r:  \n",
    "    return alg(L, k)\n",
    "  else:\n",
    "    return alg(R, k - r)\n",
    "''';"
   ]
  },
  {
   "cell_type": "markdown",
   "metadata": {},
   "source": [
    "### What does the algorithm compute?"
   ]
  },
  {
   "cell_type": "code",
   "execution_count": null,
   "metadata": {},
   "outputs": [],
   "source": []
  },
  {
   "cell_type": "markdown",
   "metadata": {},
   "source": [
    "### What is asymptotically (i.e., we are asking for big-O complexity) the running time of the algorithm in the worst case, as a function of n?"
   ]
  },
  {
   "cell_type": "code",
   "execution_count": null,
   "metadata": {},
   "outputs": [],
   "source": []
  },
  {
   "cell_type": "markdown",
   "metadata": {},
   "source": [
    "### What is asymptotically the running time of the algorithm in the best case?"
   ]
  },
  {
   "cell_type": "code",
   "execution_count": null,
   "metadata": {},
   "outputs": [],
   "source": []
  },
  {
   "cell_type": "markdown",
   "metadata": {},
   "source": [
    "# TQ2"
   ]
  },
  {
   "cell_type": "code",
   "execution_count": 59,
   "metadata": {},
   "outputs": [],
   "source": [
    "'''\n",
    "You are given the recursive function splitSwap, which accepts an array a, an index i, and a length n.\n",
    "\n",
    "function splitSwap(a, l, n):\n",
    "  if n <= 1:\n",
    "    return\n",
    "  splitSwap(a, l, n/2)\n",
    "  splitSwap(a, l+ n /2, n/2)\n",
    "  swapList(a, l, n)\n",
    "  \n",
    "The subroutine swapList is described here:\n",
    "\n",
    "function swapList(a, l, n):\n",
    "  for i = 0 to n/2:\n",
    "    tmp = a[l + i]\n",
    "    a[l + i] = a[l + n/2 + i]\n",
    "    a[l + n/2 + i] = tmp\n",
    "''';"
   ]
  },
  {
   "cell_type": "markdown",
   "metadata": {},
   "source": [
    "### How much running time does it take to execute splitSwap(a, 0, n)? (We want a Big O analysis.)"
   ]
  },
  {
   "cell_type": "code",
   "execution_count": null,
   "metadata": {},
   "outputs": [],
   "source": []
  },
  {
   "cell_type": "markdown",
   "metadata": {},
   "source": [
    "### What does this algorithm do? Is it optimal? Describe the mechanism of the algorithm in details, we do not want to know only its final result. HINT: Consider the scenario where len(a) and n are numbers that are a power of 2."
   ]
  },
  {
   "cell_type": "code",
   "execution_count": null,
   "metadata": {},
   "outputs": [],
   "source": []
  },
  {
   "cell_type": "markdown",
   "metadata": {},
   "source": [
    "# TQ3"
   ]
  },
  {
   "cell_type": "code",
   "execution_count": 60,
   "metadata": {},
   "outputs": [],
   "source": [
    "'''\n",
    "In the knapsack problem we are given n objects and each object i has a weight w_i and a value v_i.\n",
    "We are also given a weight budget W. The problem is to select a set of objects with total weight bounded by W \n",
    "that maximized the sum of their values. The following are three natural heuristics:\n",
    "\n",
    "*Order them in increasing order of weight and then visit them sequentially, adding them to the solution \n",
    "as long as the budget is not exceeded\n",
    "\n",
    "*Order them in decreasing order of values, and then visit them sequentially, adding them to the solution \n",
    "if the budget is not exceeded\n",
    "\n",
    "*Order them in decreasing relative value (v_i / w_i), and then visit them sequentially, adding them to the \n",
    "solution if the budget is not exceeded\n",
    "''';"
   ]
  },
  {
   "cell_type": "markdown",
   "metadata": {},
   "source": [
    "### For each of the heuristics, provide a counterexample, that is, an example of a problem instance in which the heuristic fails to provide the optimal solution."
   ]
  },
  {
   "cell_type": "code",
   "execution_count": null,
   "metadata": {},
   "outputs": [],
   "source": []
  }
 ],
 "metadata": {
  "colab": {
   "collapsed_sections": [],
   "name": "Untitled0.ipynb",
   "provenance": [],
   "toc_visible": true
  },
  "kernelspec": {
   "display_name": "Python 3 (ipykernel)",
   "language": "python",
   "name": "python3"
  },
  "language_info": {
   "codemirror_mode": {
    "name": "ipython",
    "version": 3
   },
   "file_extension": ".py",
   "mimetype": "text/x-python",
   "name": "python",
   "nbconvert_exporter": "python",
   "pygments_lexer": "ipython3",
   "version": "3.8.11"
  }
 },
 "nbformat": 4,
 "nbformat_minor": 1
}
