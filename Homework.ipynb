{
 "cells": [
  {
   "cell_type": "markdown",
   "metadata": {
    "id": "c0NkNIdOUUHN"
   },
   "source": [
    "# HW2- Steam Reviews\n"
   ]
  },
  {
   "cell_type": "markdown",
   "metadata": {},
   "source": [
    "# Bonus points\n",
    "```\n",
    "'''\n",
    "For this homework, you are required to work with all data in the steam_reviews.csv. An extension (two files) \n",
    "of the dataset is available in the next links:\n",
    "\n",
    "a. File 1 to be downloaded from https://sapienza2021adm.s3.eu-south-1.amazonaws.com/steam_reviews_bonus_1.zip.\n",
    "\n",
    "b. File 2 to be downloaded from https://sapienza2021adm.s3.eu-south-1.amazonaws.com/steam_reviews_bonus_2.zip.\n",
    "\n",
    "It is not necessary to use the extension for this homework, however, if you decide to use it, we will take it into\n",
    "account in the final evaluation. In summary, to get the bonus points you are required to work with\n",
    "[steam_reviews.csv + two files of extension] all together.\n",
    "'''\n",
    "```\n",
    "<br>\n",
    "In order to achieve this goal we've used 3 dataset:\n",
    "\n",
    "* **standard dataset** 'steam_reviews.csv' for the exploratory analysis to get the original information\n",
    "* **merged dataset** containing the data coming from the standard one and the other two given for the bonus, but in this merged dataset we've removed the column that we haven't used in the project in order to restrict the analysis into a more manageable dataset.\n",
    "* **timestamp dataset** that has the two columns containing timestamp from the merged dataset from which we've removed the rows containing non-timestamp values.\n",
    "\n",
    "<br>\n",
    "The two customized dataset are available at the following link:\n",
    "* \n",
    "* "
   ]
  },
  {
   "cell_type": "markdown",
   "metadata": {},
   "source": [
    "### Usefull libraries"
   ]
  },
  {
   "cell_type": "code",
   "execution_count": 1,
   "metadata": {},
   "outputs": [],
   "source": [
    "import pandas as pd\n",
    "import numpy as np  \n",
    "import matplotlib.pyplot as plt\n",
    "from support_functions import *\n"
   ]
  },
  {
   "cell_type": "code",
   "execution_count": 2,
   "metadata": {},
   "outputs": [],
   "source": [
    "def_ranges = [('06:00:00', '10:59:59'),\n",
    "('11:00:00', '13:59:59'),\n",
    "('14:00:00', '16:59:59'),\n",
    "('17:00:00', '19:59:59'),\n",
    "('20:00:00', '23:59:59'),\n",
    "('00:00:00', '02:59:59'),\n",
    "('03:00:00', '05:59:59')]\n",
    "\n",
    "base_dataframe = 'data/steam_reviews.csv'\n",
    "total_dataframe = 'data/combinato_finale.csv'\n",
    "timestamp_dataframe = 'data/datetime_dataframe.csv'"
   ]
  },
  {
   "cell_type": "code",
   "execution_count": 3,
   "metadata": {},
   "outputs": [],
   "source": [
    "# Reading the standard database in order to do some stats\n",
    "df = pd.read_csv(base_dataframe)"
   ]
  },
  {
   "cell_type": "markdown",
   "metadata": {},
   "source": [
    "# [RQ1]: Exploratory Data Analysis"
   ]
  },
  {
   "cell_type": "markdown",
   "metadata": {},
   "source": [
    "In this request we've used the dataframe 'base_dataframe' that's the one provided in the original assignment.\n",
    "This version is not modified in order to get all the information from the original database"
   ]
  },
  {
   "cell_type": "code",
   "execution_count": 3,
   "metadata": {},
   "outputs": [],
   "source": [
    "#eliminate duplicates\n",
    "# df=df.drop_duplicates(subset=['Unnamed: 0', 'app_id', 'app_name', 'review_id', 'language', 'review',\n",
    "#        'timestamp_created', 'timestamp_updated', 'recommended',\n",
    "#        'votes_helpful', 'votes_funny', 'weighted_vote_score', 'comment_count',\n",
    "#        'steam_purchase', 'received_for_free', 'written_during_early_access',\n",
    "#        'author.steamid', 'author.num_games_owned', 'author.num_reviews',\n",
    "#        'author.playtime_forever', 'author.playtime_last_two_weeks',\n",
    "#        'author.playtime_at_review', 'author.last_played'], keep='first', inplace=False, ignore_index=False)"
   ]
  },
  {
   "cell_type": "markdown",
   "metadata": {},
   "source": [
    "The cell above is all commented because requires very much times and because there are **not** duplicates in the dataframe"
   ]
  },
  {
   "cell_type": "code",
   "execution_count": 4,
   "metadata": {},
   "outputs": [
    {
     "name": "stdout",
     "output_type": "stream",
     "text": [
      "<class 'pandas.core.frame.DataFrame'>\n",
      "RangeIndex: 21747371 entries, 0 to 21747370\n",
      "Data columns (total 23 columns):\n",
      " #   Column                          Dtype  \n",
      "---  ------                          -----  \n",
      " 0   Unnamed: 0                      int64  \n",
      " 1   app_id                          int64  \n",
      " 2   app_name                        object \n",
      " 3   review_id                       int64  \n",
      " 4   language                        object \n",
      " 5   review                          object \n",
      " 6   timestamp_created               int64  \n",
      " 7   timestamp_updated               int64  \n",
      " 8   recommended                     bool   \n",
      " 9   votes_helpful                   int64  \n",
      " 10  votes_funny                     int64  \n",
      " 11  weighted_vote_score             float64\n",
      " 12  comment_count                   int64  \n",
      " 13  steam_purchase                  bool   \n",
      " 14  received_for_free               bool   \n",
      " 15  written_during_early_access     bool   \n",
      " 16  author.steamid                  int64  \n",
      " 17  author.num_games_owned          int64  \n",
      " 18  author.num_reviews              int64  \n",
      " 19  author.playtime_forever         float64\n",
      " 20  author.playtime_last_two_weeks  float64\n",
      " 21  author.playtime_at_review       float64\n",
      " 22  author.last_played              float64\n",
      "dtypes: bool(4), float64(5), int64(11), object(3)\n",
      "memory usage: 3.2+ GB\n"
     ]
    }
   ],
   "source": [
    "df.info()"
   ]
  },
  {
   "cell_type": "markdown",
   "metadata": {
    "id": "izowx8OkauCN"
   },
   "source": [
    "We can see that there are 23 columns:\n",
    "\n",
    "    * 11 integer (one of which is the index (unnamend: 0))\n",
    "    * 5 float\n",
    "    * 4 boolean\n",
    "    * 3 object that are the strings\n",
    "    \n"
   ]
  },
  {
   "cell_type": "code",
   "execution_count": 5,
   "metadata": {},
   "outputs": [
    {
     "data": {
      "text/html": [
       "<div>\n",
       "<style scoped>\n",
       "    .dataframe tbody tr th:only-of-type {\n",
       "        vertical-align: middle;\n",
       "    }\n",
       "\n",
       "    .dataframe tbody tr th {\n",
       "        vertical-align: top;\n",
       "    }\n",
       "\n",
       "    .dataframe thead th {\n",
       "        text-align: right;\n",
       "    }\n",
       "</style>\n",
       "<table border=\"1\" class=\"dataframe\">\n",
       "  <thead>\n",
       "    <tr style=\"text-align: right;\">\n",
       "      <th></th>\n",
       "      <th>Unnamed: 0</th>\n",
       "      <th>app_id</th>\n",
       "      <th>app_name</th>\n",
       "      <th>review_id</th>\n",
       "      <th>language</th>\n",
       "      <th>review</th>\n",
       "      <th>timestamp_created</th>\n",
       "      <th>timestamp_updated</th>\n",
       "      <th>recommended</th>\n",
       "      <th>votes_helpful</th>\n",
       "      <th>...</th>\n",
       "      <th>steam_purchase</th>\n",
       "      <th>received_for_free</th>\n",
       "      <th>written_during_early_access</th>\n",
       "      <th>author.steamid</th>\n",
       "      <th>author.num_games_owned</th>\n",
       "      <th>author.num_reviews</th>\n",
       "      <th>author.playtime_forever</th>\n",
       "      <th>author.playtime_last_two_weeks</th>\n",
       "      <th>author.playtime_at_review</th>\n",
       "      <th>author.last_played</th>\n",
       "    </tr>\n",
       "  </thead>\n",
       "  <tbody>\n",
       "    <tr>\n",
       "      <th>0</th>\n",
       "      <td>0</td>\n",
       "      <td>292030</td>\n",
       "      <td>The Witcher 3: Wild Hunt</td>\n",
       "      <td>85185598</td>\n",
       "      <td>schinese</td>\n",
       "      <td>不玩此生遗憾，RPG游戏里的天花板，太吸引人了</td>\n",
       "      <td>1611381629</td>\n",
       "      <td>1611381629</td>\n",
       "      <td>True</td>\n",
       "      <td>0</td>\n",
       "      <td>...</td>\n",
       "      <td>True</td>\n",
       "      <td>False</td>\n",
       "      <td>False</td>\n",
       "      <td>76561199095369542</td>\n",
       "      <td>6</td>\n",
       "      <td>2</td>\n",
       "      <td>1909.0</td>\n",
       "      <td>1448.0</td>\n",
       "      <td>1909.0</td>\n",
       "      <td>1.611343e+09</td>\n",
       "    </tr>\n",
       "    <tr>\n",
       "      <th>1</th>\n",
       "      <td>1</td>\n",
       "      <td>292030</td>\n",
       "      <td>The Witcher 3: Wild Hunt</td>\n",
       "      <td>85185250</td>\n",
       "      <td>schinese</td>\n",
       "      <td>拔DIAO无情打桩机--杰洛特!!!</td>\n",
       "      <td>1611381030</td>\n",
       "      <td>1611381030</td>\n",
       "      <td>True</td>\n",
       "      <td>0</td>\n",
       "      <td>...</td>\n",
       "      <td>True</td>\n",
       "      <td>False</td>\n",
       "      <td>False</td>\n",
       "      <td>76561198949504115</td>\n",
       "      <td>30</td>\n",
       "      <td>10</td>\n",
       "      <td>2764.0</td>\n",
       "      <td>2743.0</td>\n",
       "      <td>2674.0</td>\n",
       "      <td>1.611386e+09</td>\n",
       "    </tr>\n",
       "    <tr>\n",
       "      <th>2</th>\n",
       "      <td>2</td>\n",
       "      <td>292030</td>\n",
       "      <td>The Witcher 3: Wild Hunt</td>\n",
       "      <td>85185111</td>\n",
       "      <td>schinese</td>\n",
       "      <td>巫师3NB</td>\n",
       "      <td>1611380800</td>\n",
       "      <td>1611380800</td>\n",
       "      <td>True</td>\n",
       "      <td>0</td>\n",
       "      <td>...</td>\n",
       "      <td>True</td>\n",
       "      <td>False</td>\n",
       "      <td>False</td>\n",
       "      <td>76561199090098988</td>\n",
       "      <td>5</td>\n",
       "      <td>1</td>\n",
       "      <td>1061.0</td>\n",
       "      <td>1061.0</td>\n",
       "      <td>1060.0</td>\n",
       "      <td>1.611384e+09</td>\n",
       "    </tr>\n",
       "  </tbody>\n",
       "</table>\n",
       "<p>3 rows × 23 columns</p>\n",
       "</div>"
      ],
      "text/plain": [
       "   Unnamed: 0  app_id                  app_name  review_id  language  \\\n",
       "0           0  292030  The Witcher 3: Wild Hunt   85185598  schinese   \n",
       "1           1  292030  The Witcher 3: Wild Hunt   85185250  schinese   \n",
       "2           2  292030  The Witcher 3: Wild Hunt   85185111  schinese   \n",
       "\n",
       "                    review  timestamp_created  timestamp_updated  recommended  \\\n",
       "0  不玩此生遗憾，RPG游戏里的天花板，太吸引人了         1611381629         1611381629         True   \n",
       "1       拔DIAO无情打桩机--杰洛特!!!         1611381030         1611381030         True   \n",
       "2                    巫师3NB         1611380800         1611380800         True   \n",
       "\n",
       "   votes_helpful  ...  steam_purchase  received_for_free  \\\n",
       "0              0  ...            True              False   \n",
       "1              0  ...            True              False   \n",
       "2              0  ...            True              False   \n",
       "\n",
       "   written_during_early_access     author.steamid  author.num_games_owned  \\\n",
       "0                        False  76561199095369542                       6   \n",
       "1                        False  76561198949504115                      30   \n",
       "2                        False  76561199090098988                       5   \n",
       "\n",
       "   author.num_reviews  author.playtime_forever  \\\n",
       "0                   2                   1909.0   \n",
       "1                  10                   2764.0   \n",
       "2                   1                   1061.0   \n",
       "\n",
       "   author.playtime_last_two_weeks  author.playtime_at_review  \\\n",
       "0                          1448.0                     1909.0   \n",
       "1                          2743.0                     2674.0   \n",
       "2                          1061.0                     1060.0   \n",
       "\n",
       "   author.last_played  \n",
       "0        1.611343e+09  \n",
       "1        1.611386e+09  \n",
       "2        1.611384e+09  \n",
       "\n",
       "[3 rows x 23 columns]"
      ]
     },
     "execution_count": 5,
     "metadata": {},
     "output_type": "execute_result"
    }
   ],
   "source": [
    "df.head(3)"
   ]
  },
  {
   "cell_type": "code",
   "execution_count": 6,
   "metadata": {
    "colab": {
     "base_uri": "https://localhost:8080/"
    },
    "executionInfo": {
     "elapsed": 2263,
     "status": "ok",
     "timestamp": 1634244260432,
     "user": {
      "displayName": "camilla savarese",
      "photoUrl": "https://lh3.googleusercontent.com/a/default-user=s64",
      "userId": "01187100401107976032"
     },
     "user_tz": -120
    },
    "id": "iDgrdzC-bEVA",
    "outputId": "68a23256-d05a-463e-8c21-a17b723c1da2"
   },
   "outputs": [
    {
     "data": {
      "text/plain": [
       "Unnamed: 0                            0\n",
       "app_id                                0\n",
       "app_name                              0\n",
       "review_id                             0\n",
       "language                              0\n",
       "review                            33742\n",
       "timestamp_created                     0\n",
       "timestamp_updated                     0\n",
       "recommended                           0\n",
       "votes_helpful                         0\n",
       "votes_funny                           0\n",
       "weighted_vote_score                   0\n",
       "comment_count                         0\n",
       "steam_purchase                        0\n",
       "received_for_free                     0\n",
       "written_during_early_access           0\n",
       "author.steamid                        0\n",
       "author.num_games_owned                0\n",
       "author.num_reviews                    0\n",
       "author.playtime_forever               2\n",
       "author.playtime_last_two_weeks        2\n",
       "author.playtime_at_review         25682\n",
       "author.last_played                    2\n",
       "dtype: int64"
      ]
     },
     "execution_count": 6,
     "metadata": {},
     "output_type": "execute_result"
    }
   ],
   "source": [
    "df.isnull().sum()"
   ]
  },
  {
   "cell_type": "markdown",
   "metadata": {
    "id": "pUbzJQE8duEQ"
   },
   "source": [
    "It appears that the variables with missing values ​​are: 'review' (which contains the text itself) with 33742 null values , 'author.playtime_at_review' (Author playtime of reviewed app at time of review) with 25682 null values .\n",
    "We should neglect other variables such as'author.playtime_forever','author.playtime_last_two_weeks', 'author.last_played ' since they have just 2 null values."
   ]
  },
  {
   "cell_type": "code",
   "execution_count": 7,
   "metadata": {
    "id": "CnK32w4ceJ5h"
   },
   "outputs": [
    {
     "data": {
      "text/html": [
       "<div>\n",
       "<style scoped>\n",
       "    .dataframe tbody tr th:only-of-type {\n",
       "        vertical-align: middle;\n",
       "    }\n",
       "\n",
       "    .dataframe tbody tr th {\n",
       "        vertical-align: top;\n",
       "    }\n",
       "\n",
       "    .dataframe thead th {\n",
       "        text-align: right;\n",
       "    }\n",
       "</style>\n",
       "<table border=\"1\" class=\"dataframe\">\n",
       "  <thead>\n",
       "    <tr style=\"text-align: right;\">\n",
       "      <th></th>\n",
       "      <th>Unnamed: 0</th>\n",
       "      <th>app_id</th>\n",
       "      <th>review_id</th>\n",
       "      <th>timestamp_created</th>\n",
       "      <th>timestamp_updated</th>\n",
       "      <th>votes_helpful</th>\n",
       "      <th>votes_funny</th>\n",
       "      <th>weighted_vote_score</th>\n",
       "      <th>comment_count</th>\n",
       "      <th>author.steamid</th>\n",
       "      <th>author.num_games_owned</th>\n",
       "      <th>author.num_reviews</th>\n",
       "      <th>author.playtime_forever</th>\n",
       "      <th>author.playtime_last_two_weeks</th>\n",
       "      <th>author.playtime_at_review</th>\n",
       "      <th>author.last_played</th>\n",
       "    </tr>\n",
       "  </thead>\n",
       "  <tbody>\n",
       "    <tr>\n",
       "      <th>count</th>\n",
       "      <td>2.174737e+07</td>\n",
       "      <td>2.174737e+07</td>\n",
       "      <td>2.174737e+07</td>\n",
       "      <td>2.174737e+07</td>\n",
       "      <td>2.174737e+07</td>\n",
       "      <td>2.174737e+07</td>\n",
       "      <td>2.174737e+07</td>\n",
       "      <td>2.174737e+07</td>\n",
       "      <td>2.174737e+07</td>\n",
       "      <td>2.174737e+07</td>\n",
       "      <td>2.174737e+07</td>\n",
       "      <td>2.174737e+07</td>\n",
       "      <td>2.174737e+07</td>\n",
       "      <td>2.174737e+07</td>\n",
       "      <td>2.172169e+07</td>\n",
       "      <td>2.174737e+07</td>\n",
       "    </tr>\n",
       "    <tr>\n",
       "      <th>mean</th>\n",
       "      <td>1.087369e+07</td>\n",
       "      <td>3.928181e+05</td>\n",
       "      <td>5.187500e+07</td>\n",
       "      <td>1.544432e+09</td>\n",
       "      <td>1.547556e+09</td>\n",
       "      <td>4.044689e+05</td>\n",
       "      <td>1.267917e+05</td>\n",
       "      <td>1.654424e-01</td>\n",
       "      <td>1.308768e-01</td>\n",
       "      <td>7.656120e+16</td>\n",
       "      <td>1.011300e+06</td>\n",
       "      <td>4.044775e+05</td>\n",
       "      <td>1.609105e+04</td>\n",
       "      <td>1.555421e+02</td>\n",
       "      <td>8.807421e+03</td>\n",
       "      <td>1.580505e+09</td>\n",
       "    </tr>\n",
       "    <tr>\n",
       "      <th>std</th>\n",
       "      <td>6.277927e+06</td>\n",
       "      <td>2.480977e+05</td>\n",
       "      <td>2.084267e+07</td>\n",
       "      <td>5.812194e+07</td>\n",
       "      <td>5.689899e+07</td>\n",
       "      <td>1.333741e+09</td>\n",
       "      <td>2.333553e+07</td>\n",
       "      <td>2.434006e-01</td>\n",
       "      <td>2.199398e+00</td>\n",
       "      <td>3.179438e+08</td>\n",
       "      <td>2.108829e+09</td>\n",
       "      <td>1.333741e+09</td>\n",
       "      <td>3.743057e+04</td>\n",
       "      <td>7.300488e+02</td>\n",
       "      <td>2.388553e+04</td>\n",
       "      <td>4.676178e+07</td>\n",
       "    </tr>\n",
       "    <tr>\n",
       "      <th>min</th>\n",
       "      <td>0.000000e+00</td>\n",
       "      <td>7.000000e+01</td>\n",
       "      <td>4.300000e+01</td>\n",
       "      <td>1.290198e+09</td>\n",
       "      <td>1.290198e+09</td>\n",
       "      <td>0.000000e+00</td>\n",
       "      <td>0.000000e+00</td>\n",
       "      <td>0.000000e+00</td>\n",
       "      <td>0.000000e+00</td>\n",
       "      <td>7.656120e+16</td>\n",
       "      <td>0.000000e+00</td>\n",
       "      <td>1.000000e+00</td>\n",
       "      <td>0.000000e+00</td>\n",
       "      <td>0.000000e+00</td>\n",
       "      <td>1.000000e+00</td>\n",
       "      <td>0.000000e+00</td>\n",
       "    </tr>\n",
       "    <tr>\n",
       "      <th>25%</th>\n",
       "      <td>5.436844e+06</td>\n",
       "      <td>2.427600e+05</td>\n",
       "      <td>3.639355e+07</td>\n",
       "      <td>1.510223e+09</td>\n",
       "      <td>1.511729e+09</td>\n",
       "      <td>0.000000e+00</td>\n",
       "      <td>0.000000e+00</td>\n",
       "      <td>0.000000e+00</td>\n",
       "      <td>0.000000e+00</td>\n",
       "      <td>7.656120e+16</td>\n",
       "      <td>2.200000e+01</td>\n",
       "      <td>2.000000e+00</td>\n",
       "      <td>1.250000e+03</td>\n",
       "      <td>0.000000e+00</td>\n",
       "      <td>5.590000e+02</td>\n",
       "      <td>1.573329e+09</td>\n",
       "    </tr>\n",
       "    <tr>\n",
       "      <th>50%</th>\n",
       "      <td>1.087369e+07</td>\n",
       "      <td>3.595500e+05</td>\n",
       "      <td>5.384058e+07</td>\n",
       "      <td>1.562446e+09</td>\n",
       "      <td>1.572189e+09</td>\n",
       "      <td>0.000000e+00</td>\n",
       "      <td>0.000000e+00</td>\n",
       "      <td>0.000000e+00</td>\n",
       "      <td>0.000000e+00</td>\n",
       "      <td>7.656120e+16</td>\n",
       "      <td>6.100000e+01</td>\n",
       "      <td>4.000000e+00</td>\n",
       "      <td>4.307000e+03</td>\n",
       "      <td>0.000000e+00</td>\n",
       "      <td>1.881000e+03</td>\n",
       "      <td>1.599058e+09</td>\n",
       "    </tr>\n",
       "    <tr>\n",
       "      <th>75%</th>\n",
       "      <td>1.631053e+07</td>\n",
       "      <td>5.780800e+05</td>\n",
       "      <td>6.928793e+07</td>\n",
       "      <td>1.589696e+09</td>\n",
       "      <td>1.591403e+09</td>\n",
       "      <td>1.000000e+00</td>\n",
       "      <td>0.000000e+00</td>\n",
       "      <td>4.827586e-01</td>\n",
       "      <td>0.000000e+00</td>\n",
       "      <td>7.656120e+16</td>\n",
       "      <td>1.450000e+02</td>\n",
       "      <td>1.000000e+01</td>\n",
       "      <td>1.491200e+04</td>\n",
       "      <td>0.000000e+00</td>\n",
       "      <td>6.823000e+03</td>\n",
       "      <td>1.609002e+09</td>\n",
       "    </tr>\n",
       "    <tr>\n",
       "      <th>max</th>\n",
       "      <td>2.174738e+07</td>\n",
       "      <td>1.291340e+06</td>\n",
       "      <td>8.521867e+07</td>\n",
       "      <td>1.611426e+09</td>\n",
       "      <td>2.283383e+09</td>\n",
       "      <td>4.398047e+12</td>\n",
       "      <td>4.294967e+09</td>\n",
       "      <td>9.959868e-01</td>\n",
       "      <td>4.893000e+03</td>\n",
       "      <td>7.656120e+16</td>\n",
       "      <td>4.398047e+12</td>\n",
       "      <td>4.398047e+12</td>\n",
       "      <td>3.744943e+06</td>\n",
       "      <td>2.703900e+04</td>\n",
       "      <td>3.228103e+06</td>\n",
       "      <td>1.611434e+09</td>\n",
       "    </tr>\n",
       "  </tbody>\n",
       "</table>\n",
       "</div>"
      ],
      "text/plain": [
       "         Unnamed: 0        app_id     review_id  timestamp_created  \\\n",
       "count  2.174737e+07  2.174737e+07  2.174737e+07       2.174737e+07   \n",
       "mean   1.087369e+07  3.928181e+05  5.187500e+07       1.544432e+09   \n",
       "std    6.277927e+06  2.480977e+05  2.084267e+07       5.812194e+07   \n",
       "min    0.000000e+00  7.000000e+01  4.300000e+01       1.290198e+09   \n",
       "25%    5.436844e+06  2.427600e+05  3.639355e+07       1.510223e+09   \n",
       "50%    1.087369e+07  3.595500e+05  5.384058e+07       1.562446e+09   \n",
       "75%    1.631053e+07  5.780800e+05  6.928793e+07       1.589696e+09   \n",
       "max    2.174738e+07  1.291340e+06  8.521867e+07       1.611426e+09   \n",
       "\n",
       "       timestamp_updated  votes_helpful   votes_funny  weighted_vote_score  \\\n",
       "count       2.174737e+07   2.174737e+07  2.174737e+07         2.174737e+07   \n",
       "mean        1.547556e+09   4.044689e+05  1.267917e+05         1.654424e-01   \n",
       "std         5.689899e+07   1.333741e+09  2.333553e+07         2.434006e-01   \n",
       "min         1.290198e+09   0.000000e+00  0.000000e+00         0.000000e+00   \n",
       "25%         1.511729e+09   0.000000e+00  0.000000e+00         0.000000e+00   \n",
       "50%         1.572189e+09   0.000000e+00  0.000000e+00         0.000000e+00   \n",
       "75%         1.591403e+09   1.000000e+00  0.000000e+00         4.827586e-01   \n",
       "max         2.283383e+09   4.398047e+12  4.294967e+09         9.959868e-01   \n",
       "\n",
       "       comment_count  author.steamid  author.num_games_owned  \\\n",
       "count   2.174737e+07    2.174737e+07            2.174737e+07   \n",
       "mean    1.308768e-01    7.656120e+16            1.011300e+06   \n",
       "std     2.199398e+00    3.179438e+08            2.108829e+09   \n",
       "min     0.000000e+00    7.656120e+16            0.000000e+00   \n",
       "25%     0.000000e+00    7.656120e+16            2.200000e+01   \n",
       "50%     0.000000e+00    7.656120e+16            6.100000e+01   \n",
       "75%     0.000000e+00    7.656120e+16            1.450000e+02   \n",
       "max     4.893000e+03    7.656120e+16            4.398047e+12   \n",
       "\n",
       "       author.num_reviews  author.playtime_forever  \\\n",
       "count        2.174737e+07             2.174737e+07   \n",
       "mean         4.044775e+05             1.609105e+04   \n",
       "std          1.333741e+09             3.743057e+04   \n",
       "min          1.000000e+00             0.000000e+00   \n",
       "25%          2.000000e+00             1.250000e+03   \n",
       "50%          4.000000e+00             4.307000e+03   \n",
       "75%          1.000000e+01             1.491200e+04   \n",
       "max          4.398047e+12             3.744943e+06   \n",
       "\n",
       "       author.playtime_last_two_weeks  author.playtime_at_review  \\\n",
       "count                    2.174737e+07               2.172169e+07   \n",
       "mean                     1.555421e+02               8.807421e+03   \n",
       "std                      7.300488e+02               2.388553e+04   \n",
       "min                      0.000000e+00               1.000000e+00   \n",
       "25%                      0.000000e+00               5.590000e+02   \n",
       "50%                      0.000000e+00               1.881000e+03   \n",
       "75%                      0.000000e+00               6.823000e+03   \n",
       "max                      2.703900e+04               3.228103e+06   \n",
       "\n",
       "       author.last_played  \n",
       "count        2.174737e+07  \n",
       "mean         1.580505e+09  \n",
       "std          4.676178e+07  \n",
       "min          0.000000e+00  \n",
       "25%          1.573329e+09  \n",
       "50%          1.599058e+09  \n",
       "75%          1.609002e+09  \n",
       "max          1.611434e+09  "
      ]
     },
     "execution_count": 7,
     "metadata": {},
     "output_type": "execute_result"
    }
   ],
   "source": [
    "df.describe()"
   ]
  },
  {
   "cell_type": "markdown",
   "metadata": {},
   "source": [
    "We obtain a general overview of hour numerical variables with some of the most important statistical features:\n",
    "for example, weighted_vote_score seems to have a small average velue justified by the presence of a large number of 0 (the second quantile is 0).\n",
    "Another important variable is represented by author.num_reviews which provides a general indication of the fruition of \n",
    "the platform: there is a strong asymmetric distribution among the data and we could understand from the minumun, the quantiles and the maximun that a large number of people had made a very small number of reviews while , on the other hand, an extra small group provided an incredible amount of opinions.\n"
   ]
  },
  {
   "cell_type": "code",
   "execution_count": 9,
   "metadata": {},
   "outputs": [],
   "source": [
    "import seaborn as sns"
   ]
  },
  {
   "cell_type": "code",
   "execution_count": 10,
   "metadata": {},
   "outputs": [
    {
     "data": {
      "text/plain": [
       "<AxesSubplot:>"
      ]
     },
     "execution_count": 10,
     "metadata": {},
     "output_type": "execute_result"
    },
    {
     "data": {
      "image/png": "[encoded data removed]",
      "text/plain": [
       "<Figure size 1080x1080 with 2 Axes>"
      ]
     },
     "metadata": {
      "needs_background": "light"
     },
     "output_type": "display_data"
    }
   ],
   "source": [
    "#seaborn.heatmap(df)\n",
    "df_kor = df.corr()\n",
    "plt.figure(figsize=(15,15))\n",
    "sns.heatmap(df_kor, vmin=-1, vmax=1, cmap=\"viridis\", annot=True, linewidth=0.1)\n",
    "\n"
   ]
  },
  {
   "cell_type": "markdown",
   "metadata": {},
   "source": [
    "We see that there is a positive correlation (0.96) between the variables timestamp_created and timestamp_update and this is not \n",
    "surprising because most of the people never update their review ( most of the values stay the same).\n",
    "It is also easy to understand the high correlation (0.83 ) between author.playtime_at_review and author.playtime_forever \n",
    "since the variable are the same untill the moment of the review.\n",
    "For what concerns negative correlation, there is not any remarkable relationship."
   ]
  },
  {
   "cell_type": "markdown",
   "metadata": {
    "id": "MDUD-6R9gfFn"
   },
   "source": [
    "Now let's focus on the variables that we consider more interesting. We start with app_name."
   ]
  },
  {
   "cell_type": "code",
   "execution_count": 11,
   "metadata": {
    "scrolled": true
   },
   "outputs": [
    {
     "data": {
      "text/html": [
       "<div>\n",
       "<style scoped>\n",
       "    .dataframe tbody tr th:only-of-type {\n",
       "        vertical-align: middle;\n",
       "    }\n",
       "\n",
       "    .dataframe tbody tr th {\n",
       "        vertical-align: top;\n",
       "    }\n",
       "\n",
       "    .dataframe thead th {\n",
       "        text-align: right;\n",
       "    }\n",
       "</style>\n",
       "<table border=\"1\" class=\"dataframe\">\n",
       "  <thead>\n",
       "    <tr style=\"text-align: right;\">\n",
       "      <th></th>\n",
       "      <th>Occurences</th>\n",
       "    </tr>\n",
       "    <tr>\n",
       "      <th>app_name</th>\n",
       "      <th></th>\n",
       "    </tr>\n",
       "  </thead>\n",
       "  <tbody>\n",
       "    <tr>\n",
       "      <th>PLAYERUNKNOWN'S BATTLEGROUNDS</th>\n",
       "      <td>1644255</td>\n",
       "    </tr>\n",
       "    <tr>\n",
       "      <th>Grand Theft Auto V</th>\n",
       "      <td>1019116</td>\n",
       "    </tr>\n",
       "    <tr>\n",
       "      <th>Tom Clancy's Rainbow Six Siege</th>\n",
       "      <td>841918</td>\n",
       "    </tr>\n",
       "    <tr>\n",
       "      <th>Terraria</th>\n",
       "      <td>672815</td>\n",
       "    </tr>\n",
       "    <tr>\n",
       "      <th>Garry's Mod</th>\n",
       "      <td>655524</td>\n",
       "    </tr>\n",
       "    <tr>\n",
       "      <th>Rust</th>\n",
       "      <td>549074</td>\n",
       "    </tr>\n",
       "    <tr>\n",
       "      <th>Rocket League</th>\n",
       "      <td>498565</td>\n",
       "    </tr>\n",
       "    <tr>\n",
       "      <th>PAYDAY 2</th>\n",
       "      <td>487747</td>\n",
       "    </tr>\n",
       "    <tr>\n",
       "      <th>Among Us</th>\n",
       "      <td>485293</td>\n",
       "    </tr>\n",
       "    <tr>\n",
       "      <th>The Witcher 3: Wild Hunt</th>\n",
       "      <td>469395</td>\n",
       "    </tr>\n",
       "  </tbody>\n",
       "</table>\n",
       "</div>"
      ],
      "text/plain": [
       "                                Occurences\n",
       "app_name                                  \n",
       "PLAYERUNKNOWN'S BATTLEGROUNDS      1644255\n",
       "Grand Theft Auto V                 1019116\n",
       "Tom Clancy's Rainbow Six Siege      841918\n",
       "Terraria                            672815\n",
       "Garry's Mod                         655524\n",
       "Rust                                549074\n",
       "Rocket League                       498565\n",
       "PAYDAY 2                            487747\n",
       "Among Us                            485293\n",
       "The Witcher 3: Wild Hunt            469395"
      ]
     },
     "execution_count": 11,
     "metadata": {},
     "output_type": "execute_result"
    }
   ],
   "source": [
    "df_new=df[['app_name']]\n",
    "grp = df_new.groupby('app_name').size()\n",
    "\n",
    "app_names=grp.sort_values(ascending=False)\n",
    "app_names=pd.DataFrame(app_names)\n",
    "app_names.columns=['Occurences']\n",
    "app_names[:10]"
   ]
  },
  {
   "cell_type": "code",
   "execution_count": 12,
   "metadata": {},
   "outputs": [
    {
     "data": {
      "text/plain": [
       "<AxesSubplot:ylabel='Occurences'>"
      ]
     },
     "execution_count": 12,
     "metadata": {},
     "output_type": "execute_result"
    },
    {
     "data": {
      "image/png": "[encoded data removed]",
      "text/plain": [
       "<Figure size 432x288 with 1 Axes>"
      ]
     },
     "metadata": {},
     "output_type": "display_data"
    }
   ],
   "source": [
    "result=app_names['Occurences'][:10]\n",
    "result.plot.pie()\n"
   ]
  },
  {
   "cell_type": "code",
   "execution_count": 13,
   "metadata": {
    "scrolled": true
   },
   "outputs": [
    {
     "data": {
      "image/png": "[encoded data removed]",
      "text/plain": [
       "<Figure size 360x360 with 1 Axes>"
      ]
     },
     "metadata": {
      "needs_background": "light"
     },
     "output_type": "display_data"
    }
   ],
   "source": [
    "app_names.head(10).plot.bar( figsize=(5,5),\n",
    "                            colormap = 'Pastel2', rot = 90, title = 'Numbers of apps',\n",
    "                            xlabel = \"App's name\", ylabel = 'Occurencies')\n",
    "plt.show()"
   ]
  },
  {
   "cell_type": "markdown",
   "metadata": {
    "id": "WqkY2fa_h1Ug"
   },
   "source": [
    "In total there are 315 different apps, the most common are: PLAYERUNKNOWN'S BATTLEGROUNDS (8%),Grand Theft Auto V (5%) and.. (bo va visto sui dati tot).\n"
   ]
  },
  {
   "cell_type": "markdown",
   "metadata": {
    "id": "u6Giqz-mmWbJ"
   },
   "source": [
    "Now we consider the language. The most common are..."
   ]
  },
  {
   "cell_type": "code",
   "execution_count": 14,
   "metadata": {
    "colab": {
     "base_uri": "https://localhost:8080/",
     "height": 828
    },
    "executionInfo": {
     "elapsed": 1387,
     "status": "ok",
     "timestamp": 1634497634244,
     "user": {
      "displayName": "camilla savarese",
      "photoUrl": "https://lh3.googleusercontent.com/a/default-user=s64",
      "userId": "01187100401107976032"
     },
     "user_tz": -120
    },
    "id": "lQURMq01mb1x",
    "outputId": "8a888d2d-c7c3-43cd-b94d-85a42ca10efb"
   },
   "outputs": [
    {
     "data": {
      "text/plain": [
       "<AxesSubplot:title={'center':'Numbers of apps'}, xlabel=\"App's name\", ylabel='Occurencies'>"
      ]
     },
     "execution_count": 14,
     "metadata": {},
     "output_type": "execute_result"
    },
    {
     "data": {
      "image/png": "[encoded data removed]",
      "text/plain": [
       "<Figure size 360x360 with 1 Axes>"
      ]
     },
     "metadata": {
      "needs_background": "light"
     },
     "output_type": "display_data"
    }
   ],
   "source": [
    "result=df[\"language\"].value_counts(normalize=True)\n",
    "result.head(20).plot.bar( figsize=(5,5),\n",
    "                            colormap = 'Pastel2', rot = 90, title = 'Numbers of apps',\n",
    "                            xlabel = \"App's name\", ylabel = 'Occurencies')"
   ]
  },
  {
   "cell_type": "markdown",
   "metadata": {
    "id": "O-tEMm6YpzN6"
   },
   "source": [
    "Recommended and steam_purchase \n",
    "We observe that 87% of review authors recommend the app and 77% of them purchased the app on Steam.<br>\n",
    "But only 67.7% of the authors give a positive opinion and then actually buy the app."
   ]
  },
  {
   "cell_type": "code",
   "execution_count": 16,
   "metadata": {
    "colab": {
     "base_uri": "https://localhost:8080/"
    },
    "executionInfo": {
     "elapsed": 1563,
     "status": "ok",
     "timestamp": 1634499541495,
     "user": {
      "displayName": "camilla savarese",
      "photoUrl": "https://lh3.googleusercontent.com/a/default-user=s64",
      "userId": "01187100401107976032"
     },
     "user_tz": -120
    },
    "id": "pa0iP7e8resC",
    "outputId": "c9098695-ec19-4e49-a0a4-12ee2924d5a1"
   },
   "outputs": [
    {
     "name": "stdout",
     "output_type": "stream",
     "text": [
      "Percentage of recommended applications:\n",
      "True     0.874708\n",
      "False    0.125292\n",
      "Name: recommended, dtype: float64\n",
      "\n",
      "Percentage of purchased applications:\n",
      "True     0.774458\n",
      "False    0.225542\n",
      "Name: steam_purchase, dtype: float64\n",
      "\n",
      "Percentage of purchased application recommended: 67.7401650066116%\n"
     ]
    }
   ],
   "source": [
    "print(\"Percentage of recommended applications:\")\n",
    "print(df[\"recommended\"].value_counts(normalize=True))\n",
    "print()\n",
    "\n",
    "print(\"Percentage of purchased applications:\")\n",
    "print(df[\"steam_purchase\"].value_counts(normalize=True))\n",
    "\n",
    "print()\n",
    "print(f\"Percentage of purchased application recommended: {len(df[  (df.recommended == True) &(df.steam_purchase == True)  ])/ len(df['recommended'])*100}%\")"
   ]
  },
  {
   "cell_type": "markdown",
   "metadata": {
    "id": "HAUFwhMcx9Ci"
   },
   "source": [
    "# RQ2: Let's explore the dataset by finding simple insights into the reviews."
   ]
  },
  {
   "cell_type": "markdown",
   "metadata": {},
   "source": [
    "In order to answer to this request and to the following ones, we've used the two additional dataframe merget with the base one.<br>\n",
    "Given the huge size of the merged dataframes, we've reduced it only to the columns of our interest that are:\n",
    "\n",
    "    * review_id\n",
    "    * app_name\n",
    "    * language\n",
    "    * timestamp_created\n",
    "    * timestamp_updated\n",
    "    * recommended\n",
    "    * votes_helpful\n",
    "    * votes_funny\n",
    "    * weighted_vote_score\n",
    "    * steam_purchase\n",
    "    * received_for_free\n",
    "    * author.steamid\n",
    "    * author.num_reviews\n",
    "    * author.playtime_forever\n",
    "    * author.playtime_at_review"
   ]
  },
  {
   "cell_type": "code",
   "execution_count": 3,
   "metadata": {},
   "outputs": [
    {
     "name": "stderr",
     "output_type": "stream",
     "text": [
      "/Users/alessandro/opt/anaconda3/lib/python3.8/site-packages/IPython/core/interactiveshell.py:3437: DtypeWarning: Columns (2,7,8,9,12,13) have mixed types.Specify dtype option on import or set low_memory=False.\n",
      "  exec(code_obj, self.user_global_ns, self.user_ns)\n"
     ]
    }
   ],
   "source": [
    "# reading a cleaned dataframe containing only the column on wich we are interested\n",
    "df = pd.read_csv(total_dataframe,low_memory=True)"
   ]
  },
  {
   "cell_type": "markdown",
   "metadata": {},
   "source": [
    "## Cleaning\n",
    "The bonus dataframe contains 'False' and 'True' in the name of application, so, before proceeding, we clean the dataframe selecting only the rows with app_name different from 'True' or 'False'"
   ]
  },
  {
   "cell_type": "code",
   "execution_count": 4,
   "metadata": {},
   "outputs": [],
   "source": [
    "df = df[df.app_name.apply(lambda x: str(x) not in ['True', 'False'])]"
   ]
  },
  {
   "cell_type": "code",
   "execution_count": 5,
   "metadata": {},
   "outputs": [
    {
     "name": "stdout",
     "output_type": "stream",
     "text": [
      "<class 'pandas.core.frame.DataFrame'>\n",
      "Int64Index: 27000000 entries, 0 to 27000011\n",
      "Data columns (total 18 columns):\n",
      " #   Column                     Dtype  \n",
      "---  ------                     -----  \n",
      " 0   Unnamed: 0                 int64  \n",
      " 1   Unnamed: 0.1               int64  \n",
      " 2   Unnamed: 0.1.1             object \n",
      " 3   app_name                   object \n",
      " 4   review_id                  int64  \n",
      " 5   language                   object \n",
      " 6   timestamp_created          float64\n",
      " 7   timestamp_updated          object \n",
      " 8   recommended                object \n",
      " 9   votes_helpful              object \n",
      " 10  votes_funny                float64\n",
      " 11  weighted_vote_score        float64\n",
      " 12  steam_purchase             object \n",
      " 13  received_for_free          object \n",
      " 14  author.steamid             float64\n",
      " 15  author.num_reviews         float64\n",
      " 16  author.playtime_forever    float64\n",
      " 17  author.playtime_at_review  float64\n",
      "dtypes: float64(7), int64(3), object(8)\n",
      "memory usage: 3.8+ GB\n"
     ]
    }
   ],
   "source": [
    "df.info()"
   ]
  },
  {
   "cell_type": "markdown",
   "metadata": {},
   "source": [
    "## 2.1) Plot the number of reviews for each application in descending order.\n",
    "We simply count the number of reviews for each app (grouped by app_name) and order them\n"
   ]
  },
  {
   "cell_type": "code",
   "execution_count": 19,
   "metadata": {
    "id": "s1ZJ8q5HyJf_"
   },
   "outputs": [
    {
     "data": {
      "text/plain": [
       "<AxesSubplot:>"
      ]
     },
     "execution_count": 19,
     "metadata": {},
     "output_type": "execute_result"
    },
    {
     "data": {
      "image/png": "[encoded data removed]",
      "text/plain": [
       "<Figure size 432x288 with 1 Axes>"
      ]
     },
     "metadata": {
      "needs_background": "light"
     },
     "output_type": "display_data"
    }
   ],
   "source": [
    "new = df[['app_name']]\n",
    "a=new[\"app_name\"].value_counts()\n",
    "app_sort=a.sort_values(ascending=False)\n",
    "app_sort.head(30).plot.bar()"
   ]
  },
  {
   "cell_type": "markdown",
   "metadata": {},
   "source": [
    "## 2.2) What applications have the best Weighted Vote Score?\n",
    "We group by app_name and we make the average of the weighted_vote_score values for every group.<br>\n",
    "Then we show the obtained dataframe\n"
   ]
  },
  {
   "cell_type": "code",
   "execution_count": 26,
   "metadata": {
    "id": "HH9T9qoF6EXm"
   },
   "outputs": [
    {
     "data": {
      "text/html": [
       "<div>\n",
       "<style scoped>\n",
       "    .dataframe tbody tr th:only-of-type {\n",
       "        vertical-align: middle;\n",
       "    }\n",
       "\n",
       "    .dataframe tbody tr th {\n",
       "        vertical-align: top;\n",
       "    }\n",
       "\n",
       "    .dataframe thead th {\n",
       "        text-align: right;\n",
       "    }\n",
       "</style>\n",
       "<table border=\"1\" class=\"dataframe\">\n",
       "  <thead>\n",
       "    <tr style=\"text-align: right;\">\n",
       "      <th></th>\n",
       "      <th>weighted_vote_score</th>\n",
       "    </tr>\n",
       "    <tr>\n",
       "      <th>app_name</th>\n",
       "      <th></th>\n",
       "    </tr>\n",
       "  </thead>\n",
       "  <tbody>\n",
       "    <tr>\n",
       "      <th>Hunt Down The Freeman</th>\n",
       "      <td>0.502150</td>\n",
       "    </tr>\n",
       "    <tr>\n",
       "      <th>Identity</th>\n",
       "      <td>0.415384</td>\n",
       "    </tr>\n",
       "    <tr>\n",
       "      <th>Umbrella Corps</th>\n",
       "      <td>0.414678</td>\n",
       "    </tr>\n",
       "    <tr>\n",
       "      <th>X Rebirth</th>\n",
       "      <td>0.380447</td>\n",
       "    </tr>\n",
       "    <tr>\n",
       "      <th>Warhammer 40,000: Dawn of War III</th>\n",
       "      <td>0.377935</td>\n",
       "    </tr>\n",
       "    <tr>\n",
       "      <th>...</th>\n",
       "      <td>...</td>\n",
       "    </tr>\n",
       "    <tr>\n",
       "      <th>There Is No Game: Wrong Dimension</th>\n",
       "      <td>0.086053</td>\n",
       "    </tr>\n",
       "    <tr>\n",
       "      <th>Bloons TD 6</th>\n",
       "      <td>0.084871</td>\n",
       "    </tr>\n",
       "    <tr>\n",
       "      <th>People Playground</th>\n",
       "      <td>0.083486</td>\n",
       "    </tr>\n",
       "    <tr>\n",
       "      <th>Among Us</th>\n",
       "      <td>0.078234</td>\n",
       "    </tr>\n",
       "    <tr>\n",
       "      <th>Totally Accurate Battle Simulator</th>\n",
       "      <td>0.076889</td>\n",
       "    </tr>\n",
       "  </tbody>\n",
       "</table>\n",
       "<p>190 rows × 1 columns</p>\n",
       "</div>"
      ],
      "text/plain": [
       "                                   weighted_vote_score\n",
       "app_name                                              \n",
       "Hunt Down The Freeman                         0.502150\n",
       "Identity                                      0.415384\n",
       "Umbrella Corps                                0.414678\n",
       "X Rebirth                                     0.380447\n",
       "Warhammer 40,000: Dawn of War III             0.377935\n",
       "...                                                ...\n",
       "There Is No Game: Wrong Dimension             0.086053\n",
       "Bloons TD 6                                   0.084871\n",
       "People Playground                             0.083486\n",
       "Among Us                                      0.078234\n",
       "Totally Accurate Battle Simulator             0.076889\n",
       "\n",
       "[190 rows x 1 columns]"
      ]
     },
     "execution_count": 26,
     "metadata": {},
     "output_type": "execute_result"
    }
   ],
   "source": [
    "#In this way we select only the columns of interest\n",
    "new_1 = df[['app_name','weighted_vote_score']]\n",
    "#In this way I compute the average score for each app\n",
    "new_1.groupby('app_name').agg({\"weighted_vote_score\":\"mean\"}).sort_values(by='weighted_vote_score',ascending=False)"
   ]
  },
  {
   "cell_type": "markdown",
   "metadata": {},
   "source": [
    "## 2.3) Which applications have the most and the least recommendations?"
   ]
  },
  {
   "cell_type": "markdown",
   "metadata": {},
   "source": [
    "For each app, we count how many times it has been recommended."
   ]
  },
  {
   "cell_type": "code",
   "execution_count": 29,
   "metadata": {
    "colab": {
     "base_uri": "https://localhost:8080/",
     "height": 394
    },
    "executionInfo": {
     "elapsed": 1519,
     "status": "ok",
     "timestamp": 1634650682919,
     "user": {
      "displayName": "camilla savarese",
      "photoUrl": "https://lh3.googleusercontent.com/a/default-user=s64",
      "userId": "01187100401107976032"
     },
     "user_tz": -120
    },
    "id": "fD8DLgii6QJR",
    "outputId": "7927aeb9-acc8-4e0b-b492-f7913889e7e2"
   },
   "outputs": [
    {
     "name": "stdout",
     "output_type": "stream",
     "text": [
      "the most recommended application is \"Tom Clancy's Rainbow Six Siege\" with a total number of recommendations of  1484792\n",
      "the worst recommended application is \"Neon Hardcorps\" with a total number of recommendations of 178\n"
     ]
    },
    {
     "data": {
      "image/png": "[encoded data removed]",
      "text/plain": [
       "<Figure size 432x288 with 1 Axes>"
      ]
     },
     "metadata": {
      "needs_background": "light"
     },
     "output_type": "display_data"
    },
    {
     "data": {
      "image/png": "[encoded data removed]",
      "text/plain": [
       "<Figure size 432x288 with 1 Axes>"
      ]
     },
     "metadata": {
      "needs_background": "light"
     },
     "output_type": "display_data"
    }
   ],
   "source": [
    "\n",
    "y=df.groupby('app_name').agg({\"recommended\":\"sum\"})\n",
    "\n",
    "y=y.sort_values(by=\"recommended\",ascending=False)\n",
    "print(f'the most recommended application is \\\"{y.head(1).index[0]}\\\" with a total number of recommendations of  {y.head(1).values[0][0]}')\n",
    "y.head(10).plot.bar(title='top ten')\n",
    "\n",
    "print(f'the worst recommended application is \\\"{y.tail(1).index[0]}\\\" with a total number of recommendations of {y.tail(1).values[0][0]}')\n",
    "y.tail(10).plot.bar(title='last ten',color='red') #least\n",
    "plt.show()"
   ]
  },
  {
   "cell_type": "markdown",
   "metadata": {},
   "source": [
    "Here we ordered the apps in relation to the raccomandations and we plotted the best ten apps and the worst ten apps.\n",
    "Note the differences between the y-axis dimensions"
   ]
  },
  {
   "cell_type": "markdown",
   "metadata": {},
   "source": [
    "## 2.4) How many of these applications were purchased, and how many were given for free?"
   ]
  },
  {
   "cell_type": "code",
   "execution_count": 6,
   "metadata": {
    "colab": {
     "base_uri": "https://localhost:8080/"
    },
    "executionInfo": {
     "elapsed": 410,
     "status": "ok",
     "timestamp": 1634586591610,
     "user": {
      "displayName": "camilla savarese",
      "photoUrl": "https://lh3.googleusercontent.com/a/default-user=s64",
      "userId": "01187100401107976032"
     },
     "user_tz": -120
    },
    "id": "djlptn_N7oX4",
    "outputId": "3490b838-e0c1-453a-b0b4-b007d8c8820a"
   },
   "outputs": [
    {
     "name": "stdout",
     "output_type": "stream",
     "text": [
      "The application purchased are, in percentage:\n",
      " True     0.791946\n",
      "False    0.208054\n",
      "Name: steam_purchase, dtype: float64\n",
      "\n",
      "The application given for free are, in percentage:\n",
      " False    0.955716\n",
      "True     0.044284\n",
      "Name: received_for_free, dtype: float64\n"
     ]
    }
   ],
   "source": [
    "\n",
    "safe_purchase = df[df.steam_purchase.apply(lambda x: str(x).isalpha())].astype('bool').steam_purchase\n",
    "safe_for_free = df[df.received_for_free.apply(lambda x: str(x).isalpha())].astype('bool').received_for_free\n",
    "\n",
    "print(f\"The application purchased are, in percentage:\\n {safe_purchase.value_counts(normalize=True)}\")\n",
    "print()\n",
    "print(f\"The application given for free are, in percentage:\\n {safe_for_free.value_counts(normalize=True)}\")"
   ]
  },
  {
   "cell_type": "markdown",
   "metadata": {},
   "source": [
    "We can note that the percentage of steam_purchased applications is over the 79% and the percentage of the given_for_free ones is over 95%. At first glance this values couldn't make sense, but we can consider that part of the applications given for free to the final users can be purchased by someone that wants the applications to be reviewed"
   ]
  },
  {
   "cell_type": "markdown",
   "metadata": {
    "id": "WK8oLBHB-RhP"
   },
   "source": [
    "# RQ3: Now it's important to understand the preferred time to do reviews.\n",
    "\n",
    "\n"
   ]
  },
  {
   "cell_type": "markdown",
   "metadata": {},
   "source": [
    "## Request 1"
   ]
  },
  {
   "cell_type": "markdown",
   "metadata": {},
   "source": [
    "\n",
    "I'll use the already loaded-in-memory dataset (in the variable df) in order to map every timestamp_created entry from the Datetime format, to a tuple made by the integer value of hour and minutes, once it's done i'll use the obtained column to group by the mapped rows counting the occourrence of every distinct row, i've subsequently used that pd.Series in order to extract the couple (hour, minutes) that maximizes the number of rows, so the number of reviews made in that hour range\n",
    "\n",
    "The results are printed with a formatted string"
   ]
  },
  {
   "cell_type": "markdown",
   "metadata": {},
   "source": [
    "In order to work with the datetime format from all the rows coming from the different files, we needed to preprocess the files given that the optional files contains strings and other problematic values.<br>\n",
    "Hence we've opened that file cleaning all the problematic rows and mantaining only the ones with a valid value for the creation and update timestamp with the following command:\n",
    "```\n",
    "df = df[df.timestamp_updated.apply(lambda x: not str(x).isalpha() and float(x)!=0)].astype('float').astype('int')\n",
    "```\n",
    "After the cleaning we've stored the result in the csv file at the path 'data/datetime_dataframe.csv' that contains only the column relatives to the creation and update timestamp.<br>\n",
    "This file will be read with the ```read_csv_with_time``` function that will read and convert all the integer timestamp in the datetime format\n",
    "\n",
    "## NB:\n",
    "We know that with this type of processing we've removed all the lines containing in the 'timestamp_updated' field one of the following:\n",
    " * True\n",
    " * False\n",
    " * NaN\n",
    " * 0.0\n",
    " \n",
    "But it's the safer way in order to avoid 'dirty' data given that the only interpretation that can be given to this is that the review has been updated (True) or not (False) or there aren't enough info (NaN), but we need the timestamp of *when* the review has been updated and not just *if* it is.<br>\n",
    "In addition we've removed all the rows containing 0 values 'cause it's impossible that the reviews are made in the first january of 1970 iven that steam is born in 12 semptember of 2003. This process has been realized by the ```float(x)!=0``` check."
   ]
  },
  {
   "cell_type": "code",
   "execution_count": 37,
   "metadata": {},
   "outputs": [],
   "source": [
    "datetime_df = read_csv_with_time(timestamp_dataframe, ['timestamp_created', 'timestamp_updated'])"
   ]
  },
  {
   "cell_type": "code",
   "execution_count": 13,
   "metadata": {},
   "outputs": [
    {
     "name": "stdout",
     "output_type": "stream",
     "text": [
      "The most common hour in wich are published the greater part of the reviews is at 02:37 with 19308 reviews published\n"
     ]
    }
   ],
   "source": [
    "timed = datetime_df.timestamp_created.apply(lambda x: (x.hour, x.minute))\n",
    "# grouping by values (the tuples of above) and counting the occourrences\n",
    "timed = timed.groupby(timed).count() \n",
    "amax = timed.argmax() # Getting the index of the maximum value\n",
    "\n",
    "# Retrievieng the answers and formatting them...\n",
    "hh, mm = timed.index[amax]\n",
    "n_rev = timed.values[amax]\n",
    "hh = \"{:0>2d}\".format(hh)\n",
    "mm = \"{:0>2d}\".format(mm)\n",
    "\n",
    "print(f\"The most common hour in wich are published the greater part of the reviews is at {hh}:{mm} with {n_rev} reviews published\")"
   ]
  },
  {
   "cell_type": "markdown",
   "metadata": {},
   "source": [
    "### Request 2"
   ]
  },
  {
   "cell_type": "markdown",
   "metadata": {},
   "source": [
    "The function required is the following and returns a pd.Series where the index are the index of the corresponding hour range and the values are the number of reviews made in that range"
   ]
  },
  {
   "cell_type": "code",
   "execution_count": 14,
   "metadata": {},
   "outputs": [],
   "source": [
    "def get_time_range_stats(ranges):\n",
    "    df = read_csv_with_time('data/datetime_dataframe.csv', ['timestamp_created'], usecols=['timestamp_created'])\n",
    "    ranges_int = get_integer_ranges(ranges)\n",
    "    ranged = df.timestamp_created.apply(lambda x: get_integer_range_index((x.hour, x.minute, x.second), ranges_int))\n",
    "    ranged = ranged.groupby(ranged).count()\n",
    "    return ranged"
   ]
  },
  {
   "cell_type": "markdown",
   "metadata": {},
   "source": [
    "### Request 3"
   ]
  },
  {
   "cell_type": "markdown",
   "metadata": {},
   "source": [
    "I've used the function above in order to plot by an horizontal bar chart, the number of reviews made for every hour range of the default ranges shown in the table above"
   ]
  },
  {
   "cell_type": "code",
   "execution_count": 15,
   "metadata": {},
   "outputs": [],
   "source": [
    "time_ranges_df = get_time_range_stats(def_ranges)"
   ]
  },
  {
   "cell_type": "code",
   "execution_count": 16,
   "metadata": {},
   "outputs": [
    {
     "name": "stdout",
     "output_type": "stream",
     "text": [
      "tot_rev: 26999988\n"
     ]
    },
    {
     "data": {
      "image/png": "[encoded data removed]",
      "text/plain": [
       "<Figure size 1440x720 with 1 Axes>"
      ]
     },
     "metadata": {
      "needs_background": "light"
     },
     "output_type": "display_data"
    }
   ],
   "source": [
    "plt.figure(figsize=(20,10))\n",
    "ax = time_ranges_df.plot(kind=\"barh\", color='green')\n",
    "ax.set_title(\"Reviews per hour ranges\")\n",
    "ax.set_ylabel(\"hour ranges\")\n",
    "ax.set_xlabel(\"Num of reviews\")\n",
    "ax.set_yticklabels(def_ranges)\n",
    "ax.grid(b=True, color='grey', linestyle='-.', linewidth=0.5, alpha=0.2)\n",
    "print(f\"tot_rev: {time_ranges_df.values.sum()}\")"
   ]
  },
  {
   "cell_type": "markdown",
   "metadata": {
    "id": "BVtj47B5D308"
   },
   "source": [
    "# RQ4 As Steam is a worldwide platform, the reviews can be done in many languages. Let's extract some information about it."
   ]
  },
  {
   "cell_type": "markdown",
   "metadata": {},
   "source": [
    "## 4.1) What are the top 3 languages used to review applications?"
   ]
  },
  {
   "cell_type": "markdown",
   "metadata": {},
   "source": [
    "Group values by language and account.\n"
   ]
  },
  {
   "cell_type": "code",
   "execution_count": 32,
   "metadata": {
    "id": "XH6IIsrqD9kN"
   },
   "outputs": [
    {
     "name": "stdout",
     "output_type": "stream",
     "text": [
      "english\n",
      "schinese\n",
      "russian\n"
     ]
    }
   ],
   "source": [
    "lingue=df[\"language\"].value_counts(normalize=True)\n",
    "top=lingue[:3]\n",
    "top_list=list(top.index)\n",
    "print(*(x for x in top_list), sep='\\n')\n",
    "#top five"
   ]
  },
  {
   "cell_type": "markdown",
   "metadata": {},
   "source": [
    "## 4.2) Create a function that receives as parameters both the name of a data set and a list of languages’ names and returns a data frame filtered only with the reviews written in the provided languages."
   ]
  },
  {
   "cell_type": "code",
   "execution_count": 38,
   "metadata": {
    "id": "5n44py7qEb2e"
   },
   "outputs": [],
   "source": [
    "\n",
    "def filter_language(dataset, languages,col_name='language'):\n",
    "  return dataset.loc[dataset[col_name].isin(languages)]\n"
   ]
  },
  {
   "cell_type": "markdown",
   "metadata": {},
   "source": [
    "## 4.3) Use the function created in the previous literal to find what percentage of these reviews (associated with the the top 3 languages) were voted as funny?"
   ]
  },
  {
   "cell_type": "markdown",
   "metadata": {},
   "source": [
    "After creating the subset by filtering with the function, we look for the lines that correspond to each language and that have at least one \"vote_funny\". Same for \"vote_helped\"."
   ]
  },
  {
   "cell_type": "code",
   "execution_count": 34,
   "metadata": {
    "colab": {
     "base_uri": "https://localhost:8080/"
    },
    "executionInfo": {
     "elapsed": 11783,
     "status": "ok",
     "timestamp": 1634672021570,
     "user": {
      "displayName": "camilla savarese",
      "photoUrl": "https://lh3.googleusercontent.com/a/default-user=s64",
      "userId": "01187100401107976032"
     },
     "user_tz": -120
    },
    "id": "-UNGmMDD3fX9",
    "outputId": "c1e1b33b-fe41-4748-a827-38e7098105b5"
   },
   "outputs": [
    {
     "name": "stdout",
     "output_type": "stream",
     "text": [
      "english   11.200000000000001%\n",
      "schinese   11.27%\n",
      "russian   11.19%\n"
     ]
    }
   ],
   "source": [
    "for i in top_list:\n",
    "     print(i+\"   \"+str(round(sum((df['votes_funny']!=0) & (df['language']==i))/sum(df['language']==i),4)*100)+\"%\")\n"
   ]
  },
  {
   "cell_type": "code",
   "execution_count": null,
   "metadata": {},
   "outputs": [],
   "source": [
    "df_1= filter_language(df,top_list,'language') \n",
    "print(f\"The funny reviews from the ones in the top language list are the {df_1[df_1.votes_funny!=0]/len(df_1)*100}%\")"
   ]
  },
  {
   "cell_type": "markdown",
   "metadata": {},
   "source": [
    "### Use the function created in the literal “a” to find what percentage of these reviews (associated with the top 3 languages) were voted as helpful?"
   ]
  },
  {
   "cell_type": "code",
   "execution_count": 35,
   "metadata": {
    "colab": {
     "base_uri": "https://localhost:8080/"
    },
    "executionInfo": {
     "elapsed": 10476,
     "status": "ok",
     "timestamp": 1634672117666,
     "user": {
      "displayName": "camilla savarese",
      "photoUrl": "https://lh3.googleusercontent.com/a/default-user=s64",
      "userId": "01187100401107976032"
     },
     "user_tz": -120
    },
    "id": "jzts3OcdC6Rf",
    "outputId": "ae7ffc8f-6234-43c4-a1c6-0399a1f745a7"
   },
   "outputs": [
    {
     "name": "stdout",
     "output_type": "stream",
     "text": [
      "english   27.2082%\n",
      "schinese   28.5755%\n",
      "russian   27.3467%\n"
     ]
    }
   ],
   "source": [
    "df_1= filter_language(df,top_list,'language') #dati filtrati\n",
    "for i in top_list:\n",
    "  print(i+\"   \"+str(round(sum((df['votes_helpful']!=0) & (df['language']==i))/sum(df['language']==i)*100,4))+\"%\")"
   ]
  },
  {
   "cell_type": "code",
   "execution_count": null,
   "metadata": {},
   "outputs": [],
   "source": [
    "df_1= filter_language(df,top_list,'language') \n",
    "print(f\"The funny reviews from the ones in the top language list are the {df_1[df_1.votes_helpful!=0]/len(df_1)*100}%\")"
   ]
  },
  {
   "cell_type": "markdown",
   "metadata": {
    "id": "prcNliAJ3gZt"
   },
   "source": [
    "# RQ5 The reviews' authors are users from the game that provide their opinion on it. Now you can check how often they make reviews."
   ]
  },
  {
   "cell_type": "markdown",
   "metadata": {},
   "source": [
    "### Plot the top 10 most popular reviewers and the number of reviews."
   ]
  },
  {
   "cell_type": "code",
   "execution_count": 20,
   "metadata": {
    "colab": {
     "base_uri": "https://localhost:8080/",
     "height": 395
    },
    "executionInfo": {
     "elapsed": 94978,
     "status": "ok",
     "timestamp": 1634655628889,
     "user": {
      "displayName": "Alessandro Pecchini",
      "photoUrl": "https://lh3.googleusercontent.com/a/default-user=s64",
      "userId": "11901581996892479685"
     },
     "user_tz": -120
    },
    "id": "n1ABlGeg4LMm",
    "outputId": "80067de5-6116-4867-8edf-73d3e444df9b"
   },
   "outputs": [],
   "source": [
    "df_auth = df.groupby('author.steamid').review_id.count().sort_values(ascending=False)"
   ]
  },
  {
   "cell_type": "code",
   "execution_count": 21,
   "metadata": {},
   "outputs": [
    {
     "data": {
      "text/plain": [
       "<AxesSubplot:xlabel='author.steamid'>"
      ]
     },
     "execution_count": 21,
     "metadata": {},
     "output_type": "execute_result"
    },
    {
     "data": {
      "image/png": "[encoded data removed]",
      "text/plain": [
       "<Figure size 432x288 with 1 Axes>"
      ]
     },
     "metadata": {
      "needs_background": "light"
     },
     "output_type": "display_data"
    }
   ],
   "source": [
    "df_auth.head(10).plot.bar()"
   ]
  },
  {
   "cell_type": "markdown",
   "metadata": {},
   "source": [
    "### What applications did the most popular author review? "
   ]
  },
  {
   "cell_type": "code",
   "execution_count": 22,
   "metadata": {
    "id": "NRnn_ehG5YKg"
   },
   "outputs": [],
   "source": [
    "# Retrieving the entries from the most active reviewer\n",
    "from_bigger_reviewer = df[df['author.steamid'] == df_auth.head(1).index[0]]"
   ]
  },
  {
   "cell_type": "code",
   "execution_count": 26,
   "metadata": {
    "colab": {
     "base_uri": "https://localhost:8080/"
    },
    "executionInfo": {
     "elapsed": 283,
     "status": "ok",
     "timestamp": 1634655642208,
     "user": {
      "displayName": "Alessandro Pecchini",
      "photoUrl": "https://lh3.googleusercontent.com/a/default-user=s64",
      "userId": "11901581996892479685"
     },
     "user_tz": -120
    },
    "id": "Jz4iSYyU8dQ4",
    "outputId": "306301ae-8a31-4ecd-f0dc-f2f0b7dac40a"
   },
   "outputs": [
    {
     "name": "stdout",
     "output_type": "stream",
     "text": [
      "The application reviewed from the most popular author are: \n",
      "\t1) Half-Life 2: Episode Two\n",
      "\t2) Sid Meier's Civilization V\n",
      "\t3) Banished\n",
      "\t4) A Hat in Time\n",
      "\t5) Hollow Knight\n",
      "\t6) Euro Truck Simulator 2\n",
      "\t7) Tom Clancy's Rainbow Six Siege\n",
      "\t8) Among Us\n",
      "\t9) Rust\n",
      "\t10) Undertale\n",
      "\t11) Satisfactory\n",
      "\t12) Oxygen Not Included\n",
      "\t13) Phoenix Wright: Ace Attorney Trilogy\n",
      "\t14) PLAYERUNKNOWN'S BATTLEGROUNDS\n"
     ]
    }
   ],
   "source": [
    "print(\"The application reviewed from the most popular author are: \")\n",
    "apps = from_bigger_reviewer['app_name'].unique()\n",
    "for i in range(len(apps)):\n",
    "    app_name = apps[i]\n",
    "    print(f\"\\t{i+1}) {app_name}\")"
   ]
  },
  {
   "cell_type": "markdown",
   "metadata": {},
   "source": [
    "### How many applications did he purchase, and how many did he get as free? Provide the number (count) and the percentage."
   ]
  },
  {
   "cell_type": "code",
   "execution_count": 31,
   "metadata": {
    "id": "qH1IMHp458JS"
   },
   "outputs": [
    {
     "name": "stdout",
     "output_type": "stream",
     "text": [
      "He got for free 0 applications (0.0%) and purchased 15 (62.5%) on total of 24\n",
      "   \n",
      "The author's recommended 0 and doesn't recommended 0 application from the ones received for free\n"
     ]
    }
   ],
   "source": [
    "free = from_bigger_reviewer[from_bigger_reviewer['received_for_free']]\n",
    "n_free = len(free)\n",
    "purchased = from_bigger_reviewer[from_bigger_reviewer['steam_purchase']]\n",
    "n_purch = len(purchased)\n",
    "tot = len(from_bigger_reviewer)\n",
    "print(f\"He got for free {n_free} applications ({n_free/tot*100}%) and purchased {n_purch} ({n_purch/tot*100}%) on total of {tot}\")\n",
    "print('   ')\n",
    "print(f\"The author's recommended {len(free['recommended'])} and doesn't recommended {n_free-len(free['recommended'])} application from the ones received for free\")\n"
   ]
  },
  {
   "cell_type": "markdown",
   "metadata": {},
   "source": [
    "### How many of the applications he purchased reviewed positively, and how many negatively? How about the applications he received for free?"
   ]
  },
  {
   "cell_type": "code",
   "execution_count": 32,
   "metadata": {},
   "outputs": [
    {
     "name": "stdout",
     "output_type": "stream",
     "text": [
      "   \n",
      " recommended 15 and doesn't recommended 0 application from the ones purchased\n"
     ]
    }
   ],
   "source": [
    "print('   ')\n",
    "print(f\" recommended {len(purchased['recommended'])} and doesn't recommended {n_purch-len(purchased['recommended'])} application from the ones purchased\")"
   ]
  },
  {
   "cell_type": "markdown",
   "metadata": {},
   "source": [
    "# [RQ6] It's time to get information from the updates that a user does to his reviews."
   ]
  },
  {
   "cell_type": "markdown",
   "metadata": {},
   "source": [
    "### What is the average time (days and minutes) a user lets pass before he updates a review?"
   ]
  },
  {
   "cell_type": "code",
   "execution_count": 33,
   "metadata": {},
   "outputs": [
    {
     "ename": "NameError",
     "evalue": "name 'datetime_df' is not defined",
     "output_type": "error",
     "traceback": [
      "\u001b[0;31m---------------------------------------------------------------------------\u001b[0m",
      "\u001b[0;31mNameError\u001b[0m                                 Traceback (most recent call last)",
      "\u001b[0;32m<ipython-input-33-525b68ab96f7>\u001b[0m in \u001b[0;36m<module>\u001b[0;34m\u001b[0m\n\u001b[0;32m----> 1\u001b[0;31m \u001b[0mdatetime_df\u001b[0m\u001b[0;34m[\u001b[0m\u001b[0;34m'updated'\u001b[0m\u001b[0;34m]\u001b[0m \u001b[0;34m=\u001b[0m \u001b[0mdatetime_df\u001b[0m\u001b[0;34m.\u001b[0m\u001b[0mtimestamp_created\u001b[0m \u001b[0;34m!=\u001b[0m \u001b[0mdatetime_df\u001b[0m\u001b[0;34m.\u001b[0m\u001b[0mtimestamp_updated\u001b[0m\u001b[0;34m\u001b[0m\u001b[0;34m\u001b[0m\u001b[0m\n\u001b[0m\u001b[1;32m      2\u001b[0m \u001b[0mprint\u001b[0m\u001b[0;34m(\u001b[0m\u001b[0;34mf\"The average time that pass between the creation and the update of the reviews is: {(datetime_df.timestamp_updated - datetime_df.timestamp_created)[datetime_df.updated].mean(numeric_only=False)}\"\u001b[0m\u001b[0;34m)\u001b[0m\u001b[0;34m\u001b[0m\u001b[0;34m\u001b[0m\u001b[0m\n",
      "\u001b[0;31mNameError\u001b[0m: name 'datetime_df' is not defined"
     ]
    }
   ],
   "source": [
    "datetime_df['updated'] = datetime_df.timestamp_created != datetime_df.timestamp_updated\n",
    "print(f\"The average time that pass between the creation and the update of the reviews is: {(datetime_df.timestamp_updated - datetime_df.timestamp_created)[datetime_df.updated].mean(numeric_only=False)}\")\n"
   ]
  },
  {
   "cell_type": "markdown",
   "metadata": {},
   "source": [
    "### Plot the top 3 authors that usually update their reviews."
   ]
  },
  {
   "cell_type": "code",
   "execution_count": 68,
   "metadata": {},
   "outputs": [
    {
     "name": "stdout",
     "output_type": "stream",
     "text": [
      "The authors that has updated their reviews more often are, in order:\n",
      "\t*76561197936889152 with 14 updated reviews\n",
      "\t*76561197948536992 with 13 updated reviews\n",
      "\t*76561197866377472 with 13 updated reviews\n"
     ]
    }
   ],
   "source": [
    "df['updated'] = (df.timestamp_created != df.timestamp_updated) & (df.timestamp_updated!='False')\n",
    "grouped = df.groupby(df['author.steamid']).updated.sum().sort_values(ascending=False)\n",
    "auth = grouped.index[:3]\n",
    "print(\"The authors that has updated their reviews more often are, in order:\")\n",
    "for a in auth:\n",
    "  print(f\"\\t*{int(a)} with {grouped[a]} updated reviews\")"
   ]
  },
  {
   "cell_type": "markdown",
   "metadata": {
    "id": "qY_XymYaH6Ge"
   },
   "source": [
    "# RQ7 Of course, calculating probabilities is a job that any Data Scientist must know. Let's compute Some interesting figures."
   ]
  },
  {
   "cell_type": "markdown",
   "metadata": {
    "id": "L-AWty06aGxr"
   },
   "source": [
    "### What’s the probability that a review has a Weighted Vote Score equal to or bigger than 0.5?"
   ]
  },
  {
   "cell_type": "markdown",
   "metadata": {},
   "source": [
    "Simply whoever has a w. score greater than 0.5 on the total of the lines.<br>\n",
    "So the probability is:\n",
    "$$\n",
    "\\begin{align}\n",
    "    P(A) = \\frac{\\#A}{\\#\\Omega}\n",
    "\\end{align}\n"
   ]
  },
  {
   "cell_type": "code",
   "execution_count": 34,
   "metadata": {
    "colab": {
     "base_uri": "https://localhost:8080/"
    },
    "executionInfo": {
     "elapsed": 3941,
     "status": "ok",
     "timestamp": 1634673249511,
     "user": {
      "displayName": "camilla savarese",
      "photoUrl": "https://lh3.googleusercontent.com/a/default-user=s64",
      "userId": "01187100401107976032"
     },
     "user_tz": -120
    },
    "id": "l_4-d2Q3__pf",
    "outputId": "69505edd-5ff0-4781-e785-ca5b47f22431"
   },
   "outputs": [
    {
     "name": "stdout",
     "output_type": "stream",
     "text": [
      "prob. to have a weighted vote score>0.5: 0.20611637037037037\n"
     ]
    }
   ],
   "source": [
    "#Prob = fav. cases / possible cases\n",
    "p1=sum(df['weighted_vote_score']> 0.5)/df.shape[0]\n",
    "print(f\"prob. to have a weighted vote score>0.5: {p1}\")"
   ]
  },
  {
   "cell_type": "markdown",
   "metadata": {},
   "source": [
    "### What’s the probability that a review has at least one vote as funny given that the Weighted Vote Score is bigger than 0.5?"
   ]
  },
  {
   "cell_type": "markdown",
   "metadata": {},
   "source": [
    "Conditional probability formula:<br>\n",
    "$$\n",
    "\\begin{align}\n",
    "P(A|B) = \\frac{P(A\\cap B)}{P(B)}\n",
    "\\end{align}\n",
    "$$\n",
    "\n"
   ]
  },
  {
   "cell_type": "code",
   "execution_count": 35,
   "metadata": {},
   "outputs": [
    {
     "name": "stdout",
     "output_type": "stream",
     "text": [
      "prob. to have at least one vote as funny given that the weighted vote score is >0.5: 0.11225104408836288\n"
     ]
    }
   ],
   "source": [
    "intersezione=sum((df['weighted_vote_score']> 0.5)& (df['votes_funny']!=0))/df.shape[0]\n",
    "p2=intersezione/p1\n",
    "print(f\"prob. to have at least one vote as funny given that the weighted vote score is >0.5: {p2}\")"
   ]
  },
  {
   "cell_type": "markdown",
   "metadata": {},
   "source": [
    "### Is the probability that “a review has at least one vote as funny” independent of the “probability that a review has a Weighted Vote Score equal or bigger than 0.5”?"
   ]
  },
  {
   "cell_type": "markdown",
   "metadata": {},
   "source": [
    "Statistical definition of independence: \"Joint probability is the product of the marginals.\"\n",
    "So going to the formulas:\n",
    "$$\n",
    "\\begin{align}\n",
    "    A\\ \\perp \\!\\!\\! \\perp \\ B \\iff P(A \\cap B) = P(A)\\cdot P(B)\n",
    "\\end{align}\n",
    "$$\n",
    "It doesn't happen here."
   ]
  },
  {
   "cell_type": "code",
   "execution_count": 36,
   "metadata": {},
   "outputs": [
    {
     "name": "stdout",
     "output_type": "stream",
     "text": [
      "Is the probability that “a review has at least one vote as funny” independent of the “probability that a review has a Weighted Vote Score equal or bigger than 0.5”? NO\n"
     ]
    }
   ],
   "source": [
    "pa= sum(df['votes_funny']!=0)/df.shape[0]\n",
    "print(f\"Is the probability that “a review has at least one vote as funny” independent of the “probability that a review has a Weighted Vote Score equal or bigger than 0.5”? {'YES' if pa*p1==intersezione else 'NO'}\")\n",
    "#False, quindi Non sono indipendenti"
   ]
  },
  {
   "cell_type": "markdown",
   "metadata": {
    "id": "9DOaZZ0KLPnX"
   },
   "source": [
    "# RQ8 Every decision you take in a data-based environment should be reinforced with charts, statistical tests and analysis methods to check if a hypothesis is correct or not."
   ]
  },
  {
   "cell_type": "markdown",
   "metadata": {},
   "source": [
    "## 8.1) Is there a significant difference in the Weighted Vote Score of reviews made in Chinese vs the ones made in Russian? Use an appropriate statistical test or technique and support your choicv1"
   ]
  },
  {
   "cell_type": "code",
   "execution_count": 15,
   "metadata": {},
   "outputs": [],
   "source": [
    "import pandas as pd\n",
    "import matplotlib.pyplot as plt\n",
    "import seaborn as sns\n",
    "import matplotlib.pyplot as plt\n",
    "import researchpy as rp\n",
    "import scipy.stats as stats"
   ]
  },
  {
   "cell_type": "code",
   "execution_count": 41,
   "metadata": {
    "colab": {
     "base_uri": "https://localhost:8080/"
    },
    "executionInfo": {
     "elapsed": 2733,
     "status": "ok",
     "timestamp": 1634675835391,
     "user": {
      "displayName": "camilla savarese",
      "photoUrl": "https://lh3.googleusercontent.com/a/default-user=s64",
      "userId": "01187100401107976032"
     },
     "user_tz": -120
    },
    "id": "xqFR5dLQLVaf",
    "outputId": "0f3490dc-1be2-441d-e177-bb9d0df6a1e6"
   },
   "outputs": [
    {
     "name": "stdout",
     "output_type": "stream",
     "text": [
      "stats for the 'russian' language:\n",
      "count    2.943791e+06\n",
      "mean     2.049889e-01\n",
      "std      2.561055e-01\n",
      "min      0.000000e+00\n",
      "25%      0.000000e+00\n",
      "50%      0.000000e+00\n",
      "75%      5.041323e-01\n",
      "max      9.895231e-01\n",
      "Name: weighted_vote_score, dtype: float64\n",
      "\n",
      "stats for the 'chinese' language:\n",
      "count    4.480888e+06\n",
      "mean     1.387438e-01\n",
      "std      2.356145e-01\n",
      "min      0.000000e+00\n",
      "25%      0.000000e+00\n",
      "50%      0.000000e+00\n",
      "75%      4.545455e-01\n",
      "max      9.959868e-01\n",
      "Name: weighted_vote_score, dtype: float64\n"
     ]
    }
   ],
   "source": [
    "s1=df['weighted_vote_score'][df['language'] == 'russian']\n",
    "s2=df['weighted_vote_score'][df['language'] == 'schinese']\n",
    "\n",
    "print(f\"stats for the 'russian' language:\\n{s1.describe()}\")\n",
    "print()\n",
    "print(f\"stats for the 'chinese' language:\\n{s2.describe()}\")"
   ]
  },
  {
   "cell_type": "markdown",
   "metadata": {},
   "source": [
    "This is just an overall view: the two means are quite different (0.205 as average score for russian and 0.139 for chinese). We note that in both cases the first and second quantiles are equal to zero, this means that this is the weighted average score of many reviews. Now we represent the two distributions,without considering the cases in which the score is zero.\n"
   ]
  },
  {
   "cell_type": "code",
   "execution_count": 42,
   "metadata": {},
   "outputs": [
    {
     "data": {
      "text/plain": [
       "(0.0, 150000.0)"
      ]
     },
     "execution_count": 42,
     "metadata": {},
     "output_type": "execute_result"
    },
    {
     "data": {
      "image/png": "[encoded data removed]",
      "text/plain": [
       "<Figure size 360x360 with 1 Axes>"
      ]
     },
     "metadata": {
      "needs_background": "light"
     },
     "output_type": "display_data"
    },
    {
     "data": {
      "image/png": "[encoded data removed]",
      "text/plain": [
       "<Figure size 360x360 with 1 Axes>"
      ]
     },
     "metadata": {
      "needs_background": "light"
     },
     "output_type": "display_data"
    }
   ],
   "source": [
    "z1= s1[s1!=0]\n",
    "z2= s2[s2!=0]\n",
    "z2\n",
    "sns.displot(z1)\n",
    "plt.ylim(0,80000)\n",
    "\n",
    "sns.displot(z2)\n",
    "plt.ylim(0,150000)"
   ]
  },
  {
   "cell_type": "markdown",
   "metadata": {},
   "source": [
    "Since N is very large, we assume to deal with normal distributions (even if in the second case the relative frequency of the average value is too high. Observe that without the zeros the two samples are much more similar."
   ]
  },
  {
   "cell_type": "code",
   "execution_count": 44,
   "metadata": {},
   "outputs": [
    {
     "name": "stdout",
     "output_type": "stream",
     "text": [
      "stats for the NON-ZERO 'russian' language:\n",
      "count    1.163727e+06\n",
      "mean     5.185446e-01\n",
      "std      5.766553e-02\n",
      "min      4.347827e-02\n",
      "25%      4.962406e-01\n",
      "50%      5.223221e-01\n",
      "75%      5.238096e-01\n",
      "max      9.895231e-01\n",
      "Name: weighted_vote_score, dtype: float64\n",
      "\n",
      "stats for the NON-ZERO 'chinese' language:\n",
      "count    1.177939e+06\n",
      "mean     5.277824e-01\n",
      "std      7.647648e-02\n",
      "min      2.384956e-02\n",
      "25%      5.018868e-01\n",
      "50%      5.238096e-01\n",
      "75%      5.275590e-01\n",
      "max      9.959868e-01\n",
      "Name: weighted_vote_score, dtype: float64\n"
     ]
    }
   ],
   "source": [
    "print(f\"stats for the NON-ZERO 'russian' language:\\n{z1.describe()}\")\n",
    "print()\n",
    "print(f\"stats for the NON-ZERO 'chinese' language:\\n{z2.describe()}\")"
   ]
  },
  {
   "cell_type": "markdown",
   "metadata": {},
   "source": [
    "Under this assumption we apply a T-test that is a parametric test used to test for a statistically significant difference in the means between 2 groups. "
   ]
  },
  {
   "cell_type": "code",
   "execution_count": 45,
   "metadata": {},
   "outputs": [
    {
     "name": "stdout",
     "output_type": "stream",
     "text": [
      "                      Welch's t-test       results\n",
      "0  Difference (Russian - Chinese) =  -9.200000e-03\n",
      "1              Degrees of freedom =   2.189774e+06\n",
      "2                               t =  -1.044454e+02\n",
      "3           Two side test p value =   0.000000e+00\n",
      "4          Difference < 0 p value =   0.000000e+00\n",
      "5          Difference > 0 p value =   1.000000e+00\n",
      "6                       Cohen's d =  -1.363000e-01\n",
      "7                       Hedge's g =  -1.363000e-01\n",
      "8                   Glass's delta =  -1.602000e-01\n",
      "9                     Pearson's r =   7.040000e-02\n"
     ]
    }
   ],
   "source": [
    "summary, results = rp.ttest(group1= z1, group1_name= \"Russian\", group2= z2, group2_name= \"Chinese\",  equal_variances= False)\n",
    "#print(summary)\n",
    "print(results)"
   ]
  },
  {
   "cell_type": "markdown",
   "metadata": {},
   "source": [
    "Based on the p-value in the third case, Difference > 0,that is equal to 1, we accept the null hypothesis, so we can say that there is a difference."
   ]
  },
  {
   "cell_type": "markdown",
   "metadata": {},
   "source": [
    "## 8.2) Can you find any significant relationship between the time that a user lets pass before he updates the review and the Weighted Vote Score? Use an appropriate statistical test or technique and support your choice."
   ]
  },
  {
   "cell_type": "markdown",
   "metadata": {},
   "source": [
    "An idea could be fitted a linear regression, where y=W vote score is the dependent variable and the time between creation and update is the predictor."
   ]
  },
  {
   "cell_type": "code",
   "execution_count": 8,
   "metadata": {},
   "outputs": [],
   "source": [
    "from sklearn.model_selection import train_test_split\n",
    "import statsmodels.api as sm\n",
    "import seaborn as sns\n",
    "pd.options.display.float_format = '{:.5f}'.format\n",
    "import warnings\n",
    "warnings.filterwarnings('ignore')\n",
    "import numpy as np"
   ]
  },
  {
   "cell_type": "code",
   "execution_count": 7,
   "metadata": {},
   "outputs": [
    {
     "name": "stderr",
     "output_type": "stream",
     "text": [
      "/Users/alessandro/opt/anaconda3/lib/python3.8/site-packages/pandas/core/generic.py:5516: SettingWithCopyWarning: \n",
      "A value is trying to be set on a copy of a slice from a DataFrame.\n",
      "Try using .loc[row_indexer,col_indexer] = value instead\n",
      "\n",
      "See the caveats in the documentation: https://pandas.pydata.org/pandas-docs/stable/user_guide/indexing.html#returning-a-view-versus-a-copy\n",
      "  self[name] = value\n"
     ]
    }
   ],
   "source": [
    "safe_df = df[df.timestamp_updated.apply(lambda x: not str(x).isalpha())]\n",
    "safe_df.timestamp_created= safe_df.timestamp_created.astype('float').astype('int')\n",
    "safe_df.timestamp_updated = safe_df.timestamp_updated.astype('float').astype('int')"
   ]
  },
  {
   "cell_type": "code",
   "execution_count": 9,
   "metadata": {},
   "outputs": [],
   "source": [
    "y=safe_df[ 'weighted_vote_score'] #dependent var\n",
    "y=np.array(y)\n",
    "t2=safe_df.timestamp_updated - safe_df.timestamp_created\n",
    "t2=np.array(t2)\n",
    "#t2=t2.reshape((-1, 1))"
   ]
  },
  {
   "cell_type": "markdown",
   "metadata": {},
   "source": [
    "Before proceeding we've plotted the two variable and we didn't get a relevant pattern from them"
   ]
  },
  {
   "cell_type": "code",
   "execution_count": 10,
   "metadata": {},
   "outputs": [
    {
     "data": {
      "text/plain": [
       "<matplotlib.collections.PathCollection at 0x7fd9b33c5880>"
      ]
     },
     "execution_count": 10,
     "metadata": {},
     "output_type": "execute_result"
    },
    {
     "data": {
      "image/png": "[encoded data removed]",
      "text/plain": [
       "<Figure size 432x288 with 1 Axes>"
      ]
     },
     "metadata": {
      "needs_background": "light"
     },
     "output_type": "display_data"
    }
   ],
   "source": [
    "plt.scatter(t2, y)"
   ]
  },
  {
   "cell_type": "code",
   "execution_count": 11,
   "metadata": {},
   "outputs": [
    {
     "name": "stdout",
     "output_type": "stream",
     "text": [
      "Training Data Count: 21599990\n",
      "Testing Data Count: 5399998\n"
     ]
    }
   ],
   "source": [
    "X_train, X_test, y_train, y_test = train_test_split(t2, y, test_size = 0.2, random_state = 465)\n",
    "\n",
    "print('Training Data Count: {}'.format(X_train.shape[0]))\n",
    "print('Testing Data Count: {}'.format(X_test.shape[0]))"
   ]
  },
  {
   "cell_type": "code",
   "execution_count": 12,
   "metadata": {},
   "outputs": [
    {
     "data": {
      "text/html": [
       "<table class=\"simpletable\">\n",
       "<caption>OLS Regression Results</caption>\n",
       "<tr>\n",
       "  <th>Dep. Variable:</th>            <td>y</td>        <th>  R-squared:         </th>  <td>   0.000</td> \n",
       "</tr>\n",
       "<tr>\n",
       "  <th>Model:</th>                   <td>OLS</td>       <th>  Adj. R-squared:    </th>  <td>   0.000</td> \n",
       "</tr>\n",
       "<tr>\n",
       "  <th>Method:</th>             <td>Least Squares</td>  <th>  F-statistic:       </th>  <td>   1.466</td> \n",
       "</tr>\n",
       "<tr>\n",
       "  <th>Date:</th>             <td>Fri, 29 Oct 2021</td> <th>  Prob (F-statistic):</th>   <td> 0.226</td>  \n",
       "</tr>\n",
       "<tr>\n",
       "  <th>Time:</th>                 <td>18:38:39</td>     <th>  Log-Likelihood:    </th> <td>2.1080e+05</td>\n",
       "</tr>\n",
       "<tr>\n",
       "  <th>No. Observations:</th>     <td>21599990</td>     <th>  AIC:               </th> <td>-4.216e+05</td>\n",
       "</tr>\n",
       "<tr>\n",
       "  <th>Df Residuals:</th>         <td>21599988</td>     <th>  BIC:               </th> <td>-4.216e+05</td>\n",
       "</tr>\n",
       "<tr>\n",
       "  <th>Df Model:</th>              <td>     1</td>      <th>                     </th>      <td> </td>    \n",
       "</tr>\n",
       "<tr>\n",
       "  <th>Covariance Type:</th>      <td>nonrobust</td>    <th>                     </th>      <td> </td>    \n",
       "</tr>\n",
       "</table>\n",
       "<table class=\"simpletable\">\n",
       "<tr>\n",
       "    <td></td>       <th>coef</th>     <th>std err</th>      <th>t</th>      <th>P>|t|</th>  <th>[0.025</th>    <th>0.975]</th>  \n",
       "</tr>\n",
       "<tr>\n",
       "  <th>const</th> <td>    0.1562</td> <td> 5.58e-05</td> <td> 2798.334</td> <td> 0.000</td> <td>    0.156</td> <td>    0.156</td>\n",
       "</tr>\n",
       "<tr>\n",
       "  <th>x1</th>    <td>-1.757e-11</td> <td> 1.45e-11</td> <td>   -1.211</td> <td> 0.226</td> <td> -4.6e-11</td> <td> 1.09e-11</td>\n",
       "</tr>\n",
       "</table>\n",
       "<table class=\"simpletable\">\n",
       "<tr>\n",
       "  <th>Omnibus:</th>       <td>6675277.269</td> <th>  Durbin-Watson:     </th>  <td>   2.000</td>  \n",
       "</tr>\n",
       "<tr>\n",
       "  <th>Prob(Omnibus):</th>   <td> 0.000</td>    <th>  Jarque-Bera (JB):  </th> <td>4004711.569</td>\n",
       "</tr>\n",
       "<tr>\n",
       "  <th>Skew:</th>            <td> 0.935</td>    <th>  Prob(JB):          </th>  <td>    0.00</td>  \n",
       "</tr>\n",
       "<tr>\n",
       "  <th>Kurtosis:</th>        <td> 2.024</td>    <th>  Cond. No.          </th>  <td>4.16e+06</td>  \n",
       "</tr>\n",
       "</table><br/><br/>Notes:<br/>[1] Standard Errors assume that the covariance matrix of the errors is correctly specified.<br/>[2] The condition number is large, 4.16e+06. This might indicate that there are<br/>strong multicollinearity or other numerical problems."
      ],
      "text/plain": [
       "<class 'statsmodels.iolib.summary.Summary'>\n",
       "\"\"\"\n",
       "                            OLS Regression Results                            \n",
       "==============================================================================\n",
       "Dep. Variable:                      y   R-squared:                       0.000\n",
       "Model:                            OLS   Adj. R-squared:                  0.000\n",
       "Method:                 Least Squares   F-statistic:                     1.466\n",
       "Date:                Fri, 29 Oct 2021   Prob (F-statistic):              0.226\n",
       "Time:                        18:38:39   Log-Likelihood:             2.1080e+05\n",
       "No. Observations:            21599990   AIC:                        -4.216e+05\n",
       "Df Residuals:                21599988   BIC:                        -4.216e+05\n",
       "Df Model:                           1                                         \n",
       "Covariance Type:            nonrobust                                         \n",
       "==============================================================================\n",
       "                 coef    std err          t      P>|t|      [0.025      0.975]\n",
       "------------------------------------------------------------------------------\n",
       "const          0.1562   5.58e-05   2798.334      0.000       0.156       0.156\n",
       "x1         -1.757e-11   1.45e-11     -1.211      0.226    -4.6e-11    1.09e-11\n",
       "==============================================================================\n",
       "Omnibus:                  6675277.269   Durbin-Watson:                   2.000\n",
       "Prob(Omnibus):                  0.000   Jarque-Bera (JB):          4004711.569\n",
       "Skew:                           0.935   Prob(JB):                         0.00\n",
       "Kurtosis:                       2.024   Cond. No.                     4.16e+06\n",
       "==============================================================================\n",
       "\n",
       "Notes:\n",
       "[1] Standard Errors assume that the covariance matrix of the errors is correctly specified.\n",
       "[2] The condition number is large, 4.16e+06. This might indicate that there are\n",
       "strong multicollinearity or other numerical problems.\n",
       "\"\"\""
      ]
     },
     "execution_count": 12,
     "metadata": {},
     "output_type": "execute_result"
    }
   ],
   "source": [
    "\n",
    "X_train = sm.add_constant(X_train)\n",
    "results = sm.OLS(y_train, X_train).fit()\n",
    "results.summary()"
   ]
  },
  {
   "cell_type": "markdown",
   "metadata": {},
   "source": [
    "The square R shows the amount of variance explained by the model. It's something like your model's capabilities. The adjusted R squared is also similar to the R squared, but it only counts statistically significant variables. In our case, they are both zero. The coefficient of x is not statistically significant (p>0.05), and it is so low as to be insignificant. Also graphically we see that the line does not fit well with the model, therefore we cannot say that there is a (linear) relationship-"
   ]
  },
  {
   "cell_type": "code",
   "execution_count": 13,
   "metadata": {},
   "outputs": [
    {
     "data": {
      "image/png": "[encoded data removed]",
      "text/plain": [
       "<Figure size 450x300 with 1 Axes>"
      ]
     },
     "metadata": {
      "needs_background": "light"
     },
     "output_type": "display_data"
    }
   ],
   "source": [
    "X_test = sm.add_constant(X_test)\n",
    "\n",
    "y_preds = results.predict(X_test)\n",
    "\n",
    "plt.figure(dpi = 75)\n",
    "plt.scatter(y_test, y_preds)\n",
    "plt.plot(y_test, y_test, color=\"red\")\n",
    "plt.xlabel(\"Actual Scores\")\n",
    "plt.ylabel(\"Estimated Scores\")\n",
    "plt.title(\"Model: Actual vs Estimated Scores\")\n",
    "plt.show()"
   ]
  },
  {
   "cell_type": "markdown",
   "metadata": {},
   "source": [
    "In order to validate our thesis we're going to do a Pearson test"
   ]
  },
  {
   "cell_type": "code",
   "execution_count": 16,
   "metadata": {},
   "outputs": [
    {
     "name": "stdout",
     "output_type": "stream",
     "text": [
      "correlation coefficient: -0.00027600201001571115\n",
      "p-value: 0.15152996894113635\n"
     ]
    }
   ],
   "source": [
    "coeff_corr , p_value = stats.pearsonr(t2,y)\n",
    "print(f\"correlation coefficient: {coeff_corr}\")\n",
    "print(f\"p-value: {p_value}\")"
   ]
  },
  {
   "cell_type": "markdown",
   "metadata": {},
   "source": [
    "Given that the p-value is bigger than 0.05 we accept the null-hypotesis concluding that doesn't exist a relevant statistical relationship between the variables"
   ]
  },
  {
   "cell_type": "markdown",
   "metadata": {},
   "source": [
    "## 8.3) Is there any change in the relationship of the variables mentioned in the previous literal if you include whether an application is recommended or not in the review? Use an appropriate statistical test or technique and support your choice."
   ]
  },
  {
   "cell_type": "markdown",
   "metadata": {},
   "source": [
    "We again fit a regression adding the variable \"reccomended\" as boolean (False=0,True=1).\n"
   ]
  },
  {
   "cell_type": "code",
   "execution_count": 17,
   "metadata": {},
   "outputs": [],
   "source": [
    "t3=safe_df[df.recommended.notna()]['recommended'].astype(int)\n",
    "t4=t2=(safe_df.timestamp_updated - safe_df.timestamp_created)\n",
    "t4=np.array(t4)\n",
    "X_1=np.vstack([t4,t3])\n",
    "X_1 = X_1.transpose()"
   ]
  },
  {
   "cell_type": "code",
   "execution_count": 18,
   "metadata": {},
   "outputs": [
    {
     "name": "stdout",
     "output_type": "stream",
     "text": [
      "Training Data Count: 21599990\n",
      "Testing Data Count: 5399998\n"
     ]
    }
   ],
   "source": [
    "X1_train, X1_test, y1_train, y1_test = train_test_split(X_1, y, test_size = 0.2, random_state = 465)\n",
    "\n",
    "print('Training Data Count: {}'.format(X_train.shape[0]))\n",
    "print('Testing Data Count: {}'.format(X_test.shape[0]))"
   ]
  },
  {
   "cell_type": "code",
   "execution_count": 19,
   "metadata": {},
   "outputs": [
    {
     "data": {
      "text/html": [
       "<table class=\"simpletable\">\n",
       "<caption>OLS Regression Results</caption>\n",
       "<tr>\n",
       "  <th>Dep. Variable:</th>            <td>y</td>        <th>  R-squared:         </th>  <td>   0.031</td> \n",
       "</tr>\n",
       "<tr>\n",
       "  <th>Model:</th>                   <td>OLS</td>       <th>  Adj. R-squared:    </th>  <td>   0.031</td> \n",
       "</tr>\n",
       "<tr>\n",
       "  <th>Method:</th>             <td>Least Squares</td>  <th>  F-statistic:       </th>  <td>3.496e+05</td>\n",
       "</tr>\n",
       "<tr>\n",
       "  <th>Date:</th>             <td>Fri, 29 Oct 2021</td> <th>  Prob (F-statistic):</th>   <td>  0.00</td>  \n",
       "</tr>\n",
       "<tr>\n",
       "  <th>Time:</th>                 <td>18:40:01</td>     <th>  Log-Likelihood:    </th> <td>5.5485e+05</td>\n",
       "</tr>\n",
       "<tr>\n",
       "  <th>No. Observations:</th>     <td>21599990</td>     <th>  AIC:               </th> <td>-1.110e+06</td>\n",
       "</tr>\n",
       "<tr>\n",
       "  <th>Df Residuals:</th>         <td>21599987</td>     <th>  BIC:               </th> <td>-1.110e+06</td>\n",
       "</tr>\n",
       "<tr>\n",
       "  <th>Df Model:</th>              <td>     2</td>      <th>                     </th>      <td> </td>    \n",
       "</tr>\n",
       "<tr>\n",
       "  <th>Covariance Type:</th>      <td>nonrobust</td>    <th>                     </th>      <td> </td>    \n",
       "</tr>\n",
       "</table>\n",
       "<table class=\"simpletable\">\n",
       "<tr>\n",
       "    <td></td>       <th>coef</th>     <th>std err</th>      <th>t</th>      <th>P>|t|</th>  <th>[0.025</th>    <th>0.975]</th>  \n",
       "</tr>\n",
       "<tr>\n",
       "  <th>const</th> <td>    0.2773</td> <td>    0.000</td> <td> 1790.136</td> <td> 0.000</td> <td>    0.277</td> <td>    0.278</td>\n",
       "</tr>\n",
       "<tr>\n",
       "  <th>x1</th>    <td>-1.924e-11</td> <td> 1.43e-11</td> <td>   -1.348</td> <td> 0.178</td> <td>-4.72e-11</td> <td> 8.74e-12</td>\n",
       "</tr>\n",
       "<tr>\n",
       "  <th>x2</th>    <td>   -0.1360</td> <td>    0.000</td> <td> -836.171</td> <td> 0.000</td> <td>   -0.136</td> <td>   -0.136</td>\n",
       "</tr>\n",
       "</table>\n",
       "<table class=\"simpletable\">\n",
       "<tr>\n",
       "  <th>Omnibus:</th>       <td>4058379.825</td> <th>  Durbin-Watson:     </th>  <td>   2.000</td>  \n",
       "</tr>\n",
       "<tr>\n",
       "  <th>Prob(Omnibus):</th>   <td> 0.000</td>    <th>  Jarque-Bera (JB):  </th> <td>3780306.403</td>\n",
       "</tr>\n",
       "<tr>\n",
       "  <th>Skew:</th>            <td> 0.947</td>    <th>  Prob(JB):          </th>  <td>    0.00</td>  \n",
       "</tr>\n",
       "<tr>\n",
       "  <th>Kurtosis:</th>        <td> 2.215</td>    <th>  Cond. No.          </th>  <td>1.67e+07</td>  \n",
       "</tr>\n",
       "</table><br/><br/>Notes:<br/>[1] Standard Errors assume that the covariance matrix of the errors is correctly specified.<br/>[2] The condition number is large, 1.67e+07. This might indicate that there are<br/>strong multicollinearity or other numerical problems."
      ],
      "text/plain": [
       "<class 'statsmodels.iolib.summary.Summary'>\n",
       "\"\"\"\n",
       "                            OLS Regression Results                            \n",
       "==============================================================================\n",
       "Dep. Variable:                      y   R-squared:                       0.031\n",
       "Model:                            OLS   Adj. R-squared:                  0.031\n",
       "Method:                 Least Squares   F-statistic:                 3.496e+05\n",
       "Date:                Fri, 29 Oct 2021   Prob (F-statistic):               0.00\n",
       "Time:                        18:40:01   Log-Likelihood:             5.5485e+05\n",
       "No. Observations:            21599990   AIC:                        -1.110e+06\n",
       "Df Residuals:                21599987   BIC:                        -1.110e+06\n",
       "Df Model:                           2                                         \n",
       "Covariance Type:            nonrobust                                         \n",
       "==============================================================================\n",
       "                 coef    std err          t      P>|t|      [0.025      0.975]\n",
       "------------------------------------------------------------------------------\n",
       "const          0.2773      0.000   1790.136      0.000       0.277       0.278\n",
       "x1         -1.924e-11   1.43e-11     -1.348      0.178   -4.72e-11    8.74e-12\n",
       "x2            -0.1360      0.000   -836.171      0.000      -0.136      -0.136\n",
       "==============================================================================\n",
       "Omnibus:                  4058379.825   Durbin-Watson:                   2.000\n",
       "Prob(Omnibus):                  0.000   Jarque-Bera (JB):          3780306.403\n",
       "Skew:                           0.947   Prob(JB):                         0.00\n",
       "Kurtosis:                       2.215   Cond. No.                     1.67e+07\n",
       "==============================================================================\n",
       "\n",
       "Notes:\n",
       "[1] Standard Errors assume that the covariance matrix of the errors is correctly specified.\n",
       "[2] The condition number is large, 1.67e+07. This might indicate that there are\n",
       "strong multicollinearity or other numerical problems.\n",
       "\"\"\""
      ]
     },
     "execution_count": 19,
     "metadata": {},
     "output_type": "execute_result"
    }
   ],
   "source": [
    "X1_train = sm.add_constant(X1_train)\n",
    "results1 = sm.OLS(y1_train, X1_train).fit()\n",
    "results1.summary()"
   ]
  },
  {
   "cell_type": "markdown",
   "metadata": {},
   "source": [
    "Surely the R-square value is higher, we have a slightly better model. Only the first variables is stat. significant while the second variable doesn't.<br>\n",
    "Again the time coefficient is very small, even if bigger then the previous case.<br>\n",
    "<br>\n",
    "\n",
    "To sum up we can conclude that **there isn't any change in the relationship of the variables** mentioned in the previous literal even if we include whether an application is recommended or not in the review\n",
    "\n"
   ]
  },
  {
   "cell_type": "markdown",
   "metadata": {},
   "source": [
    "### What are histograms, bar plots, scatterplots and pie charts used for?"
   ]
  },
  {
   "cell_type": "markdown",
   "metadata": {},
   "source": [
    "A histogram is visula representation of the distribution of numerical data usually grouped in bins which a non \n",
    "overlapped series of intervals.\n",
    "A bar chart or bar graph is a chart or graph that presents categorical data with rectangular bars with heights \n",
    "or lengths proportional to the values that they represent.\n",
    "A scatter plot uses dots to represent values for two different numeric variables expressing the relationship that \n",
    "occurs between the two variables.\n",
    "A pie chart is a circular graphic method which is used to illustrate numerical proportion into a group of variables.\n"
   ]
  },
  {
   "cell_type": "markdown",
   "metadata": {},
   "source": [
    "### What insights can you extract from a Box Plot?"
   ]
  },
  {
   "cell_type": "markdown",
   "metadata": {},
   "source": [
    "The box-plot is a graphical representation that can be used to describe the distribution of data through 5 indices: the minimum, the maximum, the median (quantile lev=0.5) and the first and third quartiles.\n",
    "The \"box\" is delimited by the first and third quartiles (so the height is the interquantile difference IQR = q3-q1)and divided inside by the median. The \"whiskers\" are delimited by the minimum and maximum of the values. In this way the data is divided into four intervals with the same number of elements and this shows, for example, if the distribution is symmetric or not. Data that does not fit into the \"whiskers\" are called outliers, they are defined as outside the interval [-IQR,+IQR]."
   ]
  },
  {
   "cell_type": "markdown",
   "metadata": {},
   "source": [
    "# Theoretical Questions"
   ]
  },
  {
   "cell_type": "markdown",
   "metadata": {},
   "source": [
    "# TQ1"
   ]
  },
  {
   "cell_type": "code",
   "execution_count": null,
   "metadata": {},
   "outputs": [],
   "source": [
    "'''\n",
    "We are given the following algorithm.\n",
    "\n",
    "Input: \n",
    "    A: array of length n\n",
    "    k: integers between 1 and n\n",
    "    \n",
    "function alg(A, k):\n",
    "  s <-- a random element of A\n",
    "  set L = [all the elements of A with value <= s]\n",
    "  set R = [all the elements of A with value > s]\n",
    "  r = len(L)\n",
    "  if k == r:\n",
    "    return s\n",
    "  else if k < r:  \n",
    "    return alg(L, k)\n",
    "  else:\n",
    "    return alg(R, k - r)\n",
    "''';\n",
    "import random\n",
    "#IMPLEMENTATION\n",
    "\n",
    "def alg(A, k):\n",
    "    #s= a random element of A\n",
    "    s=random.choice(A)\n",
    "#    print(s)\n",
    "    L = [x for x in A if x<=s]\n",
    "  #  print('L=',L)\n",
    "    R = [x for x in A if x>s]\n",
    "   # print('R=',R)\n",
    "    lung = len(L)\n",
    "    if k == lung:\n",
    "        return s\n",
    "    elif k < lung:  \n",
    "        return alg(L, k)\n",
    "    else:\n",
    "        return alg(R, k - lung)\n"
   ]
  },
  {
   "cell_type": "markdown",
   "metadata": {},
   "source": [
    "### What does the algorithm compute?"
   ]
  },
  {
   "cell_type": "markdown",
   "metadata": {},
   "source": [
    "The algorith find the k smallest element in the Array."
   ]
  },
  {
   "cell_type": "markdown",
   "metadata": {},
   "source": [
    "### What is asymptotically (i.e., we are asking for big-O complexity) the running time of the algorithm in the worst case, as a function of n?"
   ]
  },
  {
   "cell_type": "markdown",
   "metadata": {},
   "source": [
    "The worst case occurs when s=min(A)  and k=len(A).\n",
    "In this situation: $$\\begin{align}T(n) &= n + T(n-1)\\\\&= n + (n-1) + T(n-2)\\\\&= ...\\\\&=   \\sum_{i=0}^{n}(n-i)\\\\&= (\\sum_in - \\sum_i i)\\\\&= ...\\\\&= n^2 - n\\\\&=O(n^2) \\end{align}$$\n",
    "\n",
    "There are degenerate cases where we can not guarantees the convergence of the algorithm:\n",
    "* K=0\n",
    "* s=max(A): the probability is almost 0, but we can not exclude this behaviour\n",
    "* the element we are looking is repeated in the array\n"
   ]
  },
  {
   "cell_type": "markdown",
   "metadata": {},
   "source": [
    "The best case occurs for k=len(L) and the running time is $$ T(n)=1+n+1+1= O(n) $$"
   ]
  },
  {
   "cell_type": "markdown",
   "metadata": {},
   "source": [
    "The medium running time is $$ O(n) $$\n",
    "Given the output of the function below"
   ]
  },
  {
   "cell_type": "code",
   "execution_count": null,
   "metadata": {},
   "outputs": [],
   "source": [
    "def get_exec_metrics(n_loops, a, k):\n",
    "    cum = 0\n",
    "    for _ in range(int(n_loops)):\n",
    "        cum += alg(a, k)\n",
    "    return cum/(len(a)*n_loops), len(a)\n",
    "\n",
    "\n",
    "k=1\n",
    "a = list(set([random.randint(0, 100) for _ in range(50)]))\n",
    "n = len(a)\n",
    "n_coeff, _ = get_exec_metrics(1e5, a, k)\n",
    "print(f\"For k= {k} we have, after 1e5 run, {n_coeff} times n with n= {n}\")\n",
    "    \n",
    "k = n//2\n",
    "n_coeff, _ = get_exec_metrics(1e5, a, k)\n",
    "print(f\"For k= {k} we have, after 1e5 run, {n_coeff} times n with n= {n}\")\n",
    "\n",
    "k = n\n",
    "n_coeff, _ = get_exec_metrics(1e5, a, k)\n",
    "print(f\"For k= {k} we have, after 1e5 run, {n_coeff} times n with n= {n}\")\n"
   ]
  },
  {
   "cell_type": "markdown",
   "metadata": {},
   "source": [
    "# TQ2"
   ]
  },
  {
   "cell_type": "code",
   "execution_count": null,
   "metadata": {},
   "outputs": [],
   "source": [
    "'''\n",
    "You are given the recursive function splitSwap, which accepts an array a, an index i, and a length n.\n",
    "\n",
    "function splitSwap(a, l, n):\n",
    "  if n <= 1:\n",
    "    return\n",
    "  splitSwap(a, l, n/2)\n",
    "  splitSwap(a, l+ n /2, n/2)\n",
    "  swapList(a, l, n)\n",
    "  \n",
    "The subroutine swapList is described here:\n",
    "\n",
    "function swapList(a, l, n):\n",
    "  for i = 0 to n/2:\n",
    "    tmp = a[l + i]\n",
    "    a[l + i] = a[l + n/2 + i]\n",
    "    a[l + n/2 + i] = tmp\n",
    "'''\n",
    "#IMPLEMENTATION\n",
    "\n",
    "\n",
    "def splitSwap(a, l, n, lvl=0):\n",
    "    if n <= 1:\n",
    "        return\n",
    "    indent = '\\t'*lvl\n",
    "    print(f\"{indent}entered at lvl {lvl} with a: {a}\\n\")\n",
    "    splitSwap(a, l, n//2, lvl+1)\n",
    "    splitSwap(a, l+ n//2, n//2, lvl+1)\n",
    "    print(f\"{indent}* a pre_swap: {a}\")\n",
    "    swapList(a, l, n)\n",
    "    print(f\"{indent}* a after_swap: {a}\\n\\n\")\n",
    "\n",
    "\n",
    "def swapList(a, l, n):\n",
    "    # n//2 times we do 3 operations\n",
    "    for i in range(n//2):\n",
    "        tmp = a[l + i]\n",
    "        a[l + i] = a[l + n//2 + i]\n",
    "        a[l + n//2 + i] = tmp\n",
    "    \n",
    "splitSwap([i for i in range(1,9)], 0, 8)\n",
    "\n",
    "\n"
   ]
  },
  {
   "cell_type": "markdown",
   "metadata": {},
   "source": [
    "### How much running time does it take to execute splitSwap(a, 0, n)? (We want a Big O analysis.)"
   ]
  },
  {
   "cell_type": "markdown",
   "metadata": {},
   "source": [
    "$$\\begin{align}T(n) &= \\frac{3n}{2} + 2T(\\frac{3n}{2})\\\\&= \\frac{3n}{2} + 2(\\frac{3n}{2^2} + 2T(\\frac{3n}{2^2}))\\\\&= \\frac{3n}{2} + 2\\frac{3n}{2^2} + 2^2T(\\frac{3n}{2^2})\\\\&= ...\\\\&= 3\\cdot \\sum_{i=1}^{log_2(n)} 2^{i-1} \\frac{n}{2^i}\\\\&= 3\\cdot n \\cdot \\sum_{i=1}^{log_2(n)} 2^{i-1} \\frac{1}{2^i}  = n \\cdot \\frac{3}{2} \\sum_{i=1}^{log_2(n)} 1 \\\\&= n \\cdot \\frac{3}{2} \\cdot log_2(n) = O(n\\cdot log_2(n))\\end{align}$$"
   ]
  },
  {
   "cell_type": "markdown",
   "metadata": {},
   "source": [
    "### What does this algorithm do? Is it optimal? Describe the mechanism of the algorithm in details, we do not want to know only its final result. HINT: Consider the scenario where len(a) and n are numbers that are a power of 2."
   ]
  },
  {
   "cell_type": "markdown",
   "metadata": {},
   "source": [
    "The algorith reverse the subarray starting from the index i untill i+n : as the implementation shows, in every\n",
    "level we swap a subarray of dimension 2^(log2(n)-1-level).\n",
    "\n",
    "So the algorithm works as follow:\n",
    "1) Takes a list *A*, a starting index *l* and a len of the sublist *n*<br>\n",
    "2) Reverses the first $\\frac{n}{2}$ elements of the *A*'s sublist starting from *l* to $l + \\frac{n}{2}$ <br>\n",
    "3) Reverses the second $\\frac{n}{2}$ elements of the *A*'s sublist starting from $l + \\frac{n}{2}$ to $l + n$<br>\n",
    "4) Given that the swapped sublists are in the wrong order we use swapList in order to change the *i-th* element with the $i+\\frac{n}{2}$*-th* one starting from the posizion *l* to the position *l + n*<br>\n",
    "\n",
    "The algorith is not optimal since we can solve the same problem with an algorith with O(n)=n.\n",
    "For example we can consider another array B in which we store the elements of the Array A from the index l+n untill l \n",
    "( step=-1) and then we could copy the elements of B in the positions l untill l+n of A\n"
   ]
  },
  {
   "cell_type": "code",
   "execution_count": null,
   "metadata": {},
   "outputs": [],
   "source": [
    "def another_algorith(A,l,n):\n",
    "    B=[]\n",
    "    for i in range(l+n,l,-1):\n",
    "        B.append(A[i])\n",
    "    for i in range(l,l+n):\n",
    "        A[i]=B[i-l]\n",
    "        "
   ]
  },
  {
   "cell_type": "markdown",
   "metadata": {},
   "source": [
    "# TQ3"
   ]
  },
  {
   "cell_type": "code",
   "execution_count": null,
   "metadata": {},
   "outputs": [],
   "source": [
    "'''\n",
    "In the knapsack problem we are given n objects and each object i has a weight w_i and a value v_i.\n",
    "We are also given a weight budget W. The problem is to select a set of objects with total weight bounded by W \n",
    "that maximized the sum of their values. The following are three natural heuristics:\n",
    "\n",
    "*Order them in increasing order of weight and then visit them sequentially, adding them to the solution \n",
    "as long as the budget is not exceeded\n",
    "\n",
    "*Order them in decreasing order of values, and then visit them sequentially, adding them to the solution \n",
    "if the budget is not exceeded\n",
    "\n",
    "*Order them in decreasing relative value (v_i / w_i), and then visit them sequentially, adding them to the \n",
    "solution if the budget is not exceeded\n",
    "''';"
   ]
  },
  {
   "cell_type": "markdown",
   "metadata": {},
   "source": [
    "### For each of the heuristics, provide a counterexample, that is, an example of a problem instance in which the heuristic fails to provide the optimal solution."
   ]
  },
  {
   "cell_type": "markdown",
   "metadata": {},
   "source": [
    "### First "
   ]
  },
  {
   "cell_type": "markdown",
   "metadata": {},
   "source": [
    "Suppose the existence of two elements A={p=2,v=2}, B={p=1,v=0} and set the weight budget=W=2.\n",
    "If we order the objects in increasing order of weight and then visit them sequentially, adding them to the solution\n",
    "as long as the budget is not exceeded , we will find {B} with a total value of 0.\n",
    "This is not an optimal solution since the solution given by {A} respects the weight costraint \n",
    "and has a total value of 2."
   ]
  },
  {
   "cell_type": "markdown",
   "metadata": {},
   "source": [
    "### Second"
   ]
  },
  {
   "cell_type": "markdown",
   "metadata": {},
   "source": [
    "Suppose the existence of three elements A={v=3,p=3},B={v=2,p=1},C={p=1,v=2} and set the weight budget=3.\n",
    "If we order them in decreasing order of values, and then visit them sequentially, adding them to the \n",
    "solution if the budget is not exceeded, we will find {A} with a total value of 3.\n",
    "This is not an optimal solution since the solution given by {B,C} has a total weight of 2 and a total value of 4.\n"
   ]
  },
  {
   "cell_type": "markdown",
   "metadata": {},
   "source": [
    "### Third"
   ]
  },
  {
   "cell_type": "markdown",
   "metadata": {},
   "source": [
    "Suppose the existence of two elements A={v=2,p=1,v/p=2}, B={v=3,p=3,v/p=1} and set the weight budget=3.\n",
    "If we order them in decreasing relative value (v_i / w_i), and then visit them sequentially, adding them\n",
    "to the solution if the budget is not exceeded, we will find {A} with a total value of 2.\n",
    "This is not an optimal solution since the solution given by {B} respects the weight costraint \n",
    "and has a total value of 3."
   ]
  }
 ],
 "metadata": {
  "colab": {
   "collapsed_sections": [],
   "name": "Untitled0.ipynb",
   "provenance": [],
   "toc_visible": true
  },
  "instance_type": "ml.t3.medium",
  "interpreter": {
   "hash": "2e3f86d80f9d4ea2c2a83e8f7b2349235d41b98d2c2cd154f6179deca092a54d"
  },
  "kernelspec": {
   "display_name": "Python 3.8.8 64-bit ('base': conda)",
   "name": "python3"
  },
  "language_info": {
   "codemirror_mode": {
    "name": "ipython",
    "version": 3
   },
   "file_extension": ".py",
   "mimetype": "text/x-python",
   "name": "python",
   "nbconvert_exporter": "python",
   "pygments_lexer": "ipython3",
   "version": "3.8.8"
  }
 },
 "nbformat": 4,
 "nbformat_minor": 4
}
