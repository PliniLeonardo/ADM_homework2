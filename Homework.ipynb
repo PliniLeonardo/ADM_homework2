{
 "cells": [
  {
   "cell_type": "markdown",
   "metadata": {
    "id": "c0NkNIdOUUHN"
   },
   "source": [
    "# HW2- Steam Reviews\n"
   ]
  },
  {
   "cell_type": "markdown",
   "metadata": {},
   "source": [
    "# Loading the Dataset"
   ]
  },
  {
   "cell_type": "code",
   "execution_count": 1,
   "metadata": {
    "colab": {
     "base_uri": "https://localhost:8080/"
    },
    "executionInfo": {
     "elapsed": 956,
     "status": "ok",
     "timestamp": 1634674196170,
     "user": {
      "displayName": "camilla savarese",
      "photoUrl": "https://lh3.googleusercontent.com/a/default-user=s64",
      "userId": "01187100401107976032"
     },
     "user_tz": -120
    },
    "id": "JKVANiYkZErq",
    "outputId": "dcfef933-0b55-419b-e270-d9b5abc10017"
   },
   "outputs": [],
   "source": [
    "'''\n",
    "from google.colab import drive\n",
    "drive.mount('/content/drive/')\n",
    "''';\n"
   ]
  },
  {
   "cell_type": "markdown",
   "metadata": {
    "id": "moEqNAhjTt2d"
   },
   "source": [
    " This is a dataset of around 21 million user reviews of around 300 different games on Steam: sto importando solo poche righe per lavorarci"
   ]
  },
  {
   "cell_type": "code",
   "execution_count": 2,
   "metadata": {},
   "outputs": [],
   "source": [
    "def read_csv_with_time(path, time_fields, n_rows, usecols=None):\n",
    "    '''\n",
    "      This function reads a csv and returns a dataframe considering only the first n_rows rows\n",
    "      and transforming the indicated time_fields from timestamp(seconds) in datetime objects\n",
    "\n",
    "      Arguments\n",
    "      _________\n",
    "        path: str\n",
    "          The path where the file is located\n",
    "        time_fields: List[str]\n",
    "          A list of the fields to be converted in datetime\n",
    "        n_rows: int\n",
    "          The number of rows to be considered\n",
    "        usecols: List[str]\n",
    "          The list of the columns to be loaded      \n",
    "      Returns\n",
    "      _______\n",
    "        a pandas dataframe containing the processed file\n",
    "    '''\n",
    "    \n",
    "    return pd.read_csv(path, header='infer', nrows=n_rows, \n",
    "        parse_dates= [tf for tf in time_fields], date_parser=lambda x: pd.to_datetime(x, unit='s'), usecols=usecols)\n",
    "\n",
    "def hour_in_range(str_hour, range_hour):\n",
    "    '''\n",
    "      Given a string defining an hour and a range of hour as a tuple of that type of string,\n",
    "      the function assert when the given hour is in the range\n",
    "\n",
    "      Arguments\n",
    "      _________\n",
    "        str_hour: str\n",
    "          in the format HH:MM:SS\n",
    "        range_hour: Tuple(str)\n",
    "          a tuple of string in the form (HH:MM:SS, HH:MM:SS) where the first hour is lower than the second\n",
    "    '''\n",
    "    \n",
    "    min_hour, max_hour = range_hour\n",
    "    assert (hour_comparator(min_hour, max_hour) == -1), \"A range is valid only if the first element is lower than the second\"\n",
    "    return (hour_comparator(str_hour, min_hour) * hour_comparator(max_hour, str_hour)) >=0\n",
    "\n",
    "def hour_comparator(str_h1, str_h2):\n",
    "    '''\n",
    "      Compares two string in the format HH:MM:SS and returns an integer value accordingly with their comparison\n",
    "      \n",
    "      Arguments\n",
    "      __________\n",
    "        str_h1: str\n",
    "          in the format HH:MM:SS\n",
    "        str_h2: str\n",
    "          in the format HH:MM:SS\n",
    "      \n",
    "      Returns\n",
    "      _______\n",
    "        An integer representing the comparison between the given strings:\n",
    "          -1  if the first is less then the second\n",
    "           0  if the dates are the same\n",
    "           1  if the first is greater than the second\n",
    "    '''\n",
    "    hh1, mm1, ss1 = map(int,str_h1.split(':'))\n",
    "    hh2, mm2, ss2 = map(int, str_h2.split(':'))\n",
    "    deltas = [hh1-hh2, mm1-mm2, ss1-ss2]\n",
    "    for d in deltas:\n",
    "        if d>0:\n",
    "            return 1\n",
    "        elif d < 0:\n",
    "            return -1\n",
    "    return 0\n",
    "\n",
    "def get_range_index(str_hour, ranges):\n",
    "    '''\n",
    "      Given a string hour and a list of hour ranges, the function returns the index of the range\n",
    "      to wich the string hour belongs\n",
    "\n",
    "      Arguments\n",
    "      _________\n",
    "        str_hour: str\n",
    "          in the format HH:MM:SS\n",
    "        ranges: List[Tuple(str)]\n",
    "          List containing hour ranges, so list o tuples of string in the form\n",
    "          (HH:MM:SS, HH:MM:SS) where the first hour is lower than the second\n",
    "      \n",
    "      Return\n",
    "      ______\n",
    "        an integer indicating the index of the range where the hour is\n",
    "    '''\n",
    "    for i in range(len(ranges)):\n",
    "        if hour_in_range(str_hour, ranges[i]):\n",
    "            return i\n",
    "    return -1\n",
    "\n",
    "def transform_in_hour_ranges(df, column, ranges):\n",
    "    '''\n",
    "      Given a dataframe convert the given column of datetime to the index of the range in the given list\n",
    "      where the value belongs\n",
    "\n",
    "      Arguments\n",
    "      _________\n",
    "        df: pd.DataFrame\n",
    "        column: str\n",
    "          the name of a Datetime column of the df\n",
    "        ranges: List[Tuple(str)]\n",
    "          List containing hour ranges, so list o tuples of string in the form\n",
    "          (HH:MM:SS, HH:MM:SS) where the first hour is lower than the second\n",
    "\n",
    "      Return\n",
    "      ______\n",
    "        the df with the given column modified\n",
    "\n",
    "    '''\n",
    "    df[column]=df[column].apply(lambda x: get_range_index(x.strftime('%H:%M:%S'), ranges))\n",
    "    return df\n",
    "\n",
    "\n",
    "# REALLY USED:\n",
    "\n",
    "#read_csv_with_time\n",
    "\n",
    "def get_integer_ranges(ranges):\n",
    "    return [(tuple(int(data) for data in x[0].split(':')), tuple(int(data) for data in x[1].split(':'))) for x in ranges]\n",
    "\n",
    "def get_integer_range_index(tuple_hour, integer_ranges):\n",
    "    \n",
    "    for i in range(len(integer_ranges)):\n",
    "        min_r, max_r = integer_ranges[i]\n",
    "        if tuple_hour >= min_r and tuple_hour <= max_r:\n",
    "            return i\n",
    "    return -1"
   ]
  },
  {
   "cell_type": "code",
   "execution_count": 3,
   "metadata": {},
   "outputs": [],
   "source": [
    "#fname = '/content/drive/MyDrive/HW2-ADM/steam_reviews.csv'\n",
    "fname = '/content/drive/MyDrive/HW2-ADM/steam_reviews.csv'\n",
    "ts_created = 'timestamp_created'\n",
    "\n",
    "def_ranges = [('06:00:00', '10:59:59'),\n",
    "('11:00:00', '13:59:59'),\n",
    "('14:00:00', '16:59:59'),\n",
    "('17:00:00', '19:59:59'),\n",
    "('20:00:00', '23:59:59'),\n",
    "('00:00:00', '02:59:59'),\n",
    "('03:00:00', '05:59:59')]"
   ]
  },
  {
   "cell_type": "markdown",
   "metadata": {},
   "source": [
    "### Usefull libraries"
   ]
  },
  {
   "cell_type": "code",
   "execution_count": 4,
   "metadata": {},
   "outputs": [],
   "source": [
    "import pandas as pd\n",
    "import numpy as np  \n",
    "import matplotlib.pyplot as plt\n",
    "\n",
    "  \n"
   ]
  },
  {
   "cell_type": "code",
   "execution_count": 5,
   "metadata": {
    "colab": {
     "base_uri": "https://localhost:8080/",
     "height": 626
    },
    "executionInfo": {
     "elapsed": 66374,
     "status": "ok",
     "timestamp": 1634671082402,
     "user": {
      "displayName": "camilla savarese",
      "photoUrl": "https://lh3.googleusercontent.com/a/default-user=s64",
      "userId": "01187100401107976032"
     },
     "user_tz": -120
    },
    "id": "mqILoTqDZjgz",
    "outputId": "7126ba17-7f37-49a7-f117-9c3e80781211"
   },
   "outputs": [],
   "source": [
    "#df= pd.read_csv('/content/drive/MyDrive/HW2-ADM/steam_reviews.csv',nrows=10000000)\n"
   ]
  },
  {
   "cell_type": "code",
   "execution_count": 6,
   "metadata": {},
   "outputs": [],
   "source": [
    "df=pd.read_csv('steam_reviews.csv',nrows=21000000)"
   ]
  },
  {
   "cell_type": "markdown",
   "metadata": {},
   "source": [
    "# [RQ1]: Exploratory Data Analysis"
   ]
  },
  {
   "cell_type": "code",
   "execution_count": 8,
   "metadata": {},
   "outputs": [],
   "source": [
    "#eliminate duplicates\n",
    "df=df.drop_duplicates(subset=['Unnamed: 0', 'app_id', 'app_name', 'review_id', 'language', 'review',\n",
    "       'timestamp_created', 'timestamp_updated', 'recommended',\n",
    "       'votes_helpful', 'votes_funny', 'weighted_vote_score', 'comment_count',\n",
    "       'steam_purchase', 'received_for_free', 'written_during_early_access',\n",
    "       'author.steamid', 'author.num_games_owned', 'author.num_reviews',\n",
    "       'author.playtime_forever', 'author.playtime_last_two_weeks',\n",
    "       'author.playtime_at_review', 'author.last_played'], keep='first', inplace=False, ignore_index=False)"
   ]
  },
  {
   "cell_type": "code",
   "execution_count": 9,
   "metadata": {},
   "outputs": [
    {
     "name": "stdout",
     "output_type": "stream",
     "text": [
      "<class 'pandas.core.frame.DataFrame'>\n",
      "Int64Index: 21000000 entries, 0 to 20999999\n",
      "Data columns (total 23 columns):\n",
      " #   Column                          Dtype  \n",
      "---  ------                          -----  \n",
      " 0   Unnamed: 0                      int64  \n",
      " 1   app_id                          int64  \n",
      " 2   app_name                        object \n",
      " 3   review_id                       int64  \n",
      " 4   language                        object \n",
      " 5   review                          object \n",
      " 6   timestamp_created               int64  \n",
      " 7   timestamp_updated               int64  \n",
      " 8   recommended                     bool   \n",
      " 9   votes_helpful                   int64  \n",
      " 10  votes_funny                     int64  \n",
      " 11  weighted_vote_score             float64\n",
      " 12  comment_count                   int64  \n",
      " 13  steam_purchase                  bool   \n",
      " 14  received_for_free               bool   \n",
      " 15  written_during_early_access     bool   \n",
      " 16  author.steamid                  int64  \n",
      " 17  author.num_games_owned          int64  \n",
      " 18  author.num_reviews              int64  \n",
      " 19  author.playtime_forever         float64\n",
      " 20  author.playtime_last_two_weeks  float64\n",
      " 21  author.playtime_at_review       float64\n",
      " 22  author.last_played              float64\n",
      "dtypes: bool(4), float64(5), int64(11), object(3)\n",
      "memory usage: 3.2+ GB\n"
     ]
    }
   ],
   "source": [
    "df.info()"
   ]
  },
  {
   "cell_type": "code",
   "execution_count": 10,
   "metadata": {},
   "outputs": [
    {
     "data": {
      "text/html": [
       "<div>\n",
       "<style scoped>\n",
       "    .dataframe tbody tr th:only-of-type {\n",
       "        vertical-align: middle;\n",
       "    }\n",
       "\n",
       "    .dataframe tbody tr th {\n",
       "        vertical-align: top;\n",
       "    }\n",
       "\n",
       "    .dataframe thead th {\n",
       "        text-align: right;\n",
       "    }\n",
       "</style>\n",
       "<table border=\"1\" class=\"dataframe\">\n",
       "  <thead>\n",
       "    <tr style=\"text-align: right;\">\n",
       "      <th></th>\n",
       "      <th>Unnamed: 0</th>\n",
       "      <th>app_id</th>\n",
       "      <th>app_name</th>\n",
       "      <th>review_id</th>\n",
       "      <th>language</th>\n",
       "      <th>review</th>\n",
       "      <th>timestamp_created</th>\n",
       "      <th>timestamp_updated</th>\n",
       "      <th>recommended</th>\n",
       "      <th>votes_helpful</th>\n",
       "      <th>...</th>\n",
       "      <th>steam_purchase</th>\n",
       "      <th>received_for_free</th>\n",
       "      <th>written_during_early_access</th>\n",
       "      <th>author.steamid</th>\n",
       "      <th>author.num_games_owned</th>\n",
       "      <th>author.num_reviews</th>\n",
       "      <th>author.playtime_forever</th>\n",
       "      <th>author.playtime_last_two_weeks</th>\n",
       "      <th>author.playtime_at_review</th>\n",
       "      <th>author.last_played</th>\n",
       "    </tr>\n",
       "  </thead>\n",
       "  <tbody>\n",
       "    <tr>\n",
       "      <th>0</th>\n",
       "      <td>0</td>\n",
       "      <td>292030</td>\n",
       "      <td>The Witcher 3: Wild Hunt</td>\n",
       "      <td>85185598</td>\n",
       "      <td>schinese</td>\n",
       "      <td>不玩此生遗憾，RPG游戏里的天花板，太吸引人了</td>\n",
       "      <td>1611381629</td>\n",
       "      <td>1611381629</td>\n",
       "      <td>True</td>\n",
       "      <td>0</td>\n",
       "      <td>...</td>\n",
       "      <td>True</td>\n",
       "      <td>False</td>\n",
       "      <td>False</td>\n",
       "      <td>76561199095369542</td>\n",
       "      <td>6</td>\n",
       "      <td>2</td>\n",
       "      <td>1909.0</td>\n",
       "      <td>1448.0</td>\n",
       "      <td>1909.0</td>\n",
       "      <td>1.611343e+09</td>\n",
       "    </tr>\n",
       "    <tr>\n",
       "      <th>1</th>\n",
       "      <td>1</td>\n",
       "      <td>292030</td>\n",
       "      <td>The Witcher 3: Wild Hunt</td>\n",
       "      <td>85185250</td>\n",
       "      <td>schinese</td>\n",
       "      <td>拔DIAO无情打桩机--杰洛特!!!</td>\n",
       "      <td>1611381030</td>\n",
       "      <td>1611381030</td>\n",
       "      <td>True</td>\n",
       "      <td>0</td>\n",
       "      <td>...</td>\n",
       "      <td>True</td>\n",
       "      <td>False</td>\n",
       "      <td>False</td>\n",
       "      <td>76561198949504115</td>\n",
       "      <td>30</td>\n",
       "      <td>10</td>\n",
       "      <td>2764.0</td>\n",
       "      <td>2743.0</td>\n",
       "      <td>2674.0</td>\n",
       "      <td>1.611386e+09</td>\n",
       "    </tr>\n",
       "    <tr>\n",
       "      <th>2</th>\n",
       "      <td>2</td>\n",
       "      <td>292030</td>\n",
       "      <td>The Witcher 3: Wild Hunt</td>\n",
       "      <td>85185111</td>\n",
       "      <td>schinese</td>\n",
       "      <td>巫师3NB</td>\n",
       "      <td>1611380800</td>\n",
       "      <td>1611380800</td>\n",
       "      <td>True</td>\n",
       "      <td>0</td>\n",
       "      <td>...</td>\n",
       "      <td>True</td>\n",
       "      <td>False</td>\n",
       "      <td>False</td>\n",
       "      <td>76561199090098988</td>\n",
       "      <td>5</td>\n",
       "      <td>1</td>\n",
       "      <td>1061.0</td>\n",
       "      <td>1061.0</td>\n",
       "      <td>1060.0</td>\n",
       "      <td>1.611384e+09</td>\n",
       "    </tr>\n",
       "  </tbody>\n",
       "</table>\n",
       "<p>3 rows × 23 columns</p>\n",
       "</div>"
      ],
      "text/plain": [
       "   Unnamed: 0  app_id                  app_name  review_id  language  \\\n",
       "0           0  292030  The Witcher 3: Wild Hunt   85185598  schinese   \n",
       "1           1  292030  The Witcher 3: Wild Hunt   85185250  schinese   \n",
       "2           2  292030  The Witcher 3: Wild Hunt   85185111  schinese   \n",
       "\n",
       "                    review  timestamp_created  timestamp_updated  recommended  \\\n",
       "0  不玩此生遗憾，RPG游戏里的天花板，太吸引人了         1611381629         1611381629         True   \n",
       "1       拔DIAO无情打桩机--杰洛特!!!         1611381030         1611381030         True   \n",
       "2                    巫师3NB         1611380800         1611380800         True   \n",
       "\n",
       "   votes_helpful  ...  steam_purchase  received_for_free  \\\n",
       "0              0  ...            True              False   \n",
       "1              0  ...            True              False   \n",
       "2              0  ...            True              False   \n",
       "\n",
       "   written_during_early_access     author.steamid  author.num_games_owned  \\\n",
       "0                        False  76561199095369542                       6   \n",
       "1                        False  76561198949504115                      30   \n",
       "2                        False  76561199090098988                       5   \n",
       "\n",
       "   author.num_reviews  author.playtime_forever  \\\n",
       "0                   2                   1909.0   \n",
       "1                  10                   2764.0   \n",
       "2                   1                   1061.0   \n",
       "\n",
       "   author.playtime_last_two_weeks  author.playtime_at_review  \\\n",
       "0                          1448.0                     1909.0   \n",
       "1                          2743.0                     2674.0   \n",
       "2                          1061.0                     1060.0   \n",
       "\n",
       "   author.last_played  \n",
       "0        1.611343e+09  \n",
       "1        1.611386e+09  \n",
       "2        1.611384e+09  \n",
       "\n",
       "[3 rows x 23 columns]"
      ]
     },
     "execution_count": 10,
     "metadata": {},
     "output_type": "execute_result"
    }
   ],
   "source": [
    "df.head(3)"
   ]
  },
  {
   "cell_type": "code",
   "execution_count": 11,
   "metadata": {},
   "outputs": [
    {
     "name": "stdout",
     "output_type": "stream",
     "text": [
      "<class 'pandas.core.frame.DataFrame'>\n",
      "Int64Index: 21000000 entries, 0 to 20999999\n",
      "Data columns (total 23 columns):\n",
      " #   Column                          Dtype  \n",
      "---  ------                          -----  \n",
      " 0   Unnamed: 0                      int64  \n",
      " 1   app_id                          int64  \n",
      " 2   app_name                        object \n",
      " 3   review_id                       int64  \n",
      " 4   language                        object \n",
      " 5   review                          object \n",
      " 6   timestamp_created               int64  \n",
      " 7   timestamp_updated               int64  \n",
      " 8   recommended                     bool   \n",
      " 9   votes_helpful                   int64  \n",
      " 10  votes_funny                     int64  \n",
      " 11  weighted_vote_score             float64\n",
      " 12  comment_count                   int64  \n",
      " 13  steam_purchase                  bool   \n",
      " 14  received_for_free               bool   \n",
      " 15  written_during_early_access     bool   \n",
      " 16  author.steamid                  int64  \n",
      " 17  author.num_games_owned          int64  \n",
      " 18  author.num_reviews              int64  \n",
      " 19  author.playtime_forever         float64\n",
      " 20  author.playtime_last_two_weeks  float64\n",
      " 21  author.playtime_at_review       float64\n",
      " 22  author.last_played              float64\n",
      "dtypes: bool(4), float64(5), int64(11), object(3)\n",
      "memory usage: 3.2+ GB\n"
     ]
    }
   ],
   "source": [
    "df.info()"
   ]
  },
  {
   "cell_type": "markdown",
   "metadata": {
    "id": "izowx8OkauCN"
   },
   "source": [
    "We can see that there are 23 columns, 8 integer,5 decimal, 4 boolean and 6 of other type.\n",
    "The first one 'Unnamed' can be consider just like an index.\n"
   ]
  },
  {
   "cell_type": "code",
   "execution_count": 12,
   "metadata": {
    "colab": {
     "base_uri": "https://localhost:8080/"
    },
    "executionInfo": {
     "elapsed": 2263,
     "status": "ok",
     "timestamp": 1634244260432,
     "user": {
      "displayName": "camilla savarese",
      "photoUrl": "https://lh3.googleusercontent.com/a/default-user=s64",
      "userId": "01187100401107976032"
     },
     "user_tz": -120
    },
    "id": "iDgrdzC-bEVA",
    "outputId": "68a23256-d05a-463e-8c21-a17b723c1da2"
   },
   "outputs": [
    {
     "data": {
      "text/plain": [
       "Unnamed: 0                            0\n",
       "app_id                                0\n",
       "app_name                              0\n",
       "review_id                             0\n",
       "language                              0\n",
       "review                            32723\n",
       "timestamp_created                     0\n",
       "timestamp_updated                     0\n",
       "recommended                           0\n",
       "votes_helpful                         0\n",
       "votes_funny                           0\n",
       "weighted_vote_score                   0\n",
       "comment_count                         0\n",
       "steam_purchase                        0\n",
       "received_for_free                     0\n",
       "written_during_early_access           0\n",
       "author.steamid                        0\n",
       "author.num_games_owned                0\n",
       "author.num_reviews                    0\n",
       "author.playtime_forever               2\n",
       "author.playtime_last_two_weeks        2\n",
       "author.playtime_at_review         24613\n",
       "author.last_played                    2\n",
       "dtype: int64"
      ]
     },
     "execution_count": 12,
     "metadata": {},
     "output_type": "execute_result"
    }
   ],
   "source": [
    "df.isnull().sum()"
   ]
  },
  {
   "cell_type": "markdown",
   "metadata": {
    "id": "pUbzJQE8duEQ"
   },
   "source": [
    "It appears that the variables with missing values ​​are: 'review' (which contains the text itself) with 32723 null values , 'author.playtime_at_review' (Author playtime of reviewed app at time of review) with 24613 null values .\n",
    "We should neglect other variables such as'author.playtime_forever','author.playtime_last_two_weeks', 'author.last_played ' since they have just 2 null values."
   ]
  },
  {
   "cell_type": "code",
   "execution_count": 13,
   "metadata": {
    "id": "CnK32w4ceJ5h"
   },
   "outputs": [
    {
     "data": {
      "text/html": [
       "<div>\n",
       "<style scoped>\n",
       "    .dataframe tbody tr th:only-of-type {\n",
       "        vertical-align: middle;\n",
       "    }\n",
       "\n",
       "    .dataframe tbody tr th {\n",
       "        vertical-align: top;\n",
       "    }\n",
       "\n",
       "    .dataframe thead th {\n",
       "        text-align: right;\n",
       "    }\n",
       "</style>\n",
       "<table border=\"1\" class=\"dataframe\">\n",
       "  <thead>\n",
       "    <tr style=\"text-align: right;\">\n",
       "      <th></th>\n",
       "      <th>Unnamed: 0</th>\n",
       "      <th>app_id</th>\n",
       "      <th>review_id</th>\n",
       "      <th>timestamp_created</th>\n",
       "      <th>timestamp_updated</th>\n",
       "      <th>votes_helpful</th>\n",
       "      <th>votes_funny</th>\n",
       "      <th>weighted_vote_score</th>\n",
       "      <th>comment_count</th>\n",
       "      <th>author.steamid</th>\n",
       "      <th>author.num_games_owned</th>\n",
       "      <th>author.num_reviews</th>\n",
       "      <th>author.playtime_forever</th>\n",
       "      <th>author.playtime_last_two_weeks</th>\n",
       "      <th>author.playtime_at_review</th>\n",
       "      <th>author.last_played</th>\n",
       "    </tr>\n",
       "  </thead>\n",
       "  <tbody>\n",
       "    <tr>\n",
       "      <th>count</th>\n",
       "      <td>2.100000e+07</td>\n",
       "      <td>2.100000e+07</td>\n",
       "      <td>2.100000e+07</td>\n",
       "      <td>2.100000e+07</td>\n",
       "      <td>2.100000e+07</td>\n",
       "      <td>2.100000e+07</td>\n",
       "      <td>2.100000e+07</td>\n",
       "      <td>2.100000e+07</td>\n",
       "      <td>2.100000e+07</td>\n",
       "      <td>2.100000e+07</td>\n",
       "      <td>2.100000e+07</td>\n",
       "      <td>2.100000e+07</td>\n",
       "      <td>2.100000e+07</td>\n",
       "      <td>2.100000e+07</td>\n",
       "      <td>2.097539e+07</td>\n",
       "      <td>2.100000e+07</td>\n",
       "    </tr>\n",
       "    <tr>\n",
       "      <th>mean</th>\n",
       "      <td>1.050000e+07</td>\n",
       "      <td>3.933107e+05</td>\n",
       "      <td>5.184448e+07</td>\n",
       "      <td>1.544266e+09</td>\n",
       "      <td>1.547413e+09</td>\n",
       "      <td>4.188634e+05</td>\n",
       "      <td>1.233277e+05</td>\n",
       "      <td>1.644730e-01</td>\n",
       "      <td>1.290070e-01</td>\n",
       "      <td>7.656120e+16</td>\n",
       "      <td>8.378542e+05</td>\n",
       "      <td>4.188720e+05</td>\n",
       "      <td>1.618500e+04</td>\n",
       "      <td>1.565209e+02</td>\n",
       "      <td>8.860332e+03</td>\n",
       "      <td>1.580610e+09</td>\n",
       "    </tr>\n",
       "    <tr>\n",
       "      <th>std</th>\n",
       "      <td>6.062179e+06</td>\n",
       "      <td>2.512337e+05</td>\n",
       "      <td>2.092036e+07</td>\n",
       "      <td>5.845833e+07</td>\n",
       "      <td>5.722549e+07</td>\n",
       "      <td>1.357267e+09</td>\n",
       "      <td>2.301456e+07</td>\n",
       "      <td>2.429326e-01</td>\n",
       "      <td>2.214634e+00</td>\n",
       "      <td>3.187874e+08</td>\n",
       "      <td>1.919465e+09</td>\n",
       "      <td>1.357267e+09</td>\n",
       "      <td>3.708477e+04</td>\n",
       "      <td>7.302709e+02</td>\n",
       "      <td>2.368929e+04</td>\n",
       "      <td>4.704116e+07</td>\n",
       "    </tr>\n",
       "    <tr>\n",
       "      <th>min</th>\n",
       "      <td>0.000000e+00</td>\n",
       "      <td>7.000000e+01</td>\n",
       "      <td>4.300000e+01</td>\n",
       "      <td>1.290198e+09</td>\n",
       "      <td>1.290198e+09</td>\n",
       "      <td>0.000000e+00</td>\n",
       "      <td>0.000000e+00</td>\n",
       "      <td>0.000000e+00</td>\n",
       "      <td>0.000000e+00</td>\n",
       "      <td>7.656120e+16</td>\n",
       "      <td>0.000000e+00</td>\n",
       "      <td>1.000000e+00</td>\n",
       "      <td>0.000000e+00</td>\n",
       "      <td>0.000000e+00</td>\n",
       "      <td>1.000000e+00</td>\n",
       "      <td>0.000000e+00</td>\n",
       "    </tr>\n",
       "    <tr>\n",
       "      <th>25%</th>\n",
       "      <td>5.250001e+06</td>\n",
       "      <td>2.427600e+05</td>\n",
       "      <td>3.636986e+07</td>\n",
       "      <td>1.510125e+09</td>\n",
       "      <td>1.511727e+09</td>\n",
       "      <td>0.000000e+00</td>\n",
       "      <td>0.000000e+00</td>\n",
       "      <td>0.000000e+00</td>\n",
       "      <td>0.000000e+00</td>\n",
       "      <td>7.656120e+16</td>\n",
       "      <td>2.100000e+01</td>\n",
       "      <td>2.000000e+00</td>\n",
       "      <td>1.273000e+03</td>\n",
       "      <td>0.000000e+00</td>\n",
       "      <td>5.650000e+02</td>\n",
       "      <td>1.573863e+09</td>\n",
       "    </tr>\n",
       "    <tr>\n",
       "      <th>50%</th>\n",
       "      <td>1.050000e+07</td>\n",
       "      <td>3.561900e+05</td>\n",
       "      <td>5.386405e+07</td>\n",
       "      <td>1.562465e+09</td>\n",
       "      <td>1.572377e+09</td>\n",
       "      <td>0.000000e+00</td>\n",
       "      <td>0.000000e+00</td>\n",
       "      <td>0.000000e+00</td>\n",
       "      <td>0.000000e+00</td>\n",
       "      <td>7.656120e+16</td>\n",
       "      <td>6.000000e+01</td>\n",
       "      <td>4.000000e+00</td>\n",
       "      <td>4.429000e+03</td>\n",
       "      <td>0.000000e+00</td>\n",
       "      <td>1.914000e+03</td>\n",
       "      <td>1.599307e+09</td>\n",
       "    </tr>\n",
       "    <tr>\n",
       "      <th>75%</th>\n",
       "      <td>1.575000e+07</td>\n",
       "      <td>5.780800e+05</td>\n",
       "      <td>6.934124e+07</td>\n",
       "      <td>1.589767e+09</td>\n",
       "      <td>1.591505e+09</td>\n",
       "      <td>1.000000e+00</td>\n",
       "      <td>0.000000e+00</td>\n",
       "      <td>4.819604e-01</td>\n",
       "      <td>0.000000e+00</td>\n",
       "      <td>7.656120e+16</td>\n",
       "      <td>1.440000e+02</td>\n",
       "      <td>1.000000e+01</td>\n",
       "      <td>1.523900e+04</td>\n",
       "      <td>0.000000e+00</td>\n",
       "      <td>6.980000e+03</td>\n",
       "      <td>1.609037e+09</td>\n",
       "    </tr>\n",
       "    <tr>\n",
       "      <th>max</th>\n",
       "      <td>2.100000e+07</td>\n",
       "      <td>1.291340e+06</td>\n",
       "      <td>8.521867e+07</td>\n",
       "      <td>1.611426e+09</td>\n",
       "      <td>2.283383e+09</td>\n",
       "      <td>4.398047e+12</td>\n",
       "      <td>4.294967e+09</td>\n",
       "      <td>9.959868e-01</td>\n",
       "      <td>4.893000e+03</td>\n",
       "      <td>7.656120e+16</td>\n",
       "      <td>4.398047e+12</td>\n",
       "      <td>4.398047e+12</td>\n",
       "      <td>3.744943e+06</td>\n",
       "      <td>2.703900e+04</td>\n",
       "      <td>3.228103e+06</td>\n",
       "      <td>1.611430e+09</td>\n",
       "    </tr>\n",
       "  </tbody>\n",
       "</table>\n",
       "</div>"
      ],
      "text/plain": [
       "         Unnamed: 0        app_id     review_id  timestamp_created  \\\n",
       "count  2.100000e+07  2.100000e+07  2.100000e+07       2.100000e+07   \n",
       "mean   1.050000e+07  3.933107e+05  5.184448e+07       1.544266e+09   \n",
       "std    6.062179e+06  2.512337e+05  2.092036e+07       5.845833e+07   \n",
       "min    0.000000e+00  7.000000e+01  4.300000e+01       1.290198e+09   \n",
       "25%    5.250001e+06  2.427600e+05  3.636986e+07       1.510125e+09   \n",
       "50%    1.050000e+07  3.561900e+05  5.386405e+07       1.562465e+09   \n",
       "75%    1.575000e+07  5.780800e+05  6.934124e+07       1.589767e+09   \n",
       "max    2.100000e+07  1.291340e+06  8.521867e+07       1.611426e+09   \n",
       "\n",
       "       timestamp_updated  votes_helpful   votes_funny  weighted_vote_score  \\\n",
       "count       2.100000e+07   2.100000e+07  2.100000e+07         2.100000e+07   \n",
       "mean        1.547413e+09   4.188634e+05  1.233277e+05         1.644730e-01   \n",
       "std         5.722549e+07   1.357267e+09  2.301456e+07         2.429326e-01   \n",
       "min         1.290198e+09   0.000000e+00  0.000000e+00         0.000000e+00   \n",
       "25%         1.511727e+09   0.000000e+00  0.000000e+00         0.000000e+00   \n",
       "50%         1.572377e+09   0.000000e+00  0.000000e+00         0.000000e+00   \n",
       "75%         1.591505e+09   1.000000e+00  0.000000e+00         4.819604e-01   \n",
       "max         2.283383e+09   4.398047e+12  4.294967e+09         9.959868e-01   \n",
       "\n",
       "       comment_count  author.steamid  author.num_games_owned  \\\n",
       "count   2.100000e+07    2.100000e+07            2.100000e+07   \n",
       "mean    1.290070e-01    7.656120e+16            8.378542e+05   \n",
       "std     2.214634e+00    3.187874e+08            1.919465e+09   \n",
       "min     0.000000e+00    7.656120e+16            0.000000e+00   \n",
       "25%     0.000000e+00    7.656120e+16            2.100000e+01   \n",
       "50%     0.000000e+00    7.656120e+16            6.000000e+01   \n",
       "75%     0.000000e+00    7.656120e+16            1.440000e+02   \n",
       "max     4.893000e+03    7.656120e+16            4.398047e+12   \n",
       "\n",
       "       author.num_reviews  author.playtime_forever  \\\n",
       "count        2.100000e+07             2.100000e+07   \n",
       "mean         4.188720e+05             1.618500e+04   \n",
       "std          1.357267e+09             3.708477e+04   \n",
       "min          1.000000e+00             0.000000e+00   \n",
       "25%          2.000000e+00             1.273000e+03   \n",
       "50%          4.000000e+00             4.429000e+03   \n",
       "75%          1.000000e+01             1.523900e+04   \n",
       "max          4.398047e+12             3.744943e+06   \n",
       "\n",
       "       author.playtime_last_two_weeks  author.playtime_at_review  \\\n",
       "count                    2.100000e+07               2.097539e+07   \n",
       "mean                     1.565209e+02               8.860332e+03   \n",
       "std                      7.302709e+02               2.368929e+04   \n",
       "min                      0.000000e+00               1.000000e+00   \n",
       "25%                      0.000000e+00               5.650000e+02   \n",
       "50%                      0.000000e+00               1.914000e+03   \n",
       "75%                      0.000000e+00               6.980000e+03   \n",
       "max                      2.703900e+04               3.228103e+06   \n",
       "\n",
       "       author.last_played  \n",
       "count        2.100000e+07  \n",
       "mean         1.580610e+09  \n",
       "std          4.704116e+07  \n",
       "min          0.000000e+00  \n",
       "25%          1.573863e+09  \n",
       "50%          1.599307e+09  \n",
       "75%          1.609037e+09  \n",
       "max          1.611430e+09  "
      ]
     },
     "execution_count": 13,
     "metadata": {},
     "output_type": "execute_result"
    }
   ],
   "source": [
    "df.describe()"
   ]
  },
  {
   "cell_type": "markdown",
   "metadata": {},
   "source": [
    "We obtain a general overview of hour numerical variables with some of the most important statistical features:\n",
    "for example, weighted_vote_score seems to have a small average velue justified by the presence of a large number of 0 (the second quantile is 0).\n",
    "Another important variable is represented by author.num_reviews which provides a general indication of the fruition of \n",
    "the platform: there is a strong asymmetric distribution among the data and we could understand from the minumun, the quantiles and the maximun that a large number of people had made a very small number of reviews while , on the other hand, an extra small group provided an incredible amount of opinions.\n"
   ]
  },
  {
   "cell_type": "code",
   "execution_count": 14,
   "metadata": {},
   "outputs": [],
   "source": [
    "import seaborn as sns"
   ]
  },
  {
   "cell_type": "code",
   "execution_count": 15,
   "metadata": {
    "scrolled": false
   },
   "outputs": [
    {
     "data": {
      "text/plain": [
       "<AxesSubplot:>"
      ]
     },
     "execution_count": 15,
     "metadata": {},
     "output_type": "execute_result"
    },
    {
     "data": {
      "image/png": "[encoded data removed]",
      "text/plain": [
       "<Figure size 1080x1080 with 2 Axes>"
      ]
     },
     "metadata": {
      "needs_background": "light"
     },
     "output_type": "display_data"
    }
   ],
   "source": [
    "#seaborn.heatmap(df)\n",
    "df_kor = df.corr()\n",
    "plt.figure(figsize=(15,15))\n",
    "sns.heatmap(df_kor, vmin=-1, vmax=1, cmap=\"viridis\", annot=True, linewidth=0.1)\n",
    "\n"
   ]
  },
  {
   "cell_type": "markdown",
   "metadata": {},
   "source": [
    "We see that there is a positive correlation (0.96) between the variables timestamp_created and timestamp_update and this is not \n",
    "surprising because most of the people never update their review ( most of the values stay the same).\n",
    "It is also easy to understand the high correlation (0.83 ) between author.playtime_at_review and author.playtime_forever \n",
    "since the variable are the same untill the moment of the review.\n",
    "For what concerns negative correlation, there is not any remarkable relationship."
   ]
  },
  {
   "cell_type": "markdown",
   "metadata": {
    "id": "MDUD-6R9gfFn"
   },
   "source": [
    "Now let's focus on the variables that we consider more interesting. We start with app_name."
   ]
  },
  {
   "cell_type": "code",
   "execution_count": 16,
   "metadata": {
    "scrolled": true
   },
   "outputs": [
    {
     "data": {
      "text/html": [
       "<div>\n",
       "<style scoped>\n",
       "    .dataframe tbody tr th:only-of-type {\n",
       "        vertical-align: middle;\n",
       "    }\n",
       "\n",
       "    .dataframe tbody tr th {\n",
       "        vertical-align: top;\n",
       "    }\n",
       "\n",
       "    .dataframe thead th {\n",
       "        text-align: right;\n",
       "    }\n",
       "</style>\n",
       "<table border=\"1\" class=\"dataframe\">\n",
       "  <thead>\n",
       "    <tr style=\"text-align: right;\">\n",
       "      <th></th>\n",
       "      <th>Occurences</th>\n",
       "    </tr>\n",
       "    <tr>\n",
       "      <th>app_name</th>\n",
       "      <th></th>\n",
       "    </tr>\n",
       "  </thead>\n",
       "  <tbody>\n",
       "    <tr>\n",
       "      <th>PLAYERUNKNOWN'S BATTLEGROUNDS</th>\n",
       "      <td>1644255</td>\n",
       "    </tr>\n",
       "    <tr>\n",
       "      <th>Grand Theft Auto V</th>\n",
       "      <td>1019116</td>\n",
       "    </tr>\n",
       "    <tr>\n",
       "      <th>Tom Clancy's Rainbow Six Siege</th>\n",
       "      <td>841918</td>\n",
       "    </tr>\n",
       "    <tr>\n",
       "      <th>Terraria</th>\n",
       "      <td>672815</td>\n",
       "    </tr>\n",
       "    <tr>\n",
       "      <th>Garry's Mod</th>\n",
       "      <td>655524</td>\n",
       "    </tr>\n",
       "    <tr>\n",
       "      <th>Rust</th>\n",
       "      <td>549074</td>\n",
       "    </tr>\n",
       "    <tr>\n",
       "      <th>Rocket League</th>\n",
       "      <td>498565</td>\n",
       "    </tr>\n",
       "    <tr>\n",
       "      <th>PAYDAY 2</th>\n",
       "      <td>487747</td>\n",
       "    </tr>\n",
       "    <tr>\n",
       "      <th>Among Us</th>\n",
       "      <td>485293</td>\n",
       "    </tr>\n",
       "    <tr>\n",
       "      <th>The Witcher 3: Wild Hunt</th>\n",
       "      <td>469395</td>\n",
       "    </tr>\n",
       "  </tbody>\n",
       "</table>\n",
       "</div>"
      ],
      "text/plain": [
       "                                Occurences\n",
       "app_name                                  \n",
       "PLAYERUNKNOWN'S BATTLEGROUNDS      1644255\n",
       "Grand Theft Auto V                 1019116\n",
       "Tom Clancy's Rainbow Six Siege      841918\n",
       "Terraria                            672815\n",
       "Garry's Mod                         655524\n",
       "Rust                                549074\n",
       "Rocket League                       498565\n",
       "PAYDAY 2                            487747\n",
       "Among Us                            485293\n",
       "The Witcher 3: Wild Hunt            469395"
      ]
     },
     "execution_count": 16,
     "metadata": {},
     "output_type": "execute_result"
    }
   ],
   "source": [
    "#App_name LEO\n",
    "\n",
    "\n",
    "df_new=df[['app_name']]\n",
    "grp = df_new.groupby('app_name').size()\n",
    "\n",
    "app_names=grp.sort_values(ascending=False)\n",
    "app_names=pd.DataFrame(app_names)\n",
    "app_names.columns=['Occurences']\n",
    "app_names[:10]\n",
    "\n",
    "\n"
   ]
  },
  {
   "cell_type": "code",
   "execution_count": 17,
   "metadata": {},
   "outputs": [
    {
     "data": {
      "text/plain": [
       "<AxesSubplot:ylabel='Occurences'>"
      ]
     },
     "execution_count": 17,
     "metadata": {},
     "output_type": "execute_result"
    },
    {
     "data": {
      "image/png": "[encoded data removed]",
      "text/plain": [
       "<Figure size 432x288 with 1 Axes>"
      ]
     },
     "metadata": {},
     "output_type": "display_data"
    }
   ],
   "source": [
    "result=app_names['Occurences'][:10]\n",
    "result.plot.pie()\n"
   ]
  },
  {
   "cell_type": "code",
   "execution_count": 62,
   "metadata": {
    "scrolled": true
   },
   "outputs": [
    {
     "data": {
      "image/png": "[encoded data removed]",
      "text/plain": [
       "<Figure size 360x360 with 1 Axes>"
      ]
     },
     "metadata": {
      "needs_background": "light"
     },
     "output_type": "display_data"
    }
   ],
   "source": [
    "app_names.head(10).plot.bar( figsize=(5,5),\n",
    "                            colormap = 'Pastel2', rot = 90, title = 'Numbers of apps',\n",
    "                            xlabel = \"App's name\", ylabel = 'Occurencies')\n",
    "plt.show()"
   ]
  },
  {
   "cell_type": "code",
   "execution_count": 19,
   "metadata": {
    "colab": {
     "base_uri": "https://localhost:8080/"
    },
    "executionInfo": {
     "elapsed": 1320,
     "status": "ok",
     "timestamp": 1634496691952,
     "user": {
      "displayName": "camilla savarese",
      "photoUrl": "https://lh3.googleusercontent.com/a/default-user=s64",
      "userId": "01187100401107976032"
     },
     "user_tz": -120
    },
    "id": "zOfRbQ8Lgm2W",
    "outputId": "662ffff6-3c82-4639-ac95-5a2243645f31"
   },
   "outputs": [],
   "source": [
    "#App_name\n",
    "'''\n",
    "\n",
    "#x=df[\"app_name\"].value_counts(normalize=True) #in percentuale le diverse app recensite\n",
    "#names=df[\"app_name\"].unique() #nomi app\n",
    "#print(names)\n",
    "\n",
    "label=app_names['app_name'][:]\n",
    "\n",
    "x_1=app_names['Occurences'][:]\n",
    "x_1\n",
    "#print(x_1)\n",
    "\n",
    "#Grafico a torta\n",
    "\n",
    "#x.plot.pie() #labels=label)\n",
    "#plt.show()\n",
    "\n",
    "''';"
   ]
  },
  {
   "cell_type": "markdown",
   "metadata": {
    "id": "WqkY2fa_h1Ug"
   },
   "source": [
    "In total there are 315 different apps, the most common are: PLAYERUNKNOWN'S BATTLEGROUNDS (8%),Grand Theft Auto V (5%) and.. (bo va visto sui dati tot).\n"
   ]
  },
  {
   "cell_type": "markdown",
   "metadata": {
    "id": "u6Giqz-mmWbJ"
   },
   "source": [
    "Now we consider the language. The most common are..."
   ]
  },
  {
   "cell_type": "code",
   "execution_count": 67,
   "metadata": {
    "colab": {
     "base_uri": "https://localhost:8080/",
     "height": 828
    },
    "executionInfo": {
     "elapsed": 1387,
     "status": "ok",
     "timestamp": 1634497634244,
     "user": {
      "displayName": "camilla savarese",
      "photoUrl": "https://lh3.googleusercontent.com/a/default-user=s64",
      "userId": "01187100401107976032"
     },
     "user_tz": -120
    },
    "id": "lQURMq01mb1x",
    "outputId": "8a888d2d-c7c3-43cd-b94d-85a42ca10efb"
   },
   "outputs": [
    {
     "data": {
      "image/png": "[encoded data removed]",
      "text/plain": [
       "<Figure size 360x360 with 1 Axes>"
      ]
     },
     "metadata": {
      "needs_background": "light"
     },
     "output_type": "display_data"
    }
   ],
   "source": [
    "result=df[\"language\"].value_counts(normalize=True)\n",
    "result.head(20).plot.bar( figsize=(5,5),\n",
    "                            colormap = 'Pastel2', rot = 90, title = 'Numbers of apps',\n",
    "                            xlabel = \"App's name\", ylabel = 'Occurencies')\n",
    "'''\n",
    "data=[0.46,0.14,0.11]\n",
    "labels = ['english', 'chinese', 'russian']\n",
    "plt.xticks([1,2,3], labels)\n",
    "plt.xlabel('Language')\n",
    "plt.ylabel('Percentage')\n",
    "plt.title(\"Language's barplot\")\n",
    "plt.bar([1,2,3], data)\n",
    "plt.grid(color='#95a5a6', linestyle='--', linewidth=2, axis='y', alpha=0.7)\n",
    "plt.ylim(0.0,1)\n",
    "plt.show()\n",
    "''';\n"
   ]
  },
  {
   "cell_type": "markdown",
   "metadata": {
    "id": "O-tEMm6YpzN6"
   },
   "source": [
    "Recommended and steam_purchase \n",
    "We observe that 92% of review authors recommend the app and 78% of them purchased the app on Steam. But only 72% of the authors give a positive opinion and then actually buy the app."
   ]
  },
  {
   "cell_type": "code",
   "execution_count": 70,
   "metadata": {
    "colab": {
     "base_uri": "https://localhost:8080/"
    },
    "executionInfo": {
     "elapsed": 1563,
     "status": "ok",
     "timestamp": 1634499541495,
     "user": {
      "displayName": "camilla savarese",
      "photoUrl": "https://lh3.googleusercontent.com/a/default-user=s64",
      "userId": "01187100401107976032"
     },
     "user_tz": -120
    },
    "id": "pa0iP7e8resC",
    "outputId": "c9098695-ec19-4e49-a0a4-12ee2924d5a1"
   },
   "outputs": [
    {
     "name": "stdout",
     "output_type": "stream",
     "text": [
      "True     0.874312\n",
      "False    0.125688\n",
      "Name: recommended, dtype: float64\n",
      "\n",
      "True     0.773506\n",
      "False    0.226494\n",
      "Name: steam_purchase, dtype: float64\n",
      "0.6761325714285714\n"
     ]
    }
   ],
   "source": [
    "print(df[\"recommended\"].value_counts(normalize=True))\n",
    "print()\n",
    "\n",
    "print(df[\"steam_purchase\"].value_counts(normalize=True))\n",
    "\n",
    "print(len(df[  (df.recommended == True) &(df.steam_purchase == True)  ])/ len(df['recommended']))"
   ]
  },
  {
   "cell_type": "markdown",
   "metadata": {
    "id": "vE180Jo1vUoZ"
   },
   "source": [
    "\n",
    "author.num_reviews :Number of lifetime app reviews by author\n",
    "Con i dati veri si può fare un commento.\n"
   ]
  },
  {
   "cell_type": "code",
   "execution_count": 22,
   "metadata": {
    "colab": {
     "base_uri": "https://localhost:8080/"
    },
    "executionInfo": {
     "elapsed": 764,
     "status": "ok",
     "timestamp": 1634499802250,
     "user": {
      "displayName": "camilla savarese",
      "photoUrl": "https://lh3.googleusercontent.com/a/default-user=s64",
      "userId": "01187100401107976032"
     },
     "user_tz": -120
    },
    "id": "tDRNRuCJvkpw",
    "outputId": "e8e4154a-a15c-403c-f6b3-9e83e9cc3a15"
   },
   "outputs": [
    {
     "name": "stdout",
     "output_type": "stream",
     "text": [
      "count    2.100000e+07\n",
      "mean     4.188720e+05\n",
      "std      1.357267e+09\n",
      "min      1.000000e+00\n",
      "25%      2.000000e+00\n",
      "50%      4.000000e+00\n",
      "75%      1.000000e+01\n",
      "max      4.398047e+12\n",
      "Name: author.num_reviews, dtype: float64\n"
     ]
    }
   ],
   "source": [
    "print(df[\"author.num_reviews\"].describe())\n"
   ]
  },
  {
   "cell_type": "markdown",
   "metadata": {
    "id": "HAUFwhMcx9Ci"
   },
   "source": [
    "# RQ2: Let's explore the dataset by finding simple insights into the reviews."
   ]
  },
  {
   "cell_type": "markdown",
   "metadata": {},
   "source": [
    "### Plot the number of reviews for each application in descending order.\n",
    "We simply count the number of reviews for each app (grouped by app_name) and order them\n"
   ]
  },
  {
   "cell_type": "code",
   "execution_count": 81,
   "metadata": {
    "id": "s1ZJ8q5HyJf_"
   },
   "outputs": [
    {
     "data": {
      "text/plain": [
       "<AxesSubplot:>"
      ]
     },
     "execution_count": 81,
     "metadata": {},
     "output_type": "execute_result"
    },
    {
     "data": {
      "image/png": "[encoded data removed]",
      "text/plain": [
       "<Figure size 432x288 with 1 Axes>"
      ]
     },
     "metadata": {
      "needs_background": "light"
     },
     "output_type": "display_data"
    }
   ],
   "source": [
    "new = df[['app_name']]\n",
    "a=new[\"app_name\"].value_counts()\n",
    "app_sort=a.sort_values(ascending=False) #lo salvo perchè serve dopo\n",
    "app_sort.head(30).plot.bar()"
   ]
  },
  {
   "cell_type": "markdown",
   "metadata": {},
   "source": [
    "### What applications have the best Weighted Vote Score?\n",
    "We group by app_name, and see both which apps have the absolute highest score, and on average.\n"
   ]
  },
  {
   "cell_type": "code",
   "execution_count": 24,
   "metadata": {
    "id": "HH9T9qoF6EXm"
   },
   "outputs": [
    {
     "data": {
      "text/html": [
       "<div>\n",
       "<style scoped>\n",
       "    .dataframe tbody tr th:only-of-type {\n",
       "        vertical-align: middle;\n",
       "    }\n",
       "\n",
       "    .dataframe tbody tr th {\n",
       "        vertical-align: top;\n",
       "    }\n",
       "\n",
       "    .dataframe thead th {\n",
       "        text-align: right;\n",
       "    }\n",
       "</style>\n",
       "<table border=\"1\" class=\"dataframe\">\n",
       "  <thead>\n",
       "    <tr style=\"text-align: right;\">\n",
       "      <th></th>\n",
       "      <th>weighted_vote_score</th>\n",
       "    </tr>\n",
       "    <tr>\n",
       "      <th>app_name</th>\n",
       "      <th></th>\n",
       "    </tr>\n",
       "  </thead>\n",
       "  <tbody>\n",
       "    <tr>\n",
       "      <th>20XX</th>\n",
       "      <td>0.209921</td>\n",
       "    </tr>\n",
       "    <tr>\n",
       "      <th>A Hat in Time</th>\n",
       "      <td>0.167747</td>\n",
       "    </tr>\n",
       "    <tr>\n",
       "      <th>A Short Hike</th>\n",
       "      <td>0.138672</td>\n",
       "    </tr>\n",
       "    <tr>\n",
       "      <th>A Way Out</th>\n",
       "      <td>0.161331</td>\n",
       "    </tr>\n",
       "    <tr>\n",
       "      <th>ARK: Survival Evolved</th>\n",
       "      <td>0.193326</td>\n",
       "    </tr>\n",
       "    <tr>\n",
       "      <th>...</th>\n",
       "      <td>...</td>\n",
       "    </tr>\n",
       "    <tr>\n",
       "      <th>X-Blades</th>\n",
       "      <td>0.252000</td>\n",
       "    </tr>\n",
       "    <tr>\n",
       "      <th>XCOM 2</th>\n",
       "      <td>0.174441</td>\n",
       "    </tr>\n",
       "    <tr>\n",
       "      <th>Yakuza 0</th>\n",
       "      <td>0.197277</td>\n",
       "    </tr>\n",
       "    <tr>\n",
       "      <th>theHunter: Call of the Wild™</th>\n",
       "      <td>0.181649</td>\n",
       "    </tr>\n",
       "    <tr>\n",
       "      <th>三国群英传8 Heroes of the Three Kingdoms 8</th>\n",
       "      <td>0.121042</td>\n",
       "    </tr>\n",
       "  </tbody>\n",
       "</table>\n",
       "<p>277 rows × 1 columns</p>\n",
       "</div>"
      ],
      "text/plain": [
       "                                       weighted_vote_score\n",
       "app_name                                                  \n",
       "20XX                                              0.209921\n",
       "A Hat in Time                                     0.167747\n",
       "A Short Hike                                      0.138672\n",
       "A Way Out                                         0.161331\n",
       "ARK: Survival Evolved                             0.193326\n",
       "...                                                    ...\n",
       "X-Blades                                          0.252000\n",
       "XCOM 2                                            0.174441\n",
       "Yakuza 0                                          0.197277\n",
       "theHunter: Call of the Wild™                      0.181649\n",
       "三国群英传8 Heroes of the Three Kingdoms 8             0.121042\n",
       "\n",
       "[277 rows x 1 columns]"
      ]
     },
     "execution_count": 24,
     "metadata": {},
     "output_type": "execute_result"
    }
   ],
   "source": [
    "#In this way  the apps are sorted by  the score and then we can consider the top 5/10 (is up to us).\n",
    "new_1 = df[['app_name','weighted_vote_score'  ]]\n",
    "new_1.sort_values(by='weighted_vote_score',ascending=False)\n",
    "#In this way I compute the average score for each app\n",
    "new_1.groupby('app_name').agg({\"weighted_vote_score\":\"mean\"})\n",
    "#LO lascerei svolto in entrambi i modi, come dicono su slack. Non gredo che agg (aggregate) sia necessario ma non sapevo  farlo senza. Non faccio i commenti perchè tanto i risultati finali saranno diversi."
   ]
  },
  {
   "cell_type": "markdown",
   "metadata": {},
   "source": [
    "We group by app_name, and see both which apps have the absolute highest score, and on average."
   ]
  },
  {
   "cell_type": "markdown",
   "metadata": {},
   "source": [
    "### Which applications have the most and the least recommendations?"
   ]
  },
  {
   "cell_type": "markdown",
   "metadata": {},
   "source": [
    "For each app, we count how many times it has been recommended."
   ]
  },
  {
   "cell_type": "code",
   "execution_count": 79,
   "metadata": {
    "colab": {
     "base_uri": "https://localhost:8080/",
     "height": 394
    },
    "executionInfo": {
     "elapsed": 1519,
     "status": "ok",
     "timestamp": 1634650682919,
     "user": {
      "displayName": "camilla savarese",
      "photoUrl": "https://lh3.googleusercontent.com/a/default-user=s64",
      "userId": "01187100401107976032"
     },
     "user_tz": -120
    },
    "id": "fD8DLgii6QJR",
    "outputId": "7927aeb9-acc8-4e0b-b492-f7913889e7e2"
   },
   "outputs": [
    {
     "data": {
      "image/png": "[encoded data removed]",
      "text/plain": [
       "<Figure size 432x288 with 1 Axes>"
      ]
     },
     "metadata": {
      "needs_background": "light"
     },
     "output_type": "display_data"
    },
    {
     "data": {
      "image/png": "[encoded data removed]",
      "text/plain": [
       "<Figure size 432x288 with 1 Axes>"
      ]
     },
     "metadata": {
      "needs_background": "light"
     },
     "output_type": "display_data"
    }
   ],
   "source": [
    "\n",
    "y=df.groupby('app_name').agg({\"recommended\":\"sum\"})\n",
    "#print(y)\n",
    "\n",
    "y=y.sort_values(by=\"recommended\",ascending=False)\n",
    "#print('the most recommended application is ...... with a total number of recommendations of .....', )\n",
    "y.head(10).plot.bar(title='top ten')\n",
    "#print('the worst recommended application is ..... with a total number of recommendations of ....', )\n",
    "y.tail(10).plot.bar(title='last ten',color='red') #least\n",
    "plt.show()"
   ]
  },
  {
   "cell_type": "markdown",
   "metadata": {},
   "source": [
    "### How many of these applications were purchased, and how many were given for free?"
   ]
  },
  {
   "cell_type": "code",
   "execution_count": 26,
   "metadata": {
    "colab": {
     "base_uri": "https://localhost:8080/"
    },
    "executionInfo": {
     "elapsed": 410,
     "status": "ok",
     "timestamp": 1634586591610,
     "user": {
      "displayName": "camilla savarese",
      "photoUrl": "https://lh3.googleusercontent.com/a/default-user=s64",
      "userId": "01187100401107976032"
     },
     "user_tz": -120
    },
    "id": "djlptn_N7oX4",
    "outputId": "3490b838-e0c1-453a-b0b4-b007d8c8820a"
   },
   "outputs": [
    {
     "name": "stdout",
     "output_type": "stream",
     "text": [
      "True     0.773506\n",
      "False    0.226494\n",
      "Name: steam_purchase, dtype: float64\n",
      "False    0.968032\n",
      "True     0.031968\n",
      "Name: received_for_free, dtype: float64\n"
     ]
    }
   ],
   "source": [
    "\n",
    "print(df[\"steam_purchase\"].value_counts(normalize=True))\n",
    "print(df[\"received_for_free\"].value_counts(normalize=True))\n",
    "#Steam purchased: True se l'autore ha comprato l'app su Steam\n",
    "#Received for free: True se ha ricevuto l'app gratis.\n",
    "#non so bene quale vuole, per me il secondo ma boo"
   ]
  },
  {
   "cell_type": "markdown",
   "metadata": {
    "id": "WK8oLBHB-RhP"
   },
   "source": [
    "# RQ3: Now it's important to understand the preferred time to do reviews.\n",
    "\n",
    "\n"
   ]
  },
  {
   "cell_type": "markdown",
   "metadata": {},
   "source": [
    "### Request 1"
   ]
  },
  {
   "cell_type": "markdown",
   "metadata": {},
   "source": [
    "\n",
    "I'll use the already loaded-in-memory dataset (in the variable df) in order to map every timestamp_created entry from the Datetime format, to a tuple made by the integer value of hour and minutes, once it's done i'll use the obtained column to group by the mapped rows counting the occourrence of every distinct row, i've subsequently used that pd.Series in order to extract the couple (hour, minutes) that maximizes the number of rows, so the number of reviews made in that hour range\n",
    "\n",
    "The results are printed with a formatted string"
   ]
  },
  {
   "cell_type": "code",
   "execution_count": 27,
   "metadata": {},
   "outputs": [
    {
     "ename": "FileNotFoundError",
     "evalue": "[Errno 2] No such file or directory: '/content/drive/MyDrive/HW2-ADM/steam_reviews.csv'",
     "output_type": "error",
     "traceback": [
      "\u001b[0;31m---------------------------------------------------------------------------\u001b[0m",
      "\u001b[0;31mFileNotFoundError\u001b[0m                         Traceback (most recent call last)",
      "\u001b[0;32m/var/folders/xr/79bkvytj5kd5th_p5bnz8bhh0000gn/T/ipykernel_75281/2674998066.py\u001b[0m in \u001b[0;36m<module>\u001b[0;34m\u001b[0m\n\u001b[1;32m      1\u001b[0m \u001b[0;32mfrom\u001b[0m \u001b[0mdatetime\u001b[0m \u001b[0;32mimport\u001b[0m \u001b[0mdatetime\u001b[0m\u001b[0;34m\u001b[0m\u001b[0;34m\u001b[0m\u001b[0m\n\u001b[0;32m----> 2\u001b[0;31m \u001b[0mdf\u001b[0m \u001b[0;34m=\u001b[0m \u001b[0mread_csv_with_time\u001b[0m\u001b[0;34m(\u001b[0m\u001b[0mfname\u001b[0m\u001b[0;34m,\u001b[0m \u001b[0;34m[\u001b[0m\u001b[0;34m'timestamp_created'\u001b[0m\u001b[0;34m]\u001b[0m\u001b[0;34m,\u001b[0m \u001b[0mn_rows\u001b[0m\u001b[0;34m=\u001b[0m\u001b[0;36m10e6\u001b[0m\u001b[0;34m,\u001b[0m \u001b[0musecols\u001b[0m\u001b[0;34m=\u001b[0m\u001b[0;34m[\u001b[0m\u001b[0;34m'timestamp_created'\u001b[0m\u001b[0;34m]\u001b[0m\u001b[0;34m)\u001b[0m\u001b[0;34m\u001b[0m\u001b[0;34m\u001b[0m\u001b[0m\n\u001b[0m\u001b[1;32m      3\u001b[0m \u001b[0;34m\u001b[0m\u001b[0m\n\u001b[1;32m      4\u001b[0m \u001b[0;31m# Converting the timestamps in tuples made by hours and minutes\u001b[0m\u001b[0;34m\u001b[0m\u001b[0;34m\u001b[0m\u001b[0;34m\u001b[0m\u001b[0m\n\u001b[1;32m      5\u001b[0m \u001b[0mtimed\u001b[0m \u001b[0;34m=\u001b[0m \u001b[0mdf\u001b[0m\u001b[0;34m.\u001b[0m\u001b[0mtimestamp_created\u001b[0m\u001b[0;34m.\u001b[0m\u001b[0mapply\u001b[0m\u001b[0;34m(\u001b[0m\u001b[0;32mlambda\u001b[0m \u001b[0mx\u001b[0m\u001b[0;34m:\u001b[0m \u001b[0;34m(\u001b[0m\u001b[0mx\u001b[0m\u001b[0;34m.\u001b[0m\u001b[0mhour\u001b[0m\u001b[0;34m,\u001b[0m \u001b[0mx\u001b[0m\u001b[0;34m.\u001b[0m\u001b[0mminute\u001b[0m\u001b[0;34m)\u001b[0m\u001b[0;34m)\u001b[0m\u001b[0;34m\u001b[0m\u001b[0;34m\u001b[0m\u001b[0m\n",
      "\u001b[0;32m/var/folders/xr/79bkvytj5kd5th_p5bnz8bhh0000gn/T/ipykernel_75281/1843815125.py\u001b[0m in \u001b[0;36mread_csv_with_time\u001b[0;34m(path, time_fields, n_rows, usecols)\u001b[0m\n\u001b[1;32m     19\u001b[0m     '''\n\u001b[1;32m     20\u001b[0m \u001b[0;34m\u001b[0m\u001b[0m\n\u001b[0;32m---> 21\u001b[0;31m     return pd.read_csv(path, header='infer', nrows=n_rows, \n\u001b[0m\u001b[1;32m     22\u001b[0m         parse_dates= [tf for tf in time_fields], date_parser=lambda x: pd.to_datetime(x, unit='s'), usecols=usecols)\n\u001b[1;32m     23\u001b[0m \u001b[0;34m\u001b[0m\u001b[0m\n",
      "\u001b[0;32m~/opt/anaconda3/lib/python3.8/site-packages/pandas/util/_decorators.py\u001b[0m in \u001b[0;36mwrapper\u001b[0;34m(*args, **kwargs)\u001b[0m\n\u001b[1;32m    309\u001b[0m                     \u001b[0mstacklevel\u001b[0m\u001b[0;34m=\u001b[0m\u001b[0mstacklevel\u001b[0m\u001b[0;34m,\u001b[0m\u001b[0;34m\u001b[0m\u001b[0;34m\u001b[0m\u001b[0m\n\u001b[1;32m    310\u001b[0m                 )\n\u001b[0;32m--> 311\u001b[0;31m             \u001b[0;32mreturn\u001b[0m \u001b[0mfunc\u001b[0m\u001b[0;34m(\u001b[0m\u001b[0;34m*\u001b[0m\u001b[0margs\u001b[0m\u001b[0;34m,\u001b[0m \u001b[0;34m**\u001b[0m\u001b[0mkwargs\u001b[0m\u001b[0;34m)\u001b[0m\u001b[0;34m\u001b[0m\u001b[0;34m\u001b[0m\u001b[0m\n\u001b[0m\u001b[1;32m    312\u001b[0m \u001b[0;34m\u001b[0m\u001b[0m\n\u001b[1;32m    313\u001b[0m         \u001b[0;32mreturn\u001b[0m \u001b[0mwrapper\u001b[0m\u001b[0;34m\u001b[0m\u001b[0;34m\u001b[0m\u001b[0m\n",
      "\u001b[0;32m~/opt/anaconda3/lib/python3.8/site-packages/pandas/io/parsers/readers.py\u001b[0m in \u001b[0;36mread_csv\u001b[0;34m(filepath_or_buffer, sep, delimiter, header, names, index_col, usecols, squeeze, prefix, mangle_dupe_cols, dtype, engine, converters, true_values, false_values, skipinitialspace, skiprows, skipfooter, nrows, na_values, keep_default_na, na_filter, verbose, skip_blank_lines, parse_dates, infer_datetime_format, keep_date_col, date_parser, dayfirst, cache_dates, iterator, chunksize, compression, thousands, decimal, lineterminator, quotechar, quoting, doublequote, escapechar, comment, encoding, encoding_errors, dialect, error_bad_lines, warn_bad_lines, on_bad_lines, delim_whitespace, low_memory, memory_map, float_precision, storage_options)\u001b[0m\n\u001b[1;32m    584\u001b[0m     \u001b[0mkwds\u001b[0m\u001b[0;34m.\u001b[0m\u001b[0mupdate\u001b[0m\u001b[0;34m(\u001b[0m\u001b[0mkwds_defaults\u001b[0m\u001b[0;34m)\u001b[0m\u001b[0;34m\u001b[0m\u001b[0;34m\u001b[0m\u001b[0m\n\u001b[1;32m    585\u001b[0m \u001b[0;34m\u001b[0m\u001b[0m\n\u001b[0;32m--> 586\u001b[0;31m     \u001b[0;32mreturn\u001b[0m \u001b[0m_read\u001b[0m\u001b[0;34m(\u001b[0m\u001b[0mfilepath_or_buffer\u001b[0m\u001b[0;34m,\u001b[0m \u001b[0mkwds\u001b[0m\u001b[0;34m)\u001b[0m\u001b[0;34m\u001b[0m\u001b[0;34m\u001b[0m\u001b[0m\n\u001b[0m\u001b[1;32m    587\u001b[0m \u001b[0;34m\u001b[0m\u001b[0m\n\u001b[1;32m    588\u001b[0m \u001b[0;34m\u001b[0m\u001b[0m\n",
      "\u001b[0;32m~/opt/anaconda3/lib/python3.8/site-packages/pandas/io/parsers/readers.py\u001b[0m in \u001b[0;36m_read\u001b[0;34m(filepath_or_buffer, kwds)\u001b[0m\n\u001b[1;32m    480\u001b[0m \u001b[0;34m\u001b[0m\u001b[0m\n\u001b[1;32m    481\u001b[0m     \u001b[0;31m# Create the parser.\u001b[0m\u001b[0;34m\u001b[0m\u001b[0;34m\u001b[0m\u001b[0;34m\u001b[0m\u001b[0m\n\u001b[0;32m--> 482\u001b[0;31m     \u001b[0mparser\u001b[0m \u001b[0;34m=\u001b[0m \u001b[0mTextFileReader\u001b[0m\u001b[0;34m(\u001b[0m\u001b[0mfilepath_or_buffer\u001b[0m\u001b[0;34m,\u001b[0m \u001b[0;34m**\u001b[0m\u001b[0mkwds\u001b[0m\u001b[0;34m)\u001b[0m\u001b[0;34m\u001b[0m\u001b[0;34m\u001b[0m\u001b[0m\n\u001b[0m\u001b[1;32m    483\u001b[0m \u001b[0;34m\u001b[0m\u001b[0m\n\u001b[1;32m    484\u001b[0m     \u001b[0;32mif\u001b[0m \u001b[0mchunksize\u001b[0m \u001b[0;32mor\u001b[0m \u001b[0miterator\u001b[0m\u001b[0;34m:\u001b[0m\u001b[0;34m\u001b[0m\u001b[0;34m\u001b[0m\u001b[0m\n",
      "\u001b[0;32m~/opt/anaconda3/lib/python3.8/site-packages/pandas/io/parsers/readers.py\u001b[0m in \u001b[0;36m__init__\u001b[0;34m(self, f, engine, **kwds)\u001b[0m\n\u001b[1;32m    809\u001b[0m             \u001b[0mself\u001b[0m\u001b[0;34m.\u001b[0m\u001b[0moptions\u001b[0m\u001b[0;34m[\u001b[0m\u001b[0;34m\"has_index_names\"\u001b[0m\u001b[0;34m]\u001b[0m \u001b[0;34m=\u001b[0m \u001b[0mkwds\u001b[0m\u001b[0;34m[\u001b[0m\u001b[0;34m\"has_index_names\"\u001b[0m\u001b[0;34m]\u001b[0m\u001b[0;34m\u001b[0m\u001b[0;34m\u001b[0m\u001b[0m\n\u001b[1;32m    810\u001b[0m \u001b[0;34m\u001b[0m\u001b[0m\n\u001b[0;32m--> 811\u001b[0;31m         \u001b[0mself\u001b[0m\u001b[0;34m.\u001b[0m\u001b[0m_engine\u001b[0m \u001b[0;34m=\u001b[0m \u001b[0mself\u001b[0m\u001b[0;34m.\u001b[0m\u001b[0m_make_engine\u001b[0m\u001b[0;34m(\u001b[0m\u001b[0mself\u001b[0m\u001b[0;34m.\u001b[0m\u001b[0mengine\u001b[0m\u001b[0;34m)\u001b[0m\u001b[0;34m\u001b[0m\u001b[0;34m\u001b[0m\u001b[0m\n\u001b[0m\u001b[1;32m    812\u001b[0m \u001b[0;34m\u001b[0m\u001b[0m\n\u001b[1;32m    813\u001b[0m     \u001b[0;32mdef\u001b[0m \u001b[0mclose\u001b[0m\u001b[0;34m(\u001b[0m\u001b[0mself\u001b[0m\u001b[0;34m)\u001b[0m\u001b[0;34m:\u001b[0m\u001b[0;34m\u001b[0m\u001b[0;34m\u001b[0m\u001b[0m\n",
      "\u001b[0;32m~/opt/anaconda3/lib/python3.8/site-packages/pandas/io/parsers/readers.py\u001b[0m in \u001b[0;36m_make_engine\u001b[0;34m(self, engine)\u001b[0m\n\u001b[1;32m   1038\u001b[0m             )\n\u001b[1;32m   1039\u001b[0m         \u001b[0;31m# error: Too many arguments for \"ParserBase\"\u001b[0m\u001b[0;34m\u001b[0m\u001b[0;34m\u001b[0m\u001b[0;34m\u001b[0m\u001b[0m\n\u001b[0;32m-> 1040\u001b[0;31m         \u001b[0;32mreturn\u001b[0m \u001b[0mmapping\u001b[0m\u001b[0;34m[\u001b[0m\u001b[0mengine\u001b[0m\u001b[0;34m]\u001b[0m\u001b[0;34m(\u001b[0m\u001b[0mself\u001b[0m\u001b[0;34m.\u001b[0m\u001b[0mf\u001b[0m\u001b[0;34m,\u001b[0m \u001b[0;34m**\u001b[0m\u001b[0mself\u001b[0m\u001b[0;34m.\u001b[0m\u001b[0moptions\u001b[0m\u001b[0;34m)\u001b[0m  \u001b[0;31m# type: ignore[call-arg]\u001b[0m\u001b[0;34m\u001b[0m\u001b[0;34m\u001b[0m\u001b[0m\n\u001b[0m\u001b[1;32m   1041\u001b[0m \u001b[0;34m\u001b[0m\u001b[0m\n\u001b[1;32m   1042\u001b[0m     \u001b[0;32mdef\u001b[0m \u001b[0m_failover_to_python\u001b[0m\u001b[0;34m(\u001b[0m\u001b[0mself\u001b[0m\u001b[0;34m)\u001b[0m\u001b[0;34m:\u001b[0m\u001b[0;34m\u001b[0m\u001b[0;34m\u001b[0m\u001b[0m\n",
      "\u001b[0;32m~/opt/anaconda3/lib/python3.8/site-packages/pandas/io/parsers/c_parser_wrapper.py\u001b[0m in \u001b[0;36m__init__\u001b[0;34m(self, src, **kwds)\u001b[0m\n\u001b[1;32m     49\u001b[0m \u001b[0;34m\u001b[0m\u001b[0m\n\u001b[1;32m     50\u001b[0m         \u001b[0;31m# open handles\u001b[0m\u001b[0;34m\u001b[0m\u001b[0;34m\u001b[0m\u001b[0;34m\u001b[0m\u001b[0m\n\u001b[0;32m---> 51\u001b[0;31m         \u001b[0mself\u001b[0m\u001b[0;34m.\u001b[0m\u001b[0m_open_handles\u001b[0m\u001b[0;34m(\u001b[0m\u001b[0msrc\u001b[0m\u001b[0;34m,\u001b[0m \u001b[0mkwds\u001b[0m\u001b[0;34m)\u001b[0m\u001b[0;34m\u001b[0m\u001b[0;34m\u001b[0m\u001b[0m\n\u001b[0m\u001b[1;32m     52\u001b[0m         \u001b[0;32massert\u001b[0m \u001b[0mself\u001b[0m\u001b[0;34m.\u001b[0m\u001b[0mhandles\u001b[0m \u001b[0;32mis\u001b[0m \u001b[0;32mnot\u001b[0m \u001b[0;32mNone\u001b[0m\u001b[0;34m\u001b[0m\u001b[0;34m\u001b[0m\u001b[0m\n\u001b[1;32m     53\u001b[0m \u001b[0;34m\u001b[0m\u001b[0m\n",
      "\u001b[0;32m~/opt/anaconda3/lib/python3.8/site-packages/pandas/io/parsers/base_parser.py\u001b[0m in \u001b[0;36m_open_handles\u001b[0;34m(self, src, kwds)\u001b[0m\n\u001b[1;32m    220\u001b[0m         \u001b[0mLet\u001b[0m \u001b[0mthe\u001b[0m \u001b[0mreaders\u001b[0m \u001b[0mopen\u001b[0m \u001b[0mIOHandles\u001b[0m \u001b[0mafter\u001b[0m \u001b[0mthey\u001b[0m \u001b[0mare\u001b[0m \u001b[0mdone\u001b[0m \u001b[0;32mwith\u001b[0m \u001b[0mtheir\u001b[0m \u001b[0mpotential\u001b[0m \u001b[0mraises\u001b[0m\u001b[0;34m.\u001b[0m\u001b[0;34m\u001b[0m\u001b[0;34m\u001b[0m\u001b[0m\n\u001b[1;32m    221\u001b[0m         \"\"\"\n\u001b[0;32m--> 222\u001b[0;31m         self.handles = get_handle(\n\u001b[0m\u001b[1;32m    223\u001b[0m             \u001b[0msrc\u001b[0m\u001b[0;34m,\u001b[0m\u001b[0;34m\u001b[0m\u001b[0;34m\u001b[0m\u001b[0m\n\u001b[1;32m    224\u001b[0m             \u001b[0;34m\"r\"\u001b[0m\u001b[0;34m,\u001b[0m\u001b[0;34m\u001b[0m\u001b[0;34m\u001b[0m\u001b[0m\n",
      "\u001b[0;32m~/opt/anaconda3/lib/python3.8/site-packages/pandas/io/common.py\u001b[0m in \u001b[0;36mget_handle\u001b[0;34m(path_or_buf, mode, encoding, compression, memory_map, is_text, errors, storage_options)\u001b[0m\n\u001b[1;32m    700\u001b[0m         \u001b[0;32mif\u001b[0m \u001b[0mioargs\u001b[0m\u001b[0;34m.\u001b[0m\u001b[0mencoding\u001b[0m \u001b[0;32mand\u001b[0m \u001b[0;34m\"b\"\u001b[0m \u001b[0;32mnot\u001b[0m \u001b[0;32min\u001b[0m \u001b[0mioargs\u001b[0m\u001b[0;34m.\u001b[0m\u001b[0mmode\u001b[0m\u001b[0;34m:\u001b[0m\u001b[0;34m\u001b[0m\u001b[0;34m\u001b[0m\u001b[0m\n\u001b[1;32m    701\u001b[0m             \u001b[0;31m# Encoding\u001b[0m\u001b[0;34m\u001b[0m\u001b[0;34m\u001b[0m\u001b[0;34m\u001b[0m\u001b[0m\n\u001b[0;32m--> 702\u001b[0;31m             handle = open(\n\u001b[0m\u001b[1;32m    703\u001b[0m                 \u001b[0mhandle\u001b[0m\u001b[0;34m,\u001b[0m\u001b[0;34m\u001b[0m\u001b[0;34m\u001b[0m\u001b[0m\n\u001b[1;32m    704\u001b[0m                 \u001b[0mioargs\u001b[0m\u001b[0;34m.\u001b[0m\u001b[0mmode\u001b[0m\u001b[0;34m,\u001b[0m\u001b[0;34m\u001b[0m\u001b[0;34m\u001b[0m\u001b[0m\n",
      "\u001b[0;31mFileNotFoundError\u001b[0m: [Errno 2] No such file or directory: '/content/drive/MyDrive/HW2-ADM/steam_reviews.csv'"
     ]
    }
   ],
   "source": [
    "from datetime import datetime\n",
    "df = read_csv_with_time(fname, ['timestamp_created'], n_rows=10e6, usecols=['timestamp_created'])\n",
    "\n",
    "# Converting the timestamps in tuples made by hours and minutes\n",
    "timed = df.timestamp_created.apply(lambda x: (x.hour, x.minute))\n",
    "# grouping by values (the tuples of above) and counting the occourrences\n",
    "timed = timed.groupby(timed).count() \n",
    "amax = timed.argmax() # Getting the index of the maximum value\n",
    "\n",
    "# Retrievieng the answers and formatting them...\n",
    "hh, mm = timed.index[amax]\n",
    "n_rev = timed.values[amax]\n",
    "hh = \"{:0>2d}\".format(hh)\n",
    "mm = \"{:0>2d}\".format(mm)\n",
    "\n",
    "print(f\"The most common hour in wich are published the greater part of the reviews is at {hh}:{mm} with {n_rev} reviews published\")"
   ]
  },
  {
   "cell_type": "markdown",
   "metadata": {},
   "source": [
    "### Request 2"
   ]
  },
  {
   "cell_type": "markdown",
   "metadata": {},
   "source": [
    "The function required is the following and returns a pd.Series where the index are the index of the corresponding hour range and the values are the number of reviews made in that range"
   ]
  },
  {
   "cell_type": "code",
   "execution_count": null,
   "metadata": {},
   "outputs": [],
   "source": [
    "def new_bis(ranges, ds=fname, n_rows=1e6):\n",
    "    df = read_csv_with_time(ds, ['timestamp_created'], n_rows, usecols=['timestamp_created'])\n",
    "    ranges_int = get_integer_ranges(ranges)\n",
    "    ranged = df.timestamp_created.apply(lambda x: get_integer_range_index((x.hour, x.minute, x.second), ranges_int))\n",
    "    ranged = ranged.groupby(ranged).count()\n",
    "    return ranged"
   ]
  },
  {
   "cell_type": "markdown",
   "metadata": {},
   "source": [
    "### Request 3"
   ]
  },
  {
   "cell_type": "markdown",
   "metadata": {},
   "source": [
    "I've used the function above in order to plot by an horizontal bar chart, the number of reviews made for every hour range of the default ranges shown in the table above"
   ]
  },
  {
   "cell_type": "code",
   "execution_count": null,
   "metadata": {},
   "outputs": [],
   "source": [
    "ret = new_bis(def_ranges, n_rows=30e6)\n",
    "plt.figure(figsize=(20,10))\n",
    "ax = ret.plot(kind=\"barh\", color='green')\n",
    "ax.set_title(\"Reviews per hour ranges\")\n",
    "ax.set_ylabel(\"hour ranges\")\n",
    "ax.set_xlabel(\"Num of reviews\")\n",
    "ax.set_yticklabels(def_ranges)\n",
    "ax.grid(b=True, color='grey', linestyle='-.', linewidth=0.5, alpha=0.2)"
   ]
  },
  {
   "cell_type": "markdown",
   "metadata": {
    "id": "BVtj47B5D308"
   },
   "source": [
    "# RQ4 As Steam is a worldwide platform, the reviews can be done in many languages. Let's extract some information about it."
   ]
  },
  {
   "cell_type": "markdown",
   "metadata": {},
   "source": [
    "### What are the top 3 languages used to review applications?"
   ]
  },
  {
   "cell_type": "markdown",
   "metadata": {},
   "source": [
    "Group values by language and account.\n"
   ]
  },
  {
   "cell_type": "code",
   "execution_count": 28,
   "metadata": {
    "id": "XH6IIsrqD9kN"
   },
   "outputs": [
    {
     "name": "stdout",
     "output_type": "stream",
     "text": [
      "english\n",
      "schinese\n",
      "russian\n"
     ]
    }
   ],
   "source": [
    "lingue=df[\"language\"].value_counts(normalize=True)\n",
    "top=lingue[:3]\n",
    "top_list=list(top.index)\n",
    "print(*(x for x in top_list), sep='\\n')\n",
    "#top five"
   ]
  },
  {
   "cell_type": "markdown",
   "metadata": {},
   "source": [
    "### Create a function that receives as parameters both the name of a data set and a list of languages’ names and returns a data frame filtered only with the reviews written in the provided languages."
   ]
  },
  {
   "cell_type": "code",
   "execution_count": 29,
   "metadata": {
    "id": "5n44py7qEb2e"
   },
   "outputs": [],
   "source": [
    "\n",
    "def filter_language(dataset, languages,col_name):\n",
    "  return dataset.loc[dataset[col_name].isin(languages)]\n"
   ]
  },
  {
   "cell_type": "markdown",
   "metadata": {},
   "source": [
    "### Use the function created in the previous literal to find what percentage of these reviews (associated with the the top 3 languages) were voted as funny?"
   ]
  },
  {
   "cell_type": "markdown",
   "metadata": {},
   "source": [
    "After creating the subset by filtering with the function, we look for the lines that correspond to each language and that have at least one \"vote_funny\". Same for \"vote_helped\"."
   ]
  },
  {
   "cell_type": "code",
   "execution_count": 30,
   "metadata": {
    "colab": {
     "base_uri": "https://localhost:8080/"
    },
    "executionInfo": {
     "elapsed": 11783,
     "status": "ok",
     "timestamp": 1634672021570,
     "user": {
      "displayName": "camilla savarese",
      "photoUrl": "https://lh3.googleusercontent.com/a/default-user=s64",
      "userId": "01187100401107976032"
     },
     "user_tz": -120
    },
    "id": "-UNGmMDD3fX9",
    "outputId": "c1e1b33b-fe41-4748-a827-38e7098105b5"
   },
   "outputs": [
    {
     "name": "stdout",
     "output_type": "stream",
     "text": [
      "english   0.89%\n",
      "schinese   0.88%\n",
      "russian   0.83%\n"
     ]
    }
   ],
   "source": [
    "for i in top_list:\n",
    "     print(i+\"   \"+str(round(sum((df['votes_funny']==0) & (df['language']==i))/sum(df['language']==i),2))+\"%\")\n"
   ]
  },
  {
   "cell_type": "markdown",
   "metadata": {},
   "source": [
    "### Use the function created in the literal “a” to find what percentage of these reviews (associated with the top 3 languages) were voted as helpful?"
   ]
  },
  {
   "cell_type": "code",
   "execution_count": 31,
   "metadata": {
    "colab": {
     "base_uri": "https://localhost:8080/"
    },
    "executionInfo": {
     "elapsed": 10476,
     "status": "ok",
     "timestamp": 1634672117666,
     "user": {
      "displayName": "camilla savarese",
      "photoUrl": "https://lh3.googleusercontent.com/a/default-user=s64",
      "userId": "01187100401107976032"
     },
     "user_tz": -120
    },
    "id": "jzts3OcdC6Rf",
    "outputId": "ae7ffc8f-6234-43c4-a1c6-0399a1f745a7"
   },
   "outputs": [
    {
     "name": "stdout",
     "output_type": "stream",
     "text": [
      "english   0.29%\n",
      "schinese   0.25%\n",
      "russian   0.35%\n"
     ]
    }
   ],
   "source": [
    "df_1= filter_language(df,top_list,'language') #dati filtrati\n",
    "for i in top_list:\n",
    "  print(i+\"   \"+str(round(sum((df['votes_helpful']!=0) & (df['language']==i))/sum(df['language']==i),2))+\"%\")"
   ]
  },
  {
   "cell_type": "markdown",
   "metadata": {
    "id": "prcNliAJ3gZt"
   },
   "source": [
    "# RQ5 The reviews' authors are users from the game that provide their opinion on it. Now you can check how often they make reviews."
   ]
  },
  {
   "cell_type": "markdown",
   "metadata": {},
   "source": [
    "### Plot the top 10 most popular reviewers and the number of reviews."
   ]
  },
  {
   "cell_type": "code",
   "execution_count": 32,
   "metadata": {
    "colab": {
     "base_uri": "https://localhost:8080/",
     "height": 395
    },
    "executionInfo": {
     "elapsed": 94978,
     "status": "ok",
     "timestamp": 1634655628889,
     "user": {
      "displayName": "Alessandro Pecchini",
      "photoUrl": "https://lh3.googleusercontent.com/a/default-user=s64",
      "userId": "11901581996892479685"
     },
     "user_tz": -120
    },
    "id": "n1ABlGeg4LMm",
    "outputId": "80067de5-6116-4867-8edf-73d3e444df9b"
   },
   "outputs": [
    {
     "data": {
      "text/plain": [
       "<AxesSubplot:xlabel='author.steamid'>"
      ]
     },
     "execution_count": 32,
     "metadata": {},
     "output_type": "execute_result"
    },
    {
     "data": {
      "image/png": "[encoded data removed]",
      "text/plain": [
       "<Figure size 432x288 with 1 Axes>"
      ]
     },
     "metadata": {
      "needs_background": "light"
     },
     "output_type": "display_data"
    }
   ],
   "source": [
    "#df= pd.read_csv('/content/drive/MyDrive/HW2-ADM/steam_reviews.csv',nrows=10000000)\n",
    "df_auth = df.groupby('author.steamid').review_id.count().sort_values(ascending=False)\n",
    "df_auth[:10].plot.bar()"
   ]
  },
  {
   "cell_type": "markdown",
   "metadata": {},
   "source": [
    "### What applications did the most popular author review? "
   ]
  },
  {
   "cell_type": "code",
   "execution_count": 33,
   "metadata": {
    "id": "NRnn_ehG5YKg"
   },
   "outputs": [],
   "source": [
    "from_bigger_reviewer = df[df['author.steamid'] == df_auth[:1].index[0]]\n"
   ]
  },
  {
   "cell_type": "code",
   "execution_count": 34,
   "metadata": {
    "colab": {
     "base_uri": "https://localhost:8080/"
    },
    "executionInfo": {
     "elapsed": 283,
     "status": "ok",
     "timestamp": 1634655642208,
     "user": {
      "displayName": "Alessandro Pecchini",
      "photoUrl": "https://lh3.googleusercontent.com/a/default-user=s64",
      "userId": "11901581996892479685"
     },
     "user_tz": -120
    },
    "id": "Jz4iSYyU8dQ4",
    "outputId": "306301ae-8a31-4ecd-f0dc-f2f0b7dac40a"
   },
   "outputs": [
    {
     "data": {
      "text/plain": [
       "512675                           Half-Life\n",
       "539037              Counter-Strike: Source\n",
       "658130            Half-Life 2: Episode Two\n",
       "849477                            Portal 2\n",
       "1549581                        Garry's Mod\n",
       "                         ...              \n",
       "20921224                          Yakuza 0\n",
       "20948483                   Thief Simulator\n",
       "20955607                    Darksiders III\n",
       "20972603    Mutant Year Zero: Road to Eden\n",
       "20986996                      Just Cause 4\n",
       "Name: app_name, Length: 134, dtype: object"
      ]
     },
     "execution_count": 34,
     "metadata": {},
     "output_type": "execute_result"
    }
   ],
   "source": [
    "from_bigger_reviewer['app_name']"
   ]
  },
  {
   "cell_type": "markdown",
   "metadata": {},
   "source": [
    "### How many applications did he purchase, and how many did he get as free? Provide the number (count) and the percentage."
   ]
  },
  {
   "cell_type": "code",
   "execution_count": 35,
   "metadata": {
    "id": "qH1IMHp458JS"
   },
   "outputs": [
    {
     "name": "stdout",
     "output_type": "stream",
     "text": [
      "He got for free 4 applications (2.9850746268656714%) and purchased 99 (73.88059701492537%) on total of 134\n",
      "   \n",
      "The author's recommended 4 and doesn't recommended 0 application from the ones received for free\n"
     ]
    }
   ],
   "source": [
    "free = from_bigger_reviewer[from_bigger_reviewer.received_for_free]\n",
    "n_free = len(free)\n",
    "purchased = from_bigger_reviewer[from_bigger_reviewer.steam_purchase]\n",
    "n_purch = len(purchased)\n",
    "tot = len(from_bigger_reviewer)\n",
    "print(f\"He got for free {n_free} applications ({n_free/tot*100}%) and purchased {n_purch} ({n_purch/tot*100}%) on total of {tot}\")\n",
    "print('   ')\n",
    "print(f\"The author's recommended {len(free['recommended'])} and doesn't recommended {n_free-len(free['recommended'])} application from the ones received for free\")\n"
   ]
  },
  {
   "cell_type": "markdown",
   "metadata": {},
   "source": [
    "### How many of the applications he purchased reviewed positively, and how many negatively? How about the applications he received for free?"
   ]
  },
  {
   "cell_type": "code",
   "execution_count": 36,
   "metadata": {},
   "outputs": [
    {
     "name": "stdout",
     "output_type": "stream",
     "text": [
      "   \n",
      " recommended 99 and doesn't recommended 0 application from the ones purchased\n"
     ]
    }
   ],
   "source": [
    "print('   ')\n",
    "print(f\" recommended {len(purchased['recommended'])} and doesn't recommended {n_purch-len(purchased['recommended'])} application from the ones purchased\")"
   ]
  },
  {
   "cell_type": "markdown",
   "metadata": {},
   "source": [
    "# [RQ6] It's time to get information from the updates that a user does to his reviews."
   ]
  },
  {
   "cell_type": "markdown",
   "metadata": {},
   "source": [
    "### What is the average time (days and minutes) a user lets pass before he updates a review?"
   ]
  },
  {
   "cell_type": "code",
   "execution_count": 37,
   "metadata": {},
   "outputs": [
    {
     "name": "stdout",
     "output_type": "stream",
     "text": [
      "The average time that pass between the creation and the update of the reviews is: 3147341.766038\n"
     ]
    }
   ],
   "source": [
    "print(f\"The average time that pass between the creation and the update of the reviews is: {(df.timestamp_updated - df.timestamp_created).mean(numeric_only=False)}\")\n"
   ]
  },
  {
   "cell_type": "markdown",
   "metadata": {},
   "source": [
    "### Plot the top 3 authors that usually update their reviews."
   ]
  },
  {
   "cell_type": "code",
   "execution_count": 38,
   "metadata": {},
   "outputs": [
    {
     "name": "stdout",
     "output_type": "stream",
     "text": [
      "The authors that has updated their reviews more often are, in order:\n",
      "\t*76561198315585536 with 121 updated reviews\n",
      "\t*76561198062813911 with 85 updated reviews\n",
      "\t*76561198083413093 with 74 updated reviews\n"
     ]
    }
   ],
   "source": [
    "df['updated'] = df.timestamp_created == df.timestamp_updated\n",
    "grouped = df.groupby(df['author.steamid']).updated.sum().sort_values(ascending=False)\n",
    "auth = grouped[:3].index\n",
    "print(\"The authors that has updated their reviews more often are, in order:\")\n",
    "for a in auth:\n",
    "  print(f\"\\t*{a} with {grouped[a]} updated reviews\")"
   ]
  },
  {
   "cell_type": "markdown",
   "metadata": {
    "id": "qY_XymYaH6Ge"
   },
   "source": [
    "# RQ7 Of course, calculating probabilities is a job that any Data Scientist must know. Let's compute Some interesting figures."
   ]
  },
  {
   "cell_type": "markdown",
   "metadata": {
    "id": "L-AWty06aGxr"
   },
   "source": [
    "### What’s the probability that a review has a Weighted Vote Score equal to or bigger than 0.5?"
   ]
  },
  {
   "cell_type": "markdown",
   "metadata": {},
   "source": [
    "Simply whoever has a w. score greater than 0.5 on the total of the lines.\n"
   ]
  },
  {
   "cell_type": "code",
   "execution_count": 39,
   "metadata": {
    "colab": {
     "base_uri": "https://localhost:8080/"
    },
    "executionInfo": {
     "elapsed": 3941,
     "status": "ok",
     "timestamp": 1634673249511,
     "user": {
      "displayName": "camilla savarese",
      "photoUrl": "https://lh3.googleusercontent.com/a/default-user=s64",
      "userId": "01187100401107976032"
     },
     "user_tz": -120
    },
    "id": "l_4-d2Q3__pf",
    "outputId": "69505edd-5ff0-4781-e785-ca5b47f22431"
   },
   "outputs": [],
   "source": [
    "#Prob = fav. cases / possible cases\n",
    "p1=sum(df['weighted_vote_score']> 0.5)/df.shape[0]\n"
   ]
  },
  {
   "cell_type": "markdown",
   "metadata": {},
   "source": [
    "### What’s the probability that a review has at least one vote as funny given that the Weighted Vote Score is bigger than 0.5?"
   ]
  },
  {
   "cell_type": "markdown",
   "metadata": {},
   "source": [
    "Conditional probability formula: Prob (A given B) = Prob (A intersection B) / Prob (B)\n"
   ]
  },
  {
   "cell_type": "code",
   "execution_count": 40,
   "metadata": {},
   "outputs": [
    {
     "data": {
      "text/plain": [
       "0.24797052510544726"
      ]
     },
     "execution_count": 40,
     "metadata": {},
     "output_type": "execute_result"
    }
   ],
   "source": [
    "#prob condizionata\n",
    "\n",
    "intersezione=sum((df['weighted_vote_score']> 0.5)& (df['votes_funny']!=0))/df.shape[0]\n",
    "p2=intersezione/p1\n",
    "p2"
   ]
  },
  {
   "cell_type": "markdown",
   "metadata": {},
   "source": [
    "### Is the probability that “a review has at least one vote as funny” independent of the “probability that a review has a Weighted Vote Score equal or bigger than 0.5”?"
   ]
  },
  {
   "cell_type": "markdown",
   "metadata": {},
   "source": [
    "Statistical definition of independence: Joint probability is the product of the marginals.\n",
    "It doesn't happen here."
   ]
  },
  {
   "cell_type": "code",
   "execution_count": 41,
   "metadata": {},
   "outputs": [
    {
     "data": {
      "text/plain": [
       "False"
      ]
     },
     "execution_count": 41,
     "metadata": {},
     "output_type": "execute_result"
    }
   ],
   "source": [
    "pa= sum(df['votes_funny']!=0)/df.shape[0]\n",
    "pa*p1==intersezione\n",
    "#False, quindi Non sono indipendenti"
   ]
  },
  {
   "cell_type": "markdown",
   "metadata": {
    "id": "9DOaZZ0KLPnX"
   },
   "source": [
    "# RQ8 Every decision you take in a data-based environment should be reinforced with charts, statistical tests and analysis methods to check if a hypothesis is correct or not."
   ]
  },
  {
   "cell_type": "markdown",
   "metadata": {},
   "source": [
    "### Is there a significant difference in the Weighted Vote Score of reviews made in Chinese vs the ones made in Russian? Use an appropriate statistical test or technique and support your choicv1"
   ]
  },
  {
   "cell_type": "code",
   "execution_count": null,
   "metadata": {},
   "outputs": [],
   "source": [
    "import pandas as pd\n",
    "import matplotlib.pyplot as plt\n",
    "import seaborn as sns \n",
    "!pip3 install  researchpy\n",
    "import scipy.stats as stats\n",
    "import matplotlib.pyplot as plt\n",
    "import researchpy as rp"
   ]
  },
  {
   "cell_type": "code",
   "execution_count": 42,
   "metadata": {
    "colab": {
     "base_uri": "https://localhost:8080/"
    },
    "executionInfo": {
     "elapsed": 2733,
     "status": "ok",
     "timestamp": 1634675835391,
     "user": {
      "displayName": "camilla savarese",
      "photoUrl": "https://lh3.googleusercontent.com/a/default-user=s64",
      "userId": "01187100401107976032"
     },
     "user_tz": -120
    },
    "id": "xqFR5dLQLVaf",
    "outputId": "0f3490dc-1be2-441d-e177-bb9d0df6a1e6"
   },
   "outputs": [],
   "source": [
    "s1=df['weighted_vote_score'][df['language'] == 'russian']\n",
    "s2=df['weighted_vote_score'][df['language'] == 'schinese']\n",
    "print(s1.describe())\n",
    "print(s2.describe())\n"
   ]
  },
  {
   "cell_type": "markdown",
   "metadata": {},
   "source": [
    "This is just an overall view: the two means are quite different (0.257 as average score for russian and 0.145 for chinese). We note that in both cases the first and second quantiles are equal to zero, this means that this is the weighted average score of many reviews. Now we represent the two distributions,without considering the cases in which the score is zero.\n"
   ]
  },
  {
   "cell_type": "code",
   "execution_count": 43,
   "metadata": {},
   "outputs": [
    {
     "data": {
      "text/plain": [
       "count    3.637372e+06\n",
       "mean     1.440565e-01\n",
       "std      2.385317e-01\n",
       "min      0.000000e+00\n",
       "25%      0.000000e+00\n",
       "50%      0.000000e+00\n",
       "75%      4.744526e-01\n",
       "max      9.959868e-01\n",
       "Name: weighted_vote_score, dtype: float64"
      ]
     },
     "execution_count": 43,
     "metadata": {},
     "output_type": "execute_result"
    }
   ],
   "source": [
    "z1= s1[s1!=0]\n",
    "z2= s2[s2!=0]\n",
    "z2\n",
    "sns.displot(z1)\n",
    "plt.ylim(0,80000)\n",
    "\n",
    "sns.displot(z2)\n",
    "plt.ylim(0,150000)"
   ]
  },
  {
   "cell_type": "markdown",
   "metadata": {},
   "source": [
    "Since N is very large, we assume to deal with normal distributions (even if in the second case the relative frequency of the average value is too high. Observe that without the zeros the two samples are much more similar."
   ]
  },
  {
   "cell_type": "code",
   "execution_count": 44,
   "metadata": {},
   "outputs": [
    {
     "data": {
      "text/plain": [
       "<seaborn.axisgrid.FacetGrid at 0x7f95ff7a39a0>"
      ]
     },
     "execution_count": 44,
     "metadata": {},
     "output_type": "execute_result"
    },
    {
     "data": {
      "image/png": "[encoded data removed]",
      "text/plain": [
       "<Figure size 360x360 with 1 Axes>"
      ]
     },
     "metadata": {
      "needs_background": "light"
     },
     "output_type": "display_data"
    },
    {
     "data": {
      "image/png": "[encoded data removed]",
      "text/plain": [
       "<Figure size 360x360 with 1 Axes>"
      ]
     },
     "metadata": {
      "needs_background": "light"
     },
     "output_type": "display_data"
    }
   ],
   "source": [
    "print(z1.describe())\n",
    "print(z2.describe())"
   ]
  },
  {
   "cell_type": "markdown",
   "metadata": {},
   "source": [
    "Under this assumption we apply a T-test that is a parametric test used to test for a statistically significant difference in the means between 2 groups. "
   ]
  },
  {
   "cell_type": "code",
   "execution_count": null,
   "metadata": {},
   "outputs": [],
   "source": [
    "summary, results = rp.ttest(group1= z1, group1_name= \"Russian\", group2= z2, group2_name= \"Chinese\",  equal_variances= False)\n",
    "#print(summary)\n",
    "print(results)"
   ]
  },
  {
   "cell_type": "markdown",
   "metadata": {},
   "source": [
    "Based on the p-value in the third case, Difference > 0,that is equal to 1, we accept the null hypothesis, so we can say that there is a difference."
   ]
  },
  {
   "cell_type": "markdown",
   "metadata": {},
   "source": [
    "### Can you find any significant relationship between the time that a user lets pass before he updates the review and the Weighted Vote Score? Use an appropriate statistical test or technique and support your choice."
   ]
  },
  {
   "cell_type": "markdown",
   "metadata": {},
   "source": [
    "An idea could be fitted a linear regression, where y=W vote score is the dependent variable and the time between creation and update is the predictor."
   ]
  },
  {
   "cell_type": "code",
   "execution_count": null,
   "metadata": {},
   "outputs": [],
   "source": [
    "from sklearn.linear_model import LinearRegression\n",
    "from sklearn.model_selection import train_test_split\n",
    "from sklearn.metrics import mean_absolute_error\n",
    "import statsmodels.api as sm\n",
    "from statsmodels.tools.eval_measures import mse, rmse\n",
    "import seaborn as sns\n",
    "pd.options.display.float_format = '{:.5f}'.format\n",
    "import warnings\n",
    "import math\n",
    "import scipy.stats as stats\n",
    "import scipy\n",
    "from sklearn.preprocessing import scale\n",
    "warnings.filterwarnings('ignore')\n",
    "import numpy as np"
   ]
  },
  {
   "cell_type": "code",
   "execution_count": null,
   "metadata": {},
   "outputs": [],
   "source": [
    "y=df[ 'weighted_vote_score'] #dependent var\n",
    "y=np.array(y)\n",
    "t2=(df.timestamp_updated - df.timestamp_created) #predictor\n",
    "t2=np.array(t2)\n",
    "t2=t2.reshape((-1, 1))"
   ]
  },
  {
   "cell_type": "code",
   "execution_count": null,
   "metadata": {},
   "outputs": [],
   "source": [
    "X_train, X_test, y_train, y_test = train_test_split(t2, y, test_size = 0.2, random_state = 465)\n",
    "\n",
    "print('Training Data Count: {}'.format(X_train.shape[0]))\n",
    "print('Testing Data Count: {}'.format(X_test.shape[0]))"
   ]
  },
  {
   "cell_type": "code",
   "execution_count": null,
   "metadata": {},
   "outputs": [],
   "source": [
    "X_train = sm.add_constant(X_train)\n",
    "results = sm.OLS(y_train, X_train).fit()\n",
    "results.summary()"
   ]
  },
  {
   "cell_type": "markdown",
   "metadata": {},
   "source": [
    "The square R shows the amount of variance explained by the model. It's something like your model's capabilities. The adjusted R squared is also similar to the R squared, but it only counts statistically significant variables. In our case, they are both very low. The coefficient of x is statistically significant (p<0.05), but it is so low as to be insignificant. Also graphically we see that the line does not fit well with the model, therefore we cannot say that there is a significant (linear) relationship-"
   ]
  },
  {
   "cell_type": "code",
   "execution_count": null,
   "metadata": {},
   "outputs": [],
   "source": [
    "X_test = sm.add_constant(X_test)\n",
    "\n",
    "y_preds = results.predict(X_test)\n",
    "\n",
    "plt.figure(dpi = 75)\n",
    "plt.scatter(y_test, y_preds)\n",
    "plt.plot(y_test, y_test, color=\"red\")\n",
    "plt.xlabel(\"Actual Scores\")\n",
    "plt.ylabel(\"Estimated Scores\")\n",
    "plt.title(\"Model: Actual vs Estimated Scores\")\n",
    "plt.show()"
   ]
  },
  {
   "cell_type": "markdown",
   "metadata": {},
   "source": [
    "### Is there any change in the relationship of the variables mentioned in the previous literal if you include whether an application is recommended or not in the review? Use an appropriate statistical test or technique and support your choice."
   ]
  },
  {
   "cell_type": "markdown",
   "metadata": {},
   "source": [
    "We again fit a regression adding the variable \"reccomended\" as boolean (False=0,True=1).\n"
   ]
  },
  {
   "cell_type": "code",
   "execution_count": null,
   "metadata": {},
   "outputs": [],
   "source": [
    "t3=df['recommended'].astype(int)\n",
    "t4=t2=(df.timestamp_updated - df.timestamp_created)\n",
    "t4=np.array(t4)\n",
    "X_1=np.vstack([t4,t3])\n",
    "X_1 = X_1.transpose()\n"
   ]
  },
  {
   "cell_type": "code",
   "execution_count": null,
   "metadata": {},
   "outputs": [],
   "source": [
    "X1_train, X1_test, y1_train, y1_test = train_test_split(X_1, y, test_size = 0.2, random_state = 465)\n",
    "\n",
    "print('Training Data Count: {}'.format(X_train.shape[0]))\n",
    "print('Testing Data Count: {}'.format(X_test.shape[0]))"
   ]
  },
  {
   "cell_type": "code",
   "execution_count": null,
   "metadata": {},
   "outputs": [],
   "source": [
    "X1_train = sm.add_constant(X1_train)\n",
    "results1 = sm.OLS(y1_train, X1_train).fit()\n",
    "results1.summary()"
   ]
  },
  {
   "cell_type": "markdown",
   "metadata": {},
   "source": [
    "Surely the R-square value is higher, we have a slightly better model. Both variables are stat. significant and looking at the coefficient of x2 (recmmended) equal to -0.13 we can say that we expect the score to be lower than 0.13 when recommended = 0, or False (compared to the expected average score). Again the time coefficient is very small, even if bigger then the previous case. To sum up, we can say that the \"link\" between the variables is slightly stronger in this case, but not worthy of note."
   ]
  },
  {
   "cell_type": "markdown",
   "metadata": {},
   "source": [
    "### What are histograms, bar plots, scatterplots and pie charts used for?"
   ]
  },
  {
   "cell_type": "markdown",
   "metadata": {},
   "source": [
    "A histogram is visula representation of the distribution of numerical data usually grouped in bins which a non \n",
    "overlapped series of intervals.\n",
    "A bar chart or bar graph is a chart or graph that presents categorical data with rectangular bars with heights \n",
    "or lengths proportional to the values that they represent.\n",
    "A scatter plot uses dots to represent values for two different numeric variables expressing the relationship that \n",
    "occurs between the two variables.\n",
    "A pie chart is a circular graphic method which is used to illustrate numerical proportion into a group of variables.\n"
   ]
  },
  {
   "cell_type": "markdown",
   "metadata": {},
   "source": [
    "### What insights can you extract from a Box Plot?"
   ]
  },
  {
   "cell_type": "markdown",
   "metadata": {},
   "source": [
    "The box-plot is a graphical representation that can be used to describe the distribution of data through 5 indices: the minimum, the maximum, the median (quantile lev=0.5) and the first and third quartiles.\n",
    "The \"box\" is delimited by the first and third quartiles (so the height is the interquantile difference IQR = q3-q1)and divided inside by the median. The \"whiskers\" are delimited by the minimum and maximum of the values. In this way the data is divided into four intervals with the same number of elements and this shows, for example, if the distribution is symmetric or not. Data that does not fit into the \"whiskers\" are called outliers, they are defined as outside the interval [-IQR,+IQR]."
   ]
  },
  {
   "cell_type": "markdown",
   "metadata": {},
   "source": [
    "# Bonus points"
   ]
  },
  {
   "cell_type": "code",
   "execution_count": null,
   "metadata": {},
   "outputs": [],
   "source": [
    "'''\n",
    "For this homework, you are required to work with all data in the steam_reviews.csv. An extension (two files) \n",
    "of the dataset is available in the next links:\n",
    "\n",
    "a. File 1 to be downloaded from https://sapienza2021adm.s3.eu-south-1.amazonaws.com/steam_reviews_bonus_1.zip.\n",
    "\n",
    "b. File 2 to be downloaded from https://sapienza2021adm.s3.eu-south-1.amazonaws.com/steam_reviews_bonus_2.zip.\n",
    "\n",
    "It is not necessary to use the extension for this homework, however, if you decide to use it, we will take it into\n",
    "account in the final evaluation. In summary, to get the bonus points you are required to work with\n",
    "[steam_reviews.csv + two files of extension] all together.\n",
    "''';\n"
   ]
  },
  {
   "cell_type": "markdown",
   "metadata": {},
   "source": [
    "# Theoretical Questions"
   ]
  },
  {
   "cell_type": "markdown",
   "metadata": {},
   "source": [
    "# TQ1"
   ]
  },
  {
   "cell_type": "code",
   "execution_count": null,
   "metadata": {},
   "outputs": [],
   "source": [
    "'''\n",
    "We are given the following algorithm.\n",
    "\n",
    "Input: \n",
    "    A: array of length n\n",
    "    k: integers between 1 and n\n",
    "    \n",
    "function alg(A, k):\n",
    "  s <-- a random element of A\n",
    "  set L = [all the elements of A with value <= s]\n",
    "  set R = [all the elements of A with value > s]\n",
    "  r = len(L)\n",
    "  if k == r:\n",
    "    return s\n",
    "  else if k < r:  \n",
    "    return alg(L, k)\n",
    "  else:\n",
    "    return alg(R, k - r)\n",
    "''';\n",
    "import random\n",
    "#IMPLEMENTATION\n",
    "'''\n",
    "def alg(A, k):\n",
    "    #s= a random element of A\n",
    "    s=random.choice(A)\n",
    "    print(s)\n",
    "    L = [x for x in A if x<=s]\n",
    "    print('L=',L)\n",
    "    R = [x for x in A if x>s]\n",
    "    print('R=',R)\n",
    "    lung = len(L)\n",
    "    if k == lung:\n",
    "        return s\n",
    "    elif k < lung:  \n",
    "        return alg(L, k)\n",
    "    else:\n",
    "        return alg(R, k - lung)\n",
    "    \n",
    "alg(A,k)\n",
    "''';"
   ]
  },
  {
   "cell_type": "markdown",
   "metadata": {},
   "source": [
    "### What does the algorithm compute?"
   ]
  },
  {
   "cell_type": "markdown",
   "metadata": {},
   "source": [
    "The algorith find the k smallest element in the Array."
   ]
  },
  {
   "cell_type": "markdown",
   "metadata": {},
   "source": [
    "### What is asymptotically (i.e., we are asking for big-O complexity) the running time of the algorithm in the worst case, as a function of n?"
   ]
  },
  {
   "cell_type": "markdown",
   "metadata": {},
   "source": [
    "The worst case occurs when s=min(A)  and k=len(A).\n",
    "In this situation: $$\\begin{align}T(n) &= n + T(n-1)\\\\&= n + (n-1) + T(n-2)\\\\&= ...\\\\&=   \\sum_{i=0}^{n}n-i\\\\&= (\\sum_in + \\sum_i i)\\\\&= ...\\\\&= n^2 - n\\\\&=O(n^2) \\end{align}$$\n",
    "\n",
    "There are degenerate cases where we can not guarantees the convergence of the algorithm:\n",
    "$$ \\begin{itemize}\n",
    "    \\ K=0\n",
    "    \\ s=max(A): the probability is almost 0, but we can not exclude this behaviour\n",
    "    \\ the element we are looking is repeated in the array\n",
    "\\end{itemize} $$"
   ]
  },
  {
   "cell_type": "code",
   "execution_count": null,
   "metadata": {},
   "outputs": [],
   "source": [
    "### What is asymptotically the running time of the algorithm in the best case?"
   ]
  },
  {
   "cell_type": "markdown",
   "metadata": {},
   "source": [
    "The best case occurs for k=len(L) and the running time is $$ T(n)=1+n+1+1= O(n) $$"
   ]
  },
  {
   "cell_type": "markdown",
   "metadata": {},
   "source": [
    "The medium running time is $$ O(n) $$"
   ]
  },
  {
   "cell_type": "markdown",
   "metadata": {},
   "source": [
    "# TQ2"
   ]
  },
  {
   "cell_type": "code",
   "execution_count": null,
   "metadata": {},
   "outputs": [],
   "source": [
    "'''\n",
    "You are given the recursive function splitSwap, which accepts an array a, an index i, and a length n.\n",
    "\n",
    "function splitSwap(a, l, n):\n",
    "  if n <= 1:\n",
    "    return\n",
    "  splitSwap(a, l, n/2)\n",
    "  splitSwap(a, l+ n /2, n/2)\n",
    "  swapList(a, l, n)\n",
    "  \n",
    "The subroutine swapList is described here:\n",
    "\n",
    "function swapList(a, l, n):\n",
    "  for i = 0 to n/2:\n",
    "    tmp = a[l + i]\n",
    "    a[l + i] = a[l + n/2 + i]\n",
    "    a[l + n/2 + i] = tmp\n",
    "'''\n",
    "#IMPLEMENTATION\n",
    "\n",
    "\n",
    "def splitSwap(a, l, n, lvl=0):\n",
    "    if n <= 1:\n",
    "        return\n",
    "    indent = '\\t'*lvl\n",
    "    print(f\"{indent}entered at lvl {lvl} with a: {a}\\n\")\n",
    "    splitSwap(a, l, n//2, lvl+1)\n",
    "    splitSwap(a, l+ n//2, n//2, lvl+1)\n",
    "    print(f\"{indent}* a pre_swap: {a}\")\n",
    "    swapList(a, l, n)\n",
    "    print(f\"{indent}* a after_swap: {a}\\n\\n\")\n",
    "\n",
    "def swapList(a, l, n):\n",
    "    for i in range(n//2):\n",
    "        tmp = a[l + i]\n",
    "        a[l + i] = a[l + n//2 + i]\n",
    "        a[l + n//2 + i] = tmp\n",
    "    \n",
    "splitSwap([i for i in range(1,9)], 0, 8)\n",
    "\n",
    "\n"
   ]
  },
  {
   "cell_type": "markdown",
   "metadata": {},
   "source": [
    "### How much running time does it take to execute splitSwap(a, 0, n)? (We want a Big O analysis.)"
   ]
  },
  {
   "cell_type": "code",
   "execution_count": null,
   "metadata": {},
   "outputs": [],
   "source": [
    "# Alessandro ha il codice latex"
   ]
  },
  {
   "cell_type": "markdown",
   "metadata": {},
   "source": [
    "### What does this algorithm do? Is it optimal? Describe the mechanism of the algorithm in details, we do not want to know only its final result. HINT: Consider the scenario where len(a) and n are numbers that are a power of 2."
   ]
  },
  {
   "cell_type": "code",
   "execution_count": null,
   "metadata": {},
   "outputs": [],
   "source": [
    "The algorith reverse the subarray starting from the index i untill i+n : as the implementation shows, in every\n",
    "level we swap a subarray of dimension 2^(log2(n)-1-level).\n",
    "The algorith is not optimal since we can solve the same problem with an algorith with O(n)=n.\n",
    "For example we can consider another array B in which we store the elements of the Array A from the index l+n untill l \n",
    "( step=-1) and then we could copy the elements of B in the positions l untill l+n of A\n"
   ]
  },
  {
   "cell_type": "code",
   "execution_count": null,
   "metadata": {},
   "outputs": [],
   "source": [
    "def another_algorith(A,l,n):\n",
    "    B=[]\n",
    "    for i in range(l+n,l,-1):\n",
    "        B.append(A[i])\n",
    "    for i in range(l,l+n):\n",
    "        A[i]=B[i-l]\n",
    "        "
   ]
  },
  {
   "cell_type": "markdown",
   "metadata": {},
   "source": [
    "# TQ3"
   ]
  },
  {
   "cell_type": "code",
   "execution_count": null,
   "metadata": {},
   "outputs": [],
   "source": [
    "'''\n",
    "In the knapsack problem we are given n objects and each object i has a weight w_i and a value v_i.\n",
    "We are also given a weight budget W. The problem is to select a set of objects with total weight bounded by W \n",
    "that maximized the sum of their values. The following are three natural heuristics:\n",
    "\n",
    "*Order them in increasing order of weight and then visit them sequentially, adding them to the solution \n",
    "as long as the budget is not exceeded\n",
    "\n",
    "*Order them in decreasing order of values, and then visit them sequentially, adding them to the solution \n",
    "if the budget is not exceeded\n",
    "\n",
    "*Order them in decreasing relative value (v_i / w_i), and then visit them sequentially, adding them to the \n",
    "solution if the budget is not exceeded\n",
    "''';"
   ]
  },
  {
   "cell_type": "markdown",
   "metadata": {},
   "source": [
    "### For each of the heuristics, provide a counterexample, that is, an example of a problem instance in which the heuristic fails to provide the optimal solution."
   ]
  },
  {
   "cell_type": "markdown",
   "metadata": {},
   "source": [
    "### First "
   ]
  },
  {
   "cell_type": "markdown",
   "metadata": {},
   "source": [
    "Suppose the existence of two elements A={p=2,v=2}, B={p=1,v=0} and set the weight budget=W=2.\n",
    "If we order the objects in increasing order of weight and then visit them sequentially, adding them to the solution\n",
    "as long as the budget is not exceeded , we will find {B} with a total value of 0.\n",
    "This is not an optimal solution since the solution given by {A} respects the weight costraint \n",
    "and has a total value of 2."
   ]
  },
  {
   "cell_type": "markdown",
   "metadata": {},
   "source": [
    "### Second"
   ]
  },
  {
   "cell_type": "markdown",
   "metadata": {},
   "source": [
    "Suppose the existence of three elements A={v=3,p=3},B={v=2,p=1},C={p=1,v=2} and set the weight budget=3.\n",
    "If we order them in decreasing order of values, and then visit them sequentially, adding them to the \n",
    "solution if the budget is not exceeded, we will find {A} with a total value of 3.\n",
    "This is not an optimal solution since the solution given by {B,C} has a total weight of 2 and a total value of 4.\n"
   ]
  },
  {
   "cell_type": "markdown",
   "metadata": {},
   "source": [
    "### Third"
   ]
  },
  {
   "cell_type": "markdown",
   "metadata": {},
   "source": [
    "Suppose the existence of two elements A={v=2,p=1,v/p=2}, B={v=3,p=3,v/p=1} and set the weight budget=3.\n",
    "If we order them in decreasing relative value (v_i / w_i), and then visit them sequentially, adding them\n",
    "to the solution if the budget is not exceeded, we will find {A} with a total value of 2.\n",
    "This is not an optimal solution since the solution given by {B} respects the weight costraint \n",
    "and has a total value of 3."
   ]
  },
  {
   "cell_type": "code",
   "execution_count": null,
   "metadata": {},
   "outputs": [],
   "source": []
  }
 ],
 "metadata": {
  "colab": {
   "collapsed_sections": [],
   "name": "Untitled0.ipynb",
   "provenance": [],
   "toc_visible": true
  },
  "kernelspec": {
   "display_name": "Python 3",
   "language": "python",
   "name": "python3"
  },
  "language_info": {
   "codemirror_mode": {
    "name": "ipython",
    "version": 3
   },
   "file_extension": ".py",
   "mimetype": "text/x-python",
   "name": "python",
   "nbconvert_exporter": "python",
   "pygments_lexer": "ipython3",
   "version": "3.8.8"
  }
 },
 "nbformat": 4,
 "nbformat_minor": 1
}
