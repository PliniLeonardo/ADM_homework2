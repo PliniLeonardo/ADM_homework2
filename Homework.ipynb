{
 "cells": [
  {
   "cell_type": "markdown",
   "metadata": {
    "id": "c0NkNIdOUUHN"
   },
   "source": [
    "# HW2- Steam Reviews\n"
   ]
  },
  {
   "cell_type": "markdown",
   "metadata": {},
   "source": [
    "### Usefull libraries"
   ]
  },
  {
   "cell_type": "code",
   "execution_count": 2,
   "metadata": {},
   "outputs": [],
   "source": [
    "import pandas as pd\n",
    "import numpy as np  \n",
    "import matplotlib.pyplot as plt\n",
    "from support_functions import *\n"
   ]
  },
  {
   "cell_type": "code",
   "execution_count": 3,
   "metadata": {},
   "outputs": [],
   "source": [
    "def_ranges = [('06:00:00', '10:59:59'),\n",
    "('11:00:00', '13:59:59'),\n",
    "('14:00:00', '16:59:59'),\n",
    "('17:00:00', '19:59:59'),\n",
    "('20:00:00', '23:59:59'),\n",
    "('00:00:00', '02:59:59'),\n",
    "('03:00:00', '05:59:59')]\n",
    "\n",
    "total_dataframe = 'data/combinato_finale.csv'\n",
    "timestamp_dataframe = 'data/datetime_dataframe'\n",
    "df = pd.read_csv(total_dataframe)"
   ]
  },
  {
   "cell_type": "markdown",
   "metadata": {},
   "source": [
    "# [RQ1]: Exploratory Data Analysis"
   ]
  },
  {
   "cell_type": "code",
   "execution_count": null,
   "metadata": {},
   "outputs": [],
   "source": [
    "#eliminate duplicates\n",
    "df=df.drop_duplicates(subset=['Unnamed: 0', 'app_id', 'app_name', 'review_id', 'language', 'review',\n",
    "       'timestamp_created', 'timestamp_updated', 'recommended',\n",
    "       'votes_helpful', 'votes_funny', 'weighted_vote_score', 'comment_count',\n",
    "       'steam_purchase', 'received_for_free', 'written_during_early_access',\n",
    "       'author.steamid', 'author.num_games_owned', 'author.num_reviews',\n",
    "       'author.playtime_forever', 'author.playtime_last_two_weeks',\n",
    "       'author.playtime_at_review', 'author.last_played'], keep='first', inplace=False, ignore_index=False)"
   ]
  },
  {
   "cell_type": "code",
   "execution_count": 24,
   "metadata": {},
   "outputs": [
    {
     "name": "stdout",
     "output_type": "stream",
     "text": [
      "<class 'pandas.core.frame.DataFrame'>\n",
      "RangeIndex: 21747371 entries, 0 to 21747370\n",
      "Data columns (total 24 columns):\n",
      " #   Column                          Dtype         \n",
      "---  ------                          -----         \n",
      " 0   Unnamed: 0                      int64         \n",
      " 1   app_id                          int64         \n",
      " 2   app_name                        object        \n",
      " 3   review_id                       int64         \n",
      " 4   language                        object        \n",
      " 5   review                          object        \n",
      " 6   timestamp_created               datetime64[ns]\n",
      " 7   timestamp_updated               datetime64[ns]\n",
      " 8   recommended                     bool          \n",
      " 9   votes_helpful                   int64         \n",
      " 10  votes_funny                     int64         \n",
      " 11  weighted_vote_score             float64       \n",
      " 12  comment_count                   int64         \n",
      " 13  steam_purchase                  bool          \n",
      " 14  received_for_free               bool          \n",
      " 15  written_during_early_access     bool          \n",
      " 16  author.steamid                  int64         \n",
      " 17  author.num_games_owned          int64         \n",
      " 18  author.num_reviews              int64         \n",
      " 19  author.playtime_forever         float64       \n",
      " 20  author.playtime_last_two_weeks  float64       \n",
      " 21  author.playtime_at_review       float64       \n",
      " 22  author.last_played              float64       \n",
      " 23  updated                         bool          \n",
      "dtypes: bool(5), datetime64[ns](2), float64(5), int64(9), object(3)\n",
      "memory usage: 3.2+ GB\n"
     ]
    }
   ],
   "source": [
    "df.info()"
   ]
  },
  {
   "cell_type": "markdown",
   "metadata": {
    "id": "izowx8OkauCN"
   },
   "source": [
    "We can see that there are 23 columns, 8 integer,5 decimal, 4 boolean and 6 of other type.\n",
    "The first one 'Unnamed' can be consider just like an index.\n"
   ]
  },
  {
   "cell_type": "code",
   "execution_count": null,
   "metadata": {},
   "outputs": [],
   "source": [
    "df.head(3)"
   ]
  },
  {
   "cell_type": "code",
   "execution_count": null,
   "metadata": {
    "colab": {
     "base_uri": "https://localhost:8080/"
    },
    "executionInfo": {
     "elapsed": 2263,
     "status": "ok",
     "timestamp": 1634244260432,
     "user": {
      "displayName": "camilla savarese",
      "photoUrl": "https://lh3.googleusercontent.com/a/default-user=s64",
      "userId": "01187100401107976032"
     },
     "user_tz": -120
    },
    "id": "iDgrdzC-bEVA",
    "outputId": "68a23256-d05a-463e-8c21-a17b723c1da2"
   },
   "outputs": [],
   "source": [
    "df.isnull().sum()"
   ]
  },
  {
   "cell_type": "markdown",
   "metadata": {
    "id": "pUbzJQE8duEQ"
   },
   "source": [
    "It appears that the variables with missing values ​​are: 'review' (which contains the text itself) with 32723 null values , 'author.playtime_at_review' (Author playtime of reviewed app at time of review) with 24613 null values .\n",
    "We should neglect other variables such as'author.playtime_forever','author.playtime_last_two_weeks', 'author.last_played ' since they have just 2 null values."
   ]
  },
  {
   "cell_type": "code",
   "execution_count": null,
   "metadata": {
    "id": "CnK32w4ceJ5h"
   },
   "outputs": [],
   "source": [
    "df.describe()"
   ]
  },
  {
   "cell_type": "markdown",
   "metadata": {},
   "source": [
    "We obtain a general overview of hour numerical variables with some of the most important statistical features:\n",
    "for example, weighted_vote_score seems to have a small average velue justified by the presence of a large number of 0 (the second quantile is 0).\n",
    "Another important variable is represented by author.num_reviews which provides a general indication of the fruition of \n",
    "the platform: there is a strong asymmetric distribution among the data and we could understand from the minumun, the quantiles and the maximun that a large number of people had made a very small number of reviews while , on the other hand, an extra small group provided an incredible amount of opinions.\n"
   ]
  },
  {
   "cell_type": "code",
   "execution_count": null,
   "metadata": {},
   "outputs": [],
   "source": [
    "import seaborn as sns"
   ]
  },
  {
   "cell_type": "code",
   "execution_count": null,
   "metadata": {},
   "outputs": [],
   "source": [
    "#seaborn.heatmap(df)\n",
    "df_kor = df.corr()\n",
    "plt.figure(figsize=(15,15))\n",
    "sns.heatmap(df_kor, vmin=-1, vmax=1, cmap=\"viridis\", annot=True, linewidth=0.1)\n",
    "\n"
   ]
  },
  {
   "cell_type": "markdown",
   "metadata": {},
   "source": [
    "We see that there is a positive correlation (0.96) between the variables timestamp_created and timestamp_update and this is not \n",
    "surprising because most of the people never update their review ( most of the values stay the same).\n",
    "It is also easy to understand the high correlation (0.83 ) between author.playtime_at_review and author.playtime_forever \n",
    "since the variable are the same untill the moment of the review.\n",
    "For what concerns negative correlation, there is not any remarkable relationship."
   ]
  },
  {
   "cell_type": "markdown",
   "metadata": {
    "id": "MDUD-6R9gfFn"
   },
   "source": [
    "Now let's focus on the variables that we consider more interesting. We start with app_name."
   ]
  },
  {
   "cell_type": "code",
   "execution_count": null,
   "metadata": {
    "scrolled": true
   },
   "outputs": [],
   "source": [
    "#App_name LEO\n",
    "\n",
    "\n",
    "df_new=df[['app_name']]\n",
    "grp = df_new.groupby('app_name').size()\n",
    "\n",
    "app_names=grp.sort_values(ascending=False)\n",
    "app_names=pd.DataFrame(app_names)\n",
    "app_names.columns=['Occurences']\n",
    "app_names[:10]\n",
    "\n",
    "\n"
   ]
  },
  {
   "cell_type": "code",
   "execution_count": null,
   "metadata": {},
   "outputs": [],
   "source": [
    "result=app_names['Occurences'][:10]\n",
    "result.plot.pie()\n"
   ]
  },
  {
   "cell_type": "code",
   "execution_count": null,
   "metadata": {
    "scrolled": true
   },
   "outputs": [],
   "source": [
    "app_names.head(10).plot.bar( figsize=(5,5),\n",
    "                            colormap = 'Pastel2', rot = 90, title = 'Numbers of apps',\n",
    "                            xlabel = \"App's name\", ylabel = 'Occurencies')\n",
    "plt.show()"
   ]
  },
  {
   "cell_type": "markdown",
   "metadata": {
    "id": "WqkY2fa_h1Ug"
   },
   "source": [
    "In total there are 315 different apps, the most common are: PLAYERUNKNOWN'S BATTLEGROUNDS (8%),Grand Theft Auto V (5%) and.. (bo va visto sui dati tot).\n"
   ]
  },
  {
   "cell_type": "markdown",
   "metadata": {
    "id": "u6Giqz-mmWbJ"
   },
   "source": [
    "Now we consider the language. The most common are..."
   ]
  },
  {
   "cell_type": "code",
   "execution_count": null,
   "metadata": {
    "colab": {
     "base_uri": "https://localhost:8080/",
     "height": 828
    },
    "executionInfo": {
     "elapsed": 1387,
     "status": "ok",
     "timestamp": 1634497634244,
     "user": {
      "displayName": "camilla savarese",
      "photoUrl": "https://lh3.googleusercontent.com/a/default-user=s64",
      "userId": "01187100401107976032"
     },
     "user_tz": -120
    },
    "id": "lQURMq01mb1x",
    "outputId": "8a888d2d-c7c3-43cd-b94d-85a42ca10efb"
   },
   "outputs": [],
   "source": [
    "result=df[\"language\"].value_counts(normalize=True)\n",
    "result.head(20).plot.bar( figsize=(5,5),\n",
    "                            colormap = 'Pastel2', rot = 90, title = 'Numbers of apps',\n",
    "                            xlabel = \"App's name\", ylabel = 'Occurencies')"
   ]
  },
  {
   "cell_type": "markdown",
   "metadata": {
    "id": "O-tEMm6YpzN6"
   },
   "source": [
    "Recommended and steam_purchase \n",
    "We observe that 92% of review authors recommend the app and 78% of them purchased the app on Steam. But only 72% of the authors give a positive opinion and then actually buy the app."
   ]
  },
  {
   "cell_type": "code",
   "execution_count": null,
   "metadata": {
    "colab": {
     "base_uri": "https://localhost:8080/"
    },
    "executionInfo": {
     "elapsed": 1563,
     "status": "ok",
     "timestamp": 1634499541495,
     "user": {
      "displayName": "camilla savarese",
      "photoUrl": "https://lh3.googleusercontent.com/a/default-user=s64",
      "userId": "01187100401107976032"
     },
     "user_tz": -120
    },
    "id": "pa0iP7e8resC",
    "outputId": "c9098695-ec19-4e49-a0a4-12ee2924d5a1"
   },
   "outputs": [],
   "source": [
    "print(df[\"recommended\"].value_counts(normalize=True))\n",
    "print()\n",
    "\n",
    "print(df[\"steam_purchase\"].value_counts(normalize=True))\n",
    "\n",
    "print(len(df[  (df.recommended == True) &(df.steam_purchase == True)  ])/ len(df['recommended']))"
   ]
  },
  {
   "cell_type": "markdown",
   "metadata": {
    "id": "vE180Jo1vUoZ"
   },
   "source": [
    "\n",
    "author.num_reviews :Number of lifetime app reviews by author\n",
    "Con i dati veri si può fare un commento.\n"
   ]
  },
  {
   "cell_type": "code",
   "execution_count": null,
   "metadata": {
    "colab": {
     "base_uri": "https://localhost:8080/"
    },
    "executionInfo": {
     "elapsed": 764,
     "status": "ok",
     "timestamp": 1634499802250,
     "user": {
      "displayName": "camilla savarese",
      "photoUrl": "https://lh3.googleusercontent.com/a/default-user=s64",
      "userId": "01187100401107976032"
     },
     "user_tz": -120
    },
    "id": "tDRNRuCJvkpw",
    "outputId": "e8e4154a-a15c-403c-f6b3-9e83e9cc3a15"
   },
   "outputs": [],
   "source": [
    "print(df[\"author.num_reviews\"].describe())\n"
   ]
  },
  {
   "cell_type": "markdown",
   "metadata": {
    "id": "HAUFwhMcx9Ci"
   },
   "source": [
    "# RQ2: Let's explore the dataset by finding simple insights into the reviews."
   ]
  },
  {
   "cell_type": "code",
   "execution_count": 17,
   "metadata": {},
   "outputs": [],
   "source": [
    "dtype_dic= {'review_id':int,'app_name':str, 'language':str,\n",
    "       'timestamp_created':int, 'timestamp_updated':int, 'recommended':bool,\n",
    "       'votes_helpful':int, 'votes_funny':int, 'weighted_vote_score':float,\n",
    "       'steam_purchase':bool, 'received_for_free':bool, 'author.steamid':int,\n",
    "       'author.num_reviews':int,'author.playtime_forever':float,'author.playtime_at_review':float }\n",
    "df = pd.read_csv('combinato_finale.csv',low_memory=False)# , dtype = dtype_dic)"
   ]
  },
  {
   "cell_type": "code",
   "execution_count": 3,
   "metadata": {},
   "outputs": [
    {
     "name": "stdout",
     "output_type": "stream",
     "text": [
      "<class 'pandas.core.frame.DataFrame'>\n",
      "RangeIndex: 27000012 entries, 0 to 27000011\n",
      "Data columns (total 18 columns):\n",
      " #   Column                     Dtype  \n",
      "---  ------                     -----  \n",
      " 0   Unnamed: 0                 int64  \n",
      " 1   Unnamed: 0.1               int64  \n",
      " 2   Unnamed: 0.1.1             object \n",
      " 3   app_name                   object \n",
      " 4   review_id                  int64  \n",
      " 5   language                   object \n",
      " 6   timestamp_created          float64\n",
      " 7   timestamp_updated          object \n",
      " 8   recommended                object \n",
      " 9   votes_helpful              object \n",
      " 10  votes_funny                float64\n",
      " 11  weighted_vote_score        float64\n",
      " 12  steam_purchase             object \n",
      " 13  received_for_free          object \n",
      " 14  author.steamid             float64\n",
      " 15  author.num_reviews         float64\n",
      " 16  author.playtime_forever    float64\n",
      " 17  author.playtime_at_review  float64\n",
      "dtypes: float64(7), int64(3), object(8)\n",
      "memory usage: 3.6+ GB\n"
     ]
    }
   ],
   "source": [
    "df.info()"
   ]
  },
  {
   "cell_type": "markdown",
   "metadata": {},
   "source": [
    "### Plot the number of reviews for each application in descending order.\n",
    "We simply count the number of reviews for each app (grouped by app_name) and order them\n"
   ]
  },
  {
   "cell_type": "code",
   "execution_count": 4,
   "metadata": {
    "id": "s1ZJ8q5HyJf_"
   },
   "outputs": [
    {
     "data": {
      "text/plain": [
       "<AxesSubplot:>"
      ]
     },
     "execution_count": 4,
     "metadata": {},
     "output_type": "execute_result"
    },
    {
     "data": {
      "image/png": "[encoded data removed]",
      "text/plain": [
       "<Figure size 432x288 with 1 Axes>"
      ]
     },
     "metadata": {
      "needs_background": "light"
     },
     "output_type": "display_data"
    }
   ],
   "source": [
    "new = df[['app_name']]\n",
    "a=new[\"app_name\"].value_counts()\n",
    "app_sort=a.sort_values(ascending=False) #lo salvo perchè serve dopo\n",
    "app_sort.head(30).plot.bar()"
   ]
  },
  {
   "cell_type": "markdown",
   "metadata": {},
   "source": [
    "### What applications have the best Weighted Vote Score?\n",
    "We group by app_name, and see both which apps have the highest average weighted vote score\n"
   ]
  },
  {
   "cell_type": "code",
   "execution_count": 5,
   "metadata": {
    "id": "HH9T9qoF6EXm"
   },
   "outputs": [
    {
     "data": {
      "text/html": [
       "<div>\n",
       "<style scoped>\n",
       "    .dataframe tbody tr th:only-of-type {\n",
       "        vertical-align: middle;\n",
       "    }\n",
       "\n",
       "    .dataframe tbody tr th {\n",
       "        vertical-align: top;\n",
       "    }\n",
       "\n",
       "    .dataframe thead th {\n",
       "        text-align: right;\n",
       "    }\n",
       "</style>\n",
       "<table border=\"1\" class=\"dataframe\">\n",
       "  <thead>\n",
       "    <tr style=\"text-align: right;\">\n",
       "      <th></th>\n",
       "      <th>weighted_vote_score</th>\n",
       "    </tr>\n",
       "    <tr>\n",
       "      <th>app_name</th>\n",
       "      <th></th>\n",
       "    </tr>\n",
       "  </thead>\n",
       "  <tbody>\n",
       "    <tr>\n",
       "      <th>20XX</th>\n",
       "      <td>0.209921</td>\n",
       "    </tr>\n",
       "    <tr>\n",
       "      <th>A Hat in Time</th>\n",
       "      <td>0.167747</td>\n",
       "    </tr>\n",
       "    <tr>\n",
       "      <th>A Short Hike</th>\n",
       "      <td>0.138672</td>\n",
       "    </tr>\n",
       "    <tr>\n",
       "      <th>A Way Out</th>\n",
       "      <td>0.161331</td>\n",
       "    </tr>\n",
       "    <tr>\n",
       "      <th>ARK: Survival Evolved</th>\n",
       "      <td>0.193326</td>\n",
       "    </tr>\n",
       "    <tr>\n",
       "      <th>...</th>\n",
       "      <td>...</td>\n",
       "    </tr>\n",
       "    <tr>\n",
       "      <th>Warhammer: Vermintide 2</th>\n",
       "      <td>0.210808</td>\n",
       "    </tr>\n",
       "    <tr>\n",
       "      <th>Wolfenstein: Youngblood</th>\n",
       "      <td>0.354932</td>\n",
       "    </tr>\n",
       "    <tr>\n",
       "      <th>X Rebirth</th>\n",
       "      <td>0.380447</td>\n",
       "    </tr>\n",
       "    <tr>\n",
       "      <th>X-Blades</th>\n",
       "      <td>0.252000</td>\n",
       "    </tr>\n",
       "    <tr>\n",
       "      <th>三国群英传8 Heroes of the Three Kingdoms 8</th>\n",
       "      <td>0.121042</td>\n",
       "    </tr>\n",
       "  </tbody>\n",
       "</table>\n",
       "<p>192 rows × 1 columns</p>\n",
       "</div>"
      ],
      "text/plain": [
       "                                       weighted_vote_score\n",
       "app_name                                                  \n",
       "20XX                                              0.209921\n",
       "A Hat in Time                                     0.167747\n",
       "A Short Hike                                      0.138672\n",
       "A Way Out                                         0.161331\n",
       "ARK: Survival Evolved                             0.193326\n",
       "...                                                    ...\n",
       "Warhammer: Vermintide 2                           0.210808\n",
       "Wolfenstein: Youngblood                           0.354932\n",
       "X Rebirth                                         0.380447\n",
       "X-Blades                                          0.252000\n",
       "三国群英传8 Heroes of the Three Kingdoms 8             0.121042\n",
       "\n",
       "[192 rows x 1 columns]"
      ]
     },
     "execution_count": 5,
     "metadata": {},
     "output_type": "execute_result"
    }
   ],
   "source": [
    "#In this way  the apps are sorted by  the score and then we can consider the top 5/10 (is up to us).\n",
    "new_1 = df[['app_name','weighted_vote_score'  ]]\n",
    "new_1.sort_values(by='weighted_vote_score',ascending=False)\n",
    "#In this way I compute the average score for each app\n",
    "new_1.groupby('app_name').agg({\"weighted_vote_score\":\"mean\"})\n",
    "#LO lascerei svolto in entrambi i modi, come dicono su slack. Non gredo che agg (aggregate) sia necessario ma non sapevo  farlo senza. Non faccio i commenti perchè tanto i risultati finali saranno diversi."
   ]
  },
  {
   "cell_type": "markdown",
   "metadata": {},
   "source": [
    "### Which applications have the most and the least recommendations?"
   ]
  },
  {
   "cell_type": "markdown",
   "metadata": {},
   "source": [
    "For each app, we count how many times it has been recommended."
   ]
  },
  {
   "cell_type": "code",
   "execution_count": 6,
   "metadata": {
    "colab": {
     "base_uri": "https://localhost:8080/",
     "height": 394
    },
    "executionInfo": {
     "elapsed": 1519,
     "status": "ok",
     "timestamp": 1634650682919,
     "user": {
      "displayName": "camilla savarese",
      "photoUrl": "https://lh3.googleusercontent.com/a/default-user=s64",
      "userId": "01187100401107976032"
     },
     "user_tz": -120
    },
    "id": "fD8DLgii6QJR",
    "outputId": "7927aeb9-acc8-4e0b-b492-f7913889e7e2"
   },
   "outputs": [
    {
     "data": {
      "image/png": "[encoded data removed]",
      "text/plain": [
       "<Figure size 432x288 with 1 Axes>"
      ]
     },
     "metadata": {
      "needs_background": "light"
     },
     "output_type": "display_data"
    },
    {
     "data": {
      "image/png": "[encoded data removed]",
      "text/plain": [
       "<Figure size 432x288 with 1 Axes>"
      ]
     },
     "metadata": {
      "needs_background": "light"
     },
     "output_type": "display_data"
    }
   ],
   "source": [
    "\n",
    "y=df.groupby('app_name').agg({\"recommended\":\"sum\"})\n",
    "#print(y)\n",
    "\n",
    "y=y.sort_values(by=\"recommended\",ascending=False)\n",
    "#print('the most recommended application is ...... with a total number of recommendations of .....', )\n",
    "y.head(10).plot.bar(title='top ten')\n",
    "#print('the worst recommended application is ..... with a total number of recommendations of ....', )\n",
    "y.tail(10).plot.bar(title='last ten',color='red') #least\n",
    "plt.show()"
   ]
  },
  {
   "cell_type": "markdown",
   "metadata": {},
   "source": [
    "Here we ordered the apps in relation to the raccomandations and we plotted the best ten apps and the worst ten apps.\n",
    "Note the differences between the y-axis dimensions"
   ]
  },
  {
   "cell_type": "markdown",
   "metadata": {},
   "source": [
    "\n",
    "\n",
    "### How many of these applications were purchased, and how many were given for free?"
   ]
  },
  {
   "cell_type": "code",
   "execution_count": 7,
   "metadata": {
    "colab": {
     "base_uri": "https://localhost:8080/"
    },
    "executionInfo": {
     "elapsed": 410,
     "status": "ok",
     "timestamp": 1634586591610,
     "user": {
      "displayName": "camilla savarese",
      "photoUrl": "https://lh3.googleusercontent.com/a/default-user=s64",
      "userId": "01187100401107976032"
     },
     "user_tz": -120
    },
    "id": "djlptn_N7oX4",
    "outputId": "3490b838-e0c1-453a-b0b4-b007d8c8820a"
   },
   "outputs": [
    {
     "name": "stdout",
     "output_type": "stream",
     "text": [
      "The application purchased are, in percentage: True        7.888729e-01\n",
      "False       2.111267e-01\n",
      "243.0       7.407407e-08\n",
      "473.0       7.407407e-08\n",
      "4083.0      7.407407e-08\n",
      "664.0       7.407407e-08\n",
      "1589.0      3.703704e-08\n",
      "118348.0    3.703704e-08\n",
      "1706.0      3.703704e-08\n",
      "3828.0      3.703704e-08\n",
      "Name: steam_purchase, dtype: float64\n",
      "The application given for free are, in percentage: False     9.698472e-01\n",
      "True      3.015233e-02\n",
      "0.0       4.074074e-07\n",
      "5245.0    3.703704e-08\n",
      "Name: received_for_free, dtype: float64\n"
     ]
    }
   ],
   "source": [
    "\n",
    "print(f\"The application purchased are, in percentage: {df['steam_purchase'].value_counts(normalize=True)}\")\n",
    "print(f\"The application given for free are, in percentage: {df['received_for_free'].value_counts(normalize=True)}\")"
   ]
  },
  {
   "cell_type": "markdown",
   "metadata": {},
   "source": [
    "We can note that the percentage of steam_purchased applications is over the 77% and the percentage of the given_for_free ones is over 96%. At first glance this values couldn't make sense, but we can consider that part of the applications given for free to the final users can be purchased by someone that wants the applications to be reviewed"
   ]
  },
  {
   "cell_type": "markdown",
   "metadata": {
    "id": "WK8oLBHB-RhP"
   },
   "source": [
    "# RQ3: Now it's important to understand the preferred time to do reviews.\n",
    "\n",
    "\n"
   ]
  },
  {
   "cell_type": "markdown",
   "metadata": {},
   "source": [
    "## Request 1"
   ]
  },
  {
   "cell_type": "markdown",
   "metadata": {},
   "source": [
    "\n",
    "I'll use the already loaded-in-memory dataset (in the variable df) in order to map every timestamp_created entry from the Datetime format, to a tuple made by the integer value of hour and minutes, once it's done i'll use the obtained column to group by the mapped rows counting the occourrence of every distinct row, i've subsequently used that pd.Series in order to extract the couple (hour, minutes) that maximizes the number of rows, so the number of reviews made in that hour range\n",
    "\n",
    "The results are printed with a formatted string"
   ]
  },
  {
   "cell_type": "markdown",
   "metadata": {},
   "source": [
    "In order to work with the datetime format from all the rows coming from the different files, we needed to preprocess the files given that the optional files contains strings and other problematic values.<br>\n",
    "Hence we've opened that file cleaning all the problematic rows and mantaining only the ones with a valid value for the creation and update timestamp with the following command:\n",
    "```\n",
    "df = df[df.timestamp_updated.apply(lambda x: not str(x).isalpha())].astype('float').astype('int')\n",
    "```\n",
    "After the cleaning we've stored the result in the csv file at the path 'data/datetime_dataframe.csv' that contains only the column relatives to the creation and update timestamp.<br>\n",
    "This file will be read with the ```read_csv_with_time``` function that will read and convert all the integer timestamp in the datetime format\n",
    "\n",
    "## NB:\n",
    "We know that with this type of processing we've removed all the lines containing in the 'timestamp_updated' field one of the following:\n",
    " * True\n",
    " * False\n",
    " * NaN\n",
    "But it's the safer way in order to avoid 'dirty' data given that the only interpretation that can be given to this is that the review has been updated (True) or not (False) or there aren't enough info (NaN), but we need the timestamp of *when* the review has been updated and not just *if* it is"
   ]
  },
  {
   "cell_type": "code",
   "execution_count": null,
   "metadata": {},
   "outputs": [],
   "source": [
    "datetime_df = read_csv_with_time(timestamp_dataframe, ['timestamp_created', 'timestamp_updated'])"
   ]
  },
  {
   "cell_type": "code",
   "execution_count": null,
   "metadata": {},
   "outputs": [],
   "source": [
    "timed = datetime_df.timestamp_created.apply(lambda x: (x.hour, x.minute))\n",
    "# grouping by values (the tuples of above) and counting the occourrences\n",
    "timed = timed.groupby(timed).count() \n",
    "amax = timed.argmax() # Getting the index of the maximum value\n",
    "\n",
    "# Retrievieng the answers and formatting them...\n",
    "hh, mm = timed.index[amax]\n",
    "n_rev = timed.values[amax]\n",
    "hh = \"{:0>2d}\".format(hh)\n",
    "mm = \"{:0>2d}\".format(mm)\n",
    "\n",
    "print(f\"The most common hour in wich are published the greater part of the reviews is at {hh}:{mm} with {n_rev} reviews published\")"
   ]
  },
  {
   "cell_type": "markdown",
   "metadata": {},
   "source": [
    "### Request 2"
   ]
  },
  {
   "cell_type": "markdown",
   "metadata": {},
   "source": [
    "The function required is the following and returns a pd.Series where the index are the index of the corresponding hour range and the values are the number of reviews made in that range"
   ]
  },
  {
   "cell_type": "code",
   "execution_count": 27,
   "metadata": {},
   "outputs": [],
   "source": [
    "def get_time_range_stats(ranges):\n",
    "    df = read_csv_with_time('data/datetime_dataframe.csv', ['timestamp_created'], usecols=['timestamp_created'])\n",
    "    ranges_int = get_integer_ranges(ranges)\n",
    "    ranged = df.timestamp_created.apply(lambda x: get_integer_range_index((x.hour, x.minute, x.second), ranges_int))\n",
    "    ranged = ranged.groupby(ranged).count()\n",
    "    return ranged"
   ]
  },
  {
   "cell_type": "markdown",
   "metadata": {},
   "source": [
    "### Request 3"
   ]
  },
  {
   "cell_type": "markdown",
   "metadata": {},
   "source": [
    "I've used the function above in order to plot by an horizontal bar chart, the number of reviews made for every hour range of the default ranges shown in the table above"
   ]
  },
  {
   "cell_type": "code",
   "execution_count": 26,
   "metadata": {},
   "outputs": [],
   "source": [
    "time_ranges_df = get_time_range_stats(def_ranges)"
   ]
  },
  {
   "cell_type": "code",
   "execution_count": 28,
   "metadata": {},
   "outputs": [
    {
     "name": "stdout",
     "output_type": "stream",
     "text": [
      "tot_rev: 26999988\n"
     ]
    },
    {
     "data": {
      "image/png": "[encoded data removed]",
      "text/plain": [
       "<Figure size 1440x720 with 1 Axes>"
      ]
     },
     "metadata": {
      "needs_background": "light"
     },
     "output_type": "display_data"
    }
   ],
   "source": [
    "plt.figure(figsize=(20,10))\n",
    "ax = time_ranges_df.plot(kind=\"barh\", color='green')\n",
    "ax.set_title(\"Reviews per hour ranges\")\n",
    "ax.set_ylabel(\"hour ranges\")\n",
    "ax.set_xlabel(\"Num of reviews\")\n",
    "ax.set_yticklabels(def_ranges)\n",
    "ax.grid(b=True, color='grey', linestyle='-.', linewidth=0.5, alpha=0.2)\n",
    "print(f\"tot_rev: {time_ranges_df.values.sum()}\")"
   ]
  },
  {
   "cell_type": "markdown",
   "metadata": {
    "id": "BVtj47B5D308"
   },
   "source": [
    "# RQ4 As Steam is a worldwide platform, the reviews can be done in many languages. Let's extract some information about it."
   ]
  },
  {
   "cell_type": "markdown",
   "metadata": {},
   "source": [
    "### What are the top 3 languages used to review applications?"
   ]
  },
  {
   "cell_type": "markdown",
   "metadata": {},
   "source": [
    "Group values by language and account.\n"
   ]
  },
  {
   "cell_type": "code",
   "execution_count": 18,
   "metadata": {
    "id": "XH6IIsrqD9kN"
   },
   "outputs": [
    {
     "name": "stdout",
     "output_type": "stream",
     "text": [
      "english\n",
      "schinese\n",
      "russian\n"
     ]
    }
   ],
   "source": [
    "lingue=df[\"language\"].value_counts(normalize=True)\n",
    "top=lingue[:3]\n",
    "top_list=list(top.index)\n",
    "print(*(x for x in top_list), sep='\\n')\n",
    "#top five"
   ]
  },
  {
   "cell_type": "markdown",
   "metadata": {},
   "source": [
    "### Create a function that receives as parameters both the name of a data set and a list of languages’ names and returns a data frame filtered only with the reviews written in the provided languages."
   ]
  },
  {
   "cell_type": "code",
   "execution_count": 19,
   "metadata": {
    "id": "5n44py7qEb2e"
   },
   "outputs": [],
   "source": [
    "\n",
    "def filter_language(dataset, languages,col_name):\n",
    "  return dataset.loc[dataset[col_name].isin(languages)]\n"
   ]
  },
  {
   "cell_type": "markdown",
   "metadata": {},
   "source": [
    "### Use the function created in the previous literal to find what percentage of these reviews (associated with the the top 3 languages) were voted as funny?"
   ]
  },
  {
   "cell_type": "markdown",
   "metadata": {},
   "source": [
    "After creating the subset by filtering with the function, we look for the lines that correspond to each language and that have at least one \"vote_funny\". Same for \"vote_helped\"."
   ]
  },
  {
   "cell_type": "code",
   "execution_count": 20,
   "metadata": {
    "colab": {
     "base_uri": "https://localhost:8080/"
    },
    "executionInfo": {
     "elapsed": 11783,
     "status": "ok",
     "timestamp": 1634672021570,
     "user": {
      "displayName": "camilla savarese",
      "photoUrl": "https://lh3.googleusercontent.com/a/default-user=s64",
      "userId": "01187100401107976032"
     },
     "user_tz": -120
    },
    "id": "-UNGmMDD3fX9",
    "outputId": "c1e1b33b-fe41-4748-a827-38e7098105b5"
   },
   "outputs": [
    {
     "name": "stdout",
     "output_type": "stream",
     "text": [
      "english   0.11%\n",
      "schinese   0.11%\n",
      "russian   0.11%\n"
     ]
    }
   ],
   "source": [
    "for i in top_list:\n",
    "     print(i+\"   \"+str(round(sum((df['votes_funny']!=0) & (df['language']==i))/sum(df['language']==i),2))+\"%\")\n"
   ]
  },
  {
   "cell_type": "markdown",
   "metadata": {},
   "source": [
    "### Use the function created in the literal “a” to find what percentage of these reviews (associated with the top 3 languages) were voted as helpful?"
   ]
  },
  {
   "cell_type": "code",
   "execution_count": 21,
   "metadata": {
    "colab": {
     "base_uri": "https://localhost:8080/"
    },
    "executionInfo": {
     "elapsed": 10476,
     "status": "ok",
     "timestamp": 1634672117666,
     "user": {
      "displayName": "camilla savarese",
      "photoUrl": "https://lh3.googleusercontent.com/a/default-user=s64",
      "userId": "01187100401107976032"
     },
     "user_tz": -120
    },
    "id": "jzts3OcdC6Rf",
    "outputId": "ae7ffc8f-6234-43c4-a1c6-0399a1f745a7"
   },
   "outputs": [
    {
     "name": "stdout",
     "output_type": "stream",
     "text": [
      "english   1.0%\n",
      "schinese   1.0%\n",
      "russian   1.0%\n"
     ]
    }
   ],
   "source": [
    "df_1= filter_language(df,top_list,'language') #dati filtrati\n",
    "for i in top_list:\n",
    "  print(i+\"   \"+str(round(sum((df['votes_helpful']!=0) & (df['language']==i))/sum(df['language']==i),2))+\"%\")"
   ]
  },
  {
   "cell_type": "markdown",
   "metadata": {
    "id": "prcNliAJ3gZt"
   },
   "source": [
    "# RQ5 The reviews' authors are users from the game that provide their opinion on it. Now you can check how often they make reviews."
   ]
  },
  {
   "cell_type": "markdown",
   "metadata": {},
   "source": [
    "### Plot the top 10 most popular reviewers and the number of reviews."
   ]
  },
  {
   "cell_type": "code",
   "execution_count": 15,
   "metadata": {
    "colab": {
     "base_uri": "https://localhost:8080/",
     "height": 395
    },
    "executionInfo": {
     "elapsed": 94978,
     "status": "ok",
     "timestamp": 1634655628889,
     "user": {
      "displayName": "Alessandro Pecchini",
      "photoUrl": "https://lh3.googleusercontent.com/a/default-user=s64",
      "userId": "11901581996892479685"
     },
     "user_tz": -120
    },
    "id": "n1ABlGeg4LMm",
    "outputId": "80067de5-6116-4867-8edf-73d3e444df9b"
   },
   "outputs": [],
   "source": [
    "#df= pd.read_csv('/content/drive/MyDrive/HW2-ADM/steam_reviews.csv',nrows=10000000)\n",
    "df_auth = df.groupby('author.steamid').review_id.count().sort_values(ascending=False)\n",
    "#df_auth[:10].plot.bar()"
   ]
  },
  {
   "cell_type": "code",
   "execution_count": 16,
   "metadata": {},
   "outputs": [
    {
     "data": {
      "text/plain": [
       "<AxesSubplot:xlabel='author.steamid'>"
      ]
     },
     "execution_count": 16,
     "metadata": {},
     "output_type": "execute_result"
    },
    {
     "data": {
      "image/png": "[encoded data removed]",
      "text/plain": [
       "<Figure size 432x288 with 1 Axes>"
      ]
     },
     "metadata": {
      "needs_background": "light"
     },
     "output_type": "display_data"
    }
   ],
   "source": [
    "df_auth.head(10).plot.bar()"
   ]
  },
  {
   "cell_type": "markdown",
   "metadata": {},
   "source": [
    "### What applications did the most popular author review? "
   ]
  },
  {
   "cell_type": "code",
   "execution_count": 17,
   "metadata": {
    "id": "NRnn_ehG5YKg"
   },
   "outputs": [],
   "source": [
    "#ALESSANDRO from_bigger_reviewer = df[df['author.steamid'] == df_auth[:1].index[0]]\n",
    "from_bigger_reviewer = df[df['author.steamid'] == df_auth.head(1).index[0]]"
   ]
  },
  {
   "cell_type": "code",
   "execution_count": 18,
   "metadata": {
    "colab": {
     "base_uri": "https://localhost:8080/"
    },
    "executionInfo": {
     "elapsed": 283,
     "status": "ok",
     "timestamp": 1634655642208,
     "user": {
      "displayName": "Alessandro Pecchini",
      "photoUrl": "https://lh3.googleusercontent.com/a/default-user=s64",
      "userId": "11901581996892479685"
     },
     "user_tz": -120
    },
    "id": "Jz4iSYyU8dQ4",
    "outputId": "306301ae-8a31-4ecd-f0dc-f2f0b7dac40a"
   },
   "outputs": [
    {
     "data": {
      "text/plain": [
       "512675                     Half-Life\n",
       "539037        Counter-Strike: Source\n",
       "658130      Half-Life 2: Episode Two\n",
       "849477                      Portal 2\n",
       "1549581                  Garry's Mod\n",
       "                      ...           \n",
       "21578107               Hollow Knight\n",
       "21624890               Day of Infamy\n",
       "21651066                  SimAirport\n",
       "21656340               Dead Rising 4\n",
       "21672218    Styx: Shards of Darkness\n",
       "Name: app_name, Length: 149, dtype: object"
      ]
     },
     "execution_count": 18,
     "metadata": {},
     "output_type": "execute_result"
    }
   ],
   "source": [
    "from_bigger_reviewer['app_name']"
   ]
  },
  {
   "cell_type": "markdown",
   "metadata": {},
   "source": [
    "### How many applications did he purchase, and how many did he get as free? Provide the number (count) and the percentage."
   ]
  },
  {
   "cell_type": "code",
   "execution_count": 19,
   "metadata": {
    "id": "qH1IMHp458JS"
   },
   "outputs": [
    {
     "name": "stdout",
     "output_type": "stream",
     "text": [
      "He got for free 4 applications (2.684563758389262%) and purchased 110 (73.8255033557047%) on total of 149\n",
      "   \n",
      "The author's recommended 4 and doesn't recommended 0 application from the ones received for free\n"
     ]
    }
   ],
   "source": [
    "'''\n",
    "ALESSANDRO\n",
    "free = from_bigger_reviewer[from_bigger_reviewer.received_for_free]\n",
    "n_free = len(free)\n",
    "purchased = from_bigger_reviewer[from_bigger_reviewer.steam_purchase]\n",
    "n_purch = len(purchased)\n",
    "tot = len(from_bigger_reviewer)\n",
    "print(f\"He got for free {n_free} applications ({n_free/tot*100}%) and purchased {n_purch} ({n_purch/tot*100}%) on total of {tot}\")\n",
    "print('   ')\n",
    "print(f\"The author's recommended {len(free['recommended'])} and doesn't recommended {n_free-len(free['recommended'])} application from the ones received for free\")\n",
    "'''\n",
    "free = from_bigger_reviewer[from_bigger_reviewer['received_for_free']]\n",
    "n_free = len(free)\n",
    "purchased = from_bigger_reviewer[from_bigger_reviewer['steam_purchase']]\n",
    "n_purch = len(purchased)\n",
    "tot = len(from_bigger_reviewer)\n",
    "print(f\"He got for free {n_free} applications ({n_free/tot*100}%) and purchased {n_purch} ({n_purch/tot*100}%) on total of {tot}\")\n",
    "print('   ')\n",
    "print(f\"The author's recommended {len(free['recommended'])} and doesn't recommended {n_free-len(free['recommended'])} application from the ones received for free\")\n"
   ]
  },
  {
   "cell_type": "markdown",
   "metadata": {},
   "source": [
    "### How many of the applications he purchased reviewed positively, and how many negatively? How about the applications he received for free?"
   ]
  },
  {
   "cell_type": "code",
   "execution_count": 20,
   "metadata": {},
   "outputs": [
    {
     "name": "stdout",
     "output_type": "stream",
     "text": [
      "   \n",
      " recommended 110 and doesn't recommended 0 application from the ones purchased\n"
     ]
    }
   ],
   "source": [
    "print('   ')\n",
    "print(f\" recommended {len(purchased['recommended'])} and doesn't recommended {n_purch-len(purchased['recommended'])} application from the ones purchased\")"
   ]
  },
  {
   "cell_type": "markdown",
   "metadata": {},
   "source": [
    "# [RQ6] It's time to get information from the updates that a user does to his reviews."
   ]
  },
  {
   "cell_type": "markdown",
   "metadata": {},
   "source": [
    "### What is the average time (days and minutes) a user lets pass before he updates a review?"
   ]
  },
  {
   "cell_type": "code",
   "execution_count": 13,
   "metadata": {},
   "outputs": [
    {
     "name": "stdout",
     "output_type": "stream",
     "text": [
      "The average time that pass between the creation and the update of the reviews is: 36 days 03:33:10.465412482\n"
     ]
    }
   ],
   "source": [
    "print(f\"The average time that pass between the creation and the update of the reviews is: {(datetime_df.timestamp_updated - datetime_df.timestamp_created).mean(numeric_only=False)}\")\n"
   ]
  },
  {
   "cell_type": "markdown",
   "metadata": {},
   "source": [
    "### Plot the top 3 authors that usually update their reviews."
   ]
  },
  {
   "cell_type": "code",
   "execution_count": 14,
   "metadata": {},
   "outputs": [
    {
     "name": "stdout",
     "output_type": "stream",
     "text": [
      "The authors that has updated their reviews more often are, in order:\n",
      "\t*76561198192166873 with 95 updated reviews\n",
      "\t*76561198206999976 with 61 updated reviews\n",
      "\t*76561198072450805 with 60 updated reviews\n"
     ]
    }
   ],
   "source": [
    "df['updated'] = df.timestamp_created != df.timestamp_updated\n",
    "grouped = df.groupby(df['author.steamid']).updated.sum().sort_values(ascending=False)\n",
    "auth = grouped[:3].index\n",
    "print(\"The authors that has updated their reviews more often are, in order:\")\n",
    "for a in auth:\n",
    "  print(f\"\\t*{a} with {grouped[a]} updated reviews\")"
   ]
  },
  {
   "cell_type": "markdown",
   "metadata": {
    "id": "qY_XymYaH6Ge"
   },
   "source": [
    "# RQ7 Of course, calculating probabilities is a job that any Data Scientist must know. Let's compute Some interesting figures."
   ]
  },
  {
   "cell_type": "markdown",
   "metadata": {
    "id": "L-AWty06aGxr"
   },
   "source": [
    "### What’s the probability that a review has a Weighted Vote Score equal to or bigger than 0.5?"
   ]
  },
  {
   "cell_type": "markdown",
   "metadata": {},
   "source": [
    "Simply whoever has a w. score greater than 0.5 on the total of the lines.\n"
   ]
  },
  {
   "cell_type": "code",
   "execution_count": 53,
   "metadata": {
    "colab": {
     "base_uri": "https://localhost:8080/"
    },
    "executionInfo": {
     "elapsed": 3941,
     "status": "ok",
     "timestamp": 1634673249511,
     "user": {
      "displayName": "camilla savarese",
      "photoUrl": "https://lh3.googleusercontent.com/a/default-user=s64",
      "userId": "01187100401107976032"
     },
     "user_tz": -120
    },
    "id": "l_4-d2Q3__pf",
    "outputId": "69505edd-5ff0-4781-e785-ca5b47f22431"
   },
   "outputs": [
    {
     "name": "stdout",
     "output_type": "stream",
     "text": [
      "prob. to have a weighted vote score>0.5: 0.20611672320738228\n"
     ]
    }
   ],
   "source": [
    "#Prob = fav. cases / possible cases\n",
    "p1=sum(df['weighted_vote_score']> 0.5)/df.shape[0]\n",
    "print(f\"prob. to have a weighted vote score>0.5: {p1}\")"
   ]
  },
  {
   "cell_type": "markdown",
   "metadata": {},
   "source": [
    "### What’s the probability that a review has at least one vote as funny given that the Weighted Vote Score is bigger than 0.5?"
   ]
  },
  {
   "cell_type": "markdown",
   "metadata": {},
   "source": [
    "Conditional probability formula: Prob (A given B) = Prob (A intersection B) / Prob (B)\n"
   ]
  },
  {
   "cell_type": "code",
   "execution_count": 54,
   "metadata": {},
   "outputs": [
    {
     "name": "stdout",
     "output_type": "stream",
     "text": [
      "prob. to have at least one vote as funny given that the weighted vote score is >0.5: 0.11225295831885336\n"
     ]
    }
   ],
   "source": [
    "#prob condizionata\n",
    "\n",
    "intersezione=sum((df['weighted_vote_score']> 0.5)& (df['votes_funny']!=0))/df.shape[0]\n",
    "p2=intersezione/p1\n",
    "print(f\"prob. to have at least one vote as funny given that the weighted vote score is >0.5: {p2}\")"
   ]
  },
  {
   "cell_type": "markdown",
   "metadata": {},
   "source": [
    "### Is the probability that “a review has at least one vote as funny” independent of the “probability that a review has a Weighted Vote Score equal or bigger than 0.5”?"
   ]
  },
  {
   "cell_type": "markdown",
   "metadata": {},
   "source": [
    "Statistical definition of independence: Joint probability is the product of the marginals.\n",
    "It doesn't happen here."
   ]
  },
  {
   "cell_type": "code",
   "execution_count": 55,
   "metadata": {},
   "outputs": [
    {
     "name": "stdout",
     "output_type": "stream",
     "text": [
      "Is the probability that “a review has at least one vote as funny” independent of the “probability that a review has a Weighted Vote Score equal or bigger than 0.5”? NO\n"
     ]
    }
   ],
   "source": [
    "pa= sum(df['votes_funny']!=0)/df.shape[0]\n",
    "print(f\"Is the probability that “a review has at least one vote as funny” independent of the “probability that a review has a Weighted Vote Score equal or bigger than 0.5”? {'YES' if pa*p1==intersezione else 'NO'}\")\n",
    "#False, quindi Non sono indipendenti"
   ]
  },
  {
   "cell_type": "markdown",
   "metadata": {
    "id": "9DOaZZ0KLPnX"
   },
   "source": [
    "# RQ8 Every decision you take in a data-based environment should be reinforced with charts, statistical tests and analysis methods to check if a hypothesis is correct or not."
   ]
  },
  {
   "cell_type": "markdown",
   "metadata": {},
   "source": [
    "### Is there a significant difference in the Weighted Vote Score of reviews made in Chinese vs the ones made in Russian? Use an appropriate statistical test or technique and support your choicv1"
   ]
  },
  {
   "cell_type": "code",
   "execution_count": 56,
   "metadata": {},
   "outputs": [
    {
     "name": "stdout",
     "output_type": "stream",
     "text": [
      "Requirement already satisfied: researchpy in /Users/leonardoplini/opt/anaconda3/lib/python3.8/site-packages (0.3.2)\n",
      "Requirement already satisfied: numpy in /Users/leonardoplini/opt/anaconda3/lib/python3.8/site-packages (from researchpy) (1.20.3)\n",
      "Requirement already satisfied: statsmodels in /Users/leonardoplini/opt/anaconda3/lib/python3.8/site-packages (from researchpy) (0.13.0)\n",
      "Requirement already satisfied: pandas in /Users/leonardoplini/opt/anaconda3/lib/python3.8/site-packages (from researchpy) (1.3.4)\n",
      "Requirement already satisfied: patsy in /Users/leonardoplini/opt/anaconda3/lib/python3.8/site-packages (from researchpy) (0.5.2)\n",
      "Requirement already satisfied: scipy in /Users/leonardoplini/opt/anaconda3/lib/python3.8/site-packages (from researchpy) (1.7.1)\n",
      "Requirement already satisfied: python-dateutil>=2.7.3 in /Users/leonardoplini/opt/anaconda3/lib/python3.8/site-packages (from pandas->researchpy) (2.8.2)\n",
      "Requirement already satisfied: pytz>=2017.3 in /Users/leonardoplini/opt/anaconda3/lib/python3.8/site-packages (from pandas->researchpy) (2021.3)\n",
      "Requirement already satisfied: six>=1.5 in /Users/leonardoplini/opt/anaconda3/lib/python3.8/site-packages (from python-dateutil>=2.7.3->pandas->researchpy) (1.16.0)\n"
     ]
    }
   ],
   "source": [
    "import pandas as pd\n",
    "import matplotlib.pyplot as plt\n",
    "import seaborn as sns \n",
    "!pip3 install  researchpy\n",
    "import scipy.stats as stats\n",
    "import matplotlib.pyplot as plt\n",
    "import researchpy as rp"
   ]
  },
  {
   "cell_type": "code",
   "execution_count": 57,
   "metadata": {
    "colab": {
     "base_uri": "https://localhost:8080/"
    },
    "executionInfo": {
     "elapsed": 2733,
     "status": "ok",
     "timestamp": 1634675835391,
     "user": {
      "displayName": "camilla savarese",
      "photoUrl": "https://lh3.googleusercontent.com/a/default-user=s64",
      "userId": "01187100401107976032"
     },
     "user_tz": -120
    },
    "id": "xqFR5dLQLVaf",
    "outputId": "0f3490dc-1be2-441d-e177-bb9d0df6a1e6"
   },
   "outputs": [
    {
     "name": "stdout",
     "output_type": "stream",
     "text": [
      "count    2.943791e+06\n",
      "mean     2.049889e-01\n",
      "std      2.561055e-01\n",
      "min      0.000000e+00\n",
      "25%      0.000000e+00\n",
      "50%      0.000000e+00\n",
      "75%      5.041323e-01\n",
      "max      9.895231e-01\n",
      "Name: weighted_vote_score, dtype: float64\n",
      "count    4.480888e+06\n",
      "mean     1.387438e-01\n",
      "std      2.356145e-01\n",
      "min      0.000000e+00\n",
      "25%      0.000000e+00\n",
      "50%      0.000000e+00\n",
      "75%      4.545455e-01\n",
      "max      9.959868e-01\n",
      "Name: weighted_vote_score, dtype: float64\n"
     ]
    }
   ],
   "source": [
    "s1=df['weighted_vote_score'][df['language'] == 'russian']\n",
    "s2=df['weighted_vote_score'][df['language'] == 'schinese']\n",
    "print(s1.describe())\n",
    "print(s2.describe())\n"
   ]
  },
  {
   "cell_type": "markdown",
   "metadata": {},
   "source": [
    "This is just an overall view: the two means are quite different (0.257 as average score for russian and 0.145 for chinese). We note that in both cases the first and second quantiles are equal to zero, this means that this is the weighted average score of many reviews. Now we represent the two distributions,without considering the cases in which the score is zero.\n"
   ]
  },
  {
   "cell_type": "code",
   "execution_count": 58,
   "metadata": {},
   "outputs": [
    {
     "data": {
      "text/plain": [
       "(0.0, 150000.0)"
      ]
     },
     "execution_count": 58,
     "metadata": {},
     "output_type": "execute_result"
    },
    {
     "data": {
      "image/png": "[encoded data removed]",
      "text/plain": [
       "<Figure size 360x360 with 1 Axes>"
      ]
     },
     "metadata": {
      "needs_background": "light"
     },
     "output_type": "display_data"
    },
    {
     "data": {
      "image/png": "[encoded data removed]",
      "text/plain": [
       "<Figure size 360x360 with 1 Axes>"
      ]
     },
     "metadata": {
      "needs_background": "light"
     },
     "output_type": "display_data"
    }
   ],
   "source": [
    "z1= s1[s1!=0]\n",
    "z2= s2[s2!=0]\n",
    "z2\n",
    "sns.displot(z1)\n",
    "plt.ylim(0,80000)\n",
    "\n",
    "sns.displot(z2)\n",
    "plt.ylim(0,150000)"
   ]
  },
  {
   "cell_type": "markdown",
   "metadata": {},
   "source": [
    "Since N is very large, we assume to deal with normal distributions (even if in the second case the relative frequency of the average value is too high. Observe that without the zeros the two samples are much more similar."
   ]
  },
  {
   "cell_type": "code",
   "execution_count": 59,
   "metadata": {},
   "outputs": [
    {
     "name": "stdout",
     "output_type": "stream",
     "text": [
      "count    1.163727e+06\n",
      "mean     5.185446e-01\n",
      "std      5.766553e-02\n",
      "min      4.347827e-02\n",
      "25%      4.962406e-01\n",
      "50%      5.223221e-01\n",
      "75%      5.238096e-01\n",
      "max      9.895231e-01\n",
      "Name: weighted_vote_score, dtype: float64\n",
      "count    1.177939e+06\n",
      "mean     5.277824e-01\n",
      "std      7.647648e-02\n",
      "min      2.384956e-02\n",
      "25%      5.018868e-01\n",
      "50%      5.238096e-01\n",
      "75%      5.275590e-01\n",
      "max      9.959868e-01\n",
      "Name: weighted_vote_score, dtype: float64\n"
     ]
    }
   ],
   "source": [
    "print(z1.describe())\n",
    "print(z2.describe())"
   ]
  },
  {
   "cell_type": "markdown",
   "metadata": {},
   "source": [
    "Under this assumption we apply a T-test that is a parametric test used to test for a statistically significant difference in the means between 2 groups. "
   ]
  },
  {
   "cell_type": "code",
   "execution_count": 60,
   "metadata": {},
   "outputs": [
    {
     "name": "stdout",
     "output_type": "stream",
     "text": [
      "                      Welch's t-test       results\n",
      "0  Difference (Russian - Chinese) =  -9.200000e-03\n",
      "1              Degrees of freedom =   2.189774e+06\n",
      "2                               t =  -1.044454e+02\n",
      "3           Two side test p value =   0.000000e+00\n",
      "4          Difference < 0 p value =   0.000000e+00\n",
      "5          Difference > 0 p value =   1.000000e+00\n",
      "6                       Cohen's d =  -1.363000e-01\n",
      "7                       Hedge's g =  -1.363000e-01\n",
      "8                   Glass's delta =  -1.602000e-01\n",
      "9                     Pearson's r =   7.040000e-02\n"
     ]
    }
   ],
   "source": [
    "summary, results = rp.ttest(group1= z1, group1_name= \"Russian\", group2= z2, group2_name= \"Chinese\",  equal_variances= False)\n",
    "#print(summary)\n",
    "print(results)"
   ]
  },
  {
   "cell_type": "markdown",
   "metadata": {},
   "source": [
    "Based on the p-value in the third case, Difference > 0,that is equal to 1, we accept the null hypothesis, so we can say that there is a difference."
   ]
  },
  {
   "cell_type": "markdown",
   "metadata": {},
   "source": [
    "### Can you find any significant relationship between the time that a user lets pass before he updates the review and the Weighted Vote Score? Use an appropriate statistical test or technique and support your choice."
   ]
  },
  {
   "cell_type": "markdown",
   "metadata": {},
   "source": [
    "An idea could be fitted a linear regression, where y=W vote score is the dependent variable and the time between creation and update is the predictor."
   ]
  },
  {
   "cell_type": "code",
   "execution_count": 61,
   "metadata": {},
   "outputs": [],
   "source": [
    "from sklearn.linear_model import LinearRegression\n",
    "from sklearn.model_selection import train_test_split\n",
    "from sklearn.metrics import mean_absolute_error\n",
    "import statsmodels.api as sm\n",
    "from statsmodels.tools.eval_measures import mse, rmse\n",
    "import seaborn as sns\n",
    "pd.options.display.float_format = '{:.5f}'.format\n",
    "import warnings\n",
    "import math\n",
    "import scipy.stats as stats\n",
    "import scipy\n",
    "from sklearn.preprocessing import scale\n",
    "warnings.filterwarnings('ignore')\n",
    "import numpy as np"
   ]
  },
  {
   "cell_type": "code",
   "execution_count": 62,
   "metadata": {},
   "outputs": [
    {
     "ename": "TypeError",
     "evalue": "unsupported operand type(s) for -: 'str' and 'float'",
     "output_type": "error",
     "traceback": [
      "\u001b[0;31m---------------------------------------------------------------------------\u001b[0m",
      "\u001b[0;31mTypeError\u001b[0m                                 Traceback (most recent call last)",
      "\u001b[0;32m~/opt/anaconda3/lib/python3.8/site-packages/pandas/core/ops/array_ops.py\u001b[0m in \u001b[0;36m_na_arithmetic_op\u001b[0;34m(left, right, op, is_cmp)\u001b[0m\n\u001b[1;32m    165\u001b[0m     \u001b[0;32mtry\u001b[0m\u001b[0;34m:\u001b[0m\u001b[0;34m\u001b[0m\u001b[0;34m\u001b[0m\u001b[0m\n\u001b[0;32m--> 166\u001b[0;31m         \u001b[0mresult\u001b[0m \u001b[0;34m=\u001b[0m \u001b[0mfunc\u001b[0m\u001b[0;34m(\u001b[0m\u001b[0mleft\u001b[0m\u001b[0;34m,\u001b[0m \u001b[0mright\u001b[0m\u001b[0;34m)\u001b[0m\u001b[0;34m\u001b[0m\u001b[0;34m\u001b[0m\u001b[0m\n\u001b[0m\u001b[1;32m    167\u001b[0m     \u001b[0;32mexcept\u001b[0m \u001b[0mTypeError\u001b[0m\u001b[0;34m:\u001b[0m\u001b[0;34m\u001b[0m\u001b[0;34m\u001b[0m\u001b[0m\n",
      "\u001b[0;32m~/opt/anaconda3/lib/python3.8/site-packages/pandas/core/computation/expressions.py\u001b[0m in \u001b[0;36mevaluate\u001b[0;34m(op, a, b, use_numexpr)\u001b[0m\n\u001b[1;32m    238\u001b[0m             \u001b[0;31m# error: \"None\" not callable\u001b[0m\u001b[0;34m\u001b[0m\u001b[0;34m\u001b[0m\u001b[0;34m\u001b[0m\u001b[0m\n\u001b[0;32m--> 239\u001b[0;31m             \u001b[0;32mreturn\u001b[0m \u001b[0m_evaluate\u001b[0m\u001b[0;34m(\u001b[0m\u001b[0mop\u001b[0m\u001b[0;34m,\u001b[0m \u001b[0mop_str\u001b[0m\u001b[0;34m,\u001b[0m \u001b[0ma\u001b[0m\u001b[0;34m,\u001b[0m \u001b[0mb\u001b[0m\u001b[0;34m)\u001b[0m  \u001b[0;31m# type: ignore[misc]\u001b[0m\u001b[0;34m\u001b[0m\u001b[0;34m\u001b[0m\u001b[0m\n\u001b[0m\u001b[1;32m    240\u001b[0m     \u001b[0;32mreturn\u001b[0m \u001b[0m_evaluate_standard\u001b[0m\u001b[0;34m(\u001b[0m\u001b[0mop\u001b[0m\u001b[0;34m,\u001b[0m \u001b[0mop_str\u001b[0m\u001b[0;34m,\u001b[0m \u001b[0ma\u001b[0m\u001b[0;34m,\u001b[0m \u001b[0mb\u001b[0m\u001b[0;34m)\u001b[0m\u001b[0;34m\u001b[0m\u001b[0;34m\u001b[0m\u001b[0m\n",
      "\u001b[0;32m~/opt/anaconda3/lib/python3.8/site-packages/pandas/core/computation/expressions.py\u001b[0m in \u001b[0;36m_evaluate_numexpr\u001b[0;34m(op, op_str, a, b)\u001b[0m\n\u001b[1;32m    127\u001b[0m     \u001b[0;32mif\u001b[0m \u001b[0mresult\u001b[0m \u001b[0;32mis\u001b[0m \u001b[0;32mNone\u001b[0m\u001b[0;34m:\u001b[0m\u001b[0;34m\u001b[0m\u001b[0;34m\u001b[0m\u001b[0m\n\u001b[0;32m--> 128\u001b[0;31m         \u001b[0mresult\u001b[0m \u001b[0;34m=\u001b[0m \u001b[0m_evaluate_standard\u001b[0m\u001b[0;34m(\u001b[0m\u001b[0mop\u001b[0m\u001b[0;34m,\u001b[0m \u001b[0mop_str\u001b[0m\u001b[0;34m,\u001b[0m \u001b[0ma\u001b[0m\u001b[0;34m,\u001b[0m \u001b[0mb\u001b[0m\u001b[0;34m)\u001b[0m\u001b[0;34m\u001b[0m\u001b[0;34m\u001b[0m\u001b[0m\n\u001b[0m\u001b[1;32m    129\u001b[0m \u001b[0;34m\u001b[0m\u001b[0m\n",
      "\u001b[0;32m~/opt/anaconda3/lib/python3.8/site-packages/pandas/core/computation/expressions.py\u001b[0m in \u001b[0;36m_evaluate_standard\u001b[0;34m(op, op_str, a, b)\u001b[0m\n\u001b[1;32m     68\u001b[0m         \u001b[0m_store_test_result\u001b[0m\u001b[0;34m(\u001b[0m\u001b[0;32mFalse\u001b[0m\u001b[0;34m)\u001b[0m\u001b[0;34m\u001b[0m\u001b[0;34m\u001b[0m\u001b[0m\n\u001b[0;32m---> 69\u001b[0;31m     \u001b[0;32mreturn\u001b[0m \u001b[0mop\u001b[0m\u001b[0;34m(\u001b[0m\u001b[0ma\u001b[0m\u001b[0;34m,\u001b[0m \u001b[0mb\u001b[0m\u001b[0;34m)\u001b[0m\u001b[0;34m\u001b[0m\u001b[0;34m\u001b[0m\u001b[0m\n\u001b[0m\u001b[1;32m     70\u001b[0m \u001b[0;34m\u001b[0m\u001b[0m\n",
      "\u001b[0;31mTypeError\u001b[0m: unsupported operand type(s) for -: 'str' and 'float'",
      "\nDuring handling of the above exception, another exception occurred:\n",
      "\u001b[0;31mTypeError\u001b[0m                                 Traceback (most recent call last)",
      "\u001b[0;32m/var/folders/xr/79bkvytj5kd5th_p5bnz8bhh0000gn/T/ipykernel_3462/3639362265.py\u001b[0m in \u001b[0;36m<module>\u001b[0;34m\u001b[0m\n\u001b[1;32m      1\u001b[0m \u001b[0my\u001b[0m\u001b[0;34m=\u001b[0m\u001b[0mdf\u001b[0m\u001b[0;34m[\u001b[0m \u001b[0;34m'weighted_vote_score'\u001b[0m\u001b[0;34m]\u001b[0m \u001b[0;31m#dependent var\u001b[0m\u001b[0;34m\u001b[0m\u001b[0;34m\u001b[0m\u001b[0m\n\u001b[1;32m      2\u001b[0m \u001b[0my\u001b[0m\u001b[0;34m=\u001b[0m\u001b[0mnp\u001b[0m\u001b[0;34m.\u001b[0m\u001b[0marray\u001b[0m\u001b[0;34m(\u001b[0m\u001b[0my\u001b[0m\u001b[0;34m)\u001b[0m\u001b[0;34m\u001b[0m\u001b[0;34m\u001b[0m\u001b[0m\n\u001b[0;32m----> 3\u001b[0;31m \u001b[0mt2\u001b[0m\u001b[0;34m=\u001b[0m\u001b[0;34m(\u001b[0m\u001b[0mdf\u001b[0m\u001b[0;34m.\u001b[0m\u001b[0mtimestamp_updated\u001b[0m \u001b[0;34m-\u001b[0m \u001b[0mdf\u001b[0m\u001b[0;34m.\u001b[0m\u001b[0mtimestamp_created\u001b[0m\u001b[0;34m)\u001b[0m\u001b[0;34m.\u001b[0m\u001b[0mapply\u001b[0m\u001b[0;34m(\u001b[0m\u001b[0;32mlambda\u001b[0m \u001b[0mx\u001b[0m\u001b[0;34m:\u001b[0m \u001b[0mx\u001b[0m\u001b[0;34m.\u001b[0m\u001b[0mtimestamp\u001b[0m\u001b[0;34m(\u001b[0m\u001b[0;34m)\u001b[0m\u001b[0;34m)\u001b[0m\u001b[0;34m.\u001b[0m\u001b[0mastype\u001b[0m\u001b[0;34m(\u001b[0m\u001b[0mint\u001b[0m\u001b[0;34m)\u001b[0m \u001b[0;31m#predictor\u001b[0m\u001b[0;34m\u001b[0m\u001b[0;34m\u001b[0m\u001b[0m\n\u001b[0m\u001b[1;32m      4\u001b[0m \u001b[0mt2\u001b[0m\u001b[0;34m=\u001b[0m\u001b[0mnp\u001b[0m\u001b[0;34m.\u001b[0m\u001b[0marray\u001b[0m\u001b[0;34m(\u001b[0m\u001b[0mt2\u001b[0m\u001b[0;34m)\u001b[0m\u001b[0;34m\u001b[0m\u001b[0;34m\u001b[0m\u001b[0m\n\u001b[1;32m      5\u001b[0m \u001b[0mt2\u001b[0m\u001b[0;34m=\u001b[0m\u001b[0mt2\u001b[0m\u001b[0;34m.\u001b[0m\u001b[0mreshape\u001b[0m\u001b[0;34m(\u001b[0m\u001b[0;34m(\u001b[0m\u001b[0;34m-\u001b[0m\u001b[0;36m1\u001b[0m\u001b[0;34m,\u001b[0m \u001b[0;36m1\u001b[0m\u001b[0;34m)\u001b[0m\u001b[0;34m)\u001b[0m\u001b[0;34m\u001b[0m\u001b[0;34m\u001b[0m\u001b[0m\n",
      "\u001b[0;32m~/opt/anaconda3/lib/python3.8/site-packages/pandas/core/ops/common.py\u001b[0m in \u001b[0;36mnew_method\u001b[0;34m(self, other)\u001b[0m\n\u001b[1;32m     67\u001b[0m         \u001b[0mother\u001b[0m \u001b[0;34m=\u001b[0m \u001b[0mitem_from_zerodim\u001b[0m\u001b[0;34m(\u001b[0m\u001b[0mother\u001b[0m\u001b[0;34m)\u001b[0m\u001b[0;34m\u001b[0m\u001b[0;34m\u001b[0m\u001b[0m\n\u001b[1;32m     68\u001b[0m \u001b[0;34m\u001b[0m\u001b[0m\n\u001b[0;32m---> 69\u001b[0;31m         \u001b[0;32mreturn\u001b[0m \u001b[0mmethod\u001b[0m\u001b[0;34m(\u001b[0m\u001b[0mself\u001b[0m\u001b[0;34m,\u001b[0m \u001b[0mother\u001b[0m\u001b[0;34m)\u001b[0m\u001b[0;34m\u001b[0m\u001b[0;34m\u001b[0m\u001b[0m\n\u001b[0m\u001b[1;32m     70\u001b[0m \u001b[0;34m\u001b[0m\u001b[0m\n\u001b[1;32m     71\u001b[0m     \u001b[0;32mreturn\u001b[0m \u001b[0mnew_method\u001b[0m\u001b[0;34m\u001b[0m\u001b[0;34m\u001b[0m\u001b[0m\n",
      "\u001b[0;32m~/opt/anaconda3/lib/python3.8/site-packages/pandas/core/arraylike.py\u001b[0m in \u001b[0;36m__sub__\u001b[0;34m(self, other)\u001b[0m\n\u001b[1;32m     98\u001b[0m     \u001b[0;34m@\u001b[0m\u001b[0munpack_zerodim_and_defer\u001b[0m\u001b[0;34m(\u001b[0m\u001b[0;34m\"__sub__\"\u001b[0m\u001b[0;34m)\u001b[0m\u001b[0;34m\u001b[0m\u001b[0;34m\u001b[0m\u001b[0m\n\u001b[1;32m     99\u001b[0m     \u001b[0;32mdef\u001b[0m \u001b[0m__sub__\u001b[0m\u001b[0;34m(\u001b[0m\u001b[0mself\u001b[0m\u001b[0;34m,\u001b[0m \u001b[0mother\u001b[0m\u001b[0;34m)\u001b[0m\u001b[0;34m:\u001b[0m\u001b[0;34m\u001b[0m\u001b[0;34m\u001b[0m\u001b[0m\n\u001b[0;32m--> 100\u001b[0;31m         \u001b[0;32mreturn\u001b[0m \u001b[0mself\u001b[0m\u001b[0;34m.\u001b[0m\u001b[0m_arith_method\u001b[0m\u001b[0;34m(\u001b[0m\u001b[0mother\u001b[0m\u001b[0;34m,\u001b[0m \u001b[0moperator\u001b[0m\u001b[0;34m.\u001b[0m\u001b[0msub\u001b[0m\u001b[0;34m)\u001b[0m\u001b[0;34m\u001b[0m\u001b[0;34m\u001b[0m\u001b[0m\n\u001b[0m\u001b[1;32m    101\u001b[0m \u001b[0;34m\u001b[0m\u001b[0m\n\u001b[1;32m    102\u001b[0m     \u001b[0;34m@\u001b[0m\u001b[0munpack_zerodim_and_defer\u001b[0m\u001b[0;34m(\u001b[0m\u001b[0;34m\"__rsub__\"\u001b[0m\u001b[0;34m)\u001b[0m\u001b[0;34m\u001b[0m\u001b[0;34m\u001b[0m\u001b[0m\n",
      "\u001b[0;32m~/opt/anaconda3/lib/python3.8/site-packages/pandas/core/series.py\u001b[0m in \u001b[0;36m_arith_method\u001b[0;34m(self, other, op)\u001b[0m\n\u001b[1;32m   5524\u001b[0m \u001b[0;34m\u001b[0m\u001b[0m\n\u001b[1;32m   5525\u001b[0m         \u001b[0;32mwith\u001b[0m \u001b[0mnp\u001b[0m\u001b[0;34m.\u001b[0m\u001b[0merrstate\u001b[0m\u001b[0;34m(\u001b[0m\u001b[0mall\u001b[0m\u001b[0;34m=\u001b[0m\u001b[0;34m\"ignore\"\u001b[0m\u001b[0;34m)\u001b[0m\u001b[0;34m:\u001b[0m\u001b[0;34m\u001b[0m\u001b[0;34m\u001b[0m\u001b[0m\n\u001b[0;32m-> 5526\u001b[0;31m             \u001b[0mresult\u001b[0m \u001b[0;34m=\u001b[0m \u001b[0mops\u001b[0m\u001b[0;34m.\u001b[0m\u001b[0marithmetic_op\u001b[0m\u001b[0;34m(\u001b[0m\u001b[0mlvalues\u001b[0m\u001b[0;34m,\u001b[0m \u001b[0mrvalues\u001b[0m\u001b[0;34m,\u001b[0m \u001b[0mop\u001b[0m\u001b[0;34m)\u001b[0m\u001b[0;34m\u001b[0m\u001b[0;34m\u001b[0m\u001b[0m\n\u001b[0m\u001b[1;32m   5527\u001b[0m \u001b[0;34m\u001b[0m\u001b[0m\n\u001b[1;32m   5528\u001b[0m         \u001b[0;32mreturn\u001b[0m \u001b[0mself\u001b[0m\u001b[0;34m.\u001b[0m\u001b[0m_construct_result\u001b[0m\u001b[0;34m(\u001b[0m\u001b[0mresult\u001b[0m\u001b[0;34m,\u001b[0m \u001b[0mname\u001b[0m\u001b[0;34m=\u001b[0m\u001b[0mres_name\u001b[0m\u001b[0;34m)\u001b[0m\u001b[0;34m\u001b[0m\u001b[0;34m\u001b[0m\u001b[0m\n",
      "\u001b[0;32m~/opt/anaconda3/lib/python3.8/site-packages/pandas/core/ops/array_ops.py\u001b[0m in \u001b[0;36marithmetic_op\u001b[0;34m(left, right, op)\u001b[0m\n\u001b[1;32m    222\u001b[0m         \u001b[0m_bool_arith_check\u001b[0m\u001b[0;34m(\u001b[0m\u001b[0mop\u001b[0m\u001b[0;34m,\u001b[0m \u001b[0mleft\u001b[0m\u001b[0;34m,\u001b[0m \u001b[0mright\u001b[0m\u001b[0;34m)\u001b[0m\u001b[0;34m\u001b[0m\u001b[0;34m\u001b[0m\u001b[0m\n\u001b[1;32m    223\u001b[0m \u001b[0;34m\u001b[0m\u001b[0m\n\u001b[0;32m--> 224\u001b[0;31m         \u001b[0mres_values\u001b[0m \u001b[0;34m=\u001b[0m \u001b[0m_na_arithmetic_op\u001b[0m\u001b[0;34m(\u001b[0m\u001b[0mleft\u001b[0m\u001b[0;34m,\u001b[0m \u001b[0mright\u001b[0m\u001b[0;34m,\u001b[0m \u001b[0mop\u001b[0m\u001b[0;34m)\u001b[0m\u001b[0;34m\u001b[0m\u001b[0;34m\u001b[0m\u001b[0m\n\u001b[0m\u001b[1;32m    225\u001b[0m \u001b[0;34m\u001b[0m\u001b[0m\n\u001b[1;32m    226\u001b[0m     \u001b[0;32mreturn\u001b[0m \u001b[0mres_values\u001b[0m\u001b[0;34m\u001b[0m\u001b[0;34m\u001b[0m\u001b[0m\n",
      "\u001b[0;32m~/opt/anaconda3/lib/python3.8/site-packages/pandas/core/ops/array_ops.py\u001b[0m in \u001b[0;36m_na_arithmetic_op\u001b[0;34m(left, right, op, is_cmp)\u001b[0m\n\u001b[1;32m    171\u001b[0m             \u001b[0;31m# Don't do this for comparisons, as that will handle complex numbers\u001b[0m\u001b[0;34m\u001b[0m\u001b[0;34m\u001b[0m\u001b[0;34m\u001b[0m\u001b[0m\n\u001b[1;32m    172\u001b[0m             \u001b[0;31m#  incorrectly, see GH#32047\u001b[0m\u001b[0;34m\u001b[0m\u001b[0;34m\u001b[0m\u001b[0;34m\u001b[0m\u001b[0m\n\u001b[0;32m--> 173\u001b[0;31m             \u001b[0mresult\u001b[0m \u001b[0;34m=\u001b[0m \u001b[0m_masked_arith_op\u001b[0m\u001b[0;34m(\u001b[0m\u001b[0mleft\u001b[0m\u001b[0;34m,\u001b[0m \u001b[0mright\u001b[0m\u001b[0;34m,\u001b[0m \u001b[0mop\u001b[0m\u001b[0;34m)\u001b[0m\u001b[0;34m\u001b[0m\u001b[0;34m\u001b[0m\u001b[0m\n\u001b[0m\u001b[1;32m    174\u001b[0m         \u001b[0;32melse\u001b[0m\u001b[0;34m:\u001b[0m\u001b[0;34m\u001b[0m\u001b[0;34m\u001b[0m\u001b[0m\n\u001b[1;32m    175\u001b[0m             \u001b[0;32mraise\u001b[0m\u001b[0;34m\u001b[0m\u001b[0;34m\u001b[0m\u001b[0m\n",
      "\u001b[0;32m~/opt/anaconda3/lib/python3.8/site-packages/pandas/core/ops/array_ops.py\u001b[0m in \u001b[0;36m_masked_arith_op\u001b[0;34m(x, y, op)\u001b[0m\n\u001b[1;32m    110\u001b[0m         \u001b[0;31m# See GH#5284, GH#5035, GH#19448 for historical reference\u001b[0m\u001b[0;34m\u001b[0m\u001b[0;34m\u001b[0m\u001b[0;34m\u001b[0m\u001b[0m\n\u001b[1;32m    111\u001b[0m         \u001b[0;32mif\u001b[0m \u001b[0mmask\u001b[0m\u001b[0;34m.\u001b[0m\u001b[0many\u001b[0m\u001b[0;34m(\u001b[0m\u001b[0;34m)\u001b[0m\u001b[0;34m:\u001b[0m\u001b[0;34m\u001b[0m\u001b[0;34m\u001b[0m\u001b[0m\n\u001b[0;32m--> 112\u001b[0;31m             \u001b[0mresult\u001b[0m\u001b[0;34m[\u001b[0m\u001b[0mmask\u001b[0m\u001b[0;34m]\u001b[0m \u001b[0;34m=\u001b[0m \u001b[0mop\u001b[0m\u001b[0;34m(\u001b[0m\u001b[0mxrav\u001b[0m\u001b[0;34m[\u001b[0m\u001b[0mmask\u001b[0m\u001b[0;34m]\u001b[0m\u001b[0;34m,\u001b[0m \u001b[0myrav\u001b[0m\u001b[0;34m[\u001b[0m\u001b[0mmask\u001b[0m\u001b[0;34m]\u001b[0m\u001b[0;34m)\u001b[0m\u001b[0;34m\u001b[0m\u001b[0;34m\u001b[0m\u001b[0m\n\u001b[0m\u001b[1;32m    113\u001b[0m \u001b[0;34m\u001b[0m\u001b[0m\n\u001b[1;32m    114\u001b[0m     \u001b[0;32melse\u001b[0m\u001b[0;34m:\u001b[0m\u001b[0;34m\u001b[0m\u001b[0;34m\u001b[0m\u001b[0m\n",
      "\u001b[0;31mTypeError\u001b[0m: unsupported operand type(s) for -: 'str' and 'float'"
     ]
    }
   ],
   "source": [
    "y=df[ 'weighted_vote_score'] #dependent var\n",
    "y=np.array(y)\n",
    "t2=(df.timestamp_updated - df.timestamp_created).apply(lambda x: x.timestamp()).astype(int) #predictor\n",
    "t2=np.array(t2)\n",
    "t2=t2.reshape((-1, 1))"
   ]
  },
  {
   "cell_type": "code",
   "execution_count": null,
   "metadata": {},
   "outputs": [],
   "source": [
    "X_train, X_test, y_train, y_test = train_test_split(t2, y, test_size = 0.2, random_state = 465)\n",
    "\n",
    "print('Training Data Count: {}'.format(X_train.shape[0]))\n",
    "print('Testing Data Count: {}'.format(X_test.shape[0]))"
   ]
  },
  {
   "cell_type": "code",
   "execution_count": null,
   "metadata": {},
   "outputs": [],
   "source": [
    "\n",
    "X_train = sm.add_constant(X_train)\n",
    "results = sm.OLS(y_train, X_train).fit()\n",
    "results.summary()"
   ]
  },
  {
   "cell_type": "markdown",
   "metadata": {},
   "source": [
    "The square R shows the amount of variance explained by the model. It's something like your model's capabilities. The adjusted R squared is also similar to the R squared, but it only counts statistically significant variables. In our case, they are both very low. The coefficient of x is statistically significant (p<0.05), but it is so low as to be insignificant. Also graphically we see that the line does not fit well with the model, therefore we cannot say that there is a significant (linear) relationship-"
   ]
  },
  {
   "cell_type": "code",
   "execution_count": null,
   "metadata": {},
   "outputs": [],
   "source": [
    "X_test = sm.add_constant(X_test)\n",
    "\n",
    "y_preds = results.predict(X_test)\n",
    "\n",
    "plt.figure(dpi = 75)\n",
    "plt.scatter(y_test, y_preds)\n",
    "plt.plot(y_test, y_test, color=\"red\")\n",
    "plt.xlabel(\"Actual Scores\")\n",
    "plt.ylabel(\"Estimated Scores\")\n",
    "plt.title(\"Model: Actual vs Estimated Scores\")\n",
    "plt.show()"
   ]
  },
  {
   "cell_type": "markdown",
   "metadata": {},
   "source": [
    "### Is there any change in the relationship of the variables mentioned in the previous literal if you include whether an application is recommended or not in the review? Use an appropriate statistical test or technique and support your choice."
   ]
  },
  {
   "cell_type": "markdown",
   "metadata": {},
   "source": [
    "We again fit a regression adding the variable \"reccomended\" as boolean (False=0,True=1).\n"
   ]
  },
  {
   "cell_type": "code",
   "execution_count": 63,
   "metadata": {},
   "outputs": [
    {
     "ename": "ValueError",
     "evalue": "cannot convert float NaN to integer",
     "output_type": "error",
     "traceback": [
      "\u001b[0;31m---------------------------------------------------------------------------\u001b[0m",
      "\u001b[0;31mValueError\u001b[0m                                Traceback (most recent call last)",
      "\u001b[0;32m/var/folders/xr/79bkvytj5kd5th_p5bnz8bhh0000gn/T/ipykernel_3462/2489261989.py\u001b[0m in \u001b[0;36m<module>\u001b[0;34m\u001b[0m\n\u001b[0;32m----> 1\u001b[0;31m \u001b[0mt3\u001b[0m\u001b[0;34m=\u001b[0m\u001b[0mdf\u001b[0m\u001b[0;34m[\u001b[0m\u001b[0;34m'recommended'\u001b[0m\u001b[0;34m]\u001b[0m\u001b[0;34m.\u001b[0m\u001b[0mastype\u001b[0m\u001b[0;34m(\u001b[0m\u001b[0mint\u001b[0m\u001b[0;34m)\u001b[0m\u001b[0;34m\u001b[0m\u001b[0;34m\u001b[0m\u001b[0m\n\u001b[0m\u001b[1;32m      2\u001b[0m \u001b[0mt4\u001b[0m\u001b[0;34m=\u001b[0m\u001b[0mt2\u001b[0m\u001b[0;34m=\u001b[0m\u001b[0;34m(\u001b[0m\u001b[0mdf\u001b[0m\u001b[0;34m.\u001b[0m\u001b[0mtimestamp_updated\u001b[0m \u001b[0;34m-\u001b[0m \u001b[0mdf\u001b[0m\u001b[0;34m.\u001b[0m\u001b[0mtimestamp_created\u001b[0m\u001b[0;34m)\u001b[0m\u001b[0;34m\u001b[0m\u001b[0;34m\u001b[0m\u001b[0m\n\u001b[1;32m      3\u001b[0m \u001b[0mt4\u001b[0m\u001b[0;34m=\u001b[0m\u001b[0mnp\u001b[0m\u001b[0;34m.\u001b[0m\u001b[0marray\u001b[0m\u001b[0;34m(\u001b[0m\u001b[0mt4\u001b[0m\u001b[0;34m)\u001b[0m\u001b[0;34m\u001b[0m\u001b[0;34m\u001b[0m\u001b[0m\n\u001b[1;32m      4\u001b[0m \u001b[0mX_1\u001b[0m\u001b[0;34m=\u001b[0m\u001b[0mnp\u001b[0m\u001b[0;34m.\u001b[0m\u001b[0mvstack\u001b[0m\u001b[0;34m(\u001b[0m\u001b[0;34m[\u001b[0m\u001b[0mt4\u001b[0m\u001b[0;34m,\u001b[0m\u001b[0mt3\u001b[0m\u001b[0;34m]\u001b[0m\u001b[0;34m)\u001b[0m\u001b[0;34m\u001b[0m\u001b[0;34m\u001b[0m\u001b[0m\n\u001b[1;32m      5\u001b[0m \u001b[0mX_1\u001b[0m \u001b[0;34m=\u001b[0m \u001b[0mX_1\u001b[0m\u001b[0;34m.\u001b[0m\u001b[0mtranspose\u001b[0m\u001b[0;34m(\u001b[0m\u001b[0;34m)\u001b[0m\u001b[0;34m\u001b[0m\u001b[0;34m\u001b[0m\u001b[0m\n",
      "\u001b[0;32m~/opt/anaconda3/lib/python3.8/site-packages/pandas/core/generic.py\u001b[0m in \u001b[0;36mastype\u001b[0;34m(self, dtype, copy, errors)\u001b[0m\n\u001b[1;32m   5813\u001b[0m         \u001b[0;32melse\u001b[0m\u001b[0;34m:\u001b[0m\u001b[0;34m\u001b[0m\u001b[0;34m\u001b[0m\u001b[0m\n\u001b[1;32m   5814\u001b[0m             \u001b[0;31m# else, only a single dtype is given\u001b[0m\u001b[0;34m\u001b[0m\u001b[0;34m\u001b[0m\u001b[0;34m\u001b[0m\u001b[0m\n\u001b[0;32m-> 5815\u001b[0;31m             \u001b[0mnew_data\u001b[0m \u001b[0;34m=\u001b[0m \u001b[0mself\u001b[0m\u001b[0;34m.\u001b[0m\u001b[0m_mgr\u001b[0m\u001b[0;34m.\u001b[0m\u001b[0mastype\u001b[0m\u001b[0;34m(\u001b[0m\u001b[0mdtype\u001b[0m\u001b[0;34m=\u001b[0m\u001b[0mdtype\u001b[0m\u001b[0;34m,\u001b[0m \u001b[0mcopy\u001b[0m\u001b[0;34m=\u001b[0m\u001b[0mcopy\u001b[0m\u001b[0;34m,\u001b[0m \u001b[0merrors\u001b[0m\u001b[0;34m=\u001b[0m\u001b[0merrors\u001b[0m\u001b[0;34m)\u001b[0m\u001b[0;34m\u001b[0m\u001b[0;34m\u001b[0m\u001b[0m\n\u001b[0m\u001b[1;32m   5816\u001b[0m             \u001b[0;32mreturn\u001b[0m \u001b[0mself\u001b[0m\u001b[0;34m.\u001b[0m\u001b[0m_constructor\u001b[0m\u001b[0;34m(\u001b[0m\u001b[0mnew_data\u001b[0m\u001b[0;34m)\u001b[0m\u001b[0;34m.\u001b[0m\u001b[0m__finalize__\u001b[0m\u001b[0;34m(\u001b[0m\u001b[0mself\u001b[0m\u001b[0;34m,\u001b[0m \u001b[0mmethod\u001b[0m\u001b[0;34m=\u001b[0m\u001b[0;34m\"astype\"\u001b[0m\u001b[0;34m)\u001b[0m\u001b[0;34m\u001b[0m\u001b[0;34m\u001b[0m\u001b[0m\n\u001b[1;32m   5817\u001b[0m \u001b[0;34m\u001b[0m\u001b[0m\n",
      "\u001b[0;32m~/opt/anaconda3/lib/python3.8/site-packages/pandas/core/internals/managers.py\u001b[0m in \u001b[0;36mastype\u001b[0;34m(self, dtype, copy, errors)\u001b[0m\n\u001b[1;32m    416\u001b[0m \u001b[0;34m\u001b[0m\u001b[0m\n\u001b[1;32m    417\u001b[0m     \u001b[0;32mdef\u001b[0m \u001b[0mastype\u001b[0m\u001b[0;34m(\u001b[0m\u001b[0mself\u001b[0m\u001b[0;34m:\u001b[0m \u001b[0mT\u001b[0m\u001b[0;34m,\u001b[0m \u001b[0mdtype\u001b[0m\u001b[0;34m,\u001b[0m \u001b[0mcopy\u001b[0m\u001b[0;34m:\u001b[0m \u001b[0mbool\u001b[0m \u001b[0;34m=\u001b[0m \u001b[0;32mFalse\u001b[0m\u001b[0;34m,\u001b[0m \u001b[0merrors\u001b[0m\u001b[0;34m:\u001b[0m \u001b[0mstr\u001b[0m \u001b[0;34m=\u001b[0m \u001b[0;34m\"raise\"\u001b[0m\u001b[0;34m)\u001b[0m \u001b[0;34m->\u001b[0m \u001b[0mT\u001b[0m\u001b[0;34m:\u001b[0m\u001b[0;34m\u001b[0m\u001b[0;34m\u001b[0m\u001b[0m\n\u001b[0;32m--> 418\u001b[0;31m         \u001b[0;32mreturn\u001b[0m \u001b[0mself\u001b[0m\u001b[0;34m.\u001b[0m\u001b[0mapply\u001b[0m\u001b[0;34m(\u001b[0m\u001b[0;34m\"astype\"\u001b[0m\u001b[0;34m,\u001b[0m \u001b[0mdtype\u001b[0m\u001b[0;34m=\u001b[0m\u001b[0mdtype\u001b[0m\u001b[0;34m,\u001b[0m \u001b[0mcopy\u001b[0m\u001b[0;34m=\u001b[0m\u001b[0mcopy\u001b[0m\u001b[0;34m,\u001b[0m \u001b[0merrors\u001b[0m\u001b[0;34m=\u001b[0m\u001b[0merrors\u001b[0m\u001b[0;34m)\u001b[0m\u001b[0;34m\u001b[0m\u001b[0;34m\u001b[0m\u001b[0m\n\u001b[0m\u001b[1;32m    419\u001b[0m \u001b[0;34m\u001b[0m\u001b[0m\n\u001b[1;32m    420\u001b[0m     def convert(\n",
      "\u001b[0;32m~/opt/anaconda3/lib/python3.8/site-packages/pandas/core/internals/managers.py\u001b[0m in \u001b[0;36mapply\u001b[0;34m(self, f, align_keys, ignore_failures, **kwargs)\u001b[0m\n\u001b[1;32m    325\u001b[0m                     \u001b[0mapplied\u001b[0m \u001b[0;34m=\u001b[0m \u001b[0mb\u001b[0m\u001b[0;34m.\u001b[0m\u001b[0mapply\u001b[0m\u001b[0;34m(\u001b[0m\u001b[0mf\u001b[0m\u001b[0;34m,\u001b[0m \u001b[0;34m**\u001b[0m\u001b[0mkwargs\u001b[0m\u001b[0;34m)\u001b[0m\u001b[0;34m\u001b[0m\u001b[0;34m\u001b[0m\u001b[0m\n\u001b[1;32m    326\u001b[0m                 \u001b[0;32melse\u001b[0m\u001b[0;34m:\u001b[0m\u001b[0;34m\u001b[0m\u001b[0;34m\u001b[0m\u001b[0m\n\u001b[0;32m--> 327\u001b[0;31m                     \u001b[0mapplied\u001b[0m \u001b[0;34m=\u001b[0m \u001b[0mgetattr\u001b[0m\u001b[0;34m(\u001b[0m\u001b[0mb\u001b[0m\u001b[0;34m,\u001b[0m \u001b[0mf\u001b[0m\u001b[0;34m)\u001b[0m\u001b[0;34m(\u001b[0m\u001b[0;34m**\u001b[0m\u001b[0mkwargs\u001b[0m\u001b[0;34m)\u001b[0m\u001b[0;34m\u001b[0m\u001b[0;34m\u001b[0m\u001b[0m\n\u001b[0m\u001b[1;32m    328\u001b[0m             \u001b[0;32mexcept\u001b[0m \u001b[0;34m(\u001b[0m\u001b[0mTypeError\u001b[0m\u001b[0;34m,\u001b[0m \u001b[0mNotImplementedError\u001b[0m\u001b[0;34m)\u001b[0m\u001b[0;34m:\u001b[0m\u001b[0;34m\u001b[0m\u001b[0;34m\u001b[0m\u001b[0m\n\u001b[1;32m    329\u001b[0m                 \u001b[0;32mif\u001b[0m \u001b[0;32mnot\u001b[0m \u001b[0mignore_failures\u001b[0m\u001b[0;34m:\u001b[0m\u001b[0;34m\u001b[0m\u001b[0;34m\u001b[0m\u001b[0m\n",
      "\u001b[0;32m~/opt/anaconda3/lib/python3.8/site-packages/pandas/core/internals/blocks.py\u001b[0m in \u001b[0;36mastype\u001b[0;34m(self, dtype, copy, errors)\u001b[0m\n\u001b[1;32m    590\u001b[0m         \u001b[0mvalues\u001b[0m \u001b[0;34m=\u001b[0m \u001b[0mself\u001b[0m\u001b[0;34m.\u001b[0m\u001b[0mvalues\u001b[0m\u001b[0;34m\u001b[0m\u001b[0;34m\u001b[0m\u001b[0m\n\u001b[1;32m    591\u001b[0m \u001b[0;34m\u001b[0m\u001b[0m\n\u001b[0;32m--> 592\u001b[0;31m         \u001b[0mnew_values\u001b[0m \u001b[0;34m=\u001b[0m \u001b[0mastype_array_safe\u001b[0m\u001b[0;34m(\u001b[0m\u001b[0mvalues\u001b[0m\u001b[0;34m,\u001b[0m \u001b[0mdtype\u001b[0m\u001b[0;34m,\u001b[0m \u001b[0mcopy\u001b[0m\u001b[0;34m=\u001b[0m\u001b[0mcopy\u001b[0m\u001b[0;34m,\u001b[0m \u001b[0merrors\u001b[0m\u001b[0;34m=\u001b[0m\u001b[0merrors\u001b[0m\u001b[0;34m)\u001b[0m\u001b[0;34m\u001b[0m\u001b[0;34m\u001b[0m\u001b[0m\n\u001b[0m\u001b[1;32m    593\u001b[0m \u001b[0;34m\u001b[0m\u001b[0m\n\u001b[1;32m    594\u001b[0m         \u001b[0mnew_values\u001b[0m \u001b[0;34m=\u001b[0m \u001b[0mmaybe_coerce_values\u001b[0m\u001b[0;34m(\u001b[0m\u001b[0mnew_values\u001b[0m\u001b[0;34m)\u001b[0m\u001b[0;34m\u001b[0m\u001b[0;34m\u001b[0m\u001b[0m\n",
      "\u001b[0;32m~/opt/anaconda3/lib/python3.8/site-packages/pandas/core/dtypes/cast.py\u001b[0m in \u001b[0;36mastype_array_safe\u001b[0;34m(values, dtype, copy, errors)\u001b[0m\n\u001b[1;32m   1307\u001b[0m \u001b[0;34m\u001b[0m\u001b[0m\n\u001b[1;32m   1308\u001b[0m     \u001b[0;32mtry\u001b[0m\u001b[0;34m:\u001b[0m\u001b[0;34m\u001b[0m\u001b[0;34m\u001b[0m\u001b[0m\n\u001b[0;32m-> 1309\u001b[0;31m         \u001b[0mnew_values\u001b[0m \u001b[0;34m=\u001b[0m \u001b[0mastype_array\u001b[0m\u001b[0;34m(\u001b[0m\u001b[0mvalues\u001b[0m\u001b[0;34m,\u001b[0m \u001b[0mdtype\u001b[0m\u001b[0;34m,\u001b[0m \u001b[0mcopy\u001b[0m\u001b[0;34m=\u001b[0m\u001b[0mcopy\u001b[0m\u001b[0;34m)\u001b[0m\u001b[0;34m\u001b[0m\u001b[0;34m\u001b[0m\u001b[0m\n\u001b[0m\u001b[1;32m   1310\u001b[0m     \u001b[0;32mexcept\u001b[0m \u001b[0;34m(\u001b[0m\u001b[0mValueError\u001b[0m\u001b[0;34m,\u001b[0m \u001b[0mTypeError\u001b[0m\u001b[0;34m)\u001b[0m\u001b[0;34m:\u001b[0m\u001b[0;34m\u001b[0m\u001b[0;34m\u001b[0m\u001b[0m\n\u001b[1;32m   1311\u001b[0m         \u001b[0;31m# e.g. astype_nansafe can fail on object-dtype of strings\u001b[0m\u001b[0;34m\u001b[0m\u001b[0;34m\u001b[0m\u001b[0;34m\u001b[0m\u001b[0m\n",
      "\u001b[0;32m~/opt/anaconda3/lib/python3.8/site-packages/pandas/core/dtypes/cast.py\u001b[0m in \u001b[0;36mastype_array\u001b[0;34m(values, dtype, copy)\u001b[0m\n\u001b[1;32m   1255\u001b[0m \u001b[0;34m\u001b[0m\u001b[0m\n\u001b[1;32m   1256\u001b[0m     \u001b[0;32melse\u001b[0m\u001b[0;34m:\u001b[0m\u001b[0;34m\u001b[0m\u001b[0;34m\u001b[0m\u001b[0m\n\u001b[0;32m-> 1257\u001b[0;31m         \u001b[0mvalues\u001b[0m \u001b[0;34m=\u001b[0m \u001b[0mastype_nansafe\u001b[0m\u001b[0;34m(\u001b[0m\u001b[0mvalues\u001b[0m\u001b[0;34m,\u001b[0m \u001b[0mdtype\u001b[0m\u001b[0;34m,\u001b[0m \u001b[0mcopy\u001b[0m\u001b[0;34m=\u001b[0m\u001b[0mcopy\u001b[0m\u001b[0;34m)\u001b[0m\u001b[0;34m\u001b[0m\u001b[0;34m\u001b[0m\u001b[0m\n\u001b[0m\u001b[1;32m   1258\u001b[0m \u001b[0;34m\u001b[0m\u001b[0m\n\u001b[1;32m   1259\u001b[0m     \u001b[0;31m# in pandas we don't store numpy str dtypes, so convert to object\u001b[0m\u001b[0;34m\u001b[0m\u001b[0;34m\u001b[0m\u001b[0;34m\u001b[0m\u001b[0m\n",
      "\u001b[0;32m~/opt/anaconda3/lib/python3.8/site-packages/pandas/core/dtypes/cast.py\u001b[0m in \u001b[0;36mastype_nansafe\u001b[0;34m(arr, dtype, copy, skipna)\u001b[0m\n\u001b[1;32m   1172\u001b[0m         \u001b[0;31m# work around NumPy brokenness, #1987\u001b[0m\u001b[0;34m\u001b[0m\u001b[0;34m\u001b[0m\u001b[0;34m\u001b[0m\u001b[0m\n\u001b[1;32m   1173\u001b[0m         \u001b[0;32mif\u001b[0m \u001b[0mnp\u001b[0m\u001b[0;34m.\u001b[0m\u001b[0missubdtype\u001b[0m\u001b[0;34m(\u001b[0m\u001b[0mdtype\u001b[0m\u001b[0;34m.\u001b[0m\u001b[0mtype\u001b[0m\u001b[0;34m,\u001b[0m \u001b[0mnp\u001b[0m\u001b[0;34m.\u001b[0m\u001b[0minteger\u001b[0m\u001b[0;34m)\u001b[0m\u001b[0;34m:\u001b[0m\u001b[0;34m\u001b[0m\u001b[0;34m\u001b[0m\u001b[0m\n\u001b[0;32m-> 1174\u001b[0;31m             \u001b[0;32mreturn\u001b[0m \u001b[0mlib\u001b[0m\u001b[0;34m.\u001b[0m\u001b[0mastype_intsafe\u001b[0m\u001b[0;34m(\u001b[0m\u001b[0marr\u001b[0m\u001b[0;34m,\u001b[0m \u001b[0mdtype\u001b[0m\u001b[0;34m)\u001b[0m\u001b[0;34m\u001b[0m\u001b[0;34m\u001b[0m\u001b[0m\n\u001b[0m\u001b[1;32m   1175\u001b[0m \u001b[0;34m\u001b[0m\u001b[0m\n\u001b[1;32m   1176\u001b[0m         \u001b[0;31m# if we have a datetime/timedelta array of objects\u001b[0m\u001b[0;34m\u001b[0m\u001b[0;34m\u001b[0m\u001b[0;34m\u001b[0m\u001b[0m\n",
      "\u001b[0;32m~/opt/anaconda3/lib/python3.8/site-packages/pandas/_libs/lib.pyx\u001b[0m in \u001b[0;36mpandas._libs.lib.astype_intsafe\u001b[0;34m()\u001b[0m\n",
      "\u001b[0;31mValueError\u001b[0m: cannot convert float NaN to integer"
     ]
    }
   ],
   "source": [
    "t3=df['recommended'].astype(int)\n",
    "t4=t2=(df.timestamp_updated - df.timestamp_created)\n",
    "t4=np.array(t4)\n",
    "X_1=np.vstack([t4,t3])\n",
    "X_1 = X_1.transpose()\n"
   ]
  },
  {
   "cell_type": "code",
   "execution_count": 64,
   "metadata": {},
   "outputs": [
    {
     "ename": "NameError",
     "evalue": "name 'X_1' is not defined",
     "output_type": "error",
     "traceback": [
      "\u001b[0;31m---------------------------------------------------------------------------\u001b[0m",
      "\u001b[0;31mNameError\u001b[0m                                 Traceback (most recent call last)",
      "\u001b[0;32m/var/folders/xr/79bkvytj5kd5th_p5bnz8bhh0000gn/T/ipykernel_3462/395429315.py\u001b[0m in \u001b[0;36m<module>\u001b[0;34m\u001b[0m\n\u001b[0;32m----> 1\u001b[0;31m \u001b[0mX1_train\u001b[0m\u001b[0;34m,\u001b[0m \u001b[0mX1_test\u001b[0m\u001b[0;34m,\u001b[0m \u001b[0my1_train\u001b[0m\u001b[0;34m,\u001b[0m \u001b[0my1_test\u001b[0m \u001b[0;34m=\u001b[0m \u001b[0mtrain_test_split\u001b[0m\u001b[0;34m(\u001b[0m\u001b[0mX_1\u001b[0m\u001b[0;34m,\u001b[0m \u001b[0my\u001b[0m\u001b[0;34m,\u001b[0m \u001b[0mtest_size\u001b[0m \u001b[0;34m=\u001b[0m \u001b[0;36m0.2\u001b[0m\u001b[0;34m,\u001b[0m \u001b[0mrandom_state\u001b[0m \u001b[0;34m=\u001b[0m \u001b[0;36m465\u001b[0m\u001b[0;34m)\u001b[0m\u001b[0;34m\u001b[0m\u001b[0;34m\u001b[0m\u001b[0m\n\u001b[0m\u001b[1;32m      2\u001b[0m \u001b[0;34m\u001b[0m\u001b[0m\n\u001b[1;32m      3\u001b[0m \u001b[0mprint\u001b[0m\u001b[0;34m(\u001b[0m\u001b[0;34m'Training Data Count: {}'\u001b[0m\u001b[0;34m.\u001b[0m\u001b[0mformat\u001b[0m\u001b[0;34m(\u001b[0m\u001b[0mX_train\u001b[0m\u001b[0;34m.\u001b[0m\u001b[0mshape\u001b[0m\u001b[0;34m[\u001b[0m\u001b[0;36m0\u001b[0m\u001b[0;34m]\u001b[0m\u001b[0;34m)\u001b[0m\u001b[0;34m)\u001b[0m\u001b[0;34m\u001b[0m\u001b[0;34m\u001b[0m\u001b[0m\n\u001b[1;32m      4\u001b[0m \u001b[0mprint\u001b[0m\u001b[0;34m(\u001b[0m\u001b[0;34m'Testing Data Count: {}'\u001b[0m\u001b[0;34m.\u001b[0m\u001b[0mformat\u001b[0m\u001b[0;34m(\u001b[0m\u001b[0mX_test\u001b[0m\u001b[0;34m.\u001b[0m\u001b[0mshape\u001b[0m\u001b[0;34m[\u001b[0m\u001b[0;36m0\u001b[0m\u001b[0;34m]\u001b[0m\u001b[0;34m)\u001b[0m\u001b[0;34m)\u001b[0m\u001b[0;34m\u001b[0m\u001b[0;34m\u001b[0m\u001b[0m\n",
      "\u001b[0;31mNameError\u001b[0m: name 'X_1' is not defined"
     ]
    }
   ],
   "source": [
    "X1_train, X1_test, y1_train, y1_test = train_test_split(X_1, y, test_size = 0.2, random_state = 465)\n",
    "\n",
    "print('Training Data Count: {}'.format(X_train.shape[0]))\n",
    "print('Testing Data Count: {}'.format(X_test.shape[0]))"
   ]
  },
  {
   "cell_type": "code",
   "execution_count": 65,
   "metadata": {},
   "outputs": [
    {
     "ename": "NameError",
     "evalue": "name 'X1_train' is not defined",
     "output_type": "error",
     "traceback": [
      "\u001b[0;31m---------------------------------------------------------------------------\u001b[0m",
      "\u001b[0;31mNameError\u001b[0m                                 Traceback (most recent call last)",
      "\u001b[0;32m/var/folders/xr/79bkvytj5kd5th_p5bnz8bhh0000gn/T/ipykernel_3462/2749159826.py\u001b[0m in \u001b[0;36m<module>\u001b[0;34m\u001b[0m\n\u001b[0;32m----> 1\u001b[0;31m \u001b[0mX1_train\u001b[0m \u001b[0;34m=\u001b[0m \u001b[0msm\u001b[0m\u001b[0;34m.\u001b[0m\u001b[0madd_constant\u001b[0m\u001b[0;34m(\u001b[0m\u001b[0mX1_train\u001b[0m\u001b[0;34m)\u001b[0m\u001b[0;34m\u001b[0m\u001b[0;34m\u001b[0m\u001b[0m\n\u001b[0m\u001b[1;32m      2\u001b[0m \u001b[0mresults1\u001b[0m \u001b[0;34m=\u001b[0m \u001b[0msm\u001b[0m\u001b[0;34m.\u001b[0m\u001b[0mOLS\u001b[0m\u001b[0;34m(\u001b[0m\u001b[0my1_train\u001b[0m\u001b[0;34m,\u001b[0m \u001b[0mX1_train\u001b[0m\u001b[0;34m)\u001b[0m\u001b[0;34m.\u001b[0m\u001b[0mfit\u001b[0m\u001b[0;34m(\u001b[0m\u001b[0;34m)\u001b[0m\u001b[0;34m\u001b[0m\u001b[0;34m\u001b[0m\u001b[0m\n\u001b[1;32m      3\u001b[0m \u001b[0mresults1\u001b[0m\u001b[0;34m.\u001b[0m\u001b[0msummary\u001b[0m\u001b[0;34m(\u001b[0m\u001b[0;34m)\u001b[0m\u001b[0;34m\u001b[0m\u001b[0;34m\u001b[0m\u001b[0m\n",
      "\u001b[0;31mNameError\u001b[0m: name 'X1_train' is not defined"
     ]
    }
   ],
   "source": [
    "X1_train = sm.add_constant(X1_train)\n",
    "results1 = sm.OLS(y1_train, X1_train).fit()\n",
    "results1.summary()"
   ]
  },
  {
   "cell_type": "markdown",
   "metadata": {},
   "source": [
    "Surely the R-square value is higher, we have a slightly better model. Both variables are stat. significant and looking at the coefficient of x2 (recmmended) equal to -0.13 we can say that we expect the score to be lower than 0.13 when recommended = 0, or False (compared to the expected average score). Again the time coefficient is very small, even if bigger then the previous case. To sum up, we can say that the \"link\" between the variables is slightly stronger in this case, but not worthy of note."
   ]
  },
  {
   "cell_type": "markdown",
   "metadata": {},
   "source": [
    "### What are histograms, bar plots, scatterplots and pie charts used for?"
   ]
  },
  {
   "cell_type": "markdown",
   "metadata": {},
   "source": [
    "A histogram is visula representation of the distribution of numerical data usually grouped in bins which a non \n",
    "overlapped series of intervals.\n",
    "A bar chart or bar graph is a chart or graph that presents categorical data with rectangular bars with heights \n",
    "or lengths proportional to the values that they represent.\n",
    "A scatter plot uses dots to represent values for two different numeric variables expressing the relationship that \n",
    "occurs between the two variables.\n",
    "A pie chart is a circular graphic method which is used to illustrate numerical proportion into a group of variables.\n"
   ]
  },
  {
   "cell_type": "markdown",
   "metadata": {},
   "source": [
    "### What insights can you extract from a Box Plot?"
   ]
  },
  {
   "cell_type": "markdown",
   "metadata": {},
   "source": [
    "The box-plot is a graphical representation that can be used to describe the distribution of data through 5 indices: the minimum, the maximum, the median (quantile lev=0.5) and the first and third quartiles.\n",
    "The \"box\" is delimited by the first and third quartiles (so the height is the interquantile difference IQR = q3-q1)and divided inside by the median. The \"whiskers\" are delimited by the minimum and maximum of the values. In this way the data is divided into four intervals with the same number of elements and this shows, for example, if the distribution is symmetric or not. Data that does not fit into the \"whiskers\" are called outliers, they are defined as outside the interval [-IQR,+IQR]."
   ]
  },
  {
   "cell_type": "markdown",
   "metadata": {},
   "source": [
    "# Bonus points"
   ]
  },
  {
   "cell_type": "code",
   "execution_count": null,
   "metadata": {},
   "outputs": [],
   "source": [
    "'''\n",
    "For this homework, you are required to work with all data in the steam_reviews.csv. An extension (two files) \n",
    "of the dataset is available in the next links:\n",
    "\n",
    "a. File 1 to be downloaded from https://sapienza2021adm.s3.eu-south-1.amazonaws.com/steam_reviews_bonus_1.zip.\n",
    "\n",
    "b. File 2 to be downloaded from https://sapienza2021adm.s3.eu-south-1.amazonaws.com/steam_reviews_bonus_2.zip.\n",
    "\n",
    "It is not necessary to use the extension for this homework, however, if you decide to use it, we will take it into\n",
    "account in the final evaluation. In summary, to get the bonus points you are required to work with\n",
    "[steam_reviews.csv + two files of extension] all together.\n",
    "''';\n"
   ]
  },
  {
   "cell_type": "markdown",
   "metadata": {},
   "source": [
    "# Theoretical Questions"
   ]
  },
  {
   "cell_type": "markdown",
   "metadata": {},
   "source": [
    "# TQ1"
   ]
  },
  {
   "cell_type": "code",
   "execution_count": null,
   "metadata": {},
   "outputs": [],
   "source": [
    "'''\n",
    "We are given the following algorithm.\n",
    "\n",
    "Input: \n",
    "    A: array of length n\n",
    "    k: integers between 1 and n\n",
    "    \n",
    "function alg(A, k):\n",
    "  s <-- a random element of A\n",
    "  set L = [all the elements of A with value <= s]\n",
    "  set R = [all the elements of A with value > s]\n",
    "  r = len(L)\n",
    "  if k == r:\n",
    "    return s\n",
    "  else if k < r:  \n",
    "    return alg(L, k)\n",
    "  else:\n",
    "    return alg(R, k - r)\n",
    "''';\n",
    "import random\n",
    "#IMPLEMENTATION\n",
    "\n",
    "def alg(A, k):\n",
    "    #s= a random element of A\n",
    "    s=random.choice(A)\n",
    "#    print(s)\n",
    "    L = [x for x in A if x<=s]\n",
    "  #  print('L=',L)\n",
    "    R = [x for x in A if x>s]\n",
    "   # print('R=',R)\n",
    "    lung = len(L)\n",
    "    if k == lung:\n",
    "        return s\n",
    "    elif k < lung:  \n",
    "        return alg(L, k)\n",
    "    else:\n",
    "        return alg(R, k - lung)\n"
   ]
  },
  {
   "cell_type": "markdown",
   "metadata": {},
   "source": [
    "### What does the algorithm compute?"
   ]
  },
  {
   "cell_type": "markdown",
   "metadata": {},
   "source": [
    "The algorith find the k smallest element in the Array."
   ]
  },
  {
   "cell_type": "markdown",
   "metadata": {},
   "source": [
    "### What is asymptotically (i.e., we are asking for big-O complexity) the running time of the algorithm in the worst case, as a function of n?"
   ]
  },
  {
   "cell_type": "markdown",
   "metadata": {},
   "source": [
    "The worst case occurs when s=min(A)  and k=len(A).\n",
    "In this situation: $$\\begin{align}T(n) &= n + T(n-1)\\\\&= n + (n-1) + T(n-2)\\\\&= ...\\\\&=   \\sum_{i=0}^{n}(n-i)\\\\&= (\\sum_in - \\sum_i i)\\\\&= ...\\\\&= n^2 - n\\\\&=O(n^2) \\end{align}$$\n",
    "\n",
    "There are degenerate cases where we can not guarantees the convergence of the algorithm:\n",
    "* K=0\n",
    "* s=max(A): the probability is almost 0, but we can not exclude this behaviour\n",
    "* the element we are looking is repeated in the array\n"
   ]
  },
  {
   "cell_type": "markdown",
   "metadata": {},
   "source": [
    "The best case occurs for k=len(L) and the running time is $$ T(n)=1+n+1+1= O(n) $$"
   ]
  },
  {
   "cell_type": "markdown",
   "metadata": {},
   "source": [
    "The medium running time is $$ O(n) $$\n",
    "Given the output of the function below"
   ]
  },
  {
   "cell_type": "code",
   "execution_count": null,
   "metadata": {},
   "outputs": [],
   "source": [
    "def get_exec_metrics(n_loops, a, k):\n",
    "    cum = 0\n",
    "    for _ in range(int(n_loops)):\n",
    "        cum += alg(a, k)\n",
    "    return cum/(len(a)*n_loops), len(a)\n",
    "\n",
    "\n",
    "k=1\n",
    "a = list(set([random.randint(0, 100) for _ in range(50)]))\n",
    "n = len(a)\n",
    "n_coeff, _ = get_exec_metrics(1e5, a, k)\n",
    "print(f\"For k= {k} we have, after 1e5 run, {n_coeff} times n with n= {n}\")\n",
    "    \n",
    "k = n//2\n",
    "n_coeff, _ = get_exec_metrics(1e5, a, k)\n",
    "print(f\"For k= {k} we have, after 1e5 run, {n_coeff} times n with n= {n}\")\n",
    "\n",
    "k = n\n",
    "n_coeff, _ = get_exec_metrics(1e5, a, k)\n",
    "print(f\"For k= {k} we have, after 1e5 run, {n_coeff} times n with n= {n}\")\n"
   ]
  },
  {
   "cell_type": "markdown",
   "metadata": {},
   "source": [
    "# TQ2"
   ]
  },
  {
   "cell_type": "code",
   "execution_count": null,
   "metadata": {},
   "outputs": [],
   "source": [
    "'''\n",
    "You are given the recursive function splitSwap, which accepts an array a, an index i, and a length n.\n",
    "\n",
    "function splitSwap(a, l, n):\n",
    "  if n <= 1:\n",
    "    return\n",
    "  splitSwap(a, l, n/2)\n",
    "  splitSwap(a, l+ n /2, n/2)\n",
    "  swapList(a, l, n)\n",
    "  \n",
    "The subroutine swapList is described here:\n",
    "\n",
    "function swapList(a, l, n):\n",
    "  for i = 0 to n/2:\n",
    "    tmp = a[l + i]\n",
    "    a[l + i] = a[l + n/2 + i]\n",
    "    a[l + n/2 + i] = tmp\n",
    "'''\n",
    "#IMPLEMENTATION\n",
    "\n",
    "\n",
    "def splitSwap(a, l, n, lvl=0):\n",
    "    if n <= 1:\n",
    "        return\n",
    "    indent = '\\t'*lvl\n",
    "    print(f\"{indent}entered at lvl {lvl} with a: {a}\\n\")\n",
    "    splitSwap(a, l, n//2, lvl+1)\n",
    "    splitSwap(a, l+ n//2, n//2, lvl+1)\n",
    "    print(f\"{indent}* a pre_swap: {a}\")\n",
    "    swapList(a, l, n)\n",
    "    print(f\"{indent}* a after_swap: {a}\\n\\n\")\n",
    "\n",
    "\n",
    "def swapList(a, l, n):\n",
    "    # n//2 times we do 3 operations\n",
    "    for i in range(n//2):\n",
    "        tmp = a[l + i]\n",
    "        a[l + i] = a[l + n//2 + i]\n",
    "        a[l + n//2 + i] = tmp\n",
    "    \n",
    "splitSwap([i for i in range(1,9)], 0, 8)\n",
    "\n",
    "\n"
   ]
  },
  {
   "cell_type": "markdown",
   "metadata": {},
   "source": [
    "### How much running time does it take to execute splitSwap(a, 0, n)? (We want a Big O analysis.)"
   ]
  },
  {
   "cell_type": "markdown",
   "metadata": {},
   "source": [
    "$$\\begin{align}T(n) &= \\frac{3n}{2} + 2T(\\frac{3n}{2})\\\\&= \\frac{3n}{2} + 2(\\frac{3n}{2^2} + 2T(\\frac{3n}{2^2}))\\\\&= \\frac{3n}{2} + 2\\frac{3n}{2^2} + 2^2T(\\frac{3n}{2^2})\\\\&= ...\\\\&= 3\\cdot \\sum_{i=1}^{log_2(n)} 2^{i-1} \\frac{n}{2^i}\\\\&= 3\\cdot n \\cdot \\sum_{i=1}^{log_2(n)} 2^{i-1} \\frac{1}{2^i}  = n \\cdot \\frac{3}{2} \\sum_{i=1}^{log_2(n)} 1 \\\\&= n \\cdot \\frac{3}{2} \\cdot log_2(n) = O(n\\cdot log_2(n))\\end{align}$$"
   ]
  },
  {
   "cell_type": "markdown",
   "metadata": {},
   "source": [
    "### What does this algorithm do? Is it optimal? Describe the mechanism of the algorithm in details, we do not want to know only its final result. HINT: Consider the scenario where len(a) and n are numbers that are a power of 2."
   ]
  },
  {
   "cell_type": "markdown",
   "metadata": {},
   "source": [
    "The algorith reverse the subarray starting from the index i untill i+n : as the implementation shows, in every\n",
    "level we swap a subarray of dimension 2^(log2(n)-1-level).\n",
    "\n",
    "So the algorithm works as follow:\n",
    "1) Takes a list *A*, a starting index *l* and a len of the sublist *n*<br>\n",
    "2) Reverses the first $\\frac{n}{2}$ elements of the *A*'s sublist starting from *l* to $l + \\frac{n}{2}$ <br>\n",
    "3) Reverses the second $\\frac{n}{2}$ elements of the *A*'s sublist starting from $l + \\frac{n}{2}$ to $l + n$<br>\n",
    "4) Given that the swapped sublists are in the wrong order we use swapList in order to change the *i-th* element with the $i+\\frac{n}{2}$*-th* one starting from the posizion *l* to the position *l + n*<br>\n",
    "\n",
    "The algorith is not optimal since we can solve the same problem with an algorith with O(n)=n.\n",
    "For example we can consider another array B in which we store the elements of the Array A from the index l+n untill l \n",
    "( step=-1) and then we could copy the elements of B in the positions l untill l+n of A\n"
   ]
  },
  {
   "cell_type": "code",
   "execution_count": null,
   "metadata": {},
   "outputs": [],
   "source": [
    "def another_algorith(A,l,n):\n",
    "    B=[]\n",
    "    for i in range(l+n,l,-1):\n",
    "        B.append(A[i])\n",
    "    for i in range(l,l+n):\n",
    "        A[i]=B[i-l]\n",
    "        "
   ]
  },
  {
   "cell_type": "markdown",
   "metadata": {},
   "source": [
    "# TQ3"
   ]
  },
  {
   "cell_type": "code",
   "execution_count": null,
   "metadata": {},
   "outputs": [],
   "source": [
    "'''\n",
    "In the knapsack problem we are given n objects and each object i has a weight w_i and a value v_i.\n",
    "We are also given a weight budget W. The problem is to select a set of objects with total weight bounded by W \n",
    "that maximized the sum of their values. The following are three natural heuristics:\n",
    "\n",
    "*Order them in increasing order of weight and then visit them sequentially, adding them to the solution \n",
    "as long as the budget is not exceeded\n",
    "\n",
    "*Order them in decreasing order of values, and then visit them sequentially, adding them to the solution \n",
    "if the budget is not exceeded\n",
    "\n",
    "*Order them in decreasing relative value (v_i / w_i), and then visit them sequentially, adding them to the \n",
    "solution if the budget is not exceeded\n",
    "''';"
   ]
  },
  {
   "cell_type": "markdown",
   "metadata": {},
   "source": [
    "### For each of the heuristics, provide a counterexample, that is, an example of a problem instance in which the heuristic fails to provide the optimal solution."
   ]
  },
  {
   "cell_type": "markdown",
   "metadata": {},
   "source": [
    "### First "
   ]
  },
  {
   "cell_type": "markdown",
   "metadata": {},
   "source": [
    "Suppose the existence of two elements A={p=2,v=2}, B={p=1,v=0} and set the weight budget=W=2.\n",
    "If we order the objects in increasing order of weight and then visit them sequentially, adding them to the solution\n",
    "as long as the budget is not exceeded , we will find {B} with a total value of 0.\n",
    "This is not an optimal solution since the solution given by {A} respects the weight costraint \n",
    "and has a total value of 2."
   ]
  },
  {
   "cell_type": "markdown",
   "metadata": {},
   "source": [
    "### Second"
   ]
  },
  {
   "cell_type": "markdown",
   "metadata": {},
   "source": [
    "Suppose the existence of three elements A={v=3,p=3},B={v=2,p=1},C={p=1,v=2} and set the weight budget=3.\n",
    "If we order them in decreasing order of values, and then visit them sequentially, adding them to the \n",
    "solution if the budget is not exceeded, we will find {A} with a total value of 3.\n",
    "This is not an optimal solution since the solution given by {B,C} has a total weight of 2 and a total value of 4.\n"
   ]
  },
  {
   "cell_type": "markdown",
   "metadata": {},
   "source": [
    "### Third"
   ]
  },
  {
   "cell_type": "markdown",
   "metadata": {},
   "source": [
    "Suppose the existence of two elements A={v=2,p=1,v/p=2}, B={v=3,p=3,v/p=1} and set the weight budget=3.\n",
    "If we order them in decreasing relative value (v_i / w_i), and then visit them sequentially, adding them\n",
    "to the solution if the budget is not exceeded, we will find {A} with a total value of 2.\n",
    "This is not an optimal solution since the solution given by {B} respects the weight costraint \n",
    "and has a total value of 3."
   ]
  }
 ],
 "metadata": {
  "colab": {
   "collapsed_sections": [],
   "name": "Untitled0.ipynb",
   "provenance": [],
   "toc_visible": true
  },
  "instance_type": "ml.t3.medium",
  "interpreter": {
   "hash": "2e3f86d80f9d4ea2c2a83e8f7b2349235d41b98d2c2cd154f6179deca092a54d"
  },
  "kernelspec": {
   "display_name": "Python 3.8.8 64-bit ('base': conda)",
   "name": "python3"
  },
  "language_info": {
   "codemirror_mode": {
    "name": "ipython",
    "version": 3
   },
   "file_extension": ".py",
   "mimetype": "text/x-python",
   "name": "python",
   "nbconvert_exporter": "python",
   "pygments_lexer": "ipython3",
   "version": "3.8.8"
  }
 },
 "nbformat": 4,
 "nbformat_minor": 4
}
