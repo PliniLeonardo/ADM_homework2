{
 "cells": [
  {
   "cell_type": "markdown",
   "metadata": {
    "id": "c0NkNIdOUUHN"
   },
   "source": [
    "# HW2- Steam Reviews\n"
   ]
  },
  {
   "cell_type": "markdown",
   "metadata": {},
   "source": [
    "# Loading the Dataset"
   ]
  },
  {
   "cell_type": "code",
   "execution_count": 1,
   "metadata": {
    "colab": {
     "base_uri": "https://localhost:8080/"
    },
    "executionInfo": {
     "elapsed": 956,
     "status": "ok",
     "timestamp": 1634674196170,
     "user": {
      "displayName": "camilla savarese",
      "photoUrl": "https://lh3.googleusercontent.com/a/default-user=s64",
      "userId": "01187100401107976032"
     },
     "user_tz": -120
    },
    "id": "JKVANiYkZErq",
    "outputId": "dcfef933-0b55-419b-e270-d9b5abc10017"
   },
   "outputs": [],
   "source": [
    "'''\n",
    "from google.colab import drive\n",
    "drive.mount('/content/drive/')\n",
    "''';"
   ]
  },
  {
   "cell_type": "markdown",
   "metadata": {
    "id": "moEqNAhjTt2d"
   },
   "source": [
    " This is a dataset of around 21 million user reviews of around 300 different games on Steam: sto importando solo poche righe per lavorarci"
   ]
  },
  {
   "cell_type": "markdown",
   "metadata": {},
   "source": [
    "### Usefull libraries"
   ]
  },
  {
   "cell_type": "code",
   "execution_count": 2,
   "metadata": {},
   "outputs": [],
   "source": [
    "import pandas as pd\n",
    "import numpy as np  \n",
    "import matplotlib.pyplot as plt\n",
    "  \n",
    "\n"
   ]
  },
  {
   "cell_type": "code",
   "execution_count": 3,
   "metadata": {
    "colab": {
     "base_uri": "https://localhost:8080/",
     "height": 626
    },
    "executionInfo": {
     "elapsed": 66374,
     "status": "ok",
     "timestamp": 1634671082402,
     "user": {
      "displayName": "camilla savarese",
      "photoUrl": "https://lh3.googleusercontent.com/a/default-user=s64",
      "userId": "01187100401107976032"
     },
     "user_tz": -120
    },
    "id": "mqILoTqDZjgz",
    "outputId": "7126ba17-7f37-49a7-f117-9c3e80781211"
   },
   "outputs": [],
   "source": [
    "#df= pd.read_csv('/content/drive/MyDrive/HW2-ADM/steam_reviews.csv',nrows=10000000)\n"
   ]
  },
  {
   "cell_type": "code",
   "execution_count": 4,
   "metadata": {},
   "outputs": [],
   "source": [
    "df=pd.read_csv('steam_reviews.csv',nrows=1000000)"
   ]
  },
  {
   "cell_type": "markdown",
   "metadata": {},
   "source": [
    "# [RQ1]: Exploratory Data Analysis"
   ]
  },
  {
   "cell_type": "code",
   "execution_count": 81,
   "metadata": {},
   "outputs": [
    {
     "data": {
      "text/html": [
       "<div>\n",
       "<style scoped>\n",
       "    .dataframe tbody tr th:only-of-type {\n",
       "        vertical-align: middle;\n",
       "    }\n",
       "\n",
       "    .dataframe tbody tr th {\n",
       "        vertical-align: top;\n",
       "    }\n",
       "\n",
       "    .dataframe thead th {\n",
       "        text-align: right;\n",
       "    }\n",
       "</style>\n",
       "<table border=\"1\" class=\"dataframe\">\n",
       "  <thead>\n",
       "    <tr style=\"text-align: right;\">\n",
       "      <th></th>\n",
       "      <th>Unnamed: 0</th>\n",
       "      <th>app_id</th>\n",
       "      <th>app_name</th>\n",
       "      <th>review_id</th>\n",
       "      <th>language</th>\n",
       "      <th>review</th>\n",
       "      <th>timestamp_created</th>\n",
       "      <th>timestamp_updated</th>\n",
       "      <th>recommended</th>\n",
       "      <th>votes_helpful</th>\n",
       "      <th>...</th>\n",
       "      <th>received_for_free</th>\n",
       "      <th>written_during_early_access</th>\n",
       "      <th>author.steamid</th>\n",
       "      <th>author.num_games_owned</th>\n",
       "      <th>author.num_reviews</th>\n",
       "      <th>author.playtime_forever</th>\n",
       "      <th>author.playtime_last_two_weeks</th>\n",
       "      <th>author.playtime_at_review</th>\n",
       "      <th>author.last_played</th>\n",
       "      <th>updated</th>\n",
       "    </tr>\n",
       "  </thead>\n",
       "  <tbody>\n",
       "    <tr>\n",
       "      <th>0</th>\n",
       "      <td>0</td>\n",
       "      <td>292030</td>\n",
       "      <td>The Witcher 3: Wild Hunt</td>\n",
       "      <td>85185598</td>\n",
       "      <td>schinese</td>\n",
       "      <td>不玩此生遗憾，RPG游戏里的天花板，太吸引人了</td>\n",
       "      <td>1611381629</td>\n",
       "      <td>1611381629</td>\n",
       "      <td>True</td>\n",
       "      <td>0</td>\n",
       "      <td>...</td>\n",
       "      <td>False</td>\n",
       "      <td>False</td>\n",
       "      <td>76561199095369542</td>\n",
       "      <td>6</td>\n",
       "      <td>2</td>\n",
       "      <td>1909.0</td>\n",
       "      <td>1448.0</td>\n",
       "      <td>1909.0</td>\n",
       "      <td>1.611343e+09</td>\n",
       "      <td>True</td>\n",
       "    </tr>\n",
       "    <tr>\n",
       "      <th>1</th>\n",
       "      <td>1</td>\n",
       "      <td>292030</td>\n",
       "      <td>The Witcher 3: Wild Hunt</td>\n",
       "      <td>85185250</td>\n",
       "      <td>schinese</td>\n",
       "      <td>拔DIAO无情打桩机--杰洛特!!!</td>\n",
       "      <td>1611381030</td>\n",
       "      <td>1611381030</td>\n",
       "      <td>True</td>\n",
       "      <td>0</td>\n",
       "      <td>...</td>\n",
       "      <td>False</td>\n",
       "      <td>False</td>\n",
       "      <td>76561198949504115</td>\n",
       "      <td>30</td>\n",
       "      <td>10</td>\n",
       "      <td>2764.0</td>\n",
       "      <td>2743.0</td>\n",
       "      <td>2674.0</td>\n",
       "      <td>1.611386e+09</td>\n",
       "      <td>True</td>\n",
       "    </tr>\n",
       "    <tr>\n",
       "      <th>2</th>\n",
       "      <td>2</td>\n",
       "      <td>292030</td>\n",
       "      <td>The Witcher 3: Wild Hunt</td>\n",
       "      <td>85185111</td>\n",
       "      <td>schinese</td>\n",
       "      <td>巫师3NB</td>\n",
       "      <td>1611380800</td>\n",
       "      <td>1611380800</td>\n",
       "      <td>True</td>\n",
       "      <td>0</td>\n",
       "      <td>...</td>\n",
       "      <td>False</td>\n",
       "      <td>False</td>\n",
       "      <td>76561199090098988</td>\n",
       "      <td>5</td>\n",
       "      <td>1</td>\n",
       "      <td>1061.0</td>\n",
       "      <td>1061.0</td>\n",
       "      <td>1060.0</td>\n",
       "      <td>1.611384e+09</td>\n",
       "      <td>True</td>\n",
       "    </tr>\n",
       "  </tbody>\n",
       "</table>\n",
       "<p>3 rows × 24 columns</p>\n",
       "</div>"
      ],
      "text/plain": [
       "   Unnamed: 0  app_id                  app_name  review_id  language  \\\n",
       "0           0  292030  The Witcher 3: Wild Hunt   85185598  schinese   \n",
       "1           1  292030  The Witcher 3: Wild Hunt   85185250  schinese   \n",
       "2           2  292030  The Witcher 3: Wild Hunt   85185111  schinese   \n",
       "\n",
       "                    review  timestamp_created  timestamp_updated  recommended  \\\n",
       "0  不玩此生遗憾，RPG游戏里的天花板，太吸引人了         1611381629         1611381629         True   \n",
       "1       拔DIAO无情打桩机--杰洛特!!!         1611381030         1611381030         True   \n",
       "2                    巫师3NB         1611380800         1611380800         True   \n",
       "\n",
       "   votes_helpful  ...  received_for_free  written_during_early_access  \\\n",
       "0              0  ...              False                        False   \n",
       "1              0  ...              False                        False   \n",
       "2              0  ...              False                        False   \n",
       "\n",
       "      author.steamid  author.num_games_owned  author.num_reviews  \\\n",
       "0  76561199095369542                       6                   2   \n",
       "1  76561198949504115                      30                  10   \n",
       "2  76561199090098988                       5                   1   \n",
       "\n",
       "   author.playtime_forever  author.playtime_last_two_weeks  \\\n",
       "0                   1909.0                          1448.0   \n",
       "1                   2764.0                          2743.0   \n",
       "2                   1061.0                          1061.0   \n",
       "\n",
       "   author.playtime_at_review  author.last_played  updated  \n",
       "0                     1909.0        1.611343e+09     True  \n",
       "1                     2674.0        1.611386e+09     True  \n",
       "2                     1060.0        1.611384e+09     True  \n",
       "\n",
       "[3 rows x 24 columns]"
      ]
     },
     "execution_count": 81,
     "metadata": {},
     "output_type": "execute_result"
    }
   ],
   "source": [
    "df.head(3)"
   ]
  },
  {
   "cell_type": "code",
   "execution_count": 6,
   "metadata": {},
   "outputs": [
    {
     "name": "stdout",
     "output_type": "stream",
     "text": [
      "<class 'pandas.core.frame.DataFrame'>\n",
      "RangeIndex: 1000000 entries, 0 to 999999\n",
      "Data columns (total 23 columns):\n",
      " #   Column                          Non-Null Count    Dtype  \n",
      "---  ------                          --------------    -----  \n",
      " 0   Unnamed: 0                      1000000 non-null  int64  \n",
      " 1   app_id                          1000000 non-null  int64  \n",
      " 2   app_name                        1000000 non-null  object \n",
      " 3   review_id                       1000000 non-null  int64  \n",
      " 4   language                        1000000 non-null  object \n",
      " 5   review                          998242 non-null   object \n",
      " 6   timestamp_created               1000000 non-null  int64  \n",
      " 7   timestamp_updated               1000000 non-null  int64  \n",
      " 8   recommended                     1000000 non-null  bool   \n",
      " 9   votes_helpful                   1000000 non-null  int64  \n",
      " 10  votes_funny                     1000000 non-null  int64  \n",
      " 11  weighted_vote_score             1000000 non-null  float64\n",
      " 12  comment_count                   1000000 non-null  int64  \n",
      " 13  steam_purchase                  1000000 non-null  bool   \n",
      " 14  received_for_free               1000000 non-null  bool   \n",
      " 15  written_during_early_access     1000000 non-null  bool   \n",
      " 16  author.steamid                  1000000 non-null  int64  \n",
      " 17  author.num_games_owned          1000000 non-null  int64  \n",
      " 18  author.num_reviews              1000000 non-null  int64  \n",
      " 19  author.playtime_forever         1000000 non-null  float64\n",
      " 20  author.playtime_last_two_weeks  1000000 non-null  float64\n",
      " 21  author.playtime_at_review       997686 non-null   float64\n",
      " 22  author.last_played              1000000 non-null  float64\n",
      "dtypes: bool(4), float64(5), int64(11), object(3)\n",
      "memory usage: 148.8+ MB\n"
     ]
    }
   ],
   "source": [
    "df.info()"
   ]
  },
  {
   "cell_type": "markdown",
   "metadata": {
    "id": "izowx8OkauCN"
   },
   "source": [
    "We can see that there are 23 columns, 8 integer,5 decimal, 4 boolean and 6 of other type.\n",
    "The first one 'Unnamed' can be consider just like an index.\n"
   ]
  },
  {
   "cell_type": "code",
   "execution_count": 7,
   "metadata": {
    "colab": {
     "base_uri": "https://localhost:8080/"
    },
    "executionInfo": {
     "elapsed": 2263,
     "status": "ok",
     "timestamp": 1634244260432,
     "user": {
      "displayName": "camilla savarese",
      "photoUrl": "https://lh3.googleusercontent.com/a/default-user=s64",
      "userId": "01187100401107976032"
     },
     "user_tz": -120
    },
    "id": "iDgrdzC-bEVA",
    "outputId": "68a23256-d05a-463e-8c21-a17b723c1da2"
   },
   "outputs": [
    {
     "data": {
      "text/plain": [
       "Unnamed: 0                           0\n",
       "app_id                               0\n",
       "app_name                             0\n",
       "review_id                            0\n",
       "language                             0\n",
       "review                            1758\n",
       "timestamp_created                    0\n",
       "timestamp_updated                    0\n",
       "recommended                          0\n",
       "votes_helpful                        0\n",
       "votes_funny                          0\n",
       "weighted_vote_score                  0\n",
       "comment_count                        0\n",
       "steam_purchase                       0\n",
       "received_for_free                    0\n",
       "written_during_early_access          0\n",
       "author.steamid                       0\n",
       "author.num_games_owned               0\n",
       "author.num_reviews                   0\n",
       "author.playtime_forever              0\n",
       "author.playtime_last_two_weeks       0\n",
       "author.playtime_at_review         2314\n",
       "author.last_played                   0\n",
       "dtype: int64"
      ]
     },
     "execution_count": 7,
     "metadata": {},
     "output_type": "execute_result"
    }
   ],
   "source": [
    "df.isnull().sum()"
   ]
  },
  {
   "cell_type": "markdown",
   "metadata": {
    "id": "pUbzJQE8duEQ"
   },
   "source": [
    "It appears that the variables with missing values ​​are: 'review' (which contains the text itself) , 'author.playtime_at_review' (Author playtime of reviewed app at time of review) ,   ."
   ]
  },
  {
   "cell_type": "code",
   "execution_count": 8,
   "metadata": {
    "id": "CnK32w4ceJ5h"
   },
   "outputs": [
    {
     "data": {
      "text/html": [
       "<div>\n",
       "<style scoped>\n",
       "    .dataframe tbody tr th:only-of-type {\n",
       "        vertical-align: middle;\n",
       "    }\n",
       "\n",
       "    .dataframe tbody tr th {\n",
       "        vertical-align: top;\n",
       "    }\n",
       "\n",
       "    .dataframe thead th {\n",
       "        text-align: right;\n",
       "    }\n",
       "</style>\n",
       "<table border=\"1\" class=\"dataframe\">\n",
       "  <thead>\n",
       "    <tr style=\"text-align: right;\">\n",
       "      <th></th>\n",
       "      <th>Unnamed: 0</th>\n",
       "      <th>app_id</th>\n",
       "      <th>review_id</th>\n",
       "      <th>timestamp_created</th>\n",
       "      <th>timestamp_updated</th>\n",
       "      <th>votes_helpful</th>\n",
       "      <th>votes_funny</th>\n",
       "      <th>weighted_vote_score</th>\n",
       "      <th>comment_count</th>\n",
       "      <th>author.steamid</th>\n",
       "      <th>author.num_games_owned</th>\n",
       "      <th>author.num_reviews</th>\n",
       "      <th>author.playtime_forever</th>\n",
       "      <th>author.playtime_last_two_weeks</th>\n",
       "      <th>author.playtime_at_review</th>\n",
       "      <th>author.last_played</th>\n",
       "    </tr>\n",
       "  </thead>\n",
       "  <tbody>\n",
       "    <tr>\n",
       "      <th>count</th>\n",
       "      <td>1000000.000000</td>\n",
       "      <td>1000000.000000</td>\n",
       "      <td>1.000000e+06</td>\n",
       "      <td>1.000000e+06</td>\n",
       "      <td>1.000000e+06</td>\n",
       "      <td>1000000.000000</td>\n",
       "      <td>1.000000e+06</td>\n",
       "      <td>1000000.000000</td>\n",
       "      <td>1000000.000000</td>\n",
       "      <td>1.000000e+06</td>\n",
       "      <td>1000000.000000</td>\n",
       "      <td>1000000.000000</td>\n",
       "      <td>1.000000e+06</td>\n",
       "      <td>1000000.000000</td>\n",
       "      <td>9.976860e+05</td>\n",
       "      <td>1.000000e+06</td>\n",
       "    </tr>\n",
       "    <tr>\n",
       "      <th>mean</th>\n",
       "      <td>500000.028543</td>\n",
       "      <td>137653.276540</td>\n",
       "      <td>5.024635e+07</td>\n",
       "      <td>1.536537e+09</td>\n",
       "      <td>1.540020e+09</td>\n",
       "      <td>1.354286</td>\n",
       "      <td>1.374396e+05</td>\n",
       "      <td>0.140014</td>\n",
       "      <td>0.110916</td>\n",
       "      <td>7.656120e+16</td>\n",
       "      <td>128.462811</td>\n",
       "      <td>11.763607</td>\n",
       "      <td>1.019143e+04</td>\n",
       "      <td>83.725445</td>\n",
       "      <td>6.910500e+03</td>\n",
       "      <td>1.568400e+09</td>\n",
       "    </tr>\n",
       "    <tr>\n",
       "      <th>std</th>\n",
       "      <td>288675.710534</td>\n",
       "      <td>145203.141254</td>\n",
       "      <td>2.332212e+07</td>\n",
       "      <td>6.952888e+07</td>\n",
       "      <td>6.781931e+07</td>\n",
       "      <td>23.474932</td>\n",
       "      <td>2.429563e+07</td>\n",
       "      <td>0.232354</td>\n",
       "      <td>1.493333</td>\n",
       "      <td>3.292959e+08</td>\n",
       "      <td>267.229146</td>\n",
       "      <td>38.393893</td>\n",
       "      <td>3.265229e+04</td>\n",
       "      <td>548.635872</td>\n",
       "      <td>2.486934e+04</td>\n",
       "      <td>8.532309e+07</td>\n",
       "    </tr>\n",
       "    <tr>\n",
       "      <th>min</th>\n",
       "      <td>0.000000</td>\n",
       "      <td>70.000000</td>\n",
       "      <td>4.300000e+01</td>\n",
       "      <td>1.290320e+09</td>\n",
       "      <td>1.290320e+09</td>\n",
       "      <td>0.000000</td>\n",
       "      <td>0.000000e+00</td>\n",
       "      <td>0.000000</td>\n",
       "      <td>0.000000</td>\n",
       "      <td>7.656120e+16</td>\n",
       "      <td>0.000000</td>\n",
       "      <td>1.000000</td>\n",
       "      <td>0.000000e+00</td>\n",
       "      <td>0.000000</td>\n",
       "      <td>1.000000e+00</td>\n",
       "      <td>0.000000e+00</td>\n",
       "    </tr>\n",
       "    <tr>\n",
       "      <th>25%</th>\n",
       "      <td>249999.750000</td>\n",
       "      <td>620.000000</td>\n",
       "      <td>3.044572e+07</td>\n",
       "      <td>1.489235e+09</td>\n",
       "      <td>1.498630e+09</td>\n",
       "      <td>0.000000</td>\n",
       "      <td>0.000000e+00</td>\n",
       "      <td>0.000000</td>\n",
       "      <td>0.000000</td>\n",
       "      <td>7.656120e+16</td>\n",
       "      <td>26.000000</td>\n",
       "      <td>2.000000</td>\n",
       "      <td>9.640000e+02</td>\n",
       "      <td>0.000000</td>\n",
       "      <td>5.130000e+02</td>\n",
       "      <td>1.560865e+09</td>\n",
       "    </tr>\n",
       "    <tr>\n",
       "      <th>50%</th>\n",
       "      <td>500000.500000</td>\n",
       "      <td>4000.000000</td>\n",
       "      <td>5.347887e+07</td>\n",
       "      <td>1.562225e+09</td>\n",
       "      <td>1.568311e+09</td>\n",
       "      <td>0.000000</td>\n",
       "      <td>0.000000e+00</td>\n",
       "      <td>0.000000</td>\n",
       "      <td>0.000000</td>\n",
       "      <td>7.656120e+16</td>\n",
       "      <td>63.000000</td>\n",
       "      <td>5.000000</td>\n",
       "      <td>3.465000e+03</td>\n",
       "      <td>0.000000</td>\n",
       "      <td>1.640000e+03</td>\n",
       "      <td>1.592154e+09</td>\n",
       "    </tr>\n",
       "    <tr>\n",
       "      <th>75%</th>\n",
       "      <td>750000.250000</td>\n",
       "      <td>292030.000000</td>\n",
       "      <td>7.114404e+07</td>\n",
       "      <td>1.592769e+09</td>\n",
       "      <td>1.593889e+09</td>\n",
       "      <td>1.000000</td>\n",
       "      <td>0.000000e+00</td>\n",
       "      <td>0.467978</td>\n",
       "      <td>0.000000</td>\n",
       "      <td>7.656120e+16</td>\n",
       "      <td>140.000000</td>\n",
       "      <td>11.000000</td>\n",
       "      <td>9.257000e+03</td>\n",
       "      <td>0.000000</td>\n",
       "      <td>5.634000e+03</td>\n",
       "      <td>1.607051e+09</td>\n",
       "    </tr>\n",
       "    <tr>\n",
       "      <th>max</th>\n",
       "      <td>1000000.000000</td>\n",
       "      <td>292030.000000</td>\n",
       "      <td>8.521823e+07</td>\n",
       "      <td>1.611425e+09</td>\n",
       "      <td>1.611425e+09</td>\n",
       "      <td>7352.000000</td>\n",
       "      <td>4.294967e+09</td>\n",
       "      <td>0.990385</td>\n",
       "      <td>420.000000</td>\n",
       "      <td>7.656120e+16</td>\n",
       "      <td>20969.000000</td>\n",
       "      <td>5236.000000</td>\n",
       "      <td>3.336152e+06</td>\n",
       "      <td>20924.000000</td>\n",
       "      <td>3.062784e+06</td>\n",
       "      <td>1.611429e+09</td>\n",
       "    </tr>\n",
       "  </tbody>\n",
       "</table>\n",
       "</div>"
      ],
      "text/plain": [
       "           Unnamed: 0          app_id     review_id  timestamp_created  \\\n",
       "count  1000000.000000  1000000.000000  1.000000e+06       1.000000e+06   \n",
       "mean    500000.028543   137653.276540  5.024635e+07       1.536537e+09   \n",
       "std     288675.710534   145203.141254  2.332212e+07       6.952888e+07   \n",
       "min          0.000000       70.000000  4.300000e+01       1.290320e+09   \n",
       "25%     249999.750000      620.000000  3.044572e+07       1.489235e+09   \n",
       "50%     500000.500000     4000.000000  5.347887e+07       1.562225e+09   \n",
       "75%     750000.250000   292030.000000  7.114404e+07       1.592769e+09   \n",
       "max    1000000.000000   292030.000000  8.521823e+07       1.611425e+09   \n",
       "\n",
       "       timestamp_updated   votes_helpful   votes_funny  weighted_vote_score  \\\n",
       "count       1.000000e+06  1000000.000000  1.000000e+06       1000000.000000   \n",
       "mean        1.540020e+09        1.354286  1.374396e+05             0.140014   \n",
       "std         6.781931e+07       23.474932  2.429563e+07             0.232354   \n",
       "min         1.290320e+09        0.000000  0.000000e+00             0.000000   \n",
       "25%         1.498630e+09        0.000000  0.000000e+00             0.000000   \n",
       "50%         1.568311e+09        0.000000  0.000000e+00             0.000000   \n",
       "75%         1.593889e+09        1.000000  0.000000e+00             0.467978   \n",
       "max         1.611425e+09     7352.000000  4.294967e+09             0.990385   \n",
       "\n",
       "        comment_count  author.steamid  author.num_games_owned  \\\n",
       "count  1000000.000000    1.000000e+06          1000000.000000   \n",
       "mean         0.110916    7.656120e+16              128.462811   \n",
       "std          1.493333    3.292959e+08              267.229146   \n",
       "min          0.000000    7.656120e+16                0.000000   \n",
       "25%          0.000000    7.656120e+16               26.000000   \n",
       "50%          0.000000    7.656120e+16               63.000000   \n",
       "75%          0.000000    7.656120e+16              140.000000   \n",
       "max        420.000000    7.656120e+16            20969.000000   \n",
       "\n",
       "       author.num_reviews  author.playtime_forever  \\\n",
       "count      1000000.000000             1.000000e+06   \n",
       "mean            11.763607             1.019143e+04   \n",
       "std             38.393893             3.265229e+04   \n",
       "min              1.000000             0.000000e+00   \n",
       "25%              2.000000             9.640000e+02   \n",
       "50%              5.000000             3.465000e+03   \n",
       "75%             11.000000             9.257000e+03   \n",
       "max           5236.000000             3.336152e+06   \n",
       "\n",
       "       author.playtime_last_two_weeks  author.playtime_at_review  \\\n",
       "count                  1000000.000000               9.976860e+05   \n",
       "mean                        83.725445               6.910500e+03   \n",
       "std                        548.635872               2.486934e+04   \n",
       "min                          0.000000               1.000000e+00   \n",
       "25%                          0.000000               5.130000e+02   \n",
       "50%                          0.000000               1.640000e+03   \n",
       "75%                          0.000000               5.634000e+03   \n",
       "max                      20924.000000               3.062784e+06   \n",
       "\n",
       "       author.last_played  \n",
       "count        1.000000e+06  \n",
       "mean         1.568400e+09  \n",
       "std          8.532309e+07  \n",
       "min          0.000000e+00  \n",
       "25%          1.560865e+09  \n",
       "50%          1.592154e+09  \n",
       "75%          1.607051e+09  \n",
       "max          1.611429e+09  "
      ]
     },
     "execution_count": 8,
     "metadata": {},
     "output_type": "execute_result"
    }
   ],
   "source": [
    "df.describe()"
   ]
  },
  {
   "cell_type": "code",
   "execution_count": 9,
   "metadata": {},
   "outputs": [],
   "source": [
    "import seaborn as sns"
   ]
  },
  {
   "cell_type": "code",
   "execution_count": 10,
   "metadata": {
    "scrolled": false
   },
   "outputs": [
    {
     "data": {
      "text/plain": [
       "<AxesSubplot:>"
      ]
     },
     "execution_count": 10,
     "metadata": {},
     "output_type": "execute_result"
    },
    {
     "data": {
      "image/png": "[encoded data removed]",
      "text/plain": [
       "<Figure size 720x720 with 2 Axes>"
      ]
     },
     "metadata": {
      "needs_background": "light"
     },
     "output_type": "display_data"
    }
   ],
   "source": [
    "#seaborn.heatmap(df)\n",
    "df_kor = df.corr()\n",
    "plt.figure(figsize=(10,10))\n",
    "sns.heatmap(df_kor, vmin=-1, vmax=1, cmap=\"viridis\", annot=True, linewidth=0.1)\n",
    "\n"
   ]
  },
  {
   "cell_type": "markdown",
   "metadata": {
    "id": "MDUD-6R9gfFn"
   },
   "source": [
    "Now let's focus on the variables that we consider more interesting. We start with app_name."
   ]
  },
  {
   "cell_type": "code",
   "execution_count": 11,
   "metadata": {
    "colab": {
     "base_uri": "https://localhost:8080/"
    },
    "executionInfo": {
     "elapsed": 1320,
     "status": "ok",
     "timestamp": 1634496691952,
     "user": {
      "displayName": "camilla savarese",
      "photoUrl": "https://lh3.googleusercontent.com/a/default-user=s64",
      "userId": "01187100401107976032"
     },
     "user_tz": -120
    },
    "id": "zOfRbQ8Lgm2W",
    "outputId": "662ffff6-3c82-4639-ac95-5a2243645f31"
   },
   "outputs": [
    {
     "name": "stdout",
     "output_type": "stream",
     "text": [
      "The Witcher 3: Wild Hunt    0.469395\n",
      "Portal 2                    0.232329\n",
      "Counter-Strike: Source      0.118081\n",
      "Garry's Mod                 0.092374\n",
      "Half-Life                   0.057320\n",
      "Half-Life 2: Episode Two    0.023500\n",
      "X Rebirth                   0.007001\n",
      "Name: app_name, dtype: float64\n",
      "['The Witcher 3: Wild Hunt' 'Half-Life' 'Counter-Strike: Source'\n",
      " 'Half-Life 2: Episode Two' 'Portal 2' 'X Rebirth' \"Garry's Mod\"]\n"
     ]
    },
    {
     "data": {
      "image/png": "[encoded data removed]",
      "text/plain": [
       "<Figure size 432x288 with 1 Axes>"
      ]
     },
     "metadata": {},
     "output_type": "display_data"
    },
    {
     "data": {
      "text/plain": [
       "([0, 1, 2, 3, 4, 5, 6],\n",
       " [Text(0, 0, ''),\n",
       "  Text(0, 0, ''),\n",
       "  Text(0, 0, ''),\n",
       "  Text(0, 0, ''),\n",
       "  Text(0, 0, ''),\n",
       "  Text(0, 0, ''),\n",
       "  Text(0, 0, '')])"
      ]
     },
     "execution_count": 11,
     "metadata": {},
     "output_type": "execute_result"
    },
    {
     "data": {
      "image/png": "[encoded data removed]",
      "text/plain": [
       "<Figure size 432x288 with 1 Axes>"
      ]
     },
     "metadata": {
      "needs_background": "light"
     },
     "output_type": "display_data"
    }
   ],
   "source": [
    "#App_name\n",
    "x=df[\"app_name\"].value_counts(normalize=True) #in percentuale le diverse app recensite\n",
    "print(x)\n",
    "names=df[\"app_name\"].unique() #nomi app\n",
    "print(names)\n",
    "label=[\"Tom Clancy's Rainbow Six Siege\",\"Garry's Mod\",\"Rust\" ]\n",
    "\n",
    "#x_1=x[:3:]\n",
    "#print(x_1)\n",
    "\n",
    "#Grafico a torta\n",
    "x.plot.pie() #labels=label)\n",
    "plt.show()\n",
    "\n",
    "#Farei un barpot con quelle \"vere\"\n",
    "plt.bar(names,x)\n",
    "plt.xticks(rotation='vertical')"
   ]
  },
  {
   "cell_type": "markdown",
   "metadata": {
    "id": "WqkY2fa_h1Ug"
   },
   "source": [
    "In total there are 315 different apps, the most common are: PLAYERUNKNOWN'S BATTLEGROUNDS (8%),Grand Theft Auto V (5%) and.. (bo va visto sui dati tot).\n"
   ]
  },
  {
   "cell_type": "markdown",
   "metadata": {
    "id": "u6Giqz-mmWbJ"
   },
   "source": [
    "Now we consider the language. The most common are..."
   ]
  },
  {
   "cell_type": "code",
   "execution_count": 22,
   "metadata": {
    "colab": {
     "base_uri": "https://localhost:8080/",
     "height": 828
    },
    "executionInfo": {
     "elapsed": 1387,
     "status": "ok",
     "timestamp": 1634497634244,
     "user": {
      "displayName": "camilla savarese",
      "photoUrl": "https://lh3.googleusercontent.com/a/default-user=s64",
      "userId": "01187100401107976032"
     },
     "user_tz": -120
    },
    "id": "lQURMq01mb1x",
    "outputId": "8a888d2d-c7c3-43cd-b94d-85a42ca10efb"
   },
   "outputs": [
    {
     "name": "stdout",
     "output_type": "stream",
     "text": [
      "english       0.392312\n",
      "russian       0.185744\n",
      "schinese      0.125667\n",
      "brazilian     0.045571\n",
      "turkish       0.044407\n",
      "spanish       0.042013\n",
      "polish        0.031777\n",
      "german        0.031066\n",
      "french        0.026499\n",
      "koreana       0.021153\n",
      "tchinese      0.008131\n",
      "czech         0.007633\n",
      "italian       0.005737\n",
      "portuguese    0.004249\n",
      "latam         0.004034\n",
      "hungarian     0.003403\n",
      "thai          0.003148\n",
      "swedish       0.002676\n",
      "finnish       0.002522\n",
      "danish        0.002352\n",
      "dutch         0.002335\n",
      "japanese      0.002113\n",
      "ukrainian     0.001820\n",
      "norwegian     0.001185\n",
      "romanian      0.001068\n",
      "greek         0.000598\n",
      "bulgarian     0.000481\n",
      "vietnamese    0.000306\n",
      "Name: language, dtype: float64\n"
     ]
    },
    {
     "data": {
      "image/png": "[encoded data removed]",
      "text/plain": [
       "<Figure size 432x288 with 1 Axes>"
      ]
     },
     "metadata": {
      "needs_background": "light"
     },
     "output_type": "display_data"
    },
    {
     "data": {
      "text/plain": [
       "(array([27.5, 27.6, 27.7, 27.8, 27.9, 28. , 28.1, 28.2, 28.3, 28.4, 28.5]),\n",
       " [Text(0, 0, ''),\n",
       "  Text(0, 0, ''),\n",
       "  Text(0, 0, ''),\n",
       "  Text(0, 0, ''),\n",
       "  Text(0, 0, ''),\n",
       "  Text(0, 0, ''),\n",
       "  Text(0, 0, ''),\n",
       "  Text(0, 0, ''),\n",
       "  Text(0, 0, ''),\n",
       "  Text(0, 0, ''),\n",
       "  Text(0, 0, '')])"
      ]
     },
     "execution_count": 22,
     "metadata": {},
     "output_type": "execute_result"
    },
    {
     "data": {
      "image/png": "[encoded data removed]",
      "text/plain": [
       "<Figure size 432x288 with 1 Axes>"
      ]
     },
     "metadata": {
      "needs_background": "light"
     },
     "output_type": "display_data"
    }
   ],
   "source": [
    "print(df[\"language\"].value_counts(normalize=True))\n",
    "data=[0.46,0.14,0.11]\n",
    "labels = ['english', 'chinese', 'russian']\n",
    "plt.xticks([1,2,3], labels)\n",
    "plt.xlabel('Language')\n",
    "plt.ylabel('Percentage')\n",
    "plt.title(\"Language's barplot\")\n",
    "plt.bar([1,2,3], data)\n",
    "plt.grid(color='#95a5a6', linestyle='--', linewidth=2, axis='y', alpha=0.7)\n",
    "plt.ylim(0.0,1)\n",
    "plt.show()\n",
    "\n"
   ]
  },
  {
   "cell_type": "markdown",
   "metadata": {
    "id": "O-tEMm6YpzN6"
   },
   "source": [
    "Recommended and steam_purchase \n",
    "We observe that 92% of review authors recommend the app and 78% of them purchased the app on Steam. But only 72% of the authors give a positive opinion and then actually buy the app."
   ]
  },
  {
   "cell_type": "code",
   "execution_count": 13,
   "metadata": {
    "colab": {
     "base_uri": "https://localhost:8080/"
    },
    "executionInfo": {
     "elapsed": 1563,
     "status": "ok",
     "timestamp": 1634499541495,
     "user": {
      "displayName": "camilla savarese",
      "photoUrl": "https://lh3.googleusercontent.com/a/default-user=s64",
      "userId": "01187100401107976032"
     },
     "user_tz": -120
    },
    "id": "pa0iP7e8resC",
    "outputId": "c9098695-ec19-4e49-a0a4-12ee2924d5a1"
   },
   "outputs": [
    {
     "name": "stdout",
     "output_type": "stream",
     "text": [
      "True     0.973726\n",
      "False    0.026274\n",
      "Name: recommended, dtype: float64\n",
      "True     0.835481\n",
      "False    0.164519\n",
      "Name: steam_purchase, dtype: float64\n"
     ]
    },
    {
     "data": {
      "text/plain": [
       "0.0814488"
      ]
     },
     "execution_count": 13,
     "metadata": {},
     "output_type": "execute_result"
    }
   ],
   "source": [
    "print(df[\"recommended\"].value_counts(normalize=True))\n",
    "\n",
    "print(df[\"steam_purchase\"].value_counts(normalize=True))\n",
    "\n",
    "len(df[  (df.recommended == True) &(df.steam_purchase == True)  ])/ 10000000"
   ]
  },
  {
   "cell_type": "markdown",
   "metadata": {
    "id": "vE180Jo1vUoZ"
   },
   "source": [
    "\n",
    "author.num_reviews :Number of lifetime app reviews by author\n",
    "Con i dati veri si può fare un commento.\n"
   ]
  },
  {
   "cell_type": "code",
   "execution_count": 14,
   "metadata": {
    "colab": {
     "base_uri": "https://localhost:8080/"
    },
    "executionInfo": {
     "elapsed": 764,
     "status": "ok",
     "timestamp": 1634499802250,
     "user": {
      "displayName": "camilla savarese",
      "photoUrl": "https://lh3.googleusercontent.com/a/default-user=s64",
      "userId": "01187100401107976032"
     },
     "user_tz": -120
    },
    "id": "tDRNRuCJvkpw",
    "outputId": "e8e4154a-a15c-403c-f6b3-9e83e9cc3a15"
   },
   "outputs": [
    {
     "name": "stdout",
     "output_type": "stream",
     "text": [
      "count    1000000.000000\n",
      "mean          11.763607\n",
      "std           38.393893\n",
      "min            1.000000\n",
      "25%            2.000000\n",
      "50%            5.000000\n",
      "75%           11.000000\n",
      "max         5236.000000\n",
      "Name: author.num_reviews, dtype: float64\n"
     ]
    }
   ],
   "source": [
    "print(df[\"author.num_reviews\"].describe())\n"
   ]
  },
  {
   "cell_type": "markdown",
   "metadata": {
    "id": "HAUFwhMcx9Ci"
   },
   "source": [
    "# RQ2: Let's explore the dataset by finding simple insights into the reviews."
   ]
  },
  {
   "cell_type": "markdown",
   "metadata": {},
   "source": [
    "### Plot the number of reviews for each application in descending order."
   ]
  },
  {
   "cell_type": "code",
   "execution_count": 15,
   "metadata": {
    "id": "s1ZJ8q5HyJf_"
   },
   "outputs": [
    {
     "data": {
      "text/plain": [
       "The Witcher 3: Wild Hunt    469395\n",
       "Portal 2                    232329\n",
       "Counter-Strike: Source      118081\n",
       "Garry's Mod                  92374\n",
       "Half-Life                    57320\n",
       "Half-Life 2: Episode Two     23500\n",
       "X Rebirth                     7001\n",
       "Name: app_name, dtype: int64"
      ]
     },
     "execution_count": 15,
     "metadata": {},
     "output_type": "execute_result"
    }
   ],
   "source": [
    "new = df[['app_name']]\n",
    "a=new[\"app_name\"].value_counts()\n",
    "app_sort=a.sort_values(ascending=False) #lo salvo perchè serve dopo\n",
    "app_sort"
   ]
  },
  {
   "cell_type": "markdown",
   "metadata": {},
   "source": [
    "### What applications have the best Weighted Vote Score?"
   ]
  },
  {
   "cell_type": "code",
   "execution_count": 16,
   "metadata": {
    "id": "HH9T9qoF6EXm"
   },
   "outputs": [
    {
     "data": {
      "text/html": [
       "<div>\n",
       "<style scoped>\n",
       "    .dataframe tbody tr th:only-of-type {\n",
       "        vertical-align: middle;\n",
       "    }\n",
       "\n",
       "    .dataframe tbody tr th {\n",
       "        vertical-align: top;\n",
       "    }\n",
       "\n",
       "    .dataframe thead th {\n",
       "        text-align: right;\n",
       "    }\n",
       "</style>\n",
       "<table border=\"1\" class=\"dataframe\">\n",
       "  <thead>\n",
       "    <tr style=\"text-align: right;\">\n",
       "      <th></th>\n",
       "      <th>weighted_vote_score</th>\n",
       "    </tr>\n",
       "    <tr>\n",
       "      <th>app_name</th>\n",
       "      <th></th>\n",
       "    </tr>\n",
       "  </thead>\n",
       "  <tbody>\n",
       "    <tr>\n",
       "      <th>Counter-Strike: Source</th>\n",
       "      <td>0.182693</td>\n",
       "    </tr>\n",
       "    <tr>\n",
       "      <th>Garry's Mod</th>\n",
       "      <td>0.074021</td>\n",
       "    </tr>\n",
       "    <tr>\n",
       "      <th>Half-Life</th>\n",
       "      <td>0.162398</td>\n",
       "    </tr>\n",
       "    <tr>\n",
       "      <th>Half-Life 2: Episode Two</th>\n",
       "      <td>0.172643</td>\n",
       "    </tr>\n",
       "    <tr>\n",
       "      <th>Portal 2</th>\n",
       "      <td>0.128700</td>\n",
       "    </tr>\n",
       "    <tr>\n",
       "      <th>The Witcher 3: Wild Hunt</th>\n",
       "      <td>0.139911</td>\n",
       "    </tr>\n",
       "    <tr>\n",
       "      <th>X Rebirth</th>\n",
       "      <td>0.380447</td>\n",
       "    </tr>\n",
       "  </tbody>\n",
       "</table>\n",
       "</div>"
      ],
      "text/plain": [
       "                          weighted_vote_score\n",
       "app_name                                     \n",
       "Counter-Strike: Source               0.182693\n",
       "Garry's Mod                          0.074021\n",
       "Half-Life                            0.162398\n",
       "Half-Life 2: Episode Two             0.172643\n",
       "Portal 2                             0.128700\n",
       "The Witcher 3: Wild Hunt             0.139911\n",
       "X Rebirth                            0.380447"
      ]
     },
     "execution_count": 16,
     "metadata": {},
     "output_type": "execute_result"
    }
   ],
   "source": [
    "#In this way  the apps are sorted by  the score and then we can consider the top 5/10 (is up to us).\n",
    "new_1 = df[['app_name','weighted_vote_score'  ]]\n",
    "new_1.sort_values(by='weighted_vote_score',ascending=False)\n",
    "#In this way I compute the average score for each app\n",
    "new_1.groupby('app_name').agg({\"weighted_vote_score\":\"mean\"})\n",
    "#LO lascerei svolto in entrambi i modi, come dicono su slack. Non gredo che agg (aggregate) sia necessario ma non sapevo  farlo senza. Non faccio i commenti perchè tanto i risultati finali saranno diversi."
   ]
  },
  {
   "cell_type": "markdown",
   "metadata": {},
   "source": [
    "### Which applications have the most and the least recommendations?"
   ]
  },
  {
   "cell_type": "code",
   "execution_count": 26,
   "metadata": {
    "colab": {
     "base_uri": "https://localhost:8080/",
     "height": 394
    },
    "executionInfo": {
     "elapsed": 1519,
     "status": "ok",
     "timestamp": 1634650682919,
     "user": {
      "displayName": "camilla savarese",
      "photoUrl": "https://lh3.googleusercontent.com/a/default-user=s64",
      "userId": "01187100401107976032"
     },
     "user_tz": -120
    },
    "id": "fD8DLgii6QJR",
    "outputId": "7927aeb9-acc8-4e0b-b492-f7913889e7e2"
   },
   "outputs": [
    {
     "data": {
      "text/html": [
       "<div>\n",
       "<style scoped>\n",
       "    .dataframe tbody tr th:only-of-type {\n",
       "        vertical-align: middle;\n",
       "    }\n",
       "\n",
       "    .dataframe tbody tr th {\n",
       "        vertical-align: top;\n",
       "    }\n",
       "\n",
       "    .dataframe thead th {\n",
       "        text-align: right;\n",
       "    }\n",
       "</style>\n",
       "<table border=\"1\" class=\"dataframe\">\n",
       "  <thead>\n",
       "    <tr style=\"text-align: right;\">\n",
       "      <th></th>\n",
       "      <th>recommended</th>\n",
       "    </tr>\n",
       "    <tr>\n",
       "      <th>app_name</th>\n",
       "      <th></th>\n",
       "    </tr>\n",
       "  </thead>\n",
       "  <tbody>\n",
       "    <tr>\n",
       "      <th>The Witcher 3: Wild Hunt</th>\n",
       "      <td>460252</td>\n",
       "    </tr>\n",
       "    <tr>\n",
       "      <th>Portal 2</th>\n",
       "      <td>229470</td>\n",
       "    </tr>\n",
       "    <tr>\n",
       "      <th>Counter-Strike: Source</th>\n",
       "      <td>113430</td>\n",
       "    </tr>\n",
       "    <tr>\n",
       "      <th>Garry's Mod</th>\n",
       "      <td>89588</td>\n",
       "    </tr>\n",
       "    <tr>\n",
       "      <th>Half-Life</th>\n",
       "      <td>55312</td>\n",
       "    </tr>\n",
       "  </tbody>\n",
       "</table>\n",
       "</div>"
      ],
      "text/plain": [
       "                          recommended\n",
       "app_name                             \n",
       "The Witcher 3: Wild Hunt       460252\n",
       "Portal 2                       229470\n",
       "Counter-Strike: Source         113430\n",
       "Garry's Mod                     89588\n",
       "Half-Life                       55312"
      ]
     },
     "execution_count": 26,
     "metadata": {},
     "output_type": "execute_result"
    }
   ],
   "source": [
    "\n",
    "y=df.groupby('app_name').agg({\"recommended\":\"sum\"})\n",
    "#print(y)\n",
    "\n",
    "y=y.sort_values(by=\"recommended\",ascending=False)\n",
    "#print('the most recommended application is ...... with a total number of recommendations of .....', )\n",
    "y[0:5] #most\n",
    "#print('the worst recommended application is ..... with a total number of recommendations of ....', )\n",
    "#y[-1:] #least\n"
   ]
  },
  {
   "cell_type": "markdown",
   "metadata": {},
   "source": [
    "### How many of these applications were purchased, and how many were given for free?"
   ]
  },
  {
   "cell_type": "code",
   "execution_count": 18,
   "metadata": {
    "colab": {
     "base_uri": "https://localhost:8080/"
    },
    "executionInfo": {
     "elapsed": 410,
     "status": "ok",
     "timestamp": 1634586591610,
     "user": {
      "displayName": "camilla savarese",
      "photoUrl": "https://lh3.googleusercontent.com/a/default-user=s64",
      "userId": "01187100401107976032"
     },
     "user_tz": -120
    },
    "id": "djlptn_N7oX4",
    "outputId": "3490b838-e0c1-453a-b0b4-b007d8c8820a"
   },
   "outputs": [
    {
     "name": "stdout",
     "output_type": "stream",
     "text": [
      "True     0.835481\n",
      "False    0.164519\n",
      "Name: steam_purchase, dtype: float64\n",
      "False    0.975034\n",
      "True     0.024966\n",
      "Name: received_for_free, dtype: float64\n"
     ]
    }
   ],
   "source": [
    "\n",
    "print(df[\"steam_purchase\"].value_counts(normalize=True))\n",
    "print(df[\"received_for_free\"].value_counts(normalize=True))\n",
    "#Steam purchased: True se l'autore ha comprato l'app su Steam\n",
    "#Received for free: True se ha ricevuto l'app gratis.\n",
    "#non so bene quale vuole, per me il secondo ma boo"
   ]
  },
  {
   "cell_type": "markdown",
   "metadata": {
    "id": "WK8oLBHB-RhP"
   },
   "source": [
    "# RQ3: Now it's important to understand the preferred time to do reviews.\n",
    "\n",
    "\n"
   ]
  },
  {
   "cell_type": "markdown",
   "metadata": {},
   "source": [
    "### Request 1"
   ]
  },
  {
   "cell_type": "markdown",
   "metadata": {},
   "source": [
    "\n",
    "I'll use the already loaded-in-memory dataset (in the variable df) in order to map every timestamp_created entry from the Datetime format, to a tuple made by the integer value of hour and minutes, once it's done i'll use the obtained column to group by the mapped rows counting the occourrence of every distinct row, i've subsequently used that pd.Series in order to extract the couple (hour, minutes) that maximizes the number of rows, so the number of reviews made in that hour range\n",
    "\n",
    "The results are printed with a formatted string"
   ]
  },
  {
   "cell_type": "code",
   "execution_count": 19,
   "metadata": {},
   "outputs": [
    {
     "ename": "AttributeError",
     "evalue": "'int' object has no attribute 'hour'",
     "output_type": "error",
     "traceback": [
      "\u001b[0;31m---------------------------------------------------------------------------\u001b[0m",
      "\u001b[0;31mAttributeError\u001b[0m                            Traceback (most recent call last)",
      "\u001b[0;32m/var/folders/xr/79bkvytj5kd5th_p5bnz8bhh0000gn/T/ipykernel_66800/1920101342.py\u001b[0m in \u001b[0;36m<module>\u001b[0;34m\u001b[0m\n\u001b[1;32m      3\u001b[0m \u001b[0;34m\u001b[0m\u001b[0m\n\u001b[1;32m      4\u001b[0m \u001b[0;31m# Converting the timestamps in tuples made by hours and minutes\u001b[0m\u001b[0;34m\u001b[0m\u001b[0;34m\u001b[0m\u001b[0;34m\u001b[0m\u001b[0m\n\u001b[0;32m----> 5\u001b[0;31m \u001b[0mtimed\u001b[0m \u001b[0;34m=\u001b[0m \u001b[0mdf\u001b[0m\u001b[0;34m.\u001b[0m\u001b[0mtimestamp_created\u001b[0m\u001b[0;34m.\u001b[0m\u001b[0mapply\u001b[0m\u001b[0;34m(\u001b[0m\u001b[0;32mlambda\u001b[0m \u001b[0mx\u001b[0m\u001b[0;34m:\u001b[0m \u001b[0;34m(\u001b[0m\u001b[0mx\u001b[0m\u001b[0;34m.\u001b[0m\u001b[0mhour\u001b[0m\u001b[0;34m,\u001b[0m \u001b[0mx\u001b[0m\u001b[0;34m.\u001b[0m\u001b[0mminute\u001b[0m\u001b[0;34m)\u001b[0m\u001b[0;34m)\u001b[0m\u001b[0;34m\u001b[0m\u001b[0;34m\u001b[0m\u001b[0m\n\u001b[0m\u001b[1;32m      6\u001b[0m \u001b[0;31m# grouping by values (the tuples of above) and counting the occourrences\u001b[0m\u001b[0;34m\u001b[0m\u001b[0;34m\u001b[0m\u001b[0;34m\u001b[0m\u001b[0m\n\u001b[1;32m      7\u001b[0m \u001b[0mtimed\u001b[0m \u001b[0;34m=\u001b[0m \u001b[0mtimed\u001b[0m\u001b[0;34m.\u001b[0m\u001b[0mgroupby\u001b[0m\u001b[0;34m(\u001b[0m\u001b[0mtimed\u001b[0m\u001b[0;34m)\u001b[0m\u001b[0;34m.\u001b[0m\u001b[0mcount\u001b[0m\u001b[0;34m(\u001b[0m\u001b[0;34m)\u001b[0m\u001b[0;34m\u001b[0m\u001b[0;34m\u001b[0m\u001b[0m\n",
      "\u001b[0;32m~/opt/anaconda3/lib/python3.8/site-packages/pandas/core/series.py\u001b[0m in \u001b[0;36mapply\u001b[0;34m(self, func, convert_dtype, args, **kwargs)\u001b[0m\n\u001b[1;32m   4355\u001b[0m         \u001b[0mdtype\u001b[0m\u001b[0;34m:\u001b[0m \u001b[0mfloat64\u001b[0m\u001b[0;34m\u001b[0m\u001b[0;34m\u001b[0m\u001b[0m\n\u001b[1;32m   4356\u001b[0m         \"\"\"\n\u001b[0;32m-> 4357\u001b[0;31m         \u001b[0;32mreturn\u001b[0m \u001b[0mSeriesApply\u001b[0m\u001b[0;34m(\u001b[0m\u001b[0mself\u001b[0m\u001b[0;34m,\u001b[0m \u001b[0mfunc\u001b[0m\u001b[0;34m,\u001b[0m \u001b[0mconvert_dtype\u001b[0m\u001b[0;34m,\u001b[0m \u001b[0margs\u001b[0m\u001b[0;34m,\u001b[0m \u001b[0mkwargs\u001b[0m\u001b[0;34m)\u001b[0m\u001b[0;34m.\u001b[0m\u001b[0mapply\u001b[0m\u001b[0;34m(\u001b[0m\u001b[0;34m)\u001b[0m\u001b[0;34m\u001b[0m\u001b[0;34m\u001b[0m\u001b[0m\n\u001b[0m\u001b[1;32m   4358\u001b[0m \u001b[0;34m\u001b[0m\u001b[0m\n\u001b[1;32m   4359\u001b[0m     def _reduce(\n",
      "\u001b[0;32m~/opt/anaconda3/lib/python3.8/site-packages/pandas/core/apply.py\u001b[0m in \u001b[0;36mapply\u001b[0;34m(self)\u001b[0m\n\u001b[1;32m   1041\u001b[0m             \u001b[0;32mreturn\u001b[0m \u001b[0mself\u001b[0m\u001b[0;34m.\u001b[0m\u001b[0mapply_str\u001b[0m\u001b[0;34m(\u001b[0m\u001b[0;34m)\u001b[0m\u001b[0;34m\u001b[0m\u001b[0;34m\u001b[0m\u001b[0m\n\u001b[1;32m   1042\u001b[0m \u001b[0;34m\u001b[0m\u001b[0m\n\u001b[0;32m-> 1043\u001b[0;31m         \u001b[0;32mreturn\u001b[0m \u001b[0mself\u001b[0m\u001b[0;34m.\u001b[0m\u001b[0mapply_standard\u001b[0m\u001b[0;34m(\u001b[0m\u001b[0;34m)\u001b[0m\u001b[0;34m\u001b[0m\u001b[0;34m\u001b[0m\u001b[0m\n\u001b[0m\u001b[1;32m   1044\u001b[0m \u001b[0;34m\u001b[0m\u001b[0m\n\u001b[1;32m   1045\u001b[0m     \u001b[0;32mdef\u001b[0m \u001b[0magg\u001b[0m\u001b[0;34m(\u001b[0m\u001b[0mself\u001b[0m\u001b[0;34m)\u001b[0m\u001b[0;34m:\u001b[0m\u001b[0;34m\u001b[0m\u001b[0;34m\u001b[0m\u001b[0m\n",
      "\u001b[0;32m~/opt/anaconda3/lib/python3.8/site-packages/pandas/core/apply.py\u001b[0m in \u001b[0;36mapply_standard\u001b[0;34m(self)\u001b[0m\n\u001b[1;32m   1097\u001b[0m                 \u001b[0;31m# List[Union[Callable[..., Any], str]]]]]\"; expected\u001b[0m\u001b[0;34m\u001b[0m\u001b[0;34m\u001b[0m\u001b[0;34m\u001b[0m\u001b[0m\n\u001b[1;32m   1098\u001b[0m                 \u001b[0;31m# \"Callable[[Any], Any]\"\u001b[0m\u001b[0;34m\u001b[0m\u001b[0;34m\u001b[0m\u001b[0;34m\u001b[0m\u001b[0m\n\u001b[0;32m-> 1099\u001b[0;31m                 mapped = lib.map_infer(\n\u001b[0m\u001b[1;32m   1100\u001b[0m                     \u001b[0mvalues\u001b[0m\u001b[0;34m,\u001b[0m\u001b[0;34m\u001b[0m\u001b[0;34m\u001b[0m\u001b[0m\n\u001b[1;32m   1101\u001b[0m                     \u001b[0mf\u001b[0m\u001b[0;34m,\u001b[0m  \u001b[0;31m# type: ignore[arg-type]\u001b[0m\u001b[0;34m\u001b[0m\u001b[0;34m\u001b[0m\u001b[0m\n",
      "\u001b[0;32m~/opt/anaconda3/lib/python3.8/site-packages/pandas/_libs/lib.pyx\u001b[0m in \u001b[0;36mpandas._libs.lib.map_infer\u001b[0;34m()\u001b[0m\n",
      "\u001b[0;32m/var/folders/xr/79bkvytj5kd5th_p5bnz8bhh0000gn/T/ipykernel_66800/1920101342.py\u001b[0m in \u001b[0;36m<lambda>\u001b[0;34m(x)\u001b[0m\n\u001b[1;32m      3\u001b[0m \u001b[0;34m\u001b[0m\u001b[0m\n\u001b[1;32m      4\u001b[0m \u001b[0;31m# Converting the timestamps in tuples made by hours and minutes\u001b[0m\u001b[0;34m\u001b[0m\u001b[0;34m\u001b[0m\u001b[0;34m\u001b[0m\u001b[0m\n\u001b[0;32m----> 5\u001b[0;31m \u001b[0mtimed\u001b[0m \u001b[0;34m=\u001b[0m \u001b[0mdf\u001b[0m\u001b[0;34m.\u001b[0m\u001b[0mtimestamp_created\u001b[0m\u001b[0;34m.\u001b[0m\u001b[0mapply\u001b[0m\u001b[0;34m(\u001b[0m\u001b[0;32mlambda\u001b[0m \u001b[0mx\u001b[0m\u001b[0;34m:\u001b[0m \u001b[0;34m(\u001b[0m\u001b[0mx\u001b[0m\u001b[0;34m.\u001b[0m\u001b[0mhour\u001b[0m\u001b[0;34m,\u001b[0m \u001b[0mx\u001b[0m\u001b[0;34m.\u001b[0m\u001b[0mminute\u001b[0m\u001b[0;34m)\u001b[0m\u001b[0;34m)\u001b[0m\u001b[0;34m\u001b[0m\u001b[0;34m\u001b[0m\u001b[0m\n\u001b[0m\u001b[1;32m      6\u001b[0m \u001b[0;31m# grouping by values (the tuples of above) and counting the occourrences\u001b[0m\u001b[0;34m\u001b[0m\u001b[0;34m\u001b[0m\u001b[0;34m\u001b[0m\u001b[0m\n\u001b[1;32m      7\u001b[0m \u001b[0mtimed\u001b[0m \u001b[0;34m=\u001b[0m \u001b[0mtimed\u001b[0m\u001b[0;34m.\u001b[0m\u001b[0mgroupby\u001b[0m\u001b[0;34m(\u001b[0m\u001b[0mtimed\u001b[0m\u001b[0;34m)\u001b[0m\u001b[0;34m.\u001b[0m\u001b[0mcount\u001b[0m\u001b[0;34m(\u001b[0m\u001b[0;34m)\u001b[0m\u001b[0;34m\u001b[0m\u001b[0;34m\u001b[0m\u001b[0m\n",
      "\u001b[0;31mAttributeError\u001b[0m: 'int' object has no attribute 'hour'"
     ]
    }
   ],
   "source": [
    "from datetime import datetime\n",
    "# df = read_csv_with_time(fname, ['timestamp_created'], n_rows=10e6, usecols=['timestamp_created'])\n",
    "\n",
    "# Converting the timestamps in tuples made by hours and minutes\n",
    "timed = df.timestamp_created.apply(lambda x: (x.hour, x.minute))\n",
    "# grouping by values (the tuples of above) and counting the occourrences\n",
    "timed = timed.groupby(timed).count() \n",
    "amax = timed.argmax() # Getting the index of the maximum value\n",
    "\n",
    "# Retrievieng the answers and formatting them...\n",
    "hh, mm = timed.index[amax]\n",
    "n_rev = timed.values[amax]\n",
    "hh = \"{:0>2d}\".format(hh)\n",
    "mm = \"{:0>2d}\".format(mm)\n",
    "\n",
    "print(f\"The most common hour in wich are published the greater part of the reviews is at {hh}:{mm} with {n_rev} reviews published\")"
   ]
  },
  {
   "cell_type": "markdown",
   "metadata": {},
   "source": [
    "### Request 2"
   ]
  },
  {
   "cell_type": "markdown",
   "metadata": {},
   "source": [
    "The function required is the following and returns a pd.Series where the index are the index of the corresponding hour range and the values are the number of reviews made in that range"
   ]
  },
  {
   "cell_type": "code",
   "execution_count": null,
   "metadata": {},
   "outputs": [],
   "source": [
    "def new_bis(ranges, ds=fname, n_rows=1e6):\n",
    "    df = read_csv_with_time(ds, ['timestamp_created'], n_rows, usecols=['timestamp_created'])\n",
    "    ranges_int = get_integer_ranges(ranges)\n",
    "    ranged = df.timestamp_created.apply(lambda x: get_integer_range_index((x.hour, x.minute, x.second), ranges_int))\n",
    "    ranged = ranged.groupby(ranged).count()\n",
    "    return ranged"
   ]
  },
  {
   "cell_type": "markdown",
   "metadata": {},
   "source": [
    "### Request 3"
   ]
  },
  {
   "cell_type": "markdown",
   "metadata": {},
   "source": [
    "I've used the function above in order to plot by an horizontal bar chart, the number of reviews made for every hour range of the default ranges shown in the table above"
   ]
  },
  {
   "cell_type": "code",
   "execution_count": null,
   "metadata": {},
   "outputs": [],
   "source": [
    "ret = new_bis(def_ranges, n_rows=30e6)\n",
    "plt.figure(figsize=(20,10))\n",
    "ax = ret.plot(kind=\"barh\", color='green')\n",
    "ax.set_title(\"Reviews per hour ranges\")\n",
    "ax.set_ylabel(\"hour ranges\")\n",
    "ax.set_xlabel(\"Num of reviews\")\n",
    "ax.set_yticklabels(def_ranges)\n",
    "ax.grid(b=True, color='grey', linestyle='-.', linewidth=0.5, alpha=0.2)"
   ]
  },
  {
   "cell_type": "code",
   "execution_count": null,
   "metadata": {
    "id": "0vAYkLSO-o9-"
   },
   "outputs": [],
   "source": [
    "#previous code\n",
    "import pandas as pd\n",
    "'''\n",
    "\n",
    "\n",
    "def read_csv_with_time(path, time_fields, n_rows):\n",
    "    return pd.read_csv(path, header='infer', nrows=n_rows, \n",
    "        parse_dates= [tf for tf in time_fields], date_parser=lambda x: pd.to_datetime(x, unit='s'))\n",
    "\n",
    "def hour_in_range(str_hour, range_hour):\n",
    "    min_hour, max_hour = range_hour\n",
    "    return (hour_comparator(str_hour, min_hour) * hour_comparator(max_hour, str_hour)) >=0\n",
    "\n",
    "def hour_comparator(str_h1, str_h2):\n",
    "    \n",
    "        #Compares two string in the format HH:MM:SS and returns:\n",
    "        #    -1 if the first is less then the second\n",
    "        #     0  if the dates are the same\n",
    "        #    1 if the first is greater than the second\n",
    "    \n",
    "    hh1, mm1, ss1 = map(int,str_h1.split(':'))\n",
    "    hh2, mm2, ss2 = map(int, str_h2.split(':'))\n",
    "    deltas = [hh1-hh2, mm1-mm2, ss1-ss2]\n",
    "    for d in deltas:\n",
    "        if d>0:\n",
    "            return 1\n",
    "        elif d < 0:\n",
    "            return -1\n",
    "    return 0\n",
    "\n",
    "def get_range_index(str_hour, ranges):\n",
    "    for i in range(len(ranges)):\n",
    "        if hour_in_range(str_hour, ranges[i]):\n",
    "            return i\n",
    "    return -1\n",
    "\n",
    "def transform_in_hour_ranges(df, column, ranges):\n",
    "    df[column]=df[column].apply(lambda x: get_range_index(x.strftime('%H:%M:%S'), ranges))\n",
    "    return df\n",
    "\n",
    "fname = '/content/drive/MyDrive/HW2-ADM/steam_reviews.csv'\n",
    "ts_created = 'timestamp_created'\n",
    "\n",
    "def_ranges = [('06:00:00', '10:59:59'),\n",
    "('11:00:00', '13:59:59'),\n",
    "('14:00:00', '16:59:59'),\n",
    "('17:00:00', '19:59:59'),\n",
    "('20:00:00', '23:59:59'),\n",
    "('00:00:00', '02:59:59'),\n",
    "('03:00:00', '05:59:59')]\n",
    "\n",
    "df = transform_in_hour_ranges(read_csv_with_time(fname, [ts_created], 1000000), ts_created, def_ranges)\n",
    "\n",
    "import matplotlib.pyplot as plt\n",
    "import numpy as np\n",
    "labels = ['pippo' for df in def_ranges]\n",
    "plt.xticks(list(range(len(labels))), labels)\n",
    "#plt.setxticks\n",
    "df.groupby(df.timestamp_created).review_id.count().plot.bar()\n",
    "''';"
   ]
  },
  {
   "cell_type": "markdown",
   "metadata": {
    "id": "BVtj47B5D308"
   },
   "source": [
    "# RQ4 As Steam is a worldwide platform, the reviews can be done in many languages. Let's extract some information about it."
   ]
  },
  {
   "cell_type": "markdown",
   "metadata": {},
   "source": [
    "### What are the top 3 languages used to review applications?"
   ]
  },
  {
   "cell_type": "code",
   "execution_count": 34,
   "metadata": {
    "id": "XH6IIsrqD9kN"
   },
   "outputs": [
    {
     "name": "stdout",
     "output_type": "stream",
     "text": [
      "english\n",
      "russian\n",
      "schinese\n"
     ]
    }
   ],
   "source": [
    "lingue=df[\"language\"].value_counts(normalize=True)\n",
    "top=lingue[:3]\n",
    "top_list=list(top.index)\n",
    "print(*(x for x in top_list), sep='\\n')\n",
    "#top five"
   ]
  },
  {
   "cell_type": "markdown",
   "metadata": {},
   "source": [
    "### Create a function that receives as parameters both the name of a data set and a list of languages’ names and returns a data frame filtered only with the reviews written in the provided languages."
   ]
  },
  {
   "cell_type": "code",
   "execution_count": 28,
   "metadata": {
    "id": "5n44py7qEb2e"
   },
   "outputs": [],
   "source": [
    "\n",
    "def filter_language(dataset, languages,col_name):\n",
    "  return dataset.loc[dataset[col_name].isin(languages)]\n"
   ]
  },
  {
   "cell_type": "markdown",
   "metadata": {},
   "source": [
    "### Use the function created in the previous literal to find what percentage of these reviews (associated with the the top 3 languages) were voted as funny?"
   ]
  },
  {
   "cell_type": "code",
   "execution_count": 37,
   "metadata": {
    "colab": {
     "base_uri": "https://localhost:8080/"
    },
    "executionInfo": {
     "elapsed": 11783,
     "status": "ok",
     "timestamp": 1634672021570,
     "user": {
      "displayName": "camilla savarese",
      "photoUrl": "https://lh3.googleusercontent.com/a/default-user=s64",
      "userId": "01187100401107976032"
     },
     "user_tz": -120
    },
    "id": "-UNGmMDD3fX9",
    "outputId": "c1e1b33b-fe41-4748-a827-38e7098105b5"
   },
   "outputs": [
    {
     "name": "stdout",
     "output_type": "stream",
     "text": [
      "english   0.91%\n",
      "russian   0.88%\n",
      "schinese   0.9%\n"
     ]
    }
   ],
   "source": [
    "for i in top_list:\n",
    "     print(i+\"   \"+str(round(sum((df['votes_funny']==0) & (df['language']==i))/sum(df['language']==i),2))+\"%\")\n"
   ]
  },
  {
   "cell_type": "markdown",
   "metadata": {},
   "source": [
    "### Use the function created in the literal “a” to find what percentage of these reviews (associated with the top 3 languages) were voted as helpful?"
   ]
  },
  {
   "cell_type": "code",
   "execution_count": 38,
   "metadata": {
    "colab": {
     "base_uri": "https://localhost:8080/"
    },
    "executionInfo": {
     "elapsed": 10476,
     "status": "ok",
     "timestamp": 1634672117666,
     "user": {
      "displayName": "camilla savarese",
      "photoUrl": "https://lh3.googleusercontent.com/a/default-user=s64",
      "userId": "01187100401107976032"
     },
     "user_tz": -120
    },
    "id": "jzts3OcdC6Rf",
    "outputId": "ae7ffc8f-6234-43c4-a1c6-0399a1f745a7"
   },
   "outputs": [
    {
     "name": "stdout",
     "output_type": "stream",
     "text": [
      "english   0.25%\n",
      "russian   0.31%\n",
      "schinese   0.23%\n"
     ]
    }
   ],
   "source": [
    "df_1= filter_language(df,top_list,'language') #dati filtrati\n",
    "for i in top_list:\n",
    "  print(i+\"   \"+str(round(sum((df['votes_helpful']!=0) & (df['language']==i))/sum(df['language']==i),2))+\"%\")"
   ]
  },
  {
   "cell_type": "markdown",
   "metadata": {
    "id": "prcNliAJ3gZt"
   },
   "source": [
    "# RQ5 The reviews' authors are users from the game that provide their opinion on it. Now you can check how often they make reviews."
   ]
  },
  {
   "cell_type": "markdown",
   "metadata": {},
   "source": [
    "### Plot the top 10 most popular reviewers and the number of reviews."
   ]
  },
  {
   "cell_type": "code",
   "execution_count": 39,
   "metadata": {
    "colab": {
     "base_uri": "https://localhost:8080/",
     "height": 395
    },
    "executionInfo": {
     "elapsed": 94978,
     "status": "ok",
     "timestamp": 1634655628889,
     "user": {
      "displayName": "Alessandro Pecchini",
      "photoUrl": "https://lh3.googleusercontent.com/a/default-user=s64",
      "userId": "11901581996892479685"
     },
     "user_tz": -120
    },
    "id": "n1ABlGeg4LMm",
    "outputId": "80067de5-6116-4867-8edf-73d3e444df9b"
   },
   "outputs": [
    {
     "data": {
      "text/plain": [
       "<AxesSubplot:xlabel='author.steamid'>"
      ]
     },
     "execution_count": 39,
     "metadata": {},
     "output_type": "execute_result"
    },
    {
     "data": {
      "image/png": "[encoded data removed]",
      "text/plain": [
       "<Figure size 432x288 with 1 Axes>"
      ]
     },
     "metadata": {
      "needs_background": "light"
     },
     "output_type": "display_data"
    }
   ],
   "source": [
    "#df= pd.read_csv('/content/drive/MyDrive/HW2-ADM/steam_reviews.csv',nrows=10000000)\n",
    "df_auth = df.groupby('author.steamid').review_id.count().sort_values(ascending=False)\n",
    "df_auth[:10].plot.bar()"
   ]
  },
  {
   "cell_type": "markdown",
   "metadata": {},
   "source": [
    "### What applications did the most popular author review? "
   ]
  },
  {
   "cell_type": "code",
   "execution_count": 40,
   "metadata": {
    "id": "NRnn_ehG5YKg"
   },
   "outputs": [],
   "source": [
    "from_bigger_reviewer = df[df['author.steamid'] == df_auth[:1].index[0]]\n"
   ]
  },
  {
   "cell_type": "code",
   "execution_count": 41,
   "metadata": {
    "colab": {
     "base_uri": "https://localhost:8080/"
    },
    "executionInfo": {
     "elapsed": 283,
     "status": "ok",
     "timestamp": 1634655642208,
     "user": {
      "displayName": "Alessandro Pecchini",
      "photoUrl": "https://lh3.googleusercontent.com/a/default-user=s64",
      "userId": "11901581996892479685"
     },
     "user_tz": -120
    },
    "id": "Jz4iSYyU8dQ4",
    "outputId": "306301ae-8a31-4ecd-f0dc-f2f0b7dac40a"
   },
   "outputs": [
    {
     "data": {
      "text/plain": [
       "453639    The Witcher 3: Wild Hunt\n",
       "525240                   Half-Life\n",
       "536595      Counter-Strike: Source\n",
       "648354    Half-Life 2: Episode Two\n",
       "707753                    Portal 2\n",
       "981105                 Garry's Mod\n",
       "Name: app_name, dtype: object"
      ]
     },
     "execution_count": 41,
     "metadata": {},
     "output_type": "execute_result"
    }
   ],
   "source": [
    "from_bigger_reviewer['app_name']"
   ]
  },
  {
   "cell_type": "markdown",
   "metadata": {},
   "source": [
    "### How many applications did he purchase, and how many did he get as free? Provide the number (count) and the percentage."
   ]
  },
  {
   "cell_type": "code",
   "execution_count": 44,
   "metadata": {
    "id": "qH1IMHp458JS"
   },
   "outputs": [
    {
     "name": "stdout",
     "output_type": "stream",
     "text": [
      "He got for free 0 applications (0.0%) and purchased 4 (66.66666666666666%) on total of 6\n",
      "   \n",
      "The author's recommended 0 and doesn't recommended 0 application from the ones received for free\n"
     ]
    }
   ],
   "source": [
    "free = from_bigger_reviewer[from_bigger_reviewer.received_for_free]\n",
    "n_free = len(free)\n",
    "purchased = from_bigger_reviewer[from_bigger_reviewer.steam_purchase]\n",
    "n_purch = len(purchased)\n",
    "tot = len(from_bigger_reviewer)\n",
    "print(f\"He got for free {n_free} applications ({n_free/tot*100}%) and purchased {n_purch} ({n_purch/tot*100}%) on total of {tot}\")\n",
    "print('   ')\n",
    "print(f\"The author's recommended {len(free['recommended'])} and doesn't recommended {n_free-len(free['recommended'])} application from the ones received for free\")\n"
   ]
  },
  {
   "cell_type": "markdown",
   "metadata": {},
   "source": [
    "### How many of the applications he purchased reviewed positively, and how many negatively? How about the applications he received for free?"
   ]
  },
  {
   "cell_type": "code",
   "execution_count": 46,
   "metadata": {},
   "outputs": [
    {
     "name": "stdout",
     "output_type": "stream",
     "text": [
      "   \n",
      " recommended 4 and doesn't recommended 0 application from the ones purchased\n"
     ]
    }
   ],
   "source": [
    "print('   ')\n",
    "print(f\" recommended {len(purchased['recommended'])} and doesn't recommended {n_purch-len(purchased['recommended'])} application from the ones purchased\")"
   ]
  },
  {
   "cell_type": "markdown",
   "metadata": {},
   "source": [
    "# [RQ6] It's time to get information from the updates that a user does to his reviews."
   ]
  },
  {
   "cell_type": "markdown",
   "metadata": {},
   "source": [
    "### What is the average time (days and minutes) a user lets pass before he updates a review?"
   ]
  },
  {
   "cell_type": "code",
   "execution_count": 49,
   "metadata": {},
   "outputs": [
    {
     "name": "stdout",
     "output_type": "stream",
     "text": [
      "The average time that pass between the creation and the update of the reviews is: 3483076.368496\n"
     ]
    }
   ],
   "source": [
    "print(f\"The average time that pass between the creation and the update of the reviews is: {(df.timestamp_updated - df.timestamp_created).mean(numeric_only=False)}\")\n"
   ]
  },
  {
   "cell_type": "markdown",
   "metadata": {},
   "source": [
    "### Plot the top 3 authors that usually update their reviews."
   ]
  },
  {
   "cell_type": "code",
   "execution_count": 50,
   "metadata": {},
   "outputs": [
    {
     "name": "stdout",
     "output_type": "stream",
     "text": [
      "The authors that has updated their reviews more often are, in order:\n",
      "\t*76561198802041616 with 6 updated reviews\n",
      "\t*76561198410627959 with 5 updated reviews\n",
      "\t*76561198442852539 with 5 updated reviews\n"
     ]
    }
   ],
   "source": [
    "df['updated'] = df.timestamp_created == df.timestamp_updated\n",
    "grouped = df.groupby(df['author.steamid']).updated.sum().sort_values(ascending=False)\n",
    "auth = grouped[:3].index\n",
    "print(\"The authors that has updated their reviews more often are, in order:\")\n",
    "for a in auth:\n",
    "  print(f\"\\t*{a} with {grouped[a]} updated reviews\")"
   ]
  },
  {
   "cell_type": "markdown",
   "metadata": {
    "id": "qY_XymYaH6Ge"
   },
   "source": [
    "# RQ7 Of course, calculating probabilities is a job that any Data Scientist must know. Let's compute Some interesting figures."
   ]
  },
  {
   "cell_type": "markdown",
   "metadata": {
    "id": "L-AWty06aGxr"
   },
   "source": [
    "### What’s the probability that a review has a Weighted Vote Score equal to or bigger than 0.5?"
   ]
  },
  {
   "cell_type": "code",
   "execution_count": 51,
   "metadata": {
    "colab": {
     "base_uri": "https://localhost:8080/"
    },
    "executionInfo": {
     "elapsed": 3941,
     "status": "ok",
     "timestamp": 1634673249511,
     "user": {
      "displayName": "camilla savarese",
      "photoUrl": "https://lh3.googleusercontent.com/a/default-user=s64",
      "userId": "01187100401107976032"
     },
     "user_tz": -120
    },
    "id": "l_4-d2Q3__pf",
    "outputId": "69505edd-5ff0-4781-e785-ca5b47f22431"
   },
   "outputs": [],
   "source": [
    "#Prob = fav. cases / possible cases\n",
    "p1=sum(df['weighted_vote_score']> 0.5)/df.shape[0]\n"
   ]
  },
  {
   "cell_type": "markdown",
   "metadata": {},
   "source": [
    "### What’s the probability that a review has at least one vote as funny given that the Weighted Vote Score is bigger than 0.5?"
   ]
  },
  {
   "cell_type": "code",
   "execution_count": 52,
   "metadata": {},
   "outputs": [
    {
     "data": {
      "text/plain": [
       "0.20981327915595943"
      ]
     },
     "execution_count": 52,
     "metadata": {},
     "output_type": "execute_result"
    }
   ],
   "source": [
    "#prob condizionata\n",
    "\n",
    "intersezione=sum((df['weighted_vote_score']> 0.5)& (df['votes_funny']!=0))/df.shape[0]\n",
    "p2=intersezione/p1\n",
    "p2"
   ]
  },
  {
   "cell_type": "markdown",
   "metadata": {},
   "source": [
    "### Is the probability that “a review has at least one vote as funny” independent of the “probability that a review has a Weighted Vote Score equal or bigger than 0.5”?"
   ]
  },
  {
   "cell_type": "code",
   "execution_count": 53,
   "metadata": {},
   "outputs": [
    {
     "data": {
      "text/plain": [
       "False"
      ]
     },
     "execution_count": 53,
     "metadata": {},
     "output_type": "execute_result"
    }
   ],
   "source": [
    "pa= sum(df['votes_funny']!=0)/df.shape[0]\n",
    "pa*p1==intersezione\n",
    "#False, quindi Non sono indipendenti"
   ]
  },
  {
   "cell_type": "markdown",
   "metadata": {
    "id": "9DOaZZ0KLPnX"
   },
   "source": [
    "# RQ8 Every decision you take in a data-based environment should be reinforced with charts, statistical tests and analysis methods to check if a hypothesis is correct or not."
   ]
  },
  {
   "cell_type": "markdown",
   "metadata": {},
   "source": [
    "### Is there a significant difference in the Weighted Vote Score of reviews made in Chinese vs the ones made in Russian? Use an appropriate statistical test or technique and support your choicv1"
   ]
  },
  {
   "cell_type": "code",
   "execution_count": 54,
   "metadata": {
    "colab": {
     "base_uri": "https://localhost:8080/"
    },
    "executionInfo": {
     "elapsed": 2733,
     "status": "ok",
     "timestamp": 1634675835391,
     "user": {
      "displayName": "camilla savarese",
      "photoUrl": "https://lh3.googleusercontent.com/a/default-user=s64",
      "userId": "01187100401107976032"
     },
     "user_tz": -120
    },
    "id": "xqFR5dLQLVaf",
    "outputId": "0f3490dc-1be2-441d-e177-bb9d0df6a1e6"
   },
   "outputs": [],
   "source": [
    "'''\n",
    "\n",
    "v1=df.loc[df['language'] == 'russian', 'weighted_vote_score']\n",
    "v2=df.loc[df['language'] == 'chinese', 'weighted_vote_score']\n",
    "\n",
    "#!pip3 install  researchpy\n",
    "#import scipy.stats as stats\n",
    "\n",
    "#stats.ttest_ind(df['weighted_vote_score'][df['language'] == 'russian'],\n",
    "                #df['weighted_vote_score'][df['language'] == 'chinese'])\n",
    "stats.ttest_ind(v1,v2)\n",
    "''';\n"
   ]
  },
  {
   "cell_type": "code",
   "execution_count": 55,
   "metadata": {},
   "outputs": [
    {
     "data": {
      "text/plain": [
       "count    125667.000000\n",
       "mean          0.118603\n",
       "std           0.223421\n",
       "min           0.000000\n",
       "25%           0.000000\n",
       "50%           0.000000\n",
       "75%           0.000000\n",
       "max           0.990385\n",
       "Name: weighted_vote_score, dtype: float64"
      ]
     },
     "execution_count": 55,
     "metadata": {},
     "output_type": "execute_result"
    }
   ],
   "source": [
    "#Is there a significant difference in the Weighted Vote Score of reviews made in Chinese vs the ones made in Russian? Use an appropriate statistical test or technique and support your choicv1\n",
    "s1=df['weighted_vote_score'][df['language'] == 'russian']\n",
    "s2=df['weighted_vote_score'][df['language'] == 'schinese']\n",
    "s1.describe()\n",
    "s2.describe()\n",
    "#sono abbastanza diverse!"
   ]
  },
  {
   "cell_type": "code",
   "execution_count": 56,
   "metadata": {},
   "outputs": [
    {
     "data": {
      "text/plain": [
       "<seaborn.axisgrid.FacetGrid at 0x7ff5eda49a90>"
      ]
     },
     "execution_count": 56,
     "metadata": {},
     "output_type": "execute_result"
    },
    {
     "data": {
      "image/png": "[encoded data removed]",
      "text/plain": [
       "<Figure size 360x360 with 1 Axes>"
      ]
     },
     "metadata": {
      "needs_background": "light"
     },
     "output_type": "display_data"
    },
    {
     "data": {
      "image/png": "[encoded data removed]",
      "text/plain": [
       "<Figure size 360x360 with 1 Axes>"
      ]
     },
     "metadata": {
      "needs_background": "light"
     },
     "output_type": "display_data"
    }
   ],
   "source": [
    "#grafici per far vedere che non vale la normalità se teniamo gli zeri.\n",
    "import seaborn as sns \n",
    "\n",
    "z1= s1[s1!=0]\n",
    "z2= s2[s2!=0]\n",
    "z2\n",
    "sns.displot(z1)\n",
    "\n",
    "sns.displot(z2)"
   ]
  },
  {
   "cell_type": "code",
   "execution_count": 57,
   "metadata": {},
   "outputs": [],
   "source": [
    "#Prendiamo gli zeri: la parte discreta\n",
    "zero_1= s1[s1==0]\n",
    "zero_2=s2[s2==0]\n",
    "\n",
    "#booo"
   ]
  },
  {
   "cell_type": "code",
   "execution_count": 68,
   "metadata": {},
   "outputs": [],
   "source": [
    "from scipy import stats"
   ]
  },
  {
   "cell_type": "code",
   "execution_count": 69,
   "metadata": {},
   "outputs": [
    {
     "data": {
      "text/plain": [
       "Ttest_indResult(statistic=-14.14315159247692, pvalue=2.3010515316185112e-45)"
      ]
     },
     "execution_count": 69,
     "metadata": {},
     "output_type": "execute_result"
    }
   ],
   "source": [
    "#this is a two-sided test for the null hypothesis that 2 independent samples have identical average (expected) values. \n",
    "#Test per la aprte continua\n",
    "stats.ttest_ind(z1,z2)\n",
    "#There is a statistically significant difference in the average score between english and chinese, t= -69, p= 0.00.\n",
    " #If the p-value is smaller than our threshold, then we have evidence against the null hypothesis of equal population means.\n",
    " #The t-test quantifies the difference between the arithmetic means of the two samples"
   ]
  },
  {
   "cell_type": "markdown",
   "metadata": {},
   "source": [
    "The indepentent T-test is a parametric test used to test for a statistically significant difference in the means between 2 groups. As with all parametric tests, there are certain conditions that need to be met in order for the test results to be considered reliable. \n",
    "Hp:\n",
    "The two samples are independent: accettabile per costruzione (?)\n",
    "One of the assumptions is that the sampling distribution is normally distributed. N is very big so it's ok.\n",
    "A way to test the assumption is through a visual check (va fatto non ci riuscivo..)"
   ]
  },
  {
   "cell_type": "code",
   "execution_count": 70,
   "metadata": {},
   "outputs": [
    {
     "name": "stdout",
     "output_type": "stream",
     "text": [
      "   Variable        N      Mean        SD        SE  95% Conf.  Interval\n",
      "0   Russian  62265.0  0.519537  0.057451  0.000230   0.519085  0.519988\n",
      "1   Chinese  28320.0  0.526290  0.083296  0.000495   0.525319  0.527260\n",
      "2  combined  90585.0  0.521648  0.066690  0.000222   0.521214  0.522082\n",
      "                  Independent t-test     results\n",
      "0  Difference (Russian - Chinese) =      -0.0068\n",
      "1              Degrees of freedom =   90583.0000\n",
      "2                               t =     -14.1432\n",
      "3           Two side test p value =       0.0000\n",
      "4          Difference < 0 p value =       0.0000\n",
      "5          Difference > 0 p value =       1.0000\n",
      "6                       Cohen's d =      -0.1014\n",
      "7                       Hedge's g =      -0.1014\n",
      "8                   Glass's delta =      -0.1175\n",
      "9                     Pearson's r =       0.0469\n"
     ]
    }
   ],
   "source": [
    "import researchpy as rp\n",
    "summary, results = rp.ttest(group1= z1, group1_name= \"Russian\", group2= z2, group2_name= \"Chinese\")\n",
    "print(summary)\n",
    "#farò un commento\n",
    "print(results)"
   ]
  },
  {
   "cell_type": "markdown",
   "metadata": {},
   "source": [
    "### Can you find any significant relationship between the time that a user lets pass before he updates the review and the Weighted Vote Score? Use an appropriate statistical test or technique and support your choice."
   ]
  },
  {
   "cell_type": "markdown",
   "metadata": {},
   "source": [
    "An idea could be fitted a linear regression, where y=W vote score is the dependent variable and the time is the predictor."
   ]
  },
  {
   "cell_type": "code",
   "execution_count": 90,
   "metadata": {},
   "outputs": [],
   "source": [
    "t1=df[ 'weighted_vote_score']\n",
    "t1=np.array(t1)\n",
    "t2=(df.timestamp_updated - df.timestamp_created)\n",
    "t2=np.array(t2)\n",
    "t2=t2.reshape((-1, 1))\n"
   ]
  },
  {
   "cell_type": "code",
   "execution_count": 91,
   "metadata": {},
   "outputs": [
    {
     "data": {
      "text/plain": [
       "Text(0, 0.5, 'Score')"
      ]
     },
     "execution_count": 91,
     "metadata": {},
     "output_type": "execute_result"
    },
    {
     "data": {
      "image/png": "[encoded data removed]",
      "text/plain": [
       "<Figure size 432x288 with 1 Axes>"
      ]
     },
     "metadata": {
      "needs_background": "light"
     },
     "output_type": "display_data"
    }
   ],
   "source": [
    "from sklearn.linear_model import LinearRegression\n",
    "lin_reg=LinearRegression()\n",
    "lin_reg.fit(t2,t1)\n",
    "ypredict=lin_reg.predict(t2)\n",
    "\n",
    "plt.scatter(t2,t1)\n",
    "plt.plot(t2,lin_reg.predict(t2),color='green')\n",
    "plt.title(\"Regression Model\")\n",
    "plt.xlabel(\"Time pass\")\n",
    "plt.ylabel(\"Score\")\n",
    "#bella schifezza"
   ]
  },
  {
   "cell_type": "code",
   "execution_count": 92,
   "metadata": {},
   "outputs": [
    {
     "name": "stdout",
     "output_type": "stream",
     "text": [
      "linear regression coefficient= 1.0364056243891941e-09\n",
      "linear regression intercept= 0.1364037146633562\n"
     ]
    }
   ],
   "source": [
    "print('linear regression coefficient=', lin_reg.coef_[0])\n",
    "print('linear regression intercept=', lin_reg.intercept_)"
   ]
  },
  {
   "cell_type": "code",
   "execution_count": 93,
   "metadata": {},
   "outputs": [
    {
     "name": "stdout",
     "output_type": "stream",
     "text": [
      "Coefficient of determination : 0.006106878828408102\n",
      "MSE:  0.05365868787452509\n",
      "RMSE:  0.2316434498847854\n"
     ]
    }
   ],
   "source": [
    "from sklearn.metrics import mean_squared_error,r2_score,explained_variance_score\n",
    "print (\"Coefficient of determination :\",r2_score(t1,ypredict))\n",
    "print (\"MSE: \",mean_squared_error(t1,ypredict))\n",
    "print(\"RMSE: \",np.sqrt(mean_squared_error(t1,ypredict)))\n",
    "#i commenti li farò meglio a dataset completo"
   ]
  },
  {
   "cell_type": "markdown",
   "metadata": {},
   "source": [
    "The value 𝑏₀ = 0.14 (approximately) illustrates that the model predicts the response 0.14 when 𝑥 (time that pass) is zero. The value 𝑏₁ = 1.2e-09 means that the predicted response rises by 𝑏₁ when 𝑥 is increased by one (in this case: the time increases of one \"what??."
   ]
  },
  {
   "cell_type": "markdown",
   "metadata": {},
   "source": [
    "### Is there any change in the relationship of the variables mentioned in the previous literal if you include whether an application is recommended or not in the review? Use an appropriate statistical test or technique and support your choice."
   ]
  },
  {
   "cell_type": "code",
   "execution_count": null,
   "metadata": {},
   "outputs": [],
   "source": []
  },
  {
   "cell_type": "markdown",
   "metadata": {},
   "source": [
    "### What are histograms, bar plots, scatterplots and pie charts used for?"
   ]
  },
  {
   "cell_type": "markdown",
   "metadata": {},
   "source": [
    "A histogram is visula representation of the distribution of numerical data usually grouped in bins which a non \n",
    "overlapped series of intervals.\n",
    "A bar chart or bar graph is a chart or graph that presents categorical data with rectangular bars with heights \n",
    "or lengths proportional to the values that they represent.\n",
    "A scatter plot uses dots to represent values for two different numeric variables expressing the relationship that \n",
    "occurs between the two variables.\n",
    "A pie chart is a circular graphic method which is used to illustrate numerical proportion into a group of variables.\n"
   ]
  },
  {
   "cell_type": "markdown",
   "metadata": {},
   "source": [
    "### What insights can you extract from a Box Plot?"
   ]
  },
  {
   "cell_type": "markdown",
   "metadata": {},
   "source": [
    "The box-plot is a graphical representation that can be used to describe the distribution of data through 5 indices: the minimum, the maximum, the median (quantile lev=0.5) and the first and third quartiles.\n",
    "The \"box\" is delimited by the first and third quartiles (so the height is the interquantile difference IQR = q3-q1)and divided inside by the median. The \"whiskers\" are delimited by the minimum and maximum of the values. In this way the data is divided into four intervals with the same number of elements and this shows, for example, if the distribution is symmetric or not. Data that does not fit into the \"whiskers\" are called outliers, they are defined as outside the interval [-IQR,+IQR]."
   ]
  },
  {
   "cell_type": "markdown",
   "metadata": {},
   "source": [
    "# Bonus points"
   ]
  },
  {
   "cell_type": "code",
   "execution_count": null,
   "metadata": {},
   "outputs": [],
   "source": [
    "'''\n",
    "For this homework, you are required to work with all data in the steam_reviews.csv. An extension (two files) \n",
    "of the dataset is available in the next links:\n",
    "\n",
    "a. File 1 to be downloaded from https://sapienza2021adm.s3.eu-south-1.amazonaws.com/steam_reviews_bonus_1.zip.\n",
    "\n",
    "b. File 2 to be downloaded from https://sapienza2021adm.s3.eu-south-1.amazonaws.com/steam_reviews_bonus_2.zip.\n",
    "\n",
    "It is not necessary to use the extension for this homework, however, if you decide to use it, we will take it into\n",
    "account in the final evaluation. In summary, to get the bonus points you are required to work with\n",
    "[steam_reviews.csv + two files of extension] all together.\n",
    "''';\n"
   ]
  },
  {
   "cell_type": "markdown",
   "metadata": {},
   "source": [
    "# Theoretical Questions"
   ]
  },
  {
   "cell_type": "markdown",
   "metadata": {},
   "source": [
    "# TQ1"
   ]
  },
  {
   "cell_type": "code",
   "execution_count": null,
   "metadata": {},
   "outputs": [],
   "source": [
    "'''\n",
    "We are given the following algorithm.\n",
    "\n",
    "Input: \n",
    "    A: array of length n\n",
    "    k: integers between 1 and n\n",
    "    \n",
    "function alg(A, k):\n",
    "  s <-- a random element of A\n",
    "  set L = [all the elements of A with value <= s]\n",
    "  set R = [all the elements of A with value > s]\n",
    "  r = len(L)\n",
    "  if k == r:\n",
    "    return s\n",
    "  else if k < r:  \n",
    "    return alg(L, k)\n",
    "  else:\n",
    "    return alg(R, k - r)\n",
    "''';\n",
    "import random\n",
    "#IMPLEMENTATION\n",
    "'''\n",
    "def alg(A, k):\n",
    "    #s= a random element of A\n",
    "    s=random.choice(A)\n",
    "    print(s)\n",
    "    L = [x for x in A if x<=s]\n",
    "    print('L=',L)\n",
    "    R = [x for x in A if x>s]\n",
    "    print('R=',R)\n",
    "    lung = len(L)\n",
    "    if k == lung:\n",
    "        return s\n",
    "    elif k < lung:  \n",
    "        return alg(L, k)\n",
    "    else:\n",
    "        return alg(R, k - lung)\n",
    "    \n",
    "alg(A,k)\n",
    "''';"
   ]
  },
  {
   "cell_type": "markdown",
   "metadata": {},
   "source": [
    "### What does the algorithm compute?"
   ]
  },
  {
   "cell_type": "markdown",
   "metadata": {},
   "source": [
    "The algorith find the k smallest element in the Array."
   ]
  },
  {
   "cell_type": "markdown",
   "metadata": {},
   "source": [
    "### What is asymptotically (i.e., we are asking for big-O complexity) the running time of the algorithm in the worst case, as a function of n?"
   ]
  },
  {
   "cell_type": "code",
   "execution_count": null,
   "metadata": {},
   "outputs": [],
   "source": [
    "The worst case occurs when s=min(A)  and k=len(A).\n",
    "In this situation: $$\\begin{align}T(n) &= n + T(n-1)\\\\&= n + (n-1) + T(n-2)\\\\&= ...\\\\&=   \\sum_{i=0}^{n}n-i\\\\&= (\\sum_in + \\sum_i i)\\\\&= ...\\\\&= n^2 - n\\\\&=O(n^2) \\end{align}$$\n",
    "\n",
    "There are degenerate cases where we can not guarantees the convergence of the algorithm:\n",
    "$$ \\begin{itemize}\n",
    "    \\ K=0\n",
    "    \\ s=max(A): the probability is almost 0, but we can not exclude this behaviour\n",
    "    \\ the element we are looking is repeated in the array\n",
    "\\end{itemize} $$"
   ]
  },
  {
   "cell_type": "code",
   "execution_count": null,
   "metadata": {},
   "outputs": [],
   "source": [
    "### What is asymptotically the running time of the algorithm in the best case?"
   ]
  },
  {
   "cell_type": "markdown",
   "metadata": {},
   "source": [
    "The best case occurs for k=len(L) and the running time is $$ T(n)=1+n+1+1= O(n) $$"
   ]
  },
  {
   "cell_type": "markdown",
   "metadata": {},
   "source": [
    "The medium running time is $$ O(n) $$"
   ]
  },
  {
   "cell_type": "markdown",
   "metadata": {},
   "source": [
    "# TQ2"
   ]
  },
  {
   "cell_type": "code",
   "execution_count": null,
   "metadata": {},
   "outputs": [],
   "source": [
    "'''\n",
    "You are given the recursive function splitSwap, which accepts an array a, an index i, and a length n.\n",
    "\n",
    "function splitSwap(a, l, n):\n",
    "  if n <= 1:\n",
    "    return\n",
    "  splitSwap(a, l, n/2)\n",
    "  splitSwap(a, l+ n /2, n/2)\n",
    "  swapList(a, l, n)\n",
    "  \n",
    "The subroutine swapList is described here:\n",
    "\n",
    "function swapList(a, l, n):\n",
    "  for i = 0 to n/2:\n",
    "    tmp = a[l + i]\n",
    "    a[l + i] = a[l + n/2 + i]\n",
    "    a[l + n/2 + i] = tmp\n",
    "'''\n",
    "#IMPLEMENTATION\n",
    "\n",
    "\n",
    "def splitSwap(a, l, n, lvl=0):\n",
    "    if n <= 1:\n",
    "        return\n",
    "    indent = '\\t'*lvl\n",
    "    print(f\"{indent}entered at lvl {lvl} with a: {a}\\n\")\n",
    "    splitSwap(a, l, n//2, lvl+1)\n",
    "    splitSwap(a, l+ n//2, n//2, lvl+1)\n",
    "    print(f\"{indent}* a pre_swap: {a}\")\n",
    "    swapList(a, l, n)\n",
    "    print(f\"{indent}* a after_swap: {a}\\n\\n\")\n",
    "\n",
    "def swapList(a, l, n):\n",
    "    for i in range(n//2):\n",
    "        tmp = a[l + i]\n",
    "        a[l + i] = a[l + n//2 + i]\n",
    "        a[l + n//2 + i] = tmp\n",
    "    \n",
    "splitSwap([i for i in range(1,9)], 0, 8)\n",
    "\n",
    "\n"
   ]
  },
  {
   "cell_type": "markdown",
   "metadata": {},
   "source": [
    "### How much running time does it take to execute splitSwap(a, 0, n)? (We want a Big O analysis.)"
   ]
  },
  {
   "cell_type": "code",
   "execution_count": null,
   "metadata": {},
   "outputs": [],
   "source": [
    "# Alessandro ha il codice latex"
   ]
  },
  {
   "cell_type": "markdown",
   "metadata": {},
   "source": [
    "### What does this algorithm do? Is it optimal? Describe the mechanism of the algorithm in details, we do not want to know only its final result. HINT: Consider the scenario where len(a) and n are numbers that are a power of 2."
   ]
  },
  {
   "cell_type": "code",
   "execution_count": null,
   "metadata": {},
   "outputs": [],
   "source": [
    "The algorith reverse the subarray starting from the index i untill i+n : as the implementation shows, in every\n",
    "level we swap a subarray of dimension 2^(log2(n)-1-level).\n",
    "The algorith is not optimal since we can solve the same problem with an algorith with O(n)=n.\n",
    "For example we can consider another array B in which we store the elements of the Array A from the index l+n untill l \n",
    "( step=-1) and then we could copy the elements of B in the positions l untill l+n of A\n"
   ]
  },
  {
   "cell_type": "code",
   "execution_count": null,
   "metadata": {},
   "outputs": [],
   "source": [
    "def another_algorith(A,l,n):\n",
    "    B=[]\n",
    "    for i in range(l+n,l,-1):\n",
    "        B.append(A[i])\n",
    "    for i in range(l,l+n):\n",
    "        A[i]=B[i-l]\n",
    "        "
   ]
  },
  {
   "cell_type": "markdown",
   "metadata": {},
   "source": [
    "# TQ3"
   ]
  },
  {
   "cell_type": "code",
   "execution_count": null,
   "metadata": {},
   "outputs": [],
   "source": [
    "'''\n",
    "In the knapsack problem we are given n objects and each object i has a weight w_i and a value v_i.\n",
    "We are also given a weight budget W. The problem is to select a set of objects with total weight bounded by W \n",
    "that maximized the sum of their values. The following are three natural heuristics:\n",
    "\n",
    "*Order them in increasing order of weight and then visit them sequentially, adding them to the solution \n",
    "as long as the budget is not exceeded\n",
    "\n",
    "*Order them in decreasing order of values, and then visit them sequentially, adding them to the solution \n",
    "if the budget is not exceeded\n",
    "\n",
    "*Order them in decreasing relative value (v_i / w_i), and then visit them sequentially, adding them to the \n",
    "solution if the budget is not exceeded\n",
    "''';"
   ]
  },
  {
   "cell_type": "markdown",
   "metadata": {},
   "source": [
    "### For each of the heuristics, provide a counterexample, that is, an example of a problem instance in which the heuristic fails to provide the optimal solution."
   ]
  },
  {
   "cell_type": "markdown",
   "metadata": {},
   "source": [
    "### First "
   ]
  },
  {
   "cell_type": "markdown",
   "metadata": {},
   "source": [
    "Suppose the existence of two elements A={p=2,v=2}, B={p=1,v=0} and set the weight budget=W=2.\n",
    "If we order the objects in increasing order of weight and then visit them sequentially, adding them to the solution\n",
    "as long as the budget is not exceeded , we will find {B} with a total value of 0.\n",
    "This is not an optimal solution since the solution given by {A} respects the weight costraint \n",
    "and has a total value of 2."
   ]
  },
  {
   "cell_type": "markdown",
   "metadata": {},
   "source": [
    "### Second"
   ]
  },
  {
   "cell_type": "markdown",
   "metadata": {},
   "source": [
    "Suppose the existence of three elements A={v=3,p=3},B={v=2,p=1},C={p=1,v=2} and set the weight budget=3.\n",
    "If we order them in decreasing order of values, and then visit them sequentially, adding them to the \n",
    "solution if the budget is not exceeded, we will find {A} with a total value of 3.\n",
    "This is not an optimal solution since the solution given by {B,C} has a total weight of 2 and a total value of 4.\n"
   ]
  },
  {
   "cell_type": "markdown",
   "metadata": {},
   "source": [
    "### Third"
   ]
  },
  {
   "cell_type": "markdown",
   "metadata": {},
   "source": [
    "Suppose the existence of two elements A={v=2,p=1,v/p=2}, B={v=3,p=3,v/p=1} and set the weight budget=3.\n",
    "If we order them in decreasing relative value (v_i / w_i), and then visit them sequentially, adding them\n",
    "to the solution if the budget is not exceeded, we will find {A} with a total value of 2.\n",
    "This is not an optimal solution since the solution given by {B} respects the weight costraint \n",
    "and has a total value of 3."
   ]
  },
  {
   "cell_type": "code",
   "execution_count": null,
   "metadata": {},
   "outputs": [],
   "source": []
  }
 ],
 "metadata": {
  "colab": {
   "collapsed_sections": [],
   "name": "Untitled0.ipynb",
   "provenance": [],
   "toc_visible": true
  },
  "kernelspec": {
   "display_name": "Python 3 (ipykernel)",
   "language": "python",
   "name": "python3"
  },
  "language_info": {
   "codemirror_mode": {
    "name": "ipython",
    "version": 3
   },
   "file_extension": ".py",
   "mimetype": "text/x-python",
   "name": "python",
   "nbconvert_exporter": "python",
   "pygments_lexer": "ipython3",
   "version": "3.8.11"
  }
 },
 "nbformat": 4,
 "nbformat_minor": 1
}
